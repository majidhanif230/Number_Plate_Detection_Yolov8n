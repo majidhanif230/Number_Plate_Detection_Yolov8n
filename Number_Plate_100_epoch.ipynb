{
  "cells": [
    {
      "cell_type": "code",
      "execution_count": null,
      "metadata": {
        "colab": {
          "base_uri": "https://localhost:8080/"
        },
        "id": "UJs5DQFIQj39",
        "outputId": "7720eaaa-4a6d-41d5-8378-2540b2d567e2"
      },
      "outputs": [
        {
          "name": "stdout",
          "output_type": "stream",
          "text": [
            "Archive:  vechileclass.zip\n",
            "  inflating: /content/data.yaml      \n",
            "   creating: /content/images/\n",
            "   creating: /content/images/train/\n",
            "  inflating: /content/images/train/car_1.jpg  \n",
            "  inflating: /content/images/train/car_10.jpg  \n",
            "  inflating: /content/images/train/car_100.jpg  \n",
            "  inflating: /content/images/train/car_101.jpg  \n",
            "  inflating: /content/images/train/car_102.jpg  \n",
            "  inflating: /content/images/train/car_103.jpg  \n",
            "  inflating: /content/images/train/car_104.jpg  \n",
            "  inflating: /content/images/train/car_105.jpg  \n",
            "  inflating: /content/images/train/car_106.jpg  \n",
            "  inflating: /content/images/train/car_107.jpg  \n",
            "  inflating: /content/images/train/car_108.jpg  \n",
            "  inflating: /content/images/train/car_109.jpg  \n",
            "  inflating: /content/images/train/car_11.jpg  \n",
            "  inflating: /content/images/train/car_110.jpg  \n",
            "  inflating: /content/images/train/car_111.jpg  \n",
            "  inflating: /content/images/train/car_112.jpg  \n",
            "  inflating: /content/images/train/car_113.jpg  \n",
            "  inflating: /content/images/train/car_114.jpg  \n",
            "  inflating: /content/images/train/car_115.jpg  \n",
            "  inflating: /content/images/train/car_116.jpg  \n",
            "  inflating: /content/images/train/car_117.jpg  \n",
            "  inflating: /content/images/train/car_118.jpg  \n",
            "  inflating: /content/images/train/car_119.jpg  \n",
            "  inflating: /content/images/train/car_12.jpg  \n",
            "  inflating: /content/images/train/car_120.jpg  \n",
            "  inflating: /content/images/train/car_121.jpg  \n",
            "  inflating: /content/images/train/car_122.jpg  \n",
            "  inflating: /content/images/train/car_123.jpg  \n",
            "  inflating: /content/images/train/car_124.jpg  \n",
            "  inflating: /content/images/train/car_125.jpg  \n",
            "  inflating: /content/images/train/car_126.jpg  \n",
            "  inflating: /content/images/train/car_127.jpg  \n",
            "  inflating: /content/images/train/car_128.jpg  \n",
            "  inflating: /content/images/train/car_129.jpg  \n",
            "  inflating: /content/images/train/car_13.jpg  \n",
            "  inflating: /content/images/train/car_130.jpg  \n",
            "  inflating: /content/images/train/car_131.jpg  \n",
            "  inflating: /content/images/train/car_132.jpg  \n",
            "  inflating: /content/images/train/car_133.jpg  \n",
            "  inflating: /content/images/train/car_134.jpg  \n",
            "  inflating: /content/images/train/car_135.jpg  \n",
            "  inflating: /content/images/train/car_136.jpg  \n",
            "  inflating: /content/images/train/car_137.jpg  \n",
            "  inflating: /content/images/train/car_138.jpg  \n",
            "  inflating: /content/images/train/car_139.jpg  \n",
            "  inflating: /content/images/train/car_14.jpg  \n",
            "  inflating: /content/images/train/car_140.jpg  \n",
            "  inflating: /content/images/train/car_141.jpg  \n",
            "  inflating: /content/images/train/car_142.jpg  \n",
            "  inflating: /content/images/train/car_143.jpg  \n",
            "  inflating: /content/images/train/car_144.jpg  \n",
            "  inflating: /content/images/train/car_145.jpg  \n",
            "  inflating: /content/images/train/car_146.jpg  \n",
            "  inflating: /content/images/train/car_147.jpg  \n",
            "  inflating: /content/images/train/car_148.jpg  \n",
            "  inflating: /content/images/train/car_149.jpg  \n",
            "  inflating: /content/images/train/car_15.jpg  \n",
            "  inflating: /content/images/train/car_150.jpg  \n",
            "  inflating: /content/images/train/car_151.jpg  \n",
            "  inflating: /content/images/train/car_152.jpg  \n",
            "  inflating: /content/images/train/car_153.jpg  \n",
            "  inflating: /content/images/train/car_154.jpg  \n",
            "  inflating: /content/images/train/car_155.jpg  \n",
            "  inflating: /content/images/train/car_156.jpg  \n",
            "  inflating: /content/images/train/car_157.jpg  \n",
            "  inflating: /content/images/train/car_158.jpg  \n",
            "  inflating: /content/images/train/car_159.jpg  \n",
            "  inflating: /content/images/train/car_16.jpg  \n",
            "  inflating: /content/images/train/car_160.jpg  \n",
            "  inflating: /content/images/train/car_161.jpg  \n",
            "  inflating: /content/images/train/car_162.jpg  \n",
            "  inflating: /content/images/train/car_163.jpg  \n",
            "  inflating: /content/images/train/car_164.jpg  \n",
            "  inflating: /content/images/train/car_165.jpg  \n",
            "  inflating: /content/images/train/car_166.jpg  \n",
            "  inflating: /content/images/train/car_167.jpg  \n",
            "  inflating: /content/images/train/car_168.jpg  \n",
            "  inflating: /content/images/train/car_169.jpg  \n",
            "  inflating: /content/images/train/car_17.jpg  \n",
            "  inflating: /content/images/train/car_170.jpg  \n",
            "  inflating: /content/images/train/car_171.jpg  \n",
            "  inflating: /content/images/train/car_172.jpg  \n",
            "  inflating: /content/images/train/car_173.jpg  \n",
            "  inflating: /content/images/train/car_174.jpg  \n",
            "  inflating: /content/images/train/car_175.jpg  \n",
            "  inflating: /content/images/train/car_176.jpg  \n",
            "  inflating: /content/images/train/car_177.jpg  \n",
            "  inflating: /content/images/train/car_178.jpg  \n",
            "  inflating: /content/images/train/car_179.jpg  \n",
            "  inflating: /content/images/train/car_18.jpg  \n",
            "  inflating: /content/images/train/car_180.jpg  \n",
            "  inflating: /content/images/train/car_181.jpg  \n",
            "  inflating: /content/images/train/car_182.jpg  \n",
            "  inflating: /content/images/train/car_183.jpg  \n",
            "  inflating: /content/images/train/car_184.jpg  \n",
            "  inflating: /content/images/train/car_185.jpg  \n",
            "  inflating: /content/images/train/car_186.jpg  \n",
            "  inflating: /content/images/train/car_187.jpg  \n",
            "  inflating: /content/images/train/car_188.jpg  \n",
            "  inflating: /content/images/train/car_189.jpg  \n",
            "  inflating: /content/images/train/car_19.jpg  \n",
            "  inflating: /content/images/train/car_190.jpg  \n",
            "  inflating: /content/images/train/car_191.jpg  \n",
            "  inflating: /content/images/train/car_192.jpg  \n",
            "  inflating: /content/images/train/car_193.jpg  \n",
            "  inflating: /content/images/train/car_194.jpg  \n",
            "  inflating: /content/images/train/car_195.jpg  \n",
            "  inflating: /content/images/train/car_196.jpg  \n",
            "  inflating: /content/images/train/car_197.jpg  \n",
            "  inflating: /content/images/train/car_198.jpg  \n",
            "  inflating: /content/images/train/car_199.jpg  \n",
            "  inflating: /content/images/train/car_2.jpg  \n",
            "  inflating: /content/images/train/car_20.jpg  \n",
            "  inflating: /content/images/train/car_200.jpg  \n",
            "  inflating: /content/images/train/car_201.jpg  \n",
            "  inflating: /content/images/train/car_202.jpg  \n",
            "  inflating: /content/images/train/car_203.jpg  \n",
            "  inflating: /content/images/train/car_204.jpg  \n",
            "  inflating: /content/images/train/car_205.jpg  \n",
            "  inflating: /content/images/train/car_206.jpg  \n",
            "  inflating: /content/images/train/car_207.jpg  \n",
            "  inflating: /content/images/train/car_208.jpg  \n",
            "  inflating: /content/images/train/car_209.jpg  \n",
            "  inflating: /content/images/train/car_21.jpg  \n",
            "  inflating: /content/images/train/car_210.jpg  \n",
            "  inflating: /content/images/train/car_211.jpg  \n",
            "  inflating: /content/images/train/car_212.jpg  \n",
            "  inflating: /content/images/train/car_213.jpg  \n",
            "  inflating: /content/images/train/car_214.jpg  \n",
            "  inflating: /content/images/train/car_215.jpg  \n",
            "  inflating: /content/images/train/car_216.jpg  \n",
            "  inflating: /content/images/train/car_217.jpg  \n",
            "  inflating: /content/images/train/car_218.jpg  \n",
            "  inflating: /content/images/train/car_219.jpg  \n",
            "  inflating: /content/images/train/car_22.jpg  \n",
            "  inflating: /content/images/train/car_220.jpg  \n",
            "  inflating: /content/images/train/car_221.jpg  \n",
            "  inflating: /content/images/train/car_222.jpg  \n",
            "  inflating: /content/images/train/car_223.jpg  \n",
            "  inflating: /content/images/train/car_224.jpg  \n",
            "  inflating: /content/images/train/car_225.jpg  \n",
            "  inflating: /content/images/train/car_226.jpg  \n",
            "  inflating: /content/images/train/car_227.jpg  \n",
            "  inflating: /content/images/train/car_228.jpg  \n",
            "  inflating: /content/images/train/car_229.jpg  \n",
            "  inflating: /content/images/train/car_23.jpg  \n",
            "  inflating: /content/images/train/car_230.jpg  \n",
            "  inflating: /content/images/train/car_231.jpg  \n",
            "  inflating: /content/images/train/car_232.jpg  \n",
            "  inflating: /content/images/train/car_233.jpg  \n",
            "  inflating: /content/images/train/car_234.jpg  \n",
            "  inflating: /content/images/train/car_235.jpg  \n",
            "  inflating: /content/images/train/car_236.jpg  \n",
            "  inflating: /content/images/train/car_237.jpg  \n",
            "  inflating: /content/images/train/car_238.jpg  \n",
            "  inflating: /content/images/train/car_239.jpg  \n",
            "  inflating: /content/images/train/car_24.jpg  \n",
            "  inflating: /content/images/train/car_240.jpg  \n",
            "  inflating: /content/images/train/car_241.jpg  \n",
            "  inflating: /content/images/train/car_242.jpg  \n",
            "  inflating: /content/images/train/car_243.jpg  \n",
            "  inflating: /content/images/train/car_244.jpg  \n",
            "  inflating: /content/images/train/car_245.jpg  \n",
            "  inflating: /content/images/train/car_246.jpg  \n",
            "  inflating: /content/images/train/car_247.jpg  \n",
            "  inflating: /content/images/train/car_248.jpg  \n",
            "  inflating: /content/images/train/car_249.jpg  \n",
            "  inflating: /content/images/train/car_25.jpg  \n",
            "  inflating: /content/images/train/car_250.jpg  \n",
            "  inflating: /content/images/train/car_251.jpg  \n",
            "  inflating: /content/images/train/car_252.jpg  \n",
            "  inflating: /content/images/train/car_253.jpg  \n",
            "  inflating: /content/images/train/car_254.jpg  \n",
            "  inflating: /content/images/train/car_255.jpg  \n",
            "  inflating: /content/images/train/car_256.jpg  \n",
            "  inflating: /content/images/train/car_257.jpg  \n",
            "  inflating: /content/images/train/car_258.jpg  \n",
            "  inflating: /content/images/train/car_259.jpg  \n",
            "  inflating: /content/images/train/car_26.jpg  \n",
            "  inflating: /content/images/train/car_260.jpg  \n",
            "  inflating: /content/images/train/car_261.jpg  \n",
            "  inflating: /content/images/train/car_262.jpg  \n",
            "  inflating: /content/images/train/car_263.jpg  \n",
            "  inflating: /content/images/train/car_264.jpg  \n",
            "  inflating: /content/images/train/car_265.jpg  \n",
            "  inflating: /content/images/train/car_266.jpg  \n",
            "  inflating: /content/images/train/car_267.jpg  \n",
            "  inflating: /content/images/train/car_268.jpg  \n",
            "  inflating: /content/images/train/car_269.jpg  \n",
            "  inflating: /content/images/train/car_27.jpg  \n",
            "  inflating: /content/images/train/car_270.jpg  \n",
            "  inflating: /content/images/train/car_271.jpg  \n",
            "  inflating: /content/images/train/car_272.jpg  \n",
            "  inflating: /content/images/train/car_273.jpg  \n",
            "  inflating: /content/images/train/car_274.jpg  \n",
            "  inflating: /content/images/train/car_275.jpg  \n",
            "  inflating: /content/images/train/car_276.jpg  \n",
            "  inflating: /content/images/train/car_277.jpg  \n",
            "  inflating: /content/images/train/car_278.jpg  \n",
            "  inflating: /content/images/train/car_279.jpg  \n",
            "  inflating: /content/images/train/car_28.jpg  \n",
            "  inflating: /content/images/train/car_280.jpg  \n",
            "  inflating: /content/images/train/car_281.jpg  \n",
            "  inflating: /content/images/train/car_282.jpg  \n",
            "  inflating: /content/images/train/car_283.jpg  \n",
            "  inflating: /content/images/train/car_284.jpg  \n",
            "  inflating: /content/images/train/car_285.jpg  \n",
            "  inflating: /content/images/train/car_286.jpg  \n",
            "  inflating: /content/images/train/car_287.jpg  \n",
            "  inflating: /content/images/train/car_288.jpg  \n",
            "  inflating: /content/images/train/car_289.jpg  \n",
            "  inflating: /content/images/train/car_29.jpg  \n",
            "  inflating: /content/images/train/car_290.jpg  \n",
            "  inflating: /content/images/train/car_291.jpg  \n",
            "  inflating: /content/images/train/car_292.jpg  \n",
            "  inflating: /content/images/train/car_293.jpg  \n",
            "  inflating: /content/images/train/car_294.jpg  \n",
            "  inflating: /content/images/train/car_295.jpg  \n",
            "  inflating: /content/images/train/car_296.jpg  \n",
            "  inflating: /content/images/train/car_297.jpg  \n",
            "  inflating: /content/images/train/car_298.jpg  \n",
            "  inflating: /content/images/train/car_299.jpg  \n",
            "  inflating: /content/images/train/car_3.jpg  \n",
            "  inflating: /content/images/train/car_30.jpg  \n",
            "  inflating: /content/images/train/car_300.jpg  \n",
            "  inflating: /content/images/train/car_301.jpg  \n",
            "  inflating: /content/images/train/car_302.jpg  \n",
            "  inflating: /content/images/train/car_303.jpg  \n",
            "  inflating: /content/images/train/car_304.jpg  \n",
            "  inflating: /content/images/train/car_305.jpg  \n",
            "  inflating: /content/images/train/car_306.jpg  \n",
            "  inflating: /content/images/train/car_307.jpg  \n",
            "  inflating: /content/images/train/car_308.jpg  \n",
            "  inflating: /content/images/train/car_309.jpg  \n",
            "  inflating: /content/images/train/car_31.jpg  \n",
            "  inflating: /content/images/train/car_310.jpg  \n",
            "  inflating: /content/images/train/car_311.jpg  \n",
            "  inflating: /content/images/train/car_312.jpg  \n",
            "  inflating: /content/images/train/car_313.jpg  \n",
            "  inflating: /content/images/train/car_314.jpg  \n",
            "  inflating: /content/images/train/car_315.jpg  \n",
            "  inflating: /content/images/train/car_316.jpg  \n",
            "  inflating: /content/images/train/car_317.jpg  \n",
            "  inflating: /content/images/train/car_318.jpg  \n",
            "  inflating: /content/images/train/car_319.jpg  \n",
            "  inflating: /content/images/train/car_32.jpg  \n",
            "  inflating: /content/images/train/car_320.jpg  \n",
            "  inflating: /content/images/train/car_321.jpg  \n",
            "  inflating: /content/images/train/car_322.jpg  \n",
            "  inflating: /content/images/train/car_323.jpg  \n",
            "  inflating: /content/images/train/car_324.jpg  \n",
            "  inflating: /content/images/train/car_325.jpg  \n",
            "  inflating: /content/images/train/car_326.jpg  \n",
            "  inflating: /content/images/train/car_327.jpg  \n",
            "  inflating: /content/images/train/car_328.jpg  \n",
            "  inflating: /content/images/train/car_329.jpg  \n",
            "  inflating: /content/images/train/car_33.jpg  \n",
            "  inflating: /content/images/train/car_330.jpg  \n",
            "  inflating: /content/images/train/car_331.jpg  \n",
            "  inflating: /content/images/train/car_332.jpg  \n",
            "  inflating: /content/images/train/car_333.jpg  \n",
            "  inflating: /content/images/train/car_334.jpg  \n",
            "  inflating: /content/images/train/car_335.jpg  \n",
            "  inflating: /content/images/train/car_336.jpg  \n",
            "  inflating: /content/images/train/car_337.jpg  \n",
            "  inflating: /content/images/train/car_338.jpg  \n",
            "  inflating: /content/images/train/car_339.jpg  \n",
            "  inflating: /content/images/train/car_34.jpg  \n",
            "  inflating: /content/images/train/car_340.jpg  \n",
            "  inflating: /content/images/train/car_341.jpg  \n",
            "  inflating: /content/images/train/car_342.jpg  \n",
            "  inflating: /content/images/train/car_343.jpg  \n",
            "  inflating: /content/images/train/car_344.jpg  \n",
            "  inflating: /content/images/train/car_345.jpg  \n",
            "  inflating: /content/images/train/car_346.jpg  \n",
            "  inflating: /content/images/train/car_347.jpg  \n",
            "  inflating: /content/images/train/car_348.jpg  \n",
            "  inflating: /content/images/train/car_349.jpg  \n",
            "  inflating: /content/images/train/car_35.jpg  \n",
            "  inflating: /content/images/train/car_350.jpg  \n",
            "  inflating: /content/images/train/car_351.jpg  \n",
            "  inflating: /content/images/train/car_352.jpg  \n",
            "  inflating: /content/images/train/car_353.jpg  \n",
            "  inflating: /content/images/train/car_354.jpg  \n",
            "  inflating: /content/images/train/car_355.jpg  \n",
            "  inflating: /content/images/train/car_356.jpg  \n",
            "  inflating: /content/images/train/car_357.jpg  \n",
            "  inflating: /content/images/train/car_358.jpg  \n",
            "  inflating: /content/images/train/car_359.jpg  \n",
            "  inflating: /content/images/train/car_36.jpg  \n",
            "  inflating: /content/images/train/car_360.jpg  \n",
            "  inflating: /content/images/train/car_361.jpg  \n",
            "  inflating: /content/images/train/car_362.jpg  \n",
            "  inflating: /content/images/train/car_363.jpg  \n",
            "  inflating: /content/images/train/car_364.jpg  \n",
            "  inflating: /content/images/train/car_365.jpg  \n",
            "  inflating: /content/images/train/car_366.jpg  \n",
            "  inflating: /content/images/train/car_367.jpg  \n",
            "  inflating: /content/images/train/car_368.jpg  \n",
            "  inflating: /content/images/train/car_369.jpg  \n",
            "  inflating: /content/images/train/car_37.jpg  \n",
            "  inflating: /content/images/train/car_370.jpg  \n",
            "  inflating: /content/images/train/car_371.jpg  \n",
            "  inflating: /content/images/train/car_372.jpg  \n",
            "  inflating: /content/images/train/car_373.jpg  \n",
            "  inflating: /content/images/train/car_374.jpg  \n",
            "  inflating: /content/images/train/car_375.jpg  \n",
            "  inflating: /content/images/train/car_376.jpg  \n",
            "  inflating: /content/images/train/car_377.jpg  \n",
            "  inflating: /content/images/train/car_378.jpg  \n",
            "  inflating: /content/images/train/car_379.jpg  \n",
            "  inflating: /content/images/train/car_38.jpg  \n",
            "  inflating: /content/images/train/car_380.jpg  \n",
            "  inflating: /content/images/train/car_381.jpg  \n",
            "  inflating: /content/images/train/car_382.jpg  \n",
            "  inflating: /content/images/train/car_383.jpg  \n",
            "  inflating: /content/images/train/car_384.jpg  \n",
            "  inflating: /content/images/train/car_385.jpg  \n",
            "  inflating: /content/images/train/car_386.jpg  \n",
            "  inflating: /content/images/train/car_387.jpg  \n",
            "  inflating: /content/images/train/car_388.jpg  \n",
            "  inflating: /content/images/train/car_389.jpg  \n",
            "  inflating: /content/images/train/car_39.jpg  \n",
            "  inflating: /content/images/train/car_390.jpg  \n",
            "  inflating: /content/images/train/car_391.jpg  \n",
            "  inflating: /content/images/train/car_392.jpg  \n",
            "  inflating: /content/images/train/car_393.jpg  \n",
            "  inflating: /content/images/train/car_394.jpg  \n",
            "  inflating: /content/images/train/car_395.jpg  \n",
            "  inflating: /content/images/train/car_396.jpg  \n",
            "  inflating: /content/images/train/car_397.jpg  \n",
            "  inflating: /content/images/train/car_398.jpg  \n",
            "  inflating: /content/images/train/car_399.jpg  \n",
            "  inflating: /content/images/train/car_4.jpg  \n",
            "  inflating: /content/images/train/car_40.jpg  \n",
            "  inflating: /content/images/train/car_400.jpg  \n",
            "  inflating: /content/images/train/car_401.jpg  \n",
            "  inflating: /content/images/train/car_402.jpg  \n",
            "  inflating: /content/images/train/car_403.jpg  \n",
            "  inflating: /content/images/train/car_404.jpg  \n",
            "  inflating: /content/images/train/car_405.jpg  \n",
            "  inflating: /content/images/train/car_406.jpg  \n",
            "  inflating: /content/images/train/car_407.jpg  \n",
            "  inflating: /content/images/train/car_408.jpg  \n",
            "  inflating: /content/images/train/car_409.jpg  \n",
            "  inflating: /content/images/train/car_41.jpg  \n",
            "  inflating: /content/images/train/car_410.jpg  \n",
            "  inflating: /content/images/train/car_411.jpg  \n",
            "  inflating: /content/images/train/car_412.jpg  \n",
            "  inflating: /content/images/train/car_413.jpg  \n",
            "  inflating: /content/images/train/car_414.jpg  \n",
            "  inflating: /content/images/train/car_415.jpg  \n",
            "  inflating: /content/images/train/car_416.jpg  \n",
            "  inflating: /content/images/train/car_417.jpg  \n",
            "  inflating: /content/images/train/car_418.jpg  \n",
            "  inflating: /content/images/train/car_419.jpg  \n",
            "  inflating: /content/images/train/car_42.jpg  \n",
            "  inflating: /content/images/train/car_420.jpg  \n",
            "  inflating: /content/images/train/car_421.jpg  \n",
            "  inflating: /content/images/train/car_422.jpg  \n",
            "  inflating: /content/images/train/car_423.jpg  \n",
            "  inflating: /content/images/train/car_424.jpg  \n",
            "  inflating: /content/images/train/car_425.jpg  \n",
            "  inflating: /content/images/train/car_426.jpg  \n",
            "  inflating: /content/images/train/car_427.jpg  \n",
            "  inflating: /content/images/train/car_428.jpg  \n",
            "  inflating: /content/images/train/car_429.jpg  \n",
            "  inflating: /content/images/train/car_43.jpg  \n",
            "  inflating: /content/images/train/car_430.jpg  \n",
            "  inflating: /content/images/train/car_431.jpg  \n",
            "  inflating: /content/images/train/car_432.jpg  \n",
            "  inflating: /content/images/train/car_433.jpg  \n",
            "  inflating: /content/images/train/car_434.jpg  \n",
            "  inflating: /content/images/train/car_435.jpg  \n",
            "  inflating: /content/images/train/car_436.jpg  \n",
            "  inflating: /content/images/train/car_437.jpg  \n",
            "  inflating: /content/images/train/car_438.jpg  \n",
            "  inflating: /content/images/train/car_439.jpg  \n",
            "  inflating: /content/images/train/car_44.jpg  \n",
            "  inflating: /content/images/train/car_440.jpg  \n",
            "  inflating: /content/images/train/car_441.jpg  \n",
            "  inflating: /content/images/train/car_442.jpg  \n",
            "  inflating: /content/images/train/car_443.jpg  \n",
            "  inflating: /content/images/train/car_444.jpg  \n",
            "  inflating: /content/images/train/car_445.jpg  \n",
            "  inflating: /content/images/train/car_446.jpg  \n",
            "  inflating: /content/images/train/car_447.jpg  \n",
            "  inflating: /content/images/train/car_448.jpg  \n",
            "  inflating: /content/images/train/car_449.jpg  \n",
            "  inflating: /content/images/train/car_45.jpg  \n",
            "  inflating: /content/images/train/car_450.jpg  \n",
            "  inflating: /content/images/train/car_451.jpg  \n",
            "  inflating: /content/images/train/car_452.jpg  \n",
            "  inflating: /content/images/train/car_453.jpg  \n",
            "  inflating: /content/images/train/car_454.jpg  \n",
            "  inflating: /content/images/train/car_455.jpg  \n",
            "  inflating: /content/images/train/car_456.jpg  \n",
            "  inflating: /content/images/train/car_457.jpg  \n",
            "  inflating: /content/images/train/car_458.jpg  \n",
            "  inflating: /content/images/train/car_459.jpg  \n",
            "  inflating: /content/images/train/car_46.jpg  \n",
            "  inflating: /content/images/train/car_460.jpg  \n",
            "  inflating: /content/images/train/car_461.jpg  \n",
            "  inflating: /content/images/train/car_462.jpg  \n",
            "  inflating: /content/images/train/car_463.jpg  \n",
            "  inflating: /content/images/train/car_464.jpg  \n",
            "  inflating: /content/images/train/car_465.jpg  \n",
            "  inflating: /content/images/train/car_466.jpg  \n",
            "  inflating: /content/images/train/car_467.jpg  \n",
            "  inflating: /content/images/train/car_468.jpg  \n",
            "  inflating: /content/images/train/car_469.jpg  \n",
            "  inflating: /content/images/train/car_47.jpg  \n",
            "  inflating: /content/images/train/car_470.jpg  \n",
            "  inflating: /content/images/train/car_471.jpg  \n",
            "  inflating: /content/images/train/car_472.jpg  \n",
            "  inflating: /content/images/train/car_473.jpg  \n",
            "  inflating: /content/images/train/car_474.jpg  \n",
            "  inflating: /content/images/train/car_475.jpg  \n",
            "  inflating: /content/images/train/car_476.jpg  \n",
            "  inflating: /content/images/train/car_477.jpg  \n",
            "  inflating: /content/images/train/car_478.jpg  \n",
            "  inflating: /content/images/train/car_479.jpg  \n",
            "  inflating: /content/images/train/car_48.jpg  \n",
            "  inflating: /content/images/train/car_480.jpg  \n",
            "  inflating: /content/images/train/car_481.jpg  \n",
            "  inflating: /content/images/train/car_482.jpg  \n",
            "  inflating: /content/images/train/car_483.jpg  \n",
            "  inflating: /content/images/train/car_484.jpg  \n",
            "  inflating: /content/images/train/car_485.jpg  \n",
            "  inflating: /content/images/train/car_486.jpg  \n",
            "  inflating: /content/images/train/car_487.jpg  \n",
            "  inflating: /content/images/train/car_488.jpg  \n",
            "  inflating: /content/images/train/car_489.jpg  \n",
            "  inflating: /content/images/train/car_49.jpg  \n",
            "  inflating: /content/images/train/car_490.jpg  \n",
            "  inflating: /content/images/train/car_491.jpg  \n",
            "  inflating: /content/images/train/car_492.jpg  \n",
            "  inflating: /content/images/train/car_493.jpg  \n",
            "  inflating: /content/images/train/car_494.jpg  \n",
            "  inflating: /content/images/train/car_495.jpg  \n",
            "  inflating: /content/images/train/car_496.jpg  \n",
            "  inflating: /content/images/train/car_497.jpg  \n",
            "  inflating: /content/images/train/car_498.jpg  \n",
            "  inflating: /content/images/train/car_499.jpg  \n",
            "  inflating: /content/images/train/car_5.jpg  \n",
            "  inflating: /content/images/train/car_50.jpg  \n",
            "  inflating: /content/images/train/car_500.jpg  \n",
            "  inflating: /content/images/train/car_501.jpg  \n",
            "  inflating: /content/images/train/car_502.jpg  \n",
            "  inflating: /content/images/train/car_503.jpg  \n",
            "  inflating: /content/images/train/car_504.jpg  \n",
            "  inflating: /content/images/train/car_505.jpg  \n",
            "  inflating: /content/images/train/car_506.jpg  \n",
            "  inflating: /content/images/train/car_507.jpg  \n",
            "  inflating: /content/images/train/car_508.jpg  \n",
            "  inflating: /content/images/train/car_509.jpg  \n",
            "  inflating: /content/images/train/car_51.jpg  \n",
            "  inflating: /content/images/train/car_510.jpg  \n",
            "  inflating: /content/images/train/car_511.jpg  \n",
            "  inflating: /content/images/train/car_512.jpg  \n",
            "  inflating: /content/images/train/car_513.jpg  \n",
            "  inflating: /content/images/train/car_514.jpg  \n",
            "  inflating: /content/images/train/car_515.jpg  \n",
            "  inflating: /content/images/train/car_516.jpg  \n",
            "  inflating: /content/images/train/car_517.jpg  \n",
            "  inflating: /content/images/train/car_518.jpg  \n",
            "  inflating: /content/images/train/car_519.jpg  \n",
            "  inflating: /content/images/train/car_52.jpg  \n",
            "  inflating: /content/images/train/car_520.jpg  \n",
            "  inflating: /content/images/train/car_521.jpg  \n",
            "  inflating: /content/images/train/car_522.jpg  \n",
            "  inflating: /content/images/train/car_523.jpg  \n",
            "  inflating: /content/images/train/car_524.jpg  \n",
            "  inflating: /content/images/train/car_525.jpg  \n",
            "  inflating: /content/images/train/car_526.jpg  \n",
            "  inflating: /content/images/train/car_527.jpg  \n",
            "  inflating: /content/images/train/car_528.jpg  \n",
            "  inflating: /content/images/train/car_529.jpg  \n",
            "  inflating: /content/images/train/car_53.jpg  \n",
            "  inflating: /content/images/train/car_530.jpg  \n",
            "  inflating: /content/images/train/car_531.jpg  \n",
            "  inflating: /content/images/train/car_532.jpg  \n",
            "  inflating: /content/images/train/car_533.jpg  \n",
            "  inflating: /content/images/train/car_534.jpg  \n",
            "  inflating: /content/images/train/car_535.jpg  \n",
            "  inflating: /content/images/train/car_536.jpg  \n",
            "  inflating: /content/images/train/car_537.jpg  \n",
            "  inflating: /content/images/train/car_538.jpg  \n",
            "  inflating: /content/images/train/car_539.jpg  \n",
            "  inflating: /content/images/train/car_54.jpg  \n",
            "  inflating: /content/images/train/car_540.jpg  \n",
            "  inflating: /content/images/train/car_541.jpg  \n",
            "  inflating: /content/images/train/car_542.jpg  \n",
            "  inflating: /content/images/train/car_543.jpg  \n",
            "  inflating: /content/images/train/car_544.jpg  \n",
            "  inflating: /content/images/train/car_545.jpg  \n",
            "  inflating: /content/images/train/car_546.jpg  \n",
            "  inflating: /content/images/train/car_547.jpg  \n",
            "  inflating: /content/images/train/car_548.jpg  \n",
            "  inflating: /content/images/train/car_549.jpg  \n",
            "  inflating: /content/images/train/car_55.jpg  \n",
            "  inflating: /content/images/train/car_550.jpg  \n",
            "  inflating: /content/images/train/car_551.jpg  \n",
            "  inflating: /content/images/train/car_552.jpg  \n",
            "  inflating: /content/images/train/car_553.jpg  \n",
            "  inflating: /content/images/train/car_554.jpg  \n",
            "  inflating: /content/images/train/car_555.jpg  \n",
            "  inflating: /content/images/train/car_556.jpg  \n",
            "  inflating: /content/images/train/car_557.jpg  \n",
            "  inflating: /content/images/train/car_558.jpg  \n",
            "  inflating: /content/images/train/car_559.jpg  \n",
            "  inflating: /content/images/train/car_56.jpg  \n",
            "  inflating: /content/images/train/car_560.jpg  \n",
            "  inflating: /content/images/train/car_561.jpg  \n",
            "  inflating: /content/images/train/car_562.jpg  \n",
            "  inflating: /content/images/train/car_563.jpg  \n",
            "  inflating: /content/images/train/car_564.jpg  \n",
            "  inflating: /content/images/train/car_565.jpg  \n",
            "  inflating: /content/images/train/car_566.jpg  \n",
            "  inflating: /content/images/train/car_567.jpg  \n",
            "  inflating: /content/images/train/car_568.jpg  \n",
            "  inflating: /content/images/train/car_569.jpg  \n",
            "  inflating: /content/images/train/car_57.jpg  \n",
            "  inflating: /content/images/train/car_570.jpg  \n",
            "  inflating: /content/images/train/car_571.jpg  \n",
            "  inflating: /content/images/train/car_572.jpg  \n",
            "  inflating: /content/images/train/car_573.jpg  \n",
            "  inflating: /content/images/train/car_574.jpg  \n",
            "  inflating: /content/images/train/car_575.jpg  \n",
            "  inflating: /content/images/train/car_576.jpg  \n",
            "  inflating: /content/images/train/car_577.jpg  \n",
            "  inflating: /content/images/train/car_578.jpg  \n",
            "  inflating: /content/images/train/car_579.jpg  \n",
            "  inflating: /content/images/train/car_58.jpg  \n",
            "  inflating: /content/images/train/car_580.jpg  \n",
            "  inflating: /content/images/train/car_581.jpg  \n",
            "  inflating: /content/images/train/car_582.jpg  \n",
            "  inflating: /content/images/train/car_583.jpg  \n",
            "  inflating: /content/images/train/car_584.jpg  \n",
            "  inflating: /content/images/train/car_585.jpg  \n",
            "  inflating: /content/images/train/car_586.jpg  \n",
            "  inflating: /content/images/train/car_587.jpg  \n",
            "  inflating: /content/images/train/car_588.jpg  \n",
            "  inflating: /content/images/train/car_589.jpg  \n",
            "  inflating: /content/images/train/car_59.jpg  \n",
            "  inflating: /content/images/train/car_590.jpg  \n",
            "  inflating: /content/images/train/car_591.jpg  \n",
            "  inflating: /content/images/train/car_592.jpg  \n",
            "  inflating: /content/images/train/car_593.jpg  \n",
            "  inflating: /content/images/train/car_594.jpg  \n",
            "  inflating: /content/images/train/car_595.jpg  \n",
            "  inflating: /content/images/train/car_596.jpg  \n",
            "  inflating: /content/images/train/car_597.jpg  \n",
            "  inflating: /content/images/train/car_598.jpg  \n",
            "  inflating: /content/images/train/car_599.jpg  \n",
            "  inflating: /content/images/train/car_6.jpg  \n",
            "  inflating: /content/images/train/car_60.jpg  \n",
            "  inflating: /content/images/train/car_600.jpg  \n",
            "  inflating: /content/images/train/car_601.jpg  \n",
            "  inflating: /content/images/train/car_602.jpg  \n",
            "  inflating: /content/images/train/car_603.jpg  \n",
            "  inflating: /content/images/train/car_604.jpg  \n",
            "  inflating: /content/images/train/car_605.jpg  \n",
            "  inflating: /content/images/train/car_606.jpg  \n",
            "  inflating: /content/images/train/car_607.jpg  \n",
            "  inflating: /content/images/train/car_608.jpg  \n",
            "  inflating: /content/images/train/car_609.jpg  \n",
            "  inflating: /content/images/train/car_61.jpg  \n",
            "  inflating: /content/images/train/car_610.jpg  \n",
            "  inflating: /content/images/train/car_611.jpg  \n",
            "  inflating: /content/images/train/car_612.jpg  \n",
            "  inflating: /content/images/train/car_613.jpg  \n",
            "  inflating: /content/images/train/car_614.jpg  \n",
            "  inflating: /content/images/train/car_615.jpg  \n",
            "  inflating: /content/images/train/car_616.jpg  \n",
            "  inflating: /content/images/train/car_617.jpg  \n",
            "  inflating: /content/images/train/car_618.jpg  \n",
            "  inflating: /content/images/train/car_619.jpg  \n",
            "  inflating: /content/images/train/car_62.jpg  \n",
            "  inflating: /content/images/train/car_620.jpg  \n",
            "  inflating: /content/images/train/car_621.jpg  \n",
            "  inflating: /content/images/train/car_622.jpg  \n",
            "  inflating: /content/images/train/car_623.jpg  \n",
            "  inflating: /content/images/train/car_624.jpg  \n",
            "  inflating: /content/images/train/car_625.jpg  \n",
            "  inflating: /content/images/train/car_626.jpg  \n",
            "  inflating: /content/images/train/car_627.jpg  \n",
            "  inflating: /content/images/train/car_628.jpg  \n",
            "  inflating: /content/images/train/car_629.jpg  \n",
            "  inflating: /content/images/train/car_63.jpg  \n",
            "  inflating: /content/images/train/car_630.jpg  \n",
            "  inflating: /content/images/train/car_631.jpg  \n",
            "  inflating: /content/images/train/car_632.jpg  \n",
            "  inflating: /content/images/train/car_633.jpg  \n",
            "  inflating: /content/images/train/car_634.jpg  \n",
            "  inflating: /content/images/train/car_635.jpg  \n",
            "  inflating: /content/images/train/car_636.jpg  \n",
            "  inflating: /content/images/train/car_637.jpg  \n",
            "  inflating: /content/images/train/car_638.jpg  \n",
            "  inflating: /content/images/train/car_639.jpg  \n",
            "  inflating: /content/images/train/car_64.jpg  \n",
            "  inflating: /content/images/train/car_640.jpg  \n",
            "  inflating: /content/images/train/car_65.jpg  \n",
            "  inflating: /content/images/train/car_66.jpg  \n",
            "  inflating: /content/images/train/car_67.jpg  \n",
            "  inflating: /content/images/train/car_68.jpg  \n",
            "  inflating: /content/images/train/car_69.jpg  \n",
            "  inflating: /content/images/train/car_7.jpg  \n",
            "  inflating: /content/images/train/car_70.jpg  \n",
            "  inflating: /content/images/train/car_71.jpg  \n",
            "  inflating: /content/images/train/car_72.jpg  \n",
            "  inflating: /content/images/train/car_73.jpg  \n",
            "  inflating: /content/images/train/car_74.jpg  \n",
            "  inflating: /content/images/train/car_75.jpg  \n",
            "  inflating: /content/images/train/car_76.jpg  \n",
            "  inflating: /content/images/train/car_77.jpg  \n",
            "  inflating: /content/images/train/car_78.jpg  \n",
            "  inflating: /content/images/train/car_79.jpg  \n",
            "  inflating: /content/images/train/car_8.jpg  \n",
            "  inflating: /content/images/train/car_80.jpg  \n",
            "  inflating: /content/images/train/car_81.jpg  \n",
            "  inflating: /content/images/train/car_82.jpg  \n",
            "  inflating: /content/images/train/car_83.jpg  \n",
            "  inflating: /content/images/train/car_84.jpg  \n",
            "  inflating: /content/images/train/car_85.jpg  \n",
            "  inflating: /content/images/train/car_86.jpg  \n",
            "  inflating: /content/images/train/car_87.jpg  \n",
            "  inflating: /content/images/train/car_88.jpg  \n",
            "  inflating: /content/images/train/car_89.jpg  \n",
            "  inflating: /content/images/train/car_9.jpg  \n",
            "  inflating: /content/images/train/car_90.jpg  \n",
            "  inflating: /content/images/train/car_91.jpg  \n",
            "  inflating: /content/images/train/car_92.jpg  \n",
            "  inflating: /content/images/train/car_93.jpg  \n",
            "  inflating: /content/images/train/car_94.jpg  \n",
            "  inflating: /content/images/train/car_95.jpg  \n",
            "  inflating: /content/images/train/car_96.jpg  \n",
            "  inflating: /content/images/train/car_97.jpg  \n",
            "  inflating: /content/images/train/car_98.jpg  \n",
            "  inflating: /content/images/train/car_99.jpg  \n",
            "   creating: /content/images/val/\n",
            "  inflating: /content/images/val/car_1.jpg  \n",
            "  inflating: /content/images/val/car_10.jpg  \n",
            "  inflating: /content/images/val/car_100.jpg  \n",
            "  inflating: /content/images/val/car_101.jpg  \n",
            "  inflating: /content/images/val/car_102.jpg  \n",
            "  inflating: /content/images/val/car_103.jpg  \n",
            "  inflating: /content/images/val/car_104.jpg  \n",
            "  inflating: /content/images/val/car_105.jpg  \n",
            "  inflating: /content/images/val/car_106.jpg  \n",
            "  inflating: /content/images/val/car_107.jpg  \n",
            "  inflating: /content/images/val/car_108.jpg  \n",
            "  inflating: /content/images/val/car_109.jpg  \n",
            "  inflating: /content/images/val/car_11.jpg  \n",
            "  inflating: /content/images/val/car_110.jpg  \n",
            "  inflating: /content/images/val/car_111.jpg  \n",
            "  inflating: /content/images/val/car_112.jpg  \n",
            "  inflating: /content/images/val/car_113.jpg  \n",
            "  inflating: /content/images/val/car_114.jpg  \n",
            "  inflating: /content/images/val/car_115.jpg  \n",
            "  inflating: /content/images/val/car_116.jpg  \n",
            "  inflating: /content/images/val/car_117.jpg  \n",
            "  inflating: /content/images/val/car_118.jpg  \n",
            "  inflating: /content/images/val/car_119.jpg  \n",
            "  inflating: /content/images/val/car_12.jpg  \n",
            "  inflating: /content/images/val/car_120.jpg  \n",
            "  inflating: /content/images/val/car_121.jpg  \n",
            "  inflating: /content/images/val/car_122.jpg  \n",
            "  inflating: /content/images/val/car_123.jpg  \n",
            "  inflating: /content/images/val/car_124.jpg  \n",
            "  inflating: /content/images/val/car_125.jpg  \n",
            "  inflating: /content/images/val/car_126.jpg  \n",
            "  inflating: /content/images/val/car_127.jpg  \n",
            "  inflating: /content/images/val/car_128.jpg  \n",
            "  inflating: /content/images/val/car_129.jpg  \n",
            "  inflating: /content/images/val/car_13.jpg  \n",
            "  inflating: /content/images/val/car_130.jpg  \n",
            "  inflating: /content/images/val/car_131.jpg  \n",
            "  inflating: /content/images/val/car_132.jpg  \n",
            "  inflating: /content/images/val/car_133.jpg  \n",
            "  inflating: /content/images/val/car_134.jpg  \n",
            "  inflating: /content/images/val/car_135.jpg  \n",
            "  inflating: /content/images/val/car_136.jpg  \n",
            "  inflating: /content/images/val/car_137.jpg  \n",
            "  inflating: /content/images/val/car_138.jpg  \n",
            "  inflating: /content/images/val/car_139.jpg  \n",
            "  inflating: /content/images/val/car_14.jpg  \n",
            "  inflating: /content/images/val/car_140.jpg  \n",
            "  inflating: /content/images/val/car_141.jpg  \n",
            "  inflating: /content/images/val/car_142.jpg  \n",
            "  inflating: /content/images/val/car_143.jpg  \n",
            "  inflating: /content/images/val/car_144.jpg  \n",
            "  inflating: /content/images/val/car_145.jpg  \n",
            "  inflating: /content/images/val/car_146.jpg  \n",
            "  inflating: /content/images/val/car_147.jpg  \n",
            "  inflating: /content/images/val/car_148.jpg  \n",
            "  inflating: /content/images/val/car_149.jpg  \n",
            "  inflating: /content/images/val/car_15.jpg  \n",
            "  inflating: /content/images/val/car_150.jpg  \n",
            "  inflating: /content/images/val/car_151.jpg  \n",
            "  inflating: /content/images/val/car_152.jpg  \n",
            "  inflating: /content/images/val/car_153.jpg  \n",
            "  inflating: /content/images/val/car_154.jpg  \n",
            "  inflating: /content/images/val/car_155.jpg  \n",
            "  inflating: /content/images/val/car_156.jpg  \n",
            "  inflating: /content/images/val/car_157.jpg  \n",
            "  inflating: /content/images/val/car_158.jpg  \n",
            "  inflating: /content/images/val/car_159.jpg  \n",
            "  inflating: /content/images/val/car_16.jpg  \n",
            "  inflating: /content/images/val/car_160.jpg  \n",
            "  inflating: /content/images/val/car_161.jpg  \n",
            "  inflating: /content/images/val/car_162.jpg  \n",
            "  inflating: /content/images/val/car_163.jpg  \n",
            "  inflating: /content/images/val/car_164.jpg  \n",
            "  inflating: /content/images/val/car_165.jpg  \n",
            "  inflating: /content/images/val/car_166.jpg  \n",
            "  inflating: /content/images/val/car_167.jpg  \n",
            "  inflating: /content/images/val/car_168.jpg  \n",
            "  inflating: /content/images/val/car_169.jpg  \n",
            "  inflating: /content/images/val/car_17.jpg  \n",
            "  inflating: /content/images/val/car_170.jpg  \n",
            "  inflating: /content/images/val/car_171.jpg  \n",
            "  inflating: /content/images/val/car_172.jpg  \n",
            "  inflating: /content/images/val/car_173.jpg  \n",
            "  inflating: /content/images/val/car_174.jpg  \n",
            "  inflating: /content/images/val/car_175.jpg  \n",
            "  inflating: /content/images/val/car_176.jpg  \n",
            "  inflating: /content/images/val/car_177.jpg  \n",
            "  inflating: /content/images/val/car_178.jpg  \n",
            "  inflating: /content/images/val/car_179.jpg  \n",
            "  inflating: /content/images/val/car_18.jpg  \n",
            "  inflating: /content/images/val/car_180.jpg  \n",
            "  inflating: /content/images/val/car_181.jpg  \n",
            "  inflating: /content/images/val/car_182.jpg  \n",
            "  inflating: /content/images/val/car_19.jpg  \n",
            "  inflating: /content/images/val/car_2.jpg  \n",
            "  inflating: /content/images/val/car_20.jpg  \n",
            "  inflating: /content/images/val/car_21.jpg  \n",
            "  inflating: /content/images/val/car_22.jpg  \n",
            "  inflating: /content/images/val/car_23.jpg  \n",
            "  inflating: /content/images/val/car_24.jpg  \n",
            "  inflating: /content/images/val/car_25.jpg  \n",
            "  inflating: /content/images/val/car_26.jpg  \n",
            "  inflating: /content/images/val/car_27.jpg  \n",
            "  inflating: /content/images/val/car_28.jpg  \n",
            "  inflating: /content/images/val/car_29.jpg  \n",
            "  inflating: /content/images/val/car_3.jpg  \n",
            "  inflating: /content/images/val/car_30.jpg  \n",
            "  inflating: /content/images/val/car_31.jpg  \n",
            "  inflating: /content/images/val/car_32.jpg  \n",
            "  inflating: /content/images/val/car_33.jpg  \n",
            "  inflating: /content/images/val/car_34.jpg  \n",
            "  inflating: /content/images/val/car_35.jpg  \n",
            "  inflating: /content/images/val/car_36.jpg  \n",
            "  inflating: /content/images/val/car_37.jpg  \n",
            "  inflating: /content/images/val/car_38.jpg  \n",
            "  inflating: /content/images/val/car_39.jpg  \n",
            "  inflating: /content/images/val/car_4.jpg  \n",
            "  inflating: /content/images/val/car_40.jpg  \n",
            "  inflating: /content/images/val/car_41.jpg  \n",
            "  inflating: /content/images/val/car_42.jpg  \n",
            "  inflating: /content/images/val/car_43.jpg  \n",
            "  inflating: /content/images/val/car_44.jpg  \n",
            "  inflating: /content/images/val/car_45.jpg  \n",
            "  inflating: /content/images/val/car_46.jpg  \n",
            "  inflating: /content/images/val/car_47.jpg  \n",
            "  inflating: /content/images/val/car_48.jpg  \n",
            "  inflating: /content/images/val/car_49.jpg  \n",
            "  inflating: /content/images/val/car_5.jpg  \n",
            "  inflating: /content/images/val/car_50.jpg  \n",
            "  inflating: /content/images/val/car_51.jpg  \n",
            "  inflating: /content/images/val/car_52.jpg  \n",
            "  inflating: /content/images/val/car_53.jpg  \n",
            "  inflating: /content/images/val/car_54.jpg  \n",
            "  inflating: /content/images/val/car_55.jpg  \n",
            "  inflating: /content/images/val/car_56.jpg  \n",
            "  inflating: /content/images/val/car_57.jpg  \n",
            "  inflating: /content/images/val/car_58.jpg  \n",
            "  inflating: /content/images/val/car_59.jpg  \n",
            "  inflating: /content/images/val/car_6.jpg  \n",
            "  inflating: /content/images/val/car_60.jpg  \n",
            "  inflating: /content/images/val/car_61.jpg  \n",
            "  inflating: /content/images/val/car_62.jpg  \n",
            "  inflating: /content/images/val/car_63.jpg  \n",
            "  inflating: /content/images/val/car_64.jpg  \n",
            "  inflating: /content/images/val/car_65.jpg  \n",
            "  inflating: /content/images/val/car_66.jpg  \n",
            "  inflating: /content/images/val/car_67.jpg  \n",
            "  inflating: /content/images/val/car_68.jpg  \n",
            "  inflating: /content/images/val/car_69.jpg  \n",
            "  inflating: /content/images/val/car_7.jpg  \n",
            "  inflating: /content/images/val/car_70.jpg  \n",
            "  inflating: /content/images/val/car_71.jpg  \n",
            "  inflating: /content/images/val/car_72.jpg  \n",
            "  inflating: /content/images/val/car_73.jpg  \n",
            "  inflating: /content/images/val/car_74.jpg  \n",
            "  inflating: /content/images/val/car_75.jpg  \n",
            "  inflating: /content/images/val/car_76.jpg  \n",
            "  inflating: /content/images/val/car_77.jpg  \n",
            "  inflating: /content/images/val/car_78.jpg  \n",
            "  inflating: /content/images/val/car_79.jpg  \n",
            "  inflating: /content/images/val/car_8.jpg  \n",
            "  inflating: /content/images/val/car_80.jpg  \n",
            "  inflating: /content/images/val/car_81.jpg  \n",
            "  inflating: /content/images/val/car_82.jpg  \n",
            "  inflating: /content/images/val/car_83.jpg  \n",
            "  inflating: /content/images/val/car_84.jpg  \n",
            "  inflating: /content/images/val/car_85.jpg  \n",
            "  inflating: /content/images/val/car_86.jpg  \n",
            "  inflating: /content/images/val/car_87.jpg  \n",
            "  inflating: /content/images/val/car_88.jpg  \n",
            "  inflating: /content/images/val/car_89.jpg  \n",
            "  inflating: /content/images/val/car_9.jpg  \n",
            "  inflating: /content/images/val/car_90.jpg  \n",
            "  inflating: /content/images/val/car_91.jpg  \n",
            "  inflating: /content/images/val/car_92.jpg  \n",
            "  inflating: /content/images/val/car_93.jpg  \n",
            "  inflating: /content/images/val/car_94.jpg  \n",
            "  inflating: /content/images/val/car_95.jpg  \n",
            "  inflating: /content/images/val/car_96.jpg  \n",
            "  inflating: /content/images/val/car_97.jpg  \n",
            "  inflating: /content/images/val/car_98.jpg  \n",
            "  inflating: /content/images/val/car_99.jpg  \n",
            "   creating: /content/labels/\n",
            "   creating: /content/labels/train/\n",
            "  inflating: /content/labels/train/car_1.txt  \n",
            "  inflating: /content/labels/train/car_10.txt  \n",
            "  inflating: /content/labels/train/car_100.txt  \n",
            "  inflating: /content/labels/train/car_101.txt  \n",
            "  inflating: /content/labels/train/car_102.txt  \n",
            "  inflating: /content/labels/train/car_103.txt  \n",
            "  inflating: /content/labels/train/car_104.txt  \n",
            " extracting: /content/labels/train/car_105.txt  \n",
            "  inflating: /content/labels/train/car_106.txt  \n",
            "  inflating: /content/labels/train/car_107.txt  \n",
            "  inflating: /content/labels/train/car_108.txt  \n",
            "  inflating: /content/labels/train/car_109.txt  \n",
            "  inflating: /content/labels/train/car_11.txt  \n",
            "  inflating: /content/labels/train/car_110.txt  \n",
            "  inflating: /content/labels/train/car_111.txt  \n",
            "  inflating: /content/labels/train/car_112.txt  \n",
            "  inflating: /content/labels/train/car_113.txt  \n",
            "  inflating: /content/labels/train/car_114.txt  \n",
            "  inflating: /content/labels/train/car_115.txt  \n",
            "  inflating: /content/labels/train/car_116.txt  \n",
            "  inflating: /content/labels/train/car_117.txt  \n",
            "  inflating: /content/labels/train/car_118.txt  \n",
            "  inflating: /content/labels/train/car_119.txt  \n",
            "  inflating: /content/labels/train/car_12.txt  \n",
            "  inflating: /content/labels/train/car_120.txt  \n",
            "  inflating: /content/labels/train/car_121.txt  \n",
            "  inflating: /content/labels/train/car_122.txt  \n",
            "  inflating: /content/labels/train/car_123.txt  \n",
            "  inflating: /content/labels/train/car_124.txt  \n",
            "  inflating: /content/labels/train/car_125.txt  \n",
            "  inflating: /content/labels/train/car_126.txt  \n",
            "  inflating: /content/labels/train/car_127.txt  \n",
            "  inflating: /content/labels/train/car_128.txt  \n",
            "  inflating: /content/labels/train/car_129.txt  \n",
            "  inflating: /content/labels/train/car_13.txt  \n",
            "  inflating: /content/labels/train/car_130.txt  \n",
            " extracting: /content/labels/train/car_131.txt  \n",
            "  inflating: /content/labels/train/car_132.txt  \n",
            "  inflating: /content/labels/train/car_133.txt  \n",
            "  inflating: /content/labels/train/car_134.txt  \n",
            "  inflating: /content/labels/train/car_135.txt  \n",
            "  inflating: /content/labels/train/car_136.txt  \n",
            "  inflating: /content/labels/train/car_137.txt  \n",
            "  inflating: /content/labels/train/car_138.txt  \n",
            "  inflating: /content/labels/train/car_139.txt  \n",
            "  inflating: /content/labels/train/car_14.txt  \n",
            "  inflating: /content/labels/train/car_140.txt  \n",
            "  inflating: /content/labels/train/car_141.txt  \n",
            "  inflating: /content/labels/train/car_142.txt  \n",
            "  inflating: /content/labels/train/car_143.txt  \n",
            "  inflating: /content/labels/train/car_144.txt  \n",
            "  inflating: /content/labels/train/car_145.txt  \n",
            "  inflating: /content/labels/train/car_146.txt  \n",
            "  inflating: /content/labels/train/car_147.txt  \n",
            "  inflating: /content/labels/train/car_148.txt  \n",
            "  inflating: /content/labels/train/car_149.txt  \n",
            "  inflating: /content/labels/train/car_15.txt  \n",
            "  inflating: /content/labels/train/car_150.txt  \n",
            "  inflating: /content/labels/train/car_151.txt  \n",
            "  inflating: /content/labels/train/car_152.txt  \n",
            "  inflating: /content/labels/train/car_153.txt  \n",
            "  inflating: /content/labels/train/car_154.txt  \n",
            "  inflating: /content/labels/train/car_155.txt  \n",
            "  inflating: /content/labels/train/car_156.txt  \n",
            "  inflating: /content/labels/train/car_157.txt  \n",
            "  inflating: /content/labels/train/car_158.txt  \n",
            "  inflating: /content/labels/train/car_159.txt  \n",
            "  inflating: /content/labels/train/car_16.txt  \n",
            " extracting: /content/labels/train/car_160.txt  \n",
            "  inflating: /content/labels/train/car_161.txt  \n",
            "  inflating: /content/labels/train/car_162.txt  \n",
            "  inflating: /content/labels/train/car_163.txt  \n",
            "  inflating: /content/labels/train/car_164.txt  \n",
            "  inflating: /content/labels/train/car_165.txt  \n",
            "  inflating: /content/labels/train/car_166.txt  \n",
            "  inflating: /content/labels/train/car_167.txt  \n",
            " extracting: /content/labels/train/car_168.txt  \n",
            "  inflating: /content/labels/train/car_169.txt  \n",
            "  inflating: /content/labels/train/car_17.txt  \n",
            "  inflating: /content/labels/train/car_170.txt  \n",
            "  inflating: /content/labels/train/car_171.txt  \n",
            "  inflating: /content/labels/train/car_172.txt  \n",
            "  inflating: /content/labels/train/car_173.txt  \n",
            "  inflating: /content/labels/train/car_174.txt  \n",
            " extracting: /content/labels/train/car_175.txt  \n",
            "  inflating: /content/labels/train/car_176.txt  \n",
            "  inflating: /content/labels/train/car_177.txt  \n",
            "  inflating: /content/labels/train/car_178.txt  \n",
            "  inflating: /content/labels/train/car_179.txt  \n",
            "  inflating: /content/labels/train/car_18.txt  \n",
            "  inflating: /content/labels/train/car_180.txt  \n",
            "  inflating: /content/labels/train/car_181.txt  \n",
            "  inflating: /content/labels/train/car_182.txt  \n",
            "  inflating: /content/labels/train/car_183.txt  \n",
            "  inflating: /content/labels/train/car_184.txt  \n",
            "  inflating: /content/labels/train/car_185.txt  \n",
            "  inflating: /content/labels/train/car_186.txt  \n",
            "  inflating: /content/labels/train/car_187.txt  \n",
            "  inflating: /content/labels/train/car_188.txt  \n",
            "  inflating: /content/labels/train/car_189.txt  \n",
            "  inflating: /content/labels/train/car_19.txt  \n",
            "  inflating: /content/labels/train/car_190.txt  \n",
            "  inflating: /content/labels/train/car_191.txt  \n",
            "  inflating: /content/labels/train/car_192.txt  \n",
            "  inflating: /content/labels/train/car_193.txt  \n",
            "  inflating: /content/labels/train/car_194.txt  \n",
            "  inflating: /content/labels/train/car_195.txt  \n",
            "  inflating: /content/labels/train/car_196.txt  \n",
            "  inflating: /content/labels/train/car_197.txt  \n",
            "  inflating: /content/labels/train/car_198.txt  \n",
            "  inflating: /content/labels/train/car_199.txt  \n",
            "  inflating: /content/labels/train/car_2.txt  \n",
            "  inflating: /content/labels/train/car_20.txt  \n",
            "  inflating: /content/labels/train/car_200.txt  \n",
            "  inflating: /content/labels/train/car_201.txt  \n",
            "  inflating: /content/labels/train/car_202.txt  \n",
            "  inflating: /content/labels/train/car_203.txt  \n",
            "  inflating: /content/labels/train/car_204.txt  \n",
            "  inflating: /content/labels/train/car_205.txt  \n",
            "  inflating: /content/labels/train/car_206.txt  \n",
            "  inflating: /content/labels/train/car_207.txt  \n",
            "  inflating: /content/labels/train/car_208.txt  \n",
            "  inflating: /content/labels/train/car_209.txt  \n",
            "  inflating: /content/labels/train/car_21.txt  \n",
            "  inflating: /content/labels/train/car_210.txt  \n",
            "  inflating: /content/labels/train/car_211.txt  \n",
            "  inflating: /content/labels/train/car_212.txt  \n",
            "  inflating: /content/labels/train/car_213.txt  \n",
            "  inflating: /content/labels/train/car_214.txt  \n",
            " extracting: /content/labels/train/car_215.txt  \n",
            "  inflating: /content/labels/train/car_216.txt  \n",
            "  inflating: /content/labels/train/car_217.txt  \n",
            "  inflating: /content/labels/train/car_218.txt  \n",
            "  inflating: /content/labels/train/car_219.txt  \n",
            "  inflating: /content/labels/train/car_22.txt  \n",
            "  inflating: /content/labels/train/car_220.txt  \n",
            "  inflating: /content/labels/train/car_221.txt  \n",
            "  inflating: /content/labels/train/car_222.txt  \n",
            "  inflating: /content/labels/train/car_223.txt  \n",
            "  inflating: /content/labels/train/car_224.txt  \n",
            "  inflating: /content/labels/train/car_225.txt  \n",
            "  inflating: /content/labels/train/car_226.txt  \n",
            "  inflating: /content/labels/train/car_227.txt  \n",
            "  inflating: /content/labels/train/car_228.txt  \n",
            "  inflating: /content/labels/train/car_229.txt  \n",
            "  inflating: /content/labels/train/car_23.txt  \n",
            "  inflating: /content/labels/train/car_230.txt  \n",
            "  inflating: /content/labels/train/car_231.txt  \n",
            " extracting: /content/labels/train/car_232.txt  \n",
            "  inflating: /content/labels/train/car_233.txt  \n",
            "  inflating: /content/labels/train/car_234.txt  \n",
            "  inflating: /content/labels/train/car_235.txt  \n",
            " extracting: /content/labels/train/car_236.txt  \n",
            "  inflating: /content/labels/train/car_237.txt  \n",
            "  inflating: /content/labels/train/car_238.txt  \n",
            "  inflating: /content/labels/train/car_239.txt  \n",
            "  inflating: /content/labels/train/car_24.txt  \n",
            "  inflating: /content/labels/train/car_240.txt  \n",
            "  inflating: /content/labels/train/car_241.txt  \n",
            "  inflating: /content/labels/train/car_242.txt  \n",
            "  inflating: /content/labels/train/car_243.txt  \n",
            "  inflating: /content/labels/train/car_244.txt  \n",
            "  inflating: /content/labels/train/car_245.txt  \n",
            "  inflating: /content/labels/train/car_246.txt  \n",
            "  inflating: /content/labels/train/car_247.txt  \n",
            "  inflating: /content/labels/train/car_248.txt  \n",
            "  inflating: /content/labels/train/car_249.txt  \n",
            "  inflating: /content/labels/train/car_25.txt  \n",
            "  inflating: /content/labels/train/car_250.txt  \n",
            "  inflating: /content/labels/train/car_251.txt  \n",
            "  inflating: /content/labels/train/car_252.txt  \n",
            "  inflating: /content/labels/train/car_253.txt  \n",
            "  inflating: /content/labels/train/car_254.txt  \n",
            "  inflating: /content/labels/train/car_255.txt  \n",
            "  inflating: /content/labels/train/car_256.txt  \n",
            "  inflating: /content/labels/train/car_257.txt  \n",
            "  inflating: /content/labels/train/car_258.txt  \n",
            "  inflating: /content/labels/train/car_259.txt  \n",
            "  inflating: /content/labels/train/car_26.txt  \n",
            "  inflating: /content/labels/train/car_260.txt  \n",
            "  inflating: /content/labels/train/car_261.txt  \n",
            "  inflating: /content/labels/train/car_262.txt  \n",
            "  inflating: /content/labels/train/car_263.txt  \n",
            "  inflating: /content/labels/train/car_264.txt  \n",
            "  inflating: /content/labels/train/car_265.txt  \n",
            "  inflating: /content/labels/train/car_266.txt  \n",
            "  inflating: /content/labels/train/car_267.txt  \n",
            "  inflating: /content/labels/train/car_268.txt  \n",
            "  inflating: /content/labels/train/car_269.txt  \n",
            "  inflating: /content/labels/train/car_27.txt  \n",
            "  inflating: /content/labels/train/car_270.txt  \n",
            "  inflating: /content/labels/train/car_271.txt  \n",
            " extracting: /content/labels/train/car_272.txt  \n",
            "  inflating: /content/labels/train/car_273.txt  \n",
            "  inflating: /content/labels/train/car_274.txt  \n",
            "  inflating: /content/labels/train/car_275.txt  \n",
            "  inflating: /content/labels/train/car_276.txt  \n",
            "  inflating: /content/labels/train/car_277.txt  \n",
            "  inflating: /content/labels/train/car_278.txt  \n",
            "  inflating: /content/labels/train/car_279.txt  \n",
            "  inflating: /content/labels/train/car_28.txt  \n",
            "  inflating: /content/labels/train/car_280.txt  \n",
            "  inflating: /content/labels/train/car_281.txt  \n",
            "  inflating: /content/labels/train/car_282.txt  \n",
            "  inflating: /content/labels/train/car_283.txt  \n",
            "  inflating: /content/labels/train/car_284.txt  \n",
            "  inflating: /content/labels/train/car_285.txt  \n",
            "  inflating: /content/labels/train/car_286.txt  \n",
            " extracting: /content/labels/train/car_287.txt  \n",
            "  inflating: /content/labels/train/car_288.txt  \n",
            "  inflating: /content/labels/train/car_289.txt  \n",
            "  inflating: /content/labels/train/car_29.txt  \n",
            "  inflating: /content/labels/train/car_290.txt  \n",
            "  inflating: /content/labels/train/car_291.txt  \n",
            "  inflating: /content/labels/train/car_292.txt  \n",
            "  inflating: /content/labels/train/car_293.txt  \n",
            "  inflating: /content/labels/train/car_294.txt  \n",
            "  inflating: /content/labels/train/car_295.txt  \n",
            " extracting: /content/labels/train/car_296.txt  \n",
            "  inflating: /content/labels/train/car_297.txt  \n",
            "  inflating: /content/labels/train/car_298.txt  \n",
            "  inflating: /content/labels/train/car_299.txt  \n",
            "  inflating: /content/labels/train/car_3.txt  \n",
            "  inflating: /content/labels/train/car_30.txt  \n",
            "  inflating: /content/labels/train/car_300.txt  \n",
            "  inflating: /content/labels/train/car_301.txt  \n",
            "  inflating: /content/labels/train/car_302.txt  \n",
            "  inflating: /content/labels/train/car_303.txt  \n",
            " extracting: /content/labels/train/car_304.txt  \n",
            "  inflating: /content/labels/train/car_305.txt  \n",
            "  inflating: /content/labels/train/car_306.txt  \n",
            "  inflating: /content/labels/train/car_307.txt  \n",
            "  inflating: /content/labels/train/car_308.txt  \n",
            "  inflating: /content/labels/train/car_309.txt  \n",
            "  inflating: /content/labels/train/car_31.txt  \n",
            "  inflating: /content/labels/train/car_310.txt  \n",
            "  inflating: /content/labels/train/car_311.txt  \n",
            "  inflating: /content/labels/train/car_312.txt  \n",
            "  inflating: /content/labels/train/car_313.txt  \n",
            "  inflating: /content/labels/train/car_314.txt  \n",
            "  inflating: /content/labels/train/car_315.txt  \n",
            "  inflating: /content/labels/train/car_316.txt  \n",
            "  inflating: /content/labels/train/car_317.txt  \n",
            "  inflating: /content/labels/train/car_318.txt  \n",
            "  inflating: /content/labels/train/car_319.txt  \n",
            "  inflating: /content/labels/train/car_32.txt  \n",
            "  inflating: /content/labels/train/car_320.txt  \n",
            "  inflating: /content/labels/train/car_321.txt  \n",
            "  inflating: /content/labels/train/car_322.txt  \n",
            "  inflating: /content/labels/train/car_323.txt  \n",
            "  inflating: /content/labels/train/car_324.txt  \n",
            "  inflating: /content/labels/train/car_325.txt  \n",
            "  inflating: /content/labels/train/car_326.txt  \n",
            "  inflating: /content/labels/train/car_327.txt  \n",
            "  inflating: /content/labels/train/car_328.txt  \n",
            "  inflating: /content/labels/train/car_329.txt  \n",
            "  inflating: /content/labels/train/car_33.txt  \n",
            "  inflating: /content/labels/train/car_330.txt  \n",
            "  inflating: /content/labels/train/car_331.txt  \n",
            "  inflating: /content/labels/train/car_332.txt  \n",
            "  inflating: /content/labels/train/car_333.txt  \n",
            "  inflating: /content/labels/train/car_334.txt  \n",
            "  inflating: /content/labels/train/car_335.txt  \n",
            "  inflating: /content/labels/train/car_336.txt  \n",
            "  inflating: /content/labels/train/car_337.txt  \n",
            "  inflating: /content/labels/train/car_338.txt  \n",
            " extracting: /content/labels/train/car_339.txt  \n",
            "  inflating: /content/labels/train/car_34.txt  \n",
            "  inflating: /content/labels/train/car_340.txt  \n",
            "  inflating: /content/labels/train/car_341.txt  \n",
            "  inflating: /content/labels/train/car_342.txt  \n",
            "  inflating: /content/labels/train/car_343.txt  \n",
            "  inflating: /content/labels/train/car_344.txt  \n",
            "  inflating: /content/labels/train/car_345.txt  \n",
            "  inflating: /content/labels/train/car_346.txt  \n",
            "  inflating: /content/labels/train/car_347.txt  \n",
            " extracting: /content/labels/train/car_348.txt  \n",
            "  inflating: /content/labels/train/car_349.txt  \n",
            "  inflating: /content/labels/train/car_35.txt  \n",
            "  inflating: /content/labels/train/car_350.txt  \n",
            "  inflating: /content/labels/train/car_351.txt  \n",
            "  inflating: /content/labels/train/car_352.txt  \n",
            "  inflating: /content/labels/train/car_353.txt  \n",
            "  inflating: /content/labels/train/car_354.txt  \n",
            "  inflating: /content/labels/train/car_355.txt  \n",
            "  inflating: /content/labels/train/car_356.txt  \n",
            "  inflating: /content/labels/train/car_357.txt  \n",
            "  inflating: /content/labels/train/car_358.txt  \n",
            "  inflating: /content/labels/train/car_359.txt  \n",
            "  inflating: /content/labels/train/car_36.txt  \n",
            "  inflating: /content/labels/train/car_360.txt  \n",
            "  inflating: /content/labels/train/car_361.txt  \n",
            "  inflating: /content/labels/train/car_362.txt  \n",
            "  inflating: /content/labels/train/car_363.txt  \n",
            "  inflating: /content/labels/train/car_364.txt  \n",
            "  inflating: /content/labels/train/car_365.txt  \n",
            "  inflating: /content/labels/train/car_366.txt  \n",
            "  inflating: /content/labels/train/car_367.txt  \n",
            "  inflating: /content/labels/train/car_368.txt  \n",
            "  inflating: /content/labels/train/car_369.txt  \n",
            "  inflating: /content/labels/train/car_37.txt  \n",
            "  inflating: /content/labels/train/car_370.txt  \n",
            "  inflating: /content/labels/train/car_371.txt  \n",
            "  inflating: /content/labels/train/car_372.txt  \n",
            "  inflating: /content/labels/train/car_373.txt  \n",
            "  inflating: /content/labels/train/car_374.txt  \n",
            "  inflating: /content/labels/train/car_375.txt  \n",
            "  inflating: /content/labels/train/car_376.txt  \n",
            "  inflating: /content/labels/train/car_377.txt  \n",
            "  inflating: /content/labels/train/car_378.txt  \n",
            "  inflating: /content/labels/train/car_379.txt  \n",
            "  inflating: /content/labels/train/car_38.txt  \n",
            "  inflating: /content/labels/train/car_380.txt  \n",
            "  inflating: /content/labels/train/car_381.txt  \n",
            "  inflating: /content/labels/train/car_382.txt  \n",
            "  inflating: /content/labels/train/car_383.txt  \n",
            "  inflating: /content/labels/train/car_384.txt  \n",
            "  inflating: /content/labels/train/car_385.txt  \n",
            "  inflating: /content/labels/train/car_386.txt  \n",
            "  inflating: /content/labels/train/car_387.txt  \n",
            "  inflating: /content/labels/train/car_388.txt  \n",
            "  inflating: /content/labels/train/car_389.txt  \n",
            "  inflating: /content/labels/train/car_39.txt  \n",
            "  inflating: /content/labels/train/car_390.txt  \n",
            "  inflating: /content/labels/train/car_391.txt  \n",
            "  inflating: /content/labels/train/car_392.txt  \n",
            "  inflating: /content/labels/train/car_393.txt  \n",
            "  inflating: /content/labels/train/car_394.txt  \n",
            " extracting: /content/labels/train/car_395.txt  \n",
            "  inflating: /content/labels/train/car_396.txt  \n",
            "  inflating: /content/labels/train/car_397.txt  \n",
            "  inflating: /content/labels/train/car_398.txt  \n",
            "  inflating: /content/labels/train/car_399.txt  \n",
            "  inflating: /content/labels/train/car_4.txt  \n",
            "  inflating: /content/labels/train/car_40.txt  \n",
            "  inflating: /content/labels/train/car_400.txt  \n",
            "  inflating: /content/labels/train/car_401.txt  \n",
            "  inflating: /content/labels/train/car_402.txt  \n",
            "  inflating: /content/labels/train/car_403.txt  \n",
            "  inflating: /content/labels/train/car_404.txt  \n",
            "  inflating: /content/labels/train/car_405.txt  \n",
            "  inflating: /content/labels/train/car_406.txt  \n",
            "  inflating: /content/labels/train/car_407.txt  \n",
            "  inflating: /content/labels/train/car_408.txt  \n",
            "  inflating: /content/labels/train/car_409.txt  \n",
            "  inflating: /content/labels/train/car_41.txt  \n",
            "  inflating: /content/labels/train/car_410.txt  \n",
            "  inflating: /content/labels/train/car_411.txt  \n",
            "  inflating: /content/labels/train/car_412.txt  \n",
            "  inflating: /content/labels/train/car_413.txt  \n",
            "  inflating: /content/labels/train/car_414.txt  \n",
            "  inflating: /content/labels/train/car_415.txt  \n",
            "  inflating: /content/labels/train/car_416.txt  \n",
            "  inflating: /content/labels/train/car_417.txt  \n",
            "  inflating: /content/labels/train/car_418.txt  \n",
            "  inflating: /content/labels/train/car_419.txt  \n",
            "  inflating: /content/labels/train/car_42.txt  \n",
            "  inflating: /content/labels/train/car_420.txt  \n",
            "  inflating: /content/labels/train/car_421.txt  \n",
            "  inflating: /content/labels/train/car_422.txt  \n",
            "  inflating: /content/labels/train/car_423.txt  \n",
            "  inflating: /content/labels/train/car_424.txt  \n",
            "  inflating: /content/labels/train/car_425.txt  \n",
            "  inflating: /content/labels/train/car_426.txt  \n",
            " extracting: /content/labels/train/car_427.txt  \n",
            "  inflating: /content/labels/train/car_428.txt  \n",
            "  inflating: /content/labels/train/car_429.txt  \n",
            "  inflating: /content/labels/train/car_43.txt  \n",
            "  inflating: /content/labels/train/car_430.txt  \n",
            "  inflating: /content/labels/train/car_431.txt  \n",
            "  inflating: /content/labels/train/car_432.txt  \n",
            "  inflating: /content/labels/train/car_433.txt  \n",
            "  inflating: /content/labels/train/car_434.txt  \n",
            "  inflating: /content/labels/train/car_435.txt  \n",
            "  inflating: /content/labels/train/car_436.txt  \n",
            "  inflating: /content/labels/train/car_437.txt  \n",
            "  inflating: /content/labels/train/car_438.txt  \n",
            "  inflating: /content/labels/train/car_439.txt  \n",
            "  inflating: /content/labels/train/car_44.txt  \n",
            "  inflating: /content/labels/train/car_440.txt  \n",
            "  inflating: /content/labels/train/car_441.txt  \n",
            "  inflating: /content/labels/train/car_442.txt  \n",
            "  inflating: /content/labels/train/car_443.txt  \n",
            "  inflating: /content/labels/train/car_444.txt  \n",
            " extracting: /content/labels/train/car_445.txt  \n",
            "  inflating: /content/labels/train/car_446.txt  \n",
            "  inflating: /content/labels/train/car_447.txt  \n",
            "  inflating: /content/labels/train/car_448.txt  \n",
            "  inflating: /content/labels/train/car_449.txt  \n",
            "  inflating: /content/labels/train/car_45.txt  \n",
            "  inflating: /content/labels/train/car_450.txt  \n",
            "  inflating: /content/labels/train/car_451.txt  \n",
            "  inflating: /content/labels/train/car_452.txt  \n",
            "  inflating: /content/labels/train/car_453.txt  \n",
            " extracting: /content/labels/train/car_454.txt  \n",
            "  inflating: /content/labels/train/car_455.txt  \n",
            "  inflating: /content/labels/train/car_456.txt  \n",
            "  inflating: /content/labels/train/car_457.txt  \n",
            "  inflating: /content/labels/train/car_458.txt  \n",
            "  inflating: /content/labels/train/car_459.txt  \n",
            "  inflating: /content/labels/train/car_46.txt  \n",
            "  inflating: /content/labels/train/car_460.txt  \n",
            "  inflating: /content/labels/train/car_461.txt  \n",
            "  inflating: /content/labels/train/car_462.txt  \n",
            "  inflating: /content/labels/train/car_463.txt  \n",
            "  inflating: /content/labels/train/car_464.txt  \n",
            "  inflating: /content/labels/train/car_465.txt  \n",
            "  inflating: /content/labels/train/car_466.txt  \n",
            "  inflating: /content/labels/train/car_467.txt  \n",
            "  inflating: /content/labels/train/car_468.txt  \n",
            "  inflating: /content/labels/train/car_469.txt  \n",
            "  inflating: /content/labels/train/car_47.txt  \n",
            "  inflating: /content/labels/train/car_470.txt  \n",
            "  inflating: /content/labels/train/car_471.txt  \n",
            "  inflating: /content/labels/train/car_472.txt  \n",
            "  inflating: /content/labels/train/car_473.txt  \n",
            "  inflating: /content/labels/train/car_474.txt  \n",
            "  inflating: /content/labels/train/car_475.txt  \n",
            "  inflating: /content/labels/train/car_476.txt  \n",
            "  inflating: /content/labels/train/car_477.txt  \n",
            "  inflating: /content/labels/train/car_478.txt  \n",
            "  inflating: /content/labels/train/car_479.txt  \n",
            "  inflating: /content/labels/train/car_48.txt  \n",
            "  inflating: /content/labels/train/car_480.txt  \n",
            "  inflating: /content/labels/train/car_481.txt  \n",
            "  inflating: /content/labels/train/car_482.txt  \n",
            "  inflating: /content/labels/train/car_483.txt  \n",
            "  inflating: /content/labels/train/car_484.txt  \n",
            "  inflating: /content/labels/train/car_485.txt  \n",
            "  inflating: /content/labels/train/car_486.txt  \n",
            "  inflating: /content/labels/train/car_487.txt  \n",
            "  inflating: /content/labels/train/car_488.txt  \n",
            "  inflating: /content/labels/train/car_489.txt  \n",
            "  inflating: /content/labels/train/car_49.txt  \n",
            "  inflating: /content/labels/train/car_490.txt  \n",
            "  inflating: /content/labels/train/car_491.txt  \n",
            "  inflating: /content/labels/train/car_492.txt  \n",
            "  inflating: /content/labels/train/car_493.txt  \n",
            "  inflating: /content/labels/train/car_494.txt  \n",
            "  inflating: /content/labels/train/car_495.txt  \n",
            "  inflating: /content/labels/train/car_496.txt  \n",
            "  inflating: /content/labels/train/car_497.txt  \n",
            "  inflating: /content/labels/train/car_498.txt  \n",
            "  inflating: /content/labels/train/car_499.txt  \n",
            "  inflating: /content/labels/train/car_5.txt  \n",
            "  inflating: /content/labels/train/car_50.txt  \n",
            "  inflating: /content/labels/train/car_500.txt  \n",
            "  inflating: /content/labels/train/car_501.txt  \n",
            "  inflating: /content/labels/train/car_502.txt  \n",
            "  inflating: /content/labels/train/car_503.txt  \n",
            "  inflating: /content/labels/train/car_504.txt  \n",
            "  inflating: /content/labels/train/car_505.txt  \n",
            "  inflating: /content/labels/train/car_506.txt  \n",
            "  inflating: /content/labels/train/car_507.txt  \n",
            "  inflating: /content/labels/train/car_508.txt  \n",
            "  inflating: /content/labels/train/car_509.txt  \n",
            "  inflating: /content/labels/train/car_51.txt  \n",
            " extracting: /content/labels/train/car_510.txt  \n",
            "  inflating: /content/labels/train/car_511.txt  \n",
            "  inflating: /content/labels/train/car_512.txt  \n",
            "  inflating: /content/labels/train/car_513.txt  \n",
            "  inflating: /content/labels/train/car_514.txt  \n",
            "  inflating: /content/labels/train/car_515.txt  \n",
            "  inflating: /content/labels/train/car_516.txt  \n",
            "  inflating: /content/labels/train/car_517.txt  \n",
            "  inflating: /content/labels/train/car_518.txt  \n",
            "  inflating: /content/labels/train/car_519.txt  \n",
            "  inflating: /content/labels/train/car_52.txt  \n",
            "  inflating: /content/labels/train/car_520.txt  \n",
            "  inflating: /content/labels/train/car_521.txt  \n",
            "  inflating: /content/labels/train/car_522.txt  \n",
            "  inflating: /content/labels/train/car_523.txt  \n",
            "  inflating: /content/labels/train/car_524.txt  \n",
            "  inflating: /content/labels/train/car_525.txt  \n",
            "  inflating: /content/labels/train/car_526.txt  \n",
            "  inflating: /content/labels/train/car_527.txt  \n",
            "  inflating: /content/labels/train/car_528.txt  \n",
            "  inflating: /content/labels/train/car_529.txt  \n",
            "  inflating: /content/labels/train/car_53.txt  \n",
            "  inflating: /content/labels/train/car_530.txt  \n",
            "  inflating: /content/labels/train/car_531.txt  \n",
            "  inflating: /content/labels/train/car_532.txt  \n",
            "  inflating: /content/labels/train/car_533.txt  \n",
            "  inflating: /content/labels/train/car_534.txt  \n",
            "  inflating: /content/labels/train/car_535.txt  \n",
            "  inflating: /content/labels/train/car_536.txt  \n",
            "  inflating: /content/labels/train/car_537.txt  \n",
            "  inflating: /content/labels/train/car_538.txt  \n",
            "  inflating: /content/labels/train/car_539.txt  \n",
            "  inflating: /content/labels/train/car_54.txt  \n",
            "  inflating: /content/labels/train/car_540.txt  \n",
            "  inflating: /content/labels/train/car_541.txt  \n",
            "  inflating: /content/labels/train/car_542.txt  \n",
            "  inflating: /content/labels/train/car_543.txt  \n",
            "  inflating: /content/labels/train/car_544.txt  \n",
            "  inflating: /content/labels/train/car_545.txt  \n",
            "  inflating: /content/labels/train/car_546.txt  \n",
            "  inflating: /content/labels/train/car_547.txt  \n",
            "  inflating: /content/labels/train/car_548.txt  \n",
            "  inflating: /content/labels/train/car_549.txt  \n",
            "  inflating: /content/labels/train/car_55.txt  \n",
            "  inflating: /content/labels/train/car_550.txt  \n",
            "  inflating: /content/labels/train/car_551.txt  \n",
            "  inflating: /content/labels/train/car_552.txt  \n",
            "  inflating: /content/labels/train/car_553.txt  \n",
            "  inflating: /content/labels/train/car_554.txt  \n",
            "  inflating: /content/labels/train/car_555.txt  \n",
            "  inflating: /content/labels/train/car_556.txt  \n",
            "  inflating: /content/labels/train/car_557.txt  \n",
            "  inflating: /content/labels/train/car_558.txt  \n",
            "  inflating: /content/labels/train/car_559.txt  \n",
            "  inflating: /content/labels/train/car_56.txt  \n",
            "  inflating: /content/labels/train/car_560.txt  \n",
            "  inflating: /content/labels/train/car_561.txt  \n",
            "  inflating: /content/labels/train/car_562.txt  \n",
            "  inflating: /content/labels/train/car_563.txt  \n",
            "  inflating: /content/labels/train/car_564.txt  \n",
            "  inflating: /content/labels/train/car_565.txt  \n",
            "  inflating: /content/labels/train/car_566.txt  \n",
            "  inflating: /content/labels/train/car_567.txt  \n",
            "  inflating: /content/labels/train/car_568.txt  \n",
            "  inflating: /content/labels/train/car_569.txt  \n",
            "  inflating: /content/labels/train/car_57.txt  \n",
            "  inflating: /content/labels/train/car_570.txt  \n",
            "  inflating: /content/labels/train/car_571.txt  \n",
            "  inflating: /content/labels/train/car_572.txt  \n",
            " extracting: /content/labels/train/car_573.txt  \n",
            "  inflating: /content/labels/train/car_574.txt  \n",
            "  inflating: /content/labels/train/car_575.txt  \n",
            "  inflating: /content/labels/train/car_576.txt  \n",
            "  inflating: /content/labels/train/car_577.txt  \n",
            "  inflating: /content/labels/train/car_578.txt  \n",
            "  inflating: /content/labels/train/car_579.txt  \n",
            "  inflating: /content/labels/train/car_58.txt  \n",
            "  inflating: /content/labels/train/car_580.txt  \n",
            " extracting: /content/labels/train/car_581.txt  \n",
            "  inflating: /content/labels/train/car_582.txt  \n",
            "  inflating: /content/labels/train/car_583.txt  \n",
            "  inflating: /content/labels/train/car_584.txt  \n",
            "  inflating: /content/labels/train/car_585.txt  \n",
            "  inflating: /content/labels/train/car_586.txt  \n",
            "  inflating: /content/labels/train/car_587.txt  \n",
            "  inflating: /content/labels/train/car_588.txt  \n",
            "  inflating: /content/labels/train/car_589.txt  \n",
            "  inflating: /content/labels/train/car_59.txt  \n",
            "  inflating: /content/labels/train/car_590.txt  \n",
            "  inflating: /content/labels/train/car_591.txt  \n",
            "  inflating: /content/labels/train/car_592.txt  \n",
            "  inflating: /content/labels/train/car_593.txt  \n",
            "  inflating: /content/labels/train/car_594.txt  \n",
            " extracting: /content/labels/train/car_595.txt  \n",
            "  inflating: /content/labels/train/car_596.txt  \n",
            "  inflating: /content/labels/train/car_597.txt  \n",
            "  inflating: /content/labels/train/car_598.txt  \n",
            "  inflating: /content/labels/train/car_599.txt  \n",
            "  inflating: /content/labels/train/car_6.txt  \n",
            "  inflating: /content/labels/train/car_60.txt  \n",
            "  inflating: /content/labels/train/car_600.txt  \n",
            "  inflating: /content/labels/train/car_601.txt  \n",
            "  inflating: /content/labels/train/car_602.txt  \n",
            "  inflating: /content/labels/train/car_603.txt  \n",
            "  inflating: /content/labels/train/car_604.txt  \n",
            "  inflating: /content/labels/train/car_605.txt  \n",
            "  inflating: /content/labels/train/car_606.txt  \n",
            "  inflating: /content/labels/train/car_607.txt  \n",
            "  inflating: /content/labels/train/car_608.txt  \n",
            "  inflating: /content/labels/train/car_609.txt  \n",
            "  inflating: /content/labels/train/car_61.txt  \n",
            " extracting: /content/labels/train/car_610.txt  \n",
            "  inflating: /content/labels/train/car_611.txt  \n",
            "  inflating: /content/labels/train/car_612.txt  \n",
            "  inflating: /content/labels/train/car_613.txt  \n",
            "  inflating: /content/labels/train/car_614.txt  \n",
            "  inflating: /content/labels/train/car_615.txt  \n",
            "  inflating: /content/labels/train/car_616.txt  \n",
            " extracting: /content/labels/train/car_617.txt  \n",
            " extracting: /content/labels/train/car_618.txt  \n",
            "  inflating: /content/labels/train/car_619.txt  \n",
            "  inflating: /content/labels/train/car_62.txt  \n",
            "  inflating: /content/labels/train/car_620.txt  \n",
            "  inflating: /content/labels/train/car_621.txt  \n",
            "  inflating: /content/labels/train/car_622.txt  \n",
            "  inflating: /content/labels/train/car_623.txt  \n",
            " extracting: /content/labels/train/car_624.txt  \n",
            "  inflating: /content/labels/train/car_625.txt  \n",
            "  inflating: /content/labels/train/car_626.txt  \n",
            "  inflating: /content/labels/train/car_627.txt  \n",
            "  inflating: /content/labels/train/car_628.txt  \n",
            "  inflating: /content/labels/train/car_629.txt  \n",
            "  inflating: /content/labels/train/car_63.txt  \n",
            "  inflating: /content/labels/train/car_630.txt  \n",
            "  inflating: /content/labels/train/car_631.txt  \n",
            "  inflating: /content/labels/train/car_632.txt  \n",
            "  inflating: /content/labels/train/car_633.txt  \n",
            "  inflating: /content/labels/train/car_634.txt  \n",
            "  inflating: /content/labels/train/car_635.txt  \n",
            "  inflating: /content/labels/train/car_636.txt  \n",
            "  inflating: /content/labels/train/car_637.txt  \n",
            "  inflating: /content/labels/train/car_638.txt  \n",
            "  inflating: /content/labels/train/car_639.txt  \n",
            "  inflating: /content/labels/train/car_64.txt  \n",
            "  inflating: /content/labels/train/car_640.txt  \n",
            "  inflating: /content/labels/train/car_65.txt  \n",
            "  inflating: /content/labels/train/car_66.txt  \n",
            "  inflating: /content/labels/train/car_67.txt  \n",
            "  inflating: /content/labels/train/car_68.txt  \n",
            "  inflating: /content/labels/train/car_69.txt  \n",
            "  inflating: /content/labels/train/car_7.txt  \n",
            "  inflating: /content/labels/train/car_70.txt  \n",
            "  inflating: /content/labels/train/car_71.txt  \n",
            "  inflating: /content/labels/train/car_72.txt  \n",
            "  inflating: /content/labels/train/car_73.txt  \n",
            "  inflating: /content/labels/train/car_74.txt  \n",
            "  inflating: /content/labels/train/car_75.txt  \n",
            "  inflating: /content/labels/train/car_76.txt  \n",
            "  inflating: /content/labels/train/car_77.txt  \n",
            "  inflating: /content/labels/train/car_78.txt  \n",
            "  inflating: /content/labels/train/car_79.txt  \n",
            "  inflating: /content/labels/train/car_8.txt  \n",
            "  inflating: /content/labels/train/car_80.txt  \n",
            "  inflating: /content/labels/train/car_81.txt  \n",
            "  inflating: /content/labels/train/car_82.txt  \n",
            "  inflating: /content/labels/train/car_83.txt  \n",
            "  inflating: /content/labels/train/car_84.txt  \n",
            "  inflating: /content/labels/train/car_85.txt  \n",
            "  inflating: /content/labels/train/car_86.txt  \n",
            "  inflating: /content/labels/train/car_87.txt  \n",
            "  inflating: /content/labels/train/car_88.txt  \n",
            "  inflating: /content/labels/train/car_89.txt  \n",
            "  inflating: /content/labels/train/car_9.txt  \n",
            "  inflating: /content/labels/train/car_90.txt  \n",
            "  inflating: /content/labels/train/car_91.txt  \n",
            "  inflating: /content/labels/train/car_92.txt  \n",
            "  inflating: /content/labels/train/car_93.txt  \n",
            "  inflating: /content/labels/train/car_94.txt  \n",
            "  inflating: /content/labels/train/car_95.txt  \n",
            "  inflating: /content/labels/train/car_96.txt  \n",
            "  inflating: /content/labels/train/car_97.txt  \n",
            "  inflating: /content/labels/train/car_98.txt  \n",
            "  inflating: /content/labels/train/car_99.txt  \n",
            "   creating: /content/labels/val/\n",
            "  inflating: /content/labels/val/car_1.txt  \n",
            "  inflating: /content/labels/val/car_10.txt  \n",
            "  inflating: /content/labels/val/car_100.txt  \n",
            "  inflating: /content/labels/val/car_101.txt  \n",
            "  inflating: /content/labels/val/car_102.txt  \n",
            "  inflating: /content/labels/val/car_103.txt  \n",
            "  inflating: /content/labels/val/car_104.txt  \n",
            "  inflating: /content/labels/val/car_105.txt  \n",
            "  inflating: /content/labels/val/car_106.txt  \n",
            "  inflating: /content/labels/val/car_107.txt  \n",
            "  inflating: /content/labels/val/car_108.txt  \n",
            "  inflating: /content/labels/val/car_109.txt  \n",
            "  inflating: /content/labels/val/car_11.txt  \n",
            "  inflating: /content/labels/val/car_110.txt  \n",
            " extracting: /content/labels/val/car_111.txt  \n",
            "  inflating: /content/labels/val/car_112.txt  \n",
            "  inflating: /content/labels/val/car_113.txt  \n",
            "  inflating: /content/labels/val/car_114.txt  \n",
            " extracting: /content/labels/val/car_115.txt  \n",
            "  inflating: /content/labels/val/car_116.txt  \n",
            "  inflating: /content/labels/val/car_117.txt  \n",
            "  inflating: /content/labels/val/car_118.txt  \n",
            "  inflating: /content/labels/val/car_119.txt  \n",
            "  inflating: /content/labels/val/car_12.txt  \n",
            "  inflating: /content/labels/val/car_120.txt  \n",
            "  inflating: /content/labels/val/car_121.txt  \n",
            "  inflating: /content/labels/val/car_122.txt  \n",
            "  inflating: /content/labels/val/car_123.txt  \n",
            "  inflating: /content/labels/val/car_124.txt  \n",
            "  inflating: /content/labels/val/car_125.txt  \n",
            "  inflating: /content/labels/val/car_126.txt  \n",
            "  inflating: /content/labels/val/car_127.txt  \n",
            "  inflating: /content/labels/val/car_128.txt  \n",
            "  inflating: /content/labels/val/car_129.txt  \n",
            "  inflating: /content/labels/val/car_13.txt  \n",
            "  inflating: /content/labels/val/car_130.txt  \n",
            "  inflating: /content/labels/val/car_131.txt  \n",
            "  inflating: /content/labels/val/car_132.txt  \n",
            "  inflating: /content/labels/val/car_133.txt  \n",
            "  inflating: /content/labels/val/car_134.txt  \n",
            "  inflating: /content/labels/val/car_135.txt  \n",
            "  inflating: /content/labels/val/car_136.txt  \n",
            "  inflating: /content/labels/val/car_137.txt  \n",
            "  inflating: /content/labels/val/car_138.txt  \n",
            "  inflating: /content/labels/val/car_139.txt  \n",
            "  inflating: /content/labels/val/car_14.txt  \n",
            "  inflating: /content/labels/val/car_140.txt  \n",
            "  inflating: /content/labels/val/car_141.txt  \n",
            "  inflating: /content/labels/val/car_142.txt  \n",
            "  inflating: /content/labels/val/car_143.txt  \n",
            "  inflating: /content/labels/val/car_144.txt  \n",
            "  inflating: /content/labels/val/car_145.txt  \n",
            "  inflating: /content/labels/val/car_146.txt  \n",
            "  inflating: /content/labels/val/car_147.txt  \n",
            "  inflating: /content/labels/val/car_148.txt  \n",
            "  inflating: /content/labels/val/car_149.txt  \n",
            "  inflating: /content/labels/val/car_15.txt  \n",
            "  inflating: /content/labels/val/car_150.txt  \n",
            "  inflating: /content/labels/val/car_151.txt  \n",
            "  inflating: /content/labels/val/car_152.txt  \n",
            "  inflating: /content/labels/val/car_153.txt  \n",
            "  inflating: /content/labels/val/car_154.txt  \n",
            "  inflating: /content/labels/val/car_155.txt  \n",
            "  inflating: /content/labels/val/car_156.txt  \n",
            "  inflating: /content/labels/val/car_157.txt  \n",
            "  inflating: /content/labels/val/car_158.txt  \n",
            "  inflating: /content/labels/val/car_159.txt  \n",
            "  inflating: /content/labels/val/car_16.txt  \n",
            "  inflating: /content/labels/val/car_160.txt  \n",
            "  inflating: /content/labels/val/car_161.txt  \n",
            "  inflating: /content/labels/val/car_162.txt  \n",
            "  inflating: /content/labels/val/car_163.txt  \n",
            "  inflating: /content/labels/val/car_164.txt  \n",
            "  inflating: /content/labels/val/car_165.txt  \n",
            "  inflating: /content/labels/val/car_166.txt  \n",
            "  inflating: /content/labels/val/car_167.txt  \n",
            "  inflating: /content/labels/val/car_168.txt  \n",
            "  inflating: /content/labels/val/car_169.txt  \n",
            "  inflating: /content/labels/val/car_17.txt  \n",
            "  inflating: /content/labels/val/car_170.txt  \n",
            "  inflating: /content/labels/val/car_171.txt  \n",
            "  inflating: /content/labels/val/car_172.txt  \n",
            "  inflating: /content/labels/val/car_173.txt  \n",
            " extracting: /content/labels/val/car_174.txt  \n",
            "  inflating: /content/labels/val/car_175.txt  \n",
            "  inflating: /content/labels/val/car_176.txt  \n",
            "  inflating: /content/labels/val/car_177.txt  \n",
            "  inflating: /content/labels/val/car_178.txt  \n",
            " extracting: /content/labels/val/car_179.txt  \n",
            "  inflating: /content/labels/val/car_18.txt  \n",
            "  inflating: /content/labels/val/car_180.txt  \n",
            "  inflating: /content/labels/val/car_181.txt  \n",
            " extracting: /content/labels/val/car_182.txt  \n",
            "  inflating: /content/labels/val/car_19.txt  \n",
            "  inflating: /content/labels/val/car_2.txt  \n",
            "  inflating: /content/labels/val/car_20.txt  \n",
            "  inflating: /content/labels/val/car_21.txt  \n",
            "  inflating: /content/labels/val/car_22.txt  \n",
            "  inflating: /content/labels/val/car_23.txt  \n",
            "  inflating: /content/labels/val/car_24.txt  \n",
            "  inflating: /content/labels/val/car_25.txt  \n",
            "  inflating: /content/labels/val/car_26.txt  \n",
            "  inflating: /content/labels/val/car_27.txt  \n",
            "  inflating: /content/labels/val/car_28.txt  \n",
            "  inflating: /content/labels/val/car_29.txt  \n",
            "  inflating: /content/labels/val/car_3.txt  \n",
            "  inflating: /content/labels/val/car_30.txt  \n",
            "  inflating: /content/labels/val/car_31.txt  \n",
            "  inflating: /content/labels/val/car_32.txt  \n",
            "  inflating: /content/labels/val/car_33.txt  \n",
            "  inflating: /content/labels/val/car_34.txt  \n",
            " extracting: /content/labels/val/car_35.txt  \n",
            "  inflating: /content/labels/val/car_36.txt  \n",
            "  inflating: /content/labels/val/car_37.txt  \n",
            "  inflating: /content/labels/val/car_38.txt  \n",
            "  inflating: /content/labels/val/car_39.txt  \n",
            "  inflating: /content/labels/val/car_4.txt  \n",
            "  inflating: /content/labels/val/car_40.txt  \n",
            "  inflating: /content/labels/val/car_41.txt  \n",
            "  inflating: /content/labels/val/car_42.txt  \n",
            "  inflating: /content/labels/val/car_43.txt  \n",
            "  inflating: /content/labels/val/car_44.txt  \n",
            " extracting: /content/labels/val/car_45.txt  \n",
            "  inflating: /content/labels/val/car_46.txt  \n",
            "  inflating: /content/labels/val/car_47.txt  \n",
            "  inflating: /content/labels/val/car_48.txt  \n",
            "  inflating: /content/labels/val/car_49.txt  \n",
            "  inflating: /content/labels/val/car_5.txt  \n",
            "  inflating: /content/labels/val/car_50.txt  \n",
            "  inflating: /content/labels/val/car_51.txt  \n",
            "  inflating: /content/labels/val/car_52.txt  \n",
            "  inflating: /content/labels/val/car_53.txt  \n",
            "  inflating: /content/labels/val/car_54.txt  \n",
            "  inflating: /content/labels/val/car_55.txt  \n",
            "  inflating: /content/labels/val/car_56.txt  \n",
            "  inflating: /content/labels/val/car_57.txt  \n",
            "  inflating: /content/labels/val/car_58.txt  \n",
            "  inflating: /content/labels/val/car_59.txt  \n",
            "  inflating: /content/labels/val/car_6.txt  \n",
            "  inflating: /content/labels/val/car_60.txt  \n",
            "  inflating: /content/labels/val/car_61.txt  \n",
            "  inflating: /content/labels/val/car_62.txt  \n",
            "  inflating: /content/labels/val/car_63.txt  \n",
            "  inflating: /content/labels/val/car_64.txt  \n",
            "  inflating: /content/labels/val/car_65.txt  \n",
            "  inflating: /content/labels/val/car_66.txt  \n",
            "  inflating: /content/labels/val/car_67.txt  \n",
            "  inflating: /content/labels/val/car_68.txt  \n",
            "  inflating: /content/labels/val/car_69.txt  \n",
            "  inflating: /content/labels/val/car_7.txt  \n",
            "  inflating: /content/labels/val/car_70.txt  \n",
            "  inflating: /content/labels/val/car_71.txt  \n",
            " extracting: /content/labels/val/car_72.txt  \n",
            "  inflating: /content/labels/val/car_73.txt  \n",
            "  inflating: /content/labels/val/car_74.txt  \n",
            "  inflating: /content/labels/val/car_75.txt  \n",
            "  inflating: /content/labels/val/car_76.txt  \n",
            "  inflating: /content/labels/val/car_77.txt  \n",
            "  inflating: /content/labels/val/car_78.txt  \n",
            "  inflating: /content/labels/val/car_79.txt  \n",
            "  inflating: /content/labels/val/car_8.txt  \n",
            "  inflating: /content/labels/val/car_80.txt  \n",
            "  inflating: /content/labels/val/car_81.txt  \n",
            "  inflating: /content/labels/val/car_82.txt  \n",
            "  inflating: /content/labels/val/car_83.txt  \n",
            "  inflating: /content/labels/val/car_84.txt  \n",
            "  inflating: /content/labels/val/car_85.txt  \n",
            "  inflating: /content/labels/val/car_86.txt  \n",
            "  inflating: /content/labels/val/car_87.txt  \n",
            " extracting: /content/labels/val/car_88.txt  \n",
            "  inflating: /content/labels/val/car_89.txt  \n",
            "  inflating: /content/labels/val/car_9.txt  \n",
            "  inflating: /content/labels/val/car_90.txt  \n",
            "  inflating: /content/labels/val/car_91.txt  \n",
            "  inflating: /content/labels/val/car_92.txt  \n",
            "  inflating: /content/labels/val/car_93.txt  \n",
            "  inflating: /content/labels/val/car_94.txt  \n",
            "  inflating: /content/labels/val/car_95.txt  \n",
            "  inflating: /content/labels/val/car_96.txt  \n",
            "  inflating: /content/labels/val/car_97.txt  \n",
            "  inflating: /content/labels/val/car_98.txt  \n",
            "  inflating: /content/labels/val/car_99.txt  \n"
          ]
        }
      ],
      "source": [
        "# Replace 'your_file.zip' with the name of your zip file\n",
        "!unzip vechileclass.zip -d /content/\n"
      ]
    },
    {
      "cell_type": "code",
      "execution_count": null,
      "metadata": {
        "colab": {
          "base_uri": "https://localhost:8080/"
        },
        "id": "JoPCz1jTSBXA",
        "outputId": "d7be5979-3cfc-4cba-a6b1-0d86fffefb9c"
      },
      "outputs": [
        {
          "name": "stdout",
          "output_type": "stream",
          "text": [
            "Collecting ultralytics\n",
            "  Downloading ultralytics-8.2.70-py3-none-any.whl.metadata (41 kB)\n",
            "\u001b[?25l     \u001b[90m━━━━━━━━━━━━━━━━━━━━━━━━━━━━━━━━━━━━━━━━\u001b[0m \u001b[32m0.0/41.3 kB\u001b[0m \u001b[31m?\u001b[0m eta \u001b[36m-:--:--\u001b[0m\r\u001b[2K     \u001b[90m━━━━━━━━━━━━━━━━━━━━━━━━━━━━━━━━━━━━━━━━\u001b[0m \u001b[32m41.3/41.3 kB\u001b[0m \u001b[31m3.7 MB/s\u001b[0m eta \u001b[36m0:00:00\u001b[0m\n",
            "\u001b[?25hRequirement already satisfied: numpy<2.0.0,>=1.23.0 in /usr/local/lib/python3.10/dist-packages (from ultralytics) (1.26.4)\n",
            "Requirement already satisfied: matplotlib>=3.3.0 in /usr/local/lib/python3.10/dist-packages (from ultralytics) (3.7.1)\n",
            "Requirement already satisfied: opencv-python>=4.6.0 in /usr/local/lib/python3.10/dist-packages (from ultralytics) (4.10.0.84)\n",
            "Requirement already satisfied: pillow>=7.1.2 in /usr/local/lib/python3.10/dist-packages (from ultralytics) (9.4.0)\n",
            "Requirement already satisfied: pyyaml>=5.3.1 in /usr/local/lib/python3.10/dist-packages (from ultralytics) (6.0.1)\n",
            "Requirement already satisfied: requests>=2.23.0 in /usr/local/lib/python3.10/dist-packages (from ultralytics) (2.31.0)\n",
            "Requirement already satisfied: scipy>=1.4.1 in /usr/local/lib/python3.10/dist-packages (from ultralytics) (1.13.1)\n",
            "Requirement already satisfied: torch>=1.8.0 in /usr/local/lib/python3.10/dist-packages (from ultralytics) (2.3.1+cu121)\n",
            "Requirement already satisfied: torchvision>=0.9.0 in /usr/local/lib/python3.10/dist-packages (from ultralytics) (0.18.1+cu121)\n",
            "Requirement already satisfied: tqdm>=4.64.0 in /usr/local/lib/python3.10/dist-packages (from ultralytics) (4.66.4)\n",
            "Requirement already satisfied: psutil in /usr/local/lib/python3.10/dist-packages (from ultralytics) (5.9.5)\n",
            "Requirement already satisfied: py-cpuinfo in /usr/local/lib/python3.10/dist-packages (from ultralytics) (9.0.0)\n",
            "Requirement already satisfied: pandas>=1.1.4 in /usr/local/lib/python3.10/dist-packages (from ultralytics) (2.1.4)\n",
            "Requirement already satisfied: seaborn>=0.11.0 in /usr/local/lib/python3.10/dist-packages (from ultralytics) (0.13.1)\n",
            "Collecting ultralytics-thop>=2.0.0 (from ultralytics)\n",
            "  Downloading ultralytics_thop-2.0.0-py3-none-any.whl.metadata (8.5 kB)\n",
            "Requirement already satisfied: contourpy>=1.0.1 in /usr/local/lib/python3.10/dist-packages (from matplotlib>=3.3.0->ultralytics) (1.2.1)\n",
            "Requirement already satisfied: cycler>=0.10 in /usr/local/lib/python3.10/dist-packages (from matplotlib>=3.3.0->ultralytics) (0.12.1)\n",
            "Requirement already satisfied: fonttools>=4.22.0 in /usr/local/lib/python3.10/dist-packages (from matplotlib>=3.3.0->ultralytics) (4.53.1)\n",
            "Requirement already satisfied: kiwisolver>=1.0.1 in /usr/local/lib/python3.10/dist-packages (from matplotlib>=3.3.0->ultralytics) (1.4.5)\n",
            "Requirement already satisfied: packaging>=20.0 in /usr/local/lib/python3.10/dist-packages (from matplotlib>=3.3.0->ultralytics) (24.1)\n",
            "Requirement already satisfied: pyparsing>=2.3.1 in /usr/local/lib/python3.10/dist-packages (from matplotlib>=3.3.0->ultralytics) (3.1.2)\n",
            "Requirement already satisfied: python-dateutil>=2.7 in /usr/local/lib/python3.10/dist-packages (from matplotlib>=3.3.0->ultralytics) (2.8.2)\n",
            "Requirement already satisfied: pytz>=2020.1 in /usr/local/lib/python3.10/dist-packages (from pandas>=1.1.4->ultralytics) (2024.1)\n",
            "Requirement already satisfied: tzdata>=2022.1 in /usr/local/lib/python3.10/dist-packages (from pandas>=1.1.4->ultralytics) (2024.1)\n",
            "Requirement already satisfied: charset-normalizer<4,>=2 in /usr/local/lib/python3.10/dist-packages (from requests>=2.23.0->ultralytics) (3.3.2)\n",
            "Requirement already satisfied: idna<4,>=2.5 in /usr/local/lib/python3.10/dist-packages (from requests>=2.23.0->ultralytics) (3.7)\n",
            "Requirement already satisfied: urllib3<3,>=1.21.1 in /usr/local/lib/python3.10/dist-packages (from requests>=2.23.0->ultralytics) (2.0.7)\n",
            "Requirement already satisfied: certifi>=2017.4.17 in /usr/local/lib/python3.10/dist-packages (from requests>=2.23.0->ultralytics) (2024.7.4)\n",
            "Requirement already satisfied: filelock in /usr/local/lib/python3.10/dist-packages (from torch>=1.8.0->ultralytics) (3.15.4)\n",
            "Requirement already satisfied: typing-extensions>=4.8.0 in /usr/local/lib/python3.10/dist-packages (from torch>=1.8.0->ultralytics) (4.12.2)\n",
            "Requirement already satisfied: sympy in /usr/local/lib/python3.10/dist-packages (from torch>=1.8.0->ultralytics) (1.13.1)\n",
            "Requirement already satisfied: networkx in /usr/local/lib/python3.10/dist-packages (from torch>=1.8.0->ultralytics) (3.3)\n",
            "Requirement already satisfied: jinja2 in /usr/local/lib/python3.10/dist-packages (from torch>=1.8.0->ultralytics) (3.1.4)\n",
            "Requirement already satisfied: fsspec in /usr/local/lib/python3.10/dist-packages (from torch>=1.8.0->ultralytics) (2024.6.1)\n",
            "Collecting nvidia-cuda-nvrtc-cu12==12.1.105 (from torch>=1.8.0->ultralytics)\n",
            "  Using cached nvidia_cuda_nvrtc_cu12-12.1.105-py3-none-manylinux1_x86_64.whl.metadata (1.5 kB)\n",
            "Collecting nvidia-cuda-runtime-cu12==12.1.105 (from torch>=1.8.0->ultralytics)\n",
            "  Using cached nvidia_cuda_runtime_cu12-12.1.105-py3-none-manylinux1_x86_64.whl.metadata (1.5 kB)\n",
            "Collecting nvidia-cuda-cupti-cu12==12.1.105 (from torch>=1.8.0->ultralytics)\n",
            "  Using cached nvidia_cuda_cupti_cu12-12.1.105-py3-none-manylinux1_x86_64.whl.metadata (1.6 kB)\n",
            "Collecting nvidia-cudnn-cu12==8.9.2.26 (from torch>=1.8.0->ultralytics)\n",
            "  Using cached nvidia_cudnn_cu12-8.9.2.26-py3-none-manylinux1_x86_64.whl.metadata (1.6 kB)\n",
            "Collecting nvidia-cublas-cu12==12.1.3.1 (from torch>=1.8.0->ultralytics)\n",
            "  Using cached nvidia_cublas_cu12-12.1.3.1-py3-none-manylinux1_x86_64.whl.metadata (1.5 kB)\n",
            "Collecting nvidia-cufft-cu12==11.0.2.54 (from torch>=1.8.0->ultralytics)\n",
            "  Using cached nvidia_cufft_cu12-11.0.2.54-py3-none-manylinux1_x86_64.whl.metadata (1.5 kB)\n",
            "Collecting nvidia-curand-cu12==10.3.2.106 (from torch>=1.8.0->ultralytics)\n",
            "  Using cached nvidia_curand_cu12-10.3.2.106-py3-none-manylinux1_x86_64.whl.metadata (1.5 kB)\n",
            "Collecting nvidia-cusolver-cu12==11.4.5.107 (from torch>=1.8.0->ultralytics)\n",
            "  Using cached nvidia_cusolver_cu12-11.4.5.107-py3-none-manylinux1_x86_64.whl.metadata (1.6 kB)\n",
            "Collecting nvidia-cusparse-cu12==12.1.0.106 (from torch>=1.8.0->ultralytics)\n",
            "  Using cached nvidia_cusparse_cu12-12.1.0.106-py3-none-manylinux1_x86_64.whl.metadata (1.6 kB)\n",
            "Collecting nvidia-nccl-cu12==2.20.5 (from torch>=1.8.0->ultralytics)\n",
            "  Using cached nvidia_nccl_cu12-2.20.5-py3-none-manylinux2014_x86_64.whl.metadata (1.8 kB)\n",
            "Collecting nvidia-nvtx-cu12==12.1.105 (from torch>=1.8.0->ultralytics)\n",
            "  Using cached nvidia_nvtx_cu12-12.1.105-py3-none-manylinux1_x86_64.whl.metadata (1.7 kB)\n",
            "Requirement already satisfied: triton==2.3.1 in /usr/local/lib/python3.10/dist-packages (from torch>=1.8.0->ultralytics) (2.3.1)\n",
            "Collecting nvidia-nvjitlink-cu12 (from nvidia-cusolver-cu12==11.4.5.107->torch>=1.8.0->ultralytics)\n",
            "  Downloading nvidia_nvjitlink_cu12-12.5.82-py3-none-manylinux2014_x86_64.whl.metadata (1.5 kB)\n",
            "Requirement already satisfied: six>=1.5 in /usr/local/lib/python3.10/dist-packages (from python-dateutil>=2.7->matplotlib>=3.3.0->ultralytics) (1.16.0)\n",
            "Requirement already satisfied: MarkupSafe>=2.0 in /usr/local/lib/python3.10/dist-packages (from jinja2->torch>=1.8.0->ultralytics) (2.1.5)\n",
            "Requirement already satisfied: mpmath<1.4,>=1.1.0 in /usr/local/lib/python3.10/dist-packages (from sympy->torch>=1.8.0->ultralytics) (1.3.0)\n",
            "Downloading ultralytics-8.2.70-py3-none-any.whl (862 kB)\n",
            "\u001b[2K   \u001b[90m━━━━━━━━━━━━━━━━━━━━━━━━━━━━━━━━━━━━━━━━\u001b[0m \u001b[32m862.6/862.6 kB\u001b[0m \u001b[31m54.9 MB/s\u001b[0m eta \u001b[36m0:00:00\u001b[0m\n",
            "\u001b[?25hUsing cached nvidia_cublas_cu12-12.1.3.1-py3-none-manylinux1_x86_64.whl (410.6 MB)\n",
            "Using cached nvidia_cuda_cupti_cu12-12.1.105-py3-none-manylinux1_x86_64.whl (14.1 MB)\n",
            "Using cached nvidia_cuda_nvrtc_cu12-12.1.105-py3-none-manylinux1_x86_64.whl (23.7 MB)\n",
            "Using cached nvidia_cuda_runtime_cu12-12.1.105-py3-none-manylinux1_x86_64.whl (823 kB)\n",
            "Using cached nvidia_cudnn_cu12-8.9.2.26-py3-none-manylinux1_x86_64.whl (731.7 MB)\n",
            "Using cached nvidia_cufft_cu12-11.0.2.54-py3-none-manylinux1_x86_64.whl (121.6 MB)\n",
            "Using cached nvidia_curand_cu12-10.3.2.106-py3-none-manylinux1_x86_64.whl (56.5 MB)\n",
            "Using cached nvidia_cusolver_cu12-11.4.5.107-py3-none-manylinux1_x86_64.whl (124.2 MB)\n",
            "Using cached nvidia_cusparse_cu12-12.1.0.106-py3-none-manylinux1_x86_64.whl (196.0 MB)\n",
            "Using cached nvidia_nccl_cu12-2.20.5-py3-none-manylinux2014_x86_64.whl (176.2 MB)\n",
            "Using cached nvidia_nvtx_cu12-12.1.105-py3-none-manylinux1_x86_64.whl (99 kB)\n",
            "Downloading ultralytics_thop-2.0.0-py3-none-any.whl (25 kB)\n",
            "Downloading nvidia_nvjitlink_cu12-12.5.82-py3-none-manylinux2014_x86_64.whl (21.3 MB)\n",
            "\u001b[2K   \u001b[90m━━━━━━━━━━━━━━━━━━━━━━━━━━━━━━━━━━━━━━━━\u001b[0m \u001b[32m21.3/21.3 MB\u001b[0m \u001b[31m39.5 MB/s\u001b[0m eta \u001b[36m0:00:00\u001b[0m\n",
            "\u001b[?25hInstalling collected packages: nvidia-nvtx-cu12, nvidia-nvjitlink-cu12, nvidia-nccl-cu12, nvidia-curand-cu12, nvidia-cufft-cu12, nvidia-cuda-runtime-cu12, nvidia-cuda-nvrtc-cu12, nvidia-cuda-cupti-cu12, nvidia-cublas-cu12, nvidia-cusparse-cu12, nvidia-cudnn-cu12, nvidia-cusolver-cu12, ultralytics-thop, ultralytics\n",
            "Successfully installed nvidia-cublas-cu12-12.1.3.1 nvidia-cuda-cupti-cu12-12.1.105 nvidia-cuda-nvrtc-cu12-12.1.105 nvidia-cuda-runtime-cu12-12.1.105 nvidia-cudnn-cu12-8.9.2.26 nvidia-cufft-cu12-11.0.2.54 nvidia-curand-cu12-10.3.2.106 nvidia-cusolver-cu12-11.4.5.107 nvidia-cusparse-cu12-12.1.0.106 nvidia-nccl-cu12-2.20.5 nvidia-nvjitlink-cu12-12.5.82 nvidia-nvtx-cu12-12.1.105 ultralytics-8.2.70 ultralytics-thop-2.0.0\n"
          ]
        }
      ],
      "source": [
        "pip install ultralytics"
      ]
    },
    {
      "cell_type": "code",
      "execution_count": null,
      "metadata": {
        "colab": {
          "base_uri": "https://localhost:8080/"
        },
        "id": "84TVDtNFSLYw",
        "outputId": "c5ea98af-16b8-42f8-e520-28abf9b90b23"
      },
      "outputs": [
        {
          "name": "stdout",
          "output_type": "stream",
          "text": [
            "Downloading https://github.com/ultralytics/assets/releases/download/v8.2.0/yolov8n.pt to 'yolov8n.pt'...\n"
          ]
        },
        {
          "name": "stderr",
          "output_type": "stream",
          "text": [
            "100%|██████████| 6.25M/6.25M [00:00<00:00, 299MB/s]\n"
          ]
        },
        {
          "name": "stdout",
          "output_type": "stream",
          "text": [
            "Ultralytics YOLOv8.2.70 🚀 Python-3.10.12 torch-2.3.1+cu121 CUDA:0 (Tesla T4, 15102MiB)\n",
            "\u001b[34m\u001b[1mengine/trainer: \u001b[0mtask=detect, mode=train, model=yolov8n.pt, data=data.yaml, epochs=100, time=None, patience=100, batch=16, imgsz=640, save=True, save_period=-1, cache=False, device=None, workers=8, project=None, name=train, exist_ok=False, pretrained=True, optimizer=auto, verbose=True, seed=0, deterministic=True, single_cls=False, rect=False, cos_lr=False, close_mosaic=10, resume=False, amp=True, fraction=1.0, profile=False, freeze=None, multi_scale=False, overlap_mask=True, mask_ratio=4, dropout=0.0, val=True, split=val, save_json=False, save_hybrid=False, conf=None, iou=0.7, max_det=300, half=False, dnn=False, plots=True, source=None, vid_stride=1, stream_buffer=False, visualize=False, augment=False, agnostic_nms=False, classes=None, retina_masks=False, embed=None, show=False, save_frames=False, save_txt=False, save_conf=False, save_crop=False, show_labels=True, show_conf=True, show_boxes=True, line_width=None, format=torchscript, keras=False, optimize=False, int8=False, dynamic=False, simplify=False, opset=None, workspace=4, nms=False, lr0=0.01, lrf=0.01, momentum=0.937, weight_decay=0.0005, warmup_epochs=3.0, warmup_momentum=0.8, warmup_bias_lr=0.1, box=7.5, cls=0.5, dfl=1.5, pose=12.0, kobj=1.0, label_smoothing=0.0, nbs=64, hsv_h=0.015, hsv_s=0.7, hsv_v=0.4, degrees=0.0, translate=0.1, scale=0.5, shear=0.0, perspective=0.0, flipud=0.0, fliplr=0.5, bgr=0.0, mosaic=1.0, mixup=0.0, copy_paste=0.0, auto_augment=randaugment, erasing=0.4, crop_fraction=1.0, cfg=None, tracker=botsort.yaml, save_dir=runs/detect/train\n",
            "Downloading https://ultralytics.com/assets/Arial.ttf to '/root/.config/Ultralytics/Arial.ttf'...\n"
          ]
        },
        {
          "name": "stderr",
          "output_type": "stream",
          "text": [
            "100%|██████████| 755k/755k [00:00<00:00, 91.7MB/s]\n"
          ]
        },
        {
          "name": "stdout",
          "output_type": "stream",
          "text": [
            "Overriding model.yaml nc=80 with nc=1\n",
            "\n",
            "                   from  n    params  module                                       arguments                     \n",
            "  0                  -1  1       464  ultralytics.nn.modules.conv.Conv             [3, 16, 3, 2]                 \n",
            "  1                  -1  1      4672  ultralytics.nn.modules.conv.Conv             [16, 32, 3, 2]                \n",
            "  2                  -1  1      7360  ultralytics.nn.modules.block.C2f             [32, 32, 1, True]             \n",
            "  3                  -1  1     18560  ultralytics.nn.modules.conv.Conv             [32, 64, 3, 2]                \n",
            "  4                  -1  2     49664  ultralytics.nn.modules.block.C2f             [64, 64, 2, True]             \n",
            "  5                  -1  1     73984  ultralytics.nn.modules.conv.Conv             [64, 128, 3, 2]               \n",
            "  6                  -1  2    197632  ultralytics.nn.modules.block.C2f             [128, 128, 2, True]           \n",
            "  7                  -1  1    295424  ultralytics.nn.modules.conv.Conv             [128, 256, 3, 2]              \n",
            "  8                  -1  1    460288  ultralytics.nn.modules.block.C2f             [256, 256, 1, True]           \n",
            "  9                  -1  1    164608  ultralytics.nn.modules.block.SPPF            [256, 256, 5]                 \n",
            " 10                  -1  1         0  torch.nn.modules.upsampling.Upsample         [None, 2, 'nearest']          \n",
            " 11             [-1, 6]  1         0  ultralytics.nn.modules.conv.Concat           [1]                           \n",
            " 12                  -1  1    148224  ultralytics.nn.modules.block.C2f             [384, 128, 1]                 \n",
            " 13                  -1  1         0  torch.nn.modules.upsampling.Upsample         [None, 2, 'nearest']          \n",
            " 14             [-1, 4]  1         0  ultralytics.nn.modules.conv.Concat           [1]                           \n",
            " 15                  -1  1     37248  ultralytics.nn.modules.block.C2f             [192, 64, 1]                  \n",
            " 16                  -1  1     36992  ultralytics.nn.modules.conv.Conv             [64, 64, 3, 2]                \n",
            " 17            [-1, 12]  1         0  ultralytics.nn.modules.conv.Concat           [1]                           \n",
            " 18                  -1  1    123648  ultralytics.nn.modules.block.C2f             [192, 128, 1]                 \n",
            " 19                  -1  1    147712  ultralytics.nn.modules.conv.Conv             [128, 128, 3, 2]              \n",
            " 20             [-1, 9]  1         0  ultralytics.nn.modules.conv.Concat           [1]                           \n",
            " 21                  -1  1    493056  ultralytics.nn.modules.block.C2f             [384, 256, 1]                 \n",
            " 22        [15, 18, 21]  1    751507  ultralytics.nn.modules.head.Detect           [1, [64, 128, 256]]           \n",
            "Model summary: 225 layers, 3,011,043 parameters, 3,011,027 gradients, 8.2 GFLOPs\n",
            "\n",
            "Transferred 319/355 items from pretrained weights\n",
            "\u001b[34m\u001b[1mTensorBoard: \u001b[0mStart with 'tensorboard --logdir runs/detect/train', view at http://localhost:6006/\n",
            "Freezing layer 'model.22.dfl.conv.weight'\n",
            "\u001b[34m\u001b[1mAMP: \u001b[0mrunning Automatic Mixed Precision (AMP) checks with YOLOv8n...\n",
            "\u001b[34m\u001b[1mAMP: \u001b[0mchecks passed ✅\n"
          ]
        },
        {
          "name": "stderr",
          "output_type": "stream",
          "text": [
            "\u001b[34m\u001b[1mtrain: \u001b[0mScanning /content/labels/train... 640 images, 1 backgrounds, 0 corrupt: 100%|██████████| 640/640 [00:00<00:00, 1971.80it/s]"
          ]
        },
        {
          "name": "stdout",
          "output_type": "stream",
          "text": [
            "\u001b[34m\u001b[1mtrain: \u001b[0mNew cache created: /content/labels/train.cache\n",
            "WARNING ⚠️ Box and segment counts should be equal, but got len(segments) = 58, len(boxes) = 650. To resolve this only boxes will be used and all segments will be removed. To avoid this please supply either a detect or segment dataset, not a detect-segment mixed dataset.\n"
          ]
        },
        {
          "name": "stderr",
          "output_type": "stream",
          "text": [
            "\n"
          ]
        },
        {
          "name": "stdout",
          "output_type": "stream",
          "text": [
            "\u001b[34m\u001b[1malbumentations: \u001b[0mBlur(p=0.01, blur_limit=(3, 7)), MedianBlur(p=0.01, blur_limit=(3, 7)), ToGray(p=0.01), CLAHE(p=0.01, clip_limit=(1, 4.0), tile_grid_size=(8, 8))\n"
          ]
        },
        {
          "name": "stderr",
          "output_type": "stream",
          "text": [
            "/usr/lib/python3.10/multiprocessing/popen_fork.py:66: RuntimeWarning: os.fork() was called. os.fork() is incompatible with multithreaded code, and JAX is multithreaded, so this will likely lead to a deadlock.\n",
            "  self.pid = os.fork()\n",
            "\u001b[34m\u001b[1mval: \u001b[0mScanning /content/labels/val... 182 images, 1 backgrounds, 0 corrupt: 100%|██████████| 182/182 [00:00<00:00, 677.72it/s]"
          ]
        },
        {
          "name": "stdout",
          "output_type": "stream",
          "text": [
            "\u001b[34m\u001b[1mval: \u001b[0mNew cache created: /content/labels/val.cache\n"
          ]
        },
        {
          "name": "stderr",
          "output_type": "stream",
          "text": [
            "\n"
          ]
        },
        {
          "name": "stdout",
          "output_type": "stream",
          "text": [
            "WARNING ⚠️ Box and segment counts should be equal, but got len(segments) = 17, len(boxes) = 185. To resolve this only boxes will be used and all segments will be removed. To avoid this please supply either a detect or segment dataset, not a detect-segment mixed dataset.\n",
            "Plotting labels to runs/detect/train/labels.jpg... \n",
            "\u001b[34m\u001b[1moptimizer:\u001b[0m 'optimizer=auto' found, ignoring 'lr0=0.01' and 'momentum=0.937' and determining best 'optimizer', 'lr0' and 'momentum' automatically... \n",
            "\u001b[34m\u001b[1moptimizer:\u001b[0m AdamW(lr=0.002, momentum=0.9) with parameter groups 57 weight(decay=0.0), 64 weight(decay=0.0005), 63 bias(decay=0.0)\n",
            "\u001b[34m\u001b[1mTensorBoard: \u001b[0mmodel graph visualization added ✅\n",
            "Image sizes 640 train, 640 val\n",
            "Using 2 dataloader workers\n",
            "Logging results to \u001b[1mruns/detect/train\u001b[0m\n",
            "Starting training for 100 epochs...\n",
            "\n",
            "      Epoch    GPU_mem   box_loss   cls_loss   dfl_loss  Instances       Size\n"
          ]
        },
        {
          "name": "stderr",
          "output_type": "stream",
          "text": [
            "      1/100      2.57G      1.346      2.711      1.215         23        640: 100%|██████████| 40/40 [00:16<00:00,  2.49it/s]\n",
            "                 Class     Images  Instances      Box(P          R      mAP50  mAP50-95): 100%|██████████| 6/6 [00:03<00:00,  1.80it/s]"
          ]
        },
        {
          "name": "stdout",
          "output_type": "stream",
          "text": [
            "                   all        182        185    0.00333      0.984      0.692      0.341\n"
          ]
        },
        {
          "name": "stderr",
          "output_type": "stream",
          "text": [
            "\n"
          ]
        },
        {
          "name": "stdout",
          "output_type": "stream",
          "text": [
            "\n",
            "      Epoch    GPU_mem   box_loss   cls_loss   dfl_loss  Instances       Size\n"
          ]
        },
        {
          "name": "stderr",
          "output_type": "stream",
          "text": [
            "      2/100      2.25G      1.176      1.557      1.069         19        640: 100%|██████████| 40/40 [00:13<00:00,  2.87it/s]\n",
            "                 Class     Images  Instances      Box(P          R      mAP50  mAP50-95): 100%|██████████| 6/6 [00:01<00:00,  3.16it/s]\n"
          ]
        },
        {
          "name": "stdout",
          "output_type": "stream",
          "text": [
            "                   all        182        185      0.352      0.508      0.406      0.254\n",
            "\n",
            "      Epoch    GPU_mem   box_loss   cls_loss   dfl_loss  Instances       Size\n"
          ]
        },
        {
          "name": "stderr",
          "output_type": "stream",
          "text": [
            "      3/100      2.24G      1.197       1.35      1.099         35        640: 100%|██████████| 40/40 [00:14<00:00,  2.77it/s]\n",
            "                 Class     Images  Instances      Box(P          R      mAP50  mAP50-95): 100%|██████████| 6/6 [00:01<00:00,  3.35it/s]"
          ]
        },
        {
          "name": "stdout",
          "output_type": "stream",
          "text": [
            "                   all        182        185      0.925      0.928      0.954      0.594\n"
          ]
        },
        {
          "name": "stderr",
          "output_type": "stream",
          "text": [
            "\n"
          ]
        },
        {
          "name": "stdout",
          "output_type": "stream",
          "text": [
            "\n",
            "      Epoch    GPU_mem   box_loss   cls_loss   dfl_loss  Instances       Size\n"
          ]
        },
        {
          "name": "stderr",
          "output_type": "stream",
          "text": [
            "      4/100      2.24G      1.194      1.155      1.087         25        640: 100%|██████████| 40/40 [00:13<00:00,  2.86it/s]\n",
            "                 Class     Images  Instances      Box(P          R      mAP50  mAP50-95): 100%|██████████| 6/6 [00:01<00:00,  3.34it/s]\n"
          ]
        },
        {
          "name": "stdout",
          "output_type": "stream",
          "text": [
            "                   all        182        185      0.937      0.892      0.942      0.567\n",
            "\n",
            "      Epoch    GPU_mem   box_loss   cls_loss   dfl_loss  Instances       Size\n"
          ]
        },
        {
          "name": "stderr",
          "output_type": "stream",
          "text": [
            "      5/100      2.24G      1.155      1.002      1.068         27        640: 100%|██████████| 40/40 [00:12<00:00,  3.32it/s]\n",
            "                 Class     Images  Instances      Box(P          R      mAP50  mAP50-95): 100%|██████████| 6/6 [00:03<00:00,  1.85it/s]"
          ]
        },
        {
          "name": "stdout",
          "output_type": "stream",
          "text": [
            "                   all        182        185      0.978      0.946      0.957      0.649\n"
          ]
        },
        {
          "name": "stderr",
          "output_type": "stream",
          "text": [
            "\n"
          ]
        },
        {
          "name": "stdout",
          "output_type": "stream",
          "text": [
            "\n",
            "      Epoch    GPU_mem   box_loss   cls_loss   dfl_loss  Instances       Size\n"
          ]
        },
        {
          "name": "stderr",
          "output_type": "stream",
          "text": [
            "      6/100      2.24G      1.148      0.926      1.059         29        640: 100%|██████████| 40/40 [00:10<00:00,  3.99it/s]\n",
            "                 Class     Images  Instances      Box(P          R      mAP50  mAP50-95): 100%|██████████| 6/6 [00:03<00:00,  1.92it/s]"
          ]
        },
        {
          "name": "stdout",
          "output_type": "stream",
          "text": [
            "                   all        182        185      0.977      0.901      0.962      0.626\n"
          ]
        },
        {
          "name": "stderr",
          "output_type": "stream",
          "text": [
            "\n"
          ]
        },
        {
          "name": "stdout",
          "output_type": "stream",
          "text": [
            "\n",
            "      Epoch    GPU_mem   box_loss   cls_loss   dfl_loss  Instances       Size\n"
          ]
        },
        {
          "name": "stderr",
          "output_type": "stream",
          "text": [
            "      7/100      2.24G      1.134     0.8644      1.081         28        640: 100%|██████████| 40/40 [00:10<00:00,  3.69it/s]\n",
            "                 Class     Images  Instances      Box(P          R      mAP50  mAP50-95): 100%|██████████| 6/6 [00:02<00:00,  2.73it/s]"
          ]
        },
        {
          "name": "stdout",
          "output_type": "stream",
          "text": [
            "                   all        182        185      0.978      0.924      0.961      0.661\n"
          ]
        },
        {
          "name": "stderr",
          "output_type": "stream",
          "text": [
            "\n"
          ]
        },
        {
          "name": "stdout",
          "output_type": "stream",
          "text": [
            "\n",
            "      Epoch    GPU_mem   box_loss   cls_loss   dfl_loss  Instances       Size\n"
          ]
        },
        {
          "name": "stderr",
          "output_type": "stream",
          "text": [
            "      8/100      2.24G      1.117     0.8017      1.063         29        640: 100%|██████████| 40/40 [00:12<00:00,  3.20it/s]\n",
            "                 Class     Images  Instances      Box(P          R      mAP50  mAP50-95): 100%|██████████| 6/6 [00:01<00:00,  3.29it/s]"
          ]
        },
        {
          "name": "stdout",
          "output_type": "stream",
          "text": [
            "                   all        182        185      0.972      0.931      0.956      0.665\n"
          ]
        },
        {
          "name": "stderr",
          "output_type": "stream",
          "text": [
            "\n"
          ]
        },
        {
          "name": "stdout",
          "output_type": "stream",
          "text": [
            "\n",
            "      Epoch    GPU_mem   box_loss   cls_loss   dfl_loss  Instances       Size\n"
          ]
        },
        {
          "name": "stderr",
          "output_type": "stream",
          "text": [
            "      9/100      2.24G      1.082      0.775      1.055         28        640: 100%|██████████| 40/40 [00:13<00:00,  2.96it/s]\n",
            "                 Class     Images  Instances      Box(P          R      mAP50  mAP50-95): 100%|██████████| 6/6 [00:01<00:00,  3.56it/s]"
          ]
        },
        {
          "name": "stdout",
          "output_type": "stream",
          "text": [
            "                   all        182        185      0.969      0.946      0.967      0.661\n"
          ]
        },
        {
          "name": "stderr",
          "output_type": "stream",
          "text": [
            "\n"
          ]
        },
        {
          "name": "stdout",
          "output_type": "stream",
          "text": [
            "\n",
            "      Epoch    GPU_mem   box_loss   cls_loss   dfl_loss  Instances       Size\n"
          ]
        },
        {
          "name": "stderr",
          "output_type": "stream",
          "text": [
            "     10/100      2.24G      1.111     0.7372      1.056         21        640: 100%|██████████| 40/40 [00:13<00:00,  2.92it/s]\n",
            "                 Class     Images  Instances      Box(P          R      mAP50  mAP50-95): 100%|██████████| 6/6 [00:01<00:00,  3.86it/s]\n"
          ]
        },
        {
          "name": "stdout",
          "output_type": "stream",
          "text": [
            "                   all        182        185      0.973      0.959      0.978      0.661\n",
            "\n",
            "      Epoch    GPU_mem   box_loss   cls_loss   dfl_loss  Instances       Size\n"
          ]
        },
        {
          "name": "stderr",
          "output_type": "stream",
          "text": [
            "     11/100      2.24G      1.074     0.7175      1.039         16        640: 100%|██████████| 40/40 [00:12<00:00,  3.13it/s]\n",
            "                 Class     Images  Instances      Box(P          R      mAP50  mAP50-95): 100%|██████████| 6/6 [00:02<00:00,  2.84it/s]"
          ]
        },
        {
          "name": "stdout",
          "output_type": "stream",
          "text": [
            "                   all        182        185      0.946      0.941      0.968      0.654\n"
          ]
        },
        {
          "name": "stderr",
          "output_type": "stream",
          "text": [
            "\n"
          ]
        },
        {
          "name": "stdout",
          "output_type": "stream",
          "text": [
            "\n",
            "      Epoch    GPU_mem   box_loss   cls_loss   dfl_loss  Instances       Size\n"
          ]
        },
        {
          "name": "stderr",
          "output_type": "stream",
          "text": [
            "     12/100      2.24G       1.02     0.6816      1.021         24        640: 100%|██████████| 40/40 [00:10<00:00,  3.78it/s]\n",
            "                 Class     Images  Instances      Box(P          R      mAP50  mAP50-95): 100%|██████████| 6/6 [00:03<00:00,  1.98it/s]"
          ]
        },
        {
          "name": "stdout",
          "output_type": "stream",
          "text": [
            "                   all        182        185      0.983      0.957      0.975      0.688\n"
          ]
        },
        {
          "name": "stderr",
          "output_type": "stream",
          "text": [
            "\n"
          ]
        },
        {
          "name": "stdout",
          "output_type": "stream",
          "text": [
            "\n",
            "      Epoch    GPU_mem   box_loss   cls_loss   dfl_loss  Instances       Size\n"
          ]
        },
        {
          "name": "stderr",
          "output_type": "stream",
          "text": [
            "     13/100      2.24G      1.028     0.6769       1.03         20        640: 100%|██████████| 40/40 [00:10<00:00,  3.94it/s]\n",
            "                 Class     Images  Instances      Box(P          R      mAP50  mAP50-95): 100%|██████████| 6/6 [00:02<00:00,  2.65it/s]"
          ]
        },
        {
          "name": "stdout",
          "output_type": "stream",
          "text": [
            "                   all        182        185      0.969      0.951      0.973      0.677\n"
          ]
        },
        {
          "name": "stderr",
          "output_type": "stream",
          "text": [
            "\n"
          ]
        },
        {
          "name": "stdout",
          "output_type": "stream",
          "text": [
            "\n",
            "      Epoch    GPU_mem   box_loss   cls_loss   dfl_loss  Instances       Size\n"
          ]
        },
        {
          "name": "stderr",
          "output_type": "stream",
          "text": [
            "     14/100      2.24G      1.024     0.6581      1.024         28        640: 100%|██████████| 40/40 [00:12<00:00,  3.31it/s]\n",
            "                 Class     Images  Instances      Box(P          R      mAP50  mAP50-95): 100%|██████████| 6/6 [00:01<00:00,  3.71it/s]"
          ]
        },
        {
          "name": "stdout",
          "output_type": "stream",
          "text": [
            "                   all        182        185      0.969      0.957      0.969      0.699\n"
          ]
        },
        {
          "name": "stderr",
          "output_type": "stream",
          "text": [
            "\n"
          ]
        },
        {
          "name": "stdout",
          "output_type": "stream",
          "text": [
            "\n",
            "      Epoch    GPU_mem   box_loss   cls_loss   dfl_loss  Instances       Size\n"
          ]
        },
        {
          "name": "stderr",
          "output_type": "stream",
          "text": [
            "     15/100      2.24G      1.012     0.6612      1.031         22        640: 100%|██████████| 40/40 [00:13<00:00,  2.94it/s]\n",
            "                 Class     Images  Instances      Box(P          R      mAP50  mAP50-95): 100%|██████████| 6/6 [00:01<00:00,  3.82it/s]\n"
          ]
        },
        {
          "name": "stdout",
          "output_type": "stream",
          "text": [
            "                   all        182        185      0.989      0.952      0.975      0.671\n",
            "\n",
            "      Epoch    GPU_mem   box_loss   cls_loss   dfl_loss  Instances       Size\n"
          ]
        },
        {
          "name": "stderr",
          "output_type": "stream",
          "text": [
            "     16/100      2.25G      1.026     0.6392      1.027         21        640: 100%|██████████| 40/40 [00:13<00:00,  2.91it/s]\n",
            "                 Class     Images  Instances      Box(P          R      mAP50  mAP50-95): 100%|██████████| 6/6 [00:01<00:00,  3.53it/s]"
          ]
        },
        {
          "name": "stdout",
          "output_type": "stream",
          "text": [
            "                   all        182        185      0.959      0.957      0.972      0.674\n"
          ]
        },
        {
          "name": "stderr",
          "output_type": "stream",
          "text": [
            "\n"
          ]
        },
        {
          "name": "stdout",
          "output_type": "stream",
          "text": [
            "\n",
            "      Epoch    GPU_mem   box_loss   cls_loss   dfl_loss  Instances       Size\n"
          ]
        },
        {
          "name": "stderr",
          "output_type": "stream",
          "text": [
            "     17/100      2.24G      0.973     0.5971       1.01         22        640: 100%|██████████| 40/40 [00:13<00:00,  3.04it/s]\n",
            "                 Class     Images  Instances      Box(P          R      mAP50  mAP50-95): 100%|██████████| 6/6 [00:02<00:00,  2.56it/s]\n"
          ]
        },
        {
          "name": "stdout",
          "output_type": "stream",
          "text": [
            "                   all        182        185      0.973      0.964      0.971      0.698\n",
            "\n",
            "      Epoch    GPU_mem   box_loss   cls_loss   dfl_loss  Instances       Size\n"
          ]
        },
        {
          "name": "stderr",
          "output_type": "stream",
          "text": [
            "     18/100      2.24G     0.9872     0.6037          1         25        640: 100%|██████████| 40/40 [00:10<00:00,  3.66it/s]\n",
            "                 Class     Images  Instances      Box(P          R      mAP50  mAP50-95): 100%|██████████| 6/6 [00:02<00:00,  2.16it/s]"
          ]
        },
        {
          "name": "stdout",
          "output_type": "stream",
          "text": [
            "                   all        182        185      0.974      0.914       0.97      0.641\n"
          ]
        },
        {
          "name": "stderr",
          "output_type": "stream",
          "text": [
            "\n"
          ]
        },
        {
          "name": "stdout",
          "output_type": "stream",
          "text": [
            "\n",
            "      Epoch    GPU_mem   box_loss   cls_loss   dfl_loss  Instances       Size\n"
          ]
        },
        {
          "name": "stderr",
          "output_type": "stream",
          "text": [
            "     19/100      2.24G       1.01     0.6195      1.026         25        640: 100%|██████████| 40/40 [00:10<00:00,  3.70it/s]\n",
            "                 Class     Images  Instances      Box(P          R      mAP50  mAP50-95): 100%|██████████| 6/6 [00:02<00:00,  2.62it/s]"
          ]
        },
        {
          "name": "stdout",
          "output_type": "stream",
          "text": [
            "                   all        182        185      0.978      0.957      0.981      0.696\n"
          ]
        },
        {
          "name": "stderr",
          "output_type": "stream",
          "text": [
            "\n"
          ]
        },
        {
          "name": "stdout",
          "output_type": "stream",
          "text": [
            "\n",
            "      Epoch    GPU_mem   box_loss   cls_loss   dfl_loss  Instances       Size\n"
          ]
        },
        {
          "name": "stderr",
          "output_type": "stream",
          "text": [
            "     20/100      2.25G     0.9951     0.5976      1.014         23        640: 100%|██████████| 40/40 [00:12<00:00,  3.28it/s]\n",
            "                 Class     Images  Instances      Box(P          R      mAP50  mAP50-95): 100%|██████████| 6/6 [00:01<00:00,  3.83it/s]"
          ]
        },
        {
          "name": "stdout",
          "output_type": "stream",
          "text": [
            "                   all        182        185      0.989      0.935      0.978       0.71\n"
          ]
        },
        {
          "name": "stderr",
          "output_type": "stream",
          "text": [
            "\n"
          ]
        },
        {
          "name": "stdout",
          "output_type": "stream",
          "text": [
            "\n",
            "      Epoch    GPU_mem   box_loss   cls_loss   dfl_loss  Instances       Size\n"
          ]
        },
        {
          "name": "stderr",
          "output_type": "stream",
          "text": [
            "     21/100      2.24G      1.041     0.6212      1.024         24        640: 100%|██████████| 40/40 [00:13<00:00,  2.93it/s]\n",
            "                 Class     Images  Instances      Box(P          R      mAP50  mAP50-95): 100%|██████████| 6/6 [00:01<00:00,  3.33it/s]"
          ]
        },
        {
          "name": "stdout",
          "output_type": "stream",
          "text": [
            "                   all        182        185      0.973      0.957      0.973      0.717\n"
          ]
        },
        {
          "name": "stderr",
          "output_type": "stream",
          "text": [
            "\n"
          ]
        },
        {
          "name": "stdout",
          "output_type": "stream",
          "text": [
            "\n",
            "      Epoch    GPU_mem   box_loss   cls_loss   dfl_loss  Instances       Size\n"
          ]
        },
        {
          "name": "stderr",
          "output_type": "stream",
          "text": [
            "     22/100      2.24G      1.005     0.6125      1.026         15        640: 100%|██████████| 40/40 [00:13<00:00,  3.07it/s]\n",
            "                 Class     Images  Instances      Box(P          R      mAP50  mAP50-95): 100%|██████████| 6/6 [00:01<00:00,  3.65it/s]"
          ]
        },
        {
          "name": "stdout",
          "output_type": "stream",
          "text": [
            "                   all        182        185      0.983      0.953      0.978      0.698\n"
          ]
        },
        {
          "name": "stderr",
          "output_type": "stream",
          "text": [
            "\n"
          ]
        },
        {
          "name": "stdout",
          "output_type": "stream",
          "text": [
            "\n",
            "      Epoch    GPU_mem   box_loss   cls_loss   dfl_loss  Instances       Size\n"
          ]
        },
        {
          "name": "stderr",
          "output_type": "stream",
          "text": [
            "     23/100      2.24G     0.9852      0.597      1.014         23        640: 100%|██████████| 40/40 [00:13<00:00,  2.93it/s]\n",
            "                 Class     Images  Instances      Box(P          R      mAP50  mAP50-95): 100%|██████████| 6/6 [00:01<00:00,  3.47it/s]"
          ]
        },
        {
          "name": "stdout",
          "output_type": "stream",
          "text": [
            "                   all        182        185      0.989      0.938      0.968       0.69\n"
          ]
        },
        {
          "name": "stderr",
          "output_type": "stream",
          "text": [
            "\n"
          ]
        },
        {
          "name": "stdout",
          "output_type": "stream",
          "text": [
            "\n",
            "      Epoch    GPU_mem   box_loss   cls_loss   dfl_loss  Instances       Size\n"
          ]
        },
        {
          "name": "stderr",
          "output_type": "stream",
          "text": [
            "     24/100      2.24G      1.002     0.6051      1.019         20        640: 100%|██████████| 40/40 [00:11<00:00,  3.56it/s]\n",
            "                 Class     Images  Instances      Box(P          R      mAP50  mAP50-95): 100%|██████████| 6/6 [00:03<00:00,  1.88it/s]"
          ]
        },
        {
          "name": "stdout",
          "output_type": "stream",
          "text": [
            "                   all        182        185      0.978      0.962      0.975      0.688\n"
          ]
        },
        {
          "name": "stderr",
          "output_type": "stream",
          "text": [
            "\n"
          ]
        },
        {
          "name": "stdout",
          "output_type": "stream",
          "text": [
            "\n",
            "      Epoch    GPU_mem   box_loss   cls_loss   dfl_loss  Instances       Size\n"
          ]
        },
        {
          "name": "stderr",
          "output_type": "stream",
          "text": [
            "     25/100      2.24G     0.9467     0.5723      0.997         21        640: 100%|██████████| 40/40 [00:10<00:00,  3.90it/s]\n",
            "                 Class     Images  Instances      Box(P          R      mAP50  mAP50-95): 100%|██████████| 6/6 [00:02<00:00,  2.46it/s]"
          ]
        },
        {
          "name": "stdout",
          "output_type": "stream",
          "text": [
            "                   all        182        185      0.981      0.957      0.964       0.65\n"
          ]
        },
        {
          "name": "stderr",
          "output_type": "stream",
          "text": [
            "\n"
          ]
        },
        {
          "name": "stdout",
          "output_type": "stream",
          "text": [
            "\n",
            "      Epoch    GPU_mem   box_loss   cls_loss   dfl_loss  Instances       Size\n"
          ]
        },
        {
          "name": "stderr",
          "output_type": "stream",
          "text": [
            "     26/100      2.24G     0.9774     0.5831      1.017         25        640: 100%|██████████| 40/40 [00:12<00:00,  3.22it/s]\n",
            "                 Class     Images  Instances      Box(P          R      mAP50  mAP50-95): 100%|██████████| 6/6 [00:01<00:00,  3.56it/s]"
          ]
        },
        {
          "name": "stdout",
          "output_type": "stream",
          "text": [
            "                   all        182        185      0.976      0.951       0.98      0.709\n"
          ]
        },
        {
          "name": "stderr",
          "output_type": "stream",
          "text": [
            "\n"
          ]
        },
        {
          "name": "stdout",
          "output_type": "stream",
          "text": [
            "\n",
            "      Epoch    GPU_mem   box_loss   cls_loss   dfl_loss  Instances       Size\n"
          ]
        },
        {
          "name": "stderr",
          "output_type": "stream",
          "text": [
            "     27/100      2.24G     0.9723     0.5888      1.006         35        640: 100%|██████████| 40/40 [00:13<00:00,  2.94it/s]\n",
            "                 Class     Images  Instances      Box(P          R      mAP50  mAP50-95): 100%|██████████| 6/6 [00:01<00:00,  3.46it/s]"
          ]
        },
        {
          "name": "stdout",
          "output_type": "stream",
          "text": [
            "                   all        182        185      0.979      0.957      0.978      0.729\n"
          ]
        },
        {
          "name": "stderr",
          "output_type": "stream",
          "text": [
            "\n"
          ]
        },
        {
          "name": "stdout",
          "output_type": "stream",
          "text": [
            "\n",
            "      Epoch    GPU_mem   box_loss   cls_loss   dfl_loss  Instances       Size\n"
          ]
        },
        {
          "name": "stderr",
          "output_type": "stream",
          "text": [
            "     28/100      2.24G     0.9573     0.5673      1.006         27        640: 100%|██████████| 40/40 [00:13<00:00,  2.88it/s]\n",
            "                 Class     Images  Instances      Box(P          R      mAP50  mAP50-95): 100%|██████████| 6/6 [00:01<00:00,  3.32it/s]"
          ]
        },
        {
          "name": "stdout",
          "output_type": "stream",
          "text": [
            "                   all        182        185      0.972      0.957      0.971      0.709\n"
          ]
        },
        {
          "name": "stderr",
          "output_type": "stream",
          "text": [
            "\n"
          ]
        },
        {
          "name": "stdout",
          "output_type": "stream",
          "text": [
            "\n",
            "      Epoch    GPU_mem   box_loss   cls_loss   dfl_loss  Instances       Size\n"
          ]
        },
        {
          "name": "stderr",
          "output_type": "stream",
          "text": [
            "     29/100      2.24G     0.9534     0.5735      1.002         27        640: 100%|██████████| 40/40 [00:13<00:00,  2.98it/s]\n",
            "                 Class     Images  Instances      Box(P          R      mAP50  mAP50-95): 100%|██████████| 6/6 [00:02<00:00,  2.89it/s]"
          ]
        },
        {
          "name": "stdout",
          "output_type": "stream",
          "text": [
            "                   all        182        185      0.977      0.941      0.973      0.715\n"
          ]
        },
        {
          "name": "stderr",
          "output_type": "stream",
          "text": [
            "\n"
          ]
        },
        {
          "name": "stdout",
          "output_type": "stream",
          "text": [
            "\n",
            "      Epoch    GPU_mem   box_loss   cls_loss   dfl_loss  Instances       Size\n"
          ]
        },
        {
          "name": "stderr",
          "output_type": "stream",
          "text": [
            "     30/100      2.24G     0.9636     0.5591     0.9966         28        640: 100%|██████████| 40/40 [00:11<00:00,  3.56it/s]\n",
            "                 Class     Images  Instances      Box(P          R      mAP50  mAP50-95): 100%|██████████| 6/6 [00:03<00:00,  1.90it/s]"
          ]
        },
        {
          "name": "stdout",
          "output_type": "stream",
          "text": [
            "                   all        182        185      0.989      0.961      0.979      0.725\n"
          ]
        },
        {
          "name": "stderr",
          "output_type": "stream",
          "text": [
            "\n"
          ]
        },
        {
          "name": "stdout",
          "output_type": "stream",
          "text": [
            "\n",
            "      Epoch    GPU_mem   box_loss   cls_loss   dfl_loss  Instances       Size\n"
          ]
        },
        {
          "name": "stderr",
          "output_type": "stream",
          "text": [
            "     31/100      2.24G     0.9478     0.5741      1.005         27        640: 100%|██████████| 40/40 [00:10<00:00,  3.93it/s]\n",
            "                 Class     Images  Instances      Box(P          R      mAP50  mAP50-95): 100%|██████████| 6/6 [00:02<00:00,  2.39it/s]\n"
          ]
        },
        {
          "name": "stdout",
          "output_type": "stream",
          "text": [
            "                   all        182        185      0.992      0.968      0.983      0.736\n",
            "\n",
            "      Epoch    GPU_mem   box_loss   cls_loss   dfl_loss  Instances       Size\n"
          ]
        },
        {
          "name": "stderr",
          "output_type": "stream",
          "text": [
            "     32/100      2.24G     0.9108      0.523     0.9792         25        640: 100%|██████████| 40/40 [00:11<00:00,  3.38it/s]\n",
            "                 Class     Images  Instances      Box(P          R      mAP50  mAP50-95): 100%|██████████| 6/6 [00:01<00:00,  3.37it/s]"
          ]
        },
        {
          "name": "stdout",
          "output_type": "stream",
          "text": [
            "                   all        182        185      0.994      0.957      0.975      0.716\n"
          ]
        },
        {
          "name": "stderr",
          "output_type": "stream",
          "text": [
            "\n"
          ]
        },
        {
          "name": "stdout",
          "output_type": "stream",
          "text": [
            "\n",
            "      Epoch    GPU_mem   box_loss   cls_loss   dfl_loss  Instances       Size\n"
          ]
        },
        {
          "name": "stderr",
          "output_type": "stream",
          "text": [
            "     33/100      2.24G     0.9412     0.5569      1.002         28        640: 100%|██████████| 40/40 [00:13<00:00,  2.98it/s]\n",
            "                 Class     Images  Instances      Box(P          R      mAP50  mAP50-95): 100%|██████████| 6/6 [00:01<00:00,  3.53it/s]"
          ]
        },
        {
          "name": "stdout",
          "output_type": "stream",
          "text": [
            "                   all        182        185      0.974      0.968      0.977      0.709\n"
          ]
        },
        {
          "name": "stderr",
          "output_type": "stream",
          "text": [
            "\n"
          ]
        },
        {
          "name": "stdout",
          "output_type": "stream",
          "text": [
            "\n",
            "      Epoch    GPU_mem   box_loss   cls_loss   dfl_loss  Instances       Size\n"
          ]
        },
        {
          "name": "stderr",
          "output_type": "stream",
          "text": [
            "     34/100      2.24G     0.9574     0.5642      1.007         25        640: 100%|██████████| 40/40 [00:13<00:00,  3.04it/s]\n",
            "                 Class     Images  Instances      Box(P          R      mAP50  mAP50-95): 100%|██████████| 6/6 [00:01<00:00,  3.70it/s]"
          ]
        },
        {
          "name": "stdout",
          "output_type": "stream",
          "text": [
            "                   all        182        185      0.988      0.957      0.967       0.73\n"
          ]
        },
        {
          "name": "stderr",
          "output_type": "stream",
          "text": [
            "\n"
          ]
        },
        {
          "name": "stdout",
          "output_type": "stream",
          "text": [
            "\n",
            "      Epoch    GPU_mem   box_loss   cls_loss   dfl_loss  Instances       Size\n"
          ]
        },
        {
          "name": "stderr",
          "output_type": "stream",
          "text": [
            "     35/100      2.24G      0.916     0.5398     0.9886         25        640: 100%|██████████| 40/40 [00:13<00:00,  3.02it/s]\n",
            "                 Class     Images  Instances      Box(P          R      mAP50  mAP50-95): 100%|██████████| 6/6 [00:01<00:00,  3.58it/s]"
          ]
        },
        {
          "name": "stdout",
          "output_type": "stream",
          "text": [
            "                   all        182        185      0.994      0.962      0.976      0.727\n"
          ]
        },
        {
          "name": "stderr",
          "output_type": "stream",
          "text": [
            "\n"
          ]
        },
        {
          "name": "stdout",
          "output_type": "stream",
          "text": [
            "\n",
            "      Epoch    GPU_mem   box_loss   cls_loss   dfl_loss  Instances       Size\n"
          ]
        },
        {
          "name": "stderr",
          "output_type": "stream",
          "text": [
            "     36/100      2.24G     0.9328     0.5389     0.9923         31        640: 100%|██████████| 40/40 [00:11<00:00,  3.34it/s]\n",
            "                 Class     Images  Instances      Box(P          R      mAP50  mAP50-95): 100%|██████████| 6/6 [00:03<00:00,  1.98it/s]"
          ]
        },
        {
          "name": "stdout",
          "output_type": "stream",
          "text": [
            "                   all        182        185      0.987      0.962      0.979      0.719\n"
          ]
        },
        {
          "name": "stderr",
          "output_type": "stream",
          "text": [
            "\n"
          ]
        },
        {
          "name": "stdout",
          "output_type": "stream",
          "text": [
            "\n",
            "      Epoch    GPU_mem   box_loss   cls_loss   dfl_loss  Instances       Size\n"
          ]
        },
        {
          "name": "stderr",
          "output_type": "stream",
          "text": [
            "     37/100      2.24G     0.9233     0.5499      1.002         26        640: 100%|██████████| 40/40 [00:10<00:00,  3.97it/s]\n",
            "                 Class     Images  Instances      Box(P          R      mAP50  mAP50-95): 100%|██████████| 6/6 [00:02<00:00,  2.25it/s]"
          ]
        },
        {
          "name": "stdout",
          "output_type": "stream",
          "text": [
            "                   all        182        185      0.983      0.946      0.977      0.698\n"
          ]
        },
        {
          "name": "stderr",
          "output_type": "stream",
          "text": [
            "\n"
          ]
        },
        {
          "name": "stdout",
          "output_type": "stream",
          "text": [
            "\n",
            "      Epoch    GPU_mem   box_loss   cls_loss   dfl_loss  Instances       Size\n"
          ]
        },
        {
          "name": "stderr",
          "output_type": "stream",
          "text": [
            "     38/100      2.24G     0.9372     0.5205      1.005         28        640: 100%|██████████| 40/40 [00:11<00:00,  3.61it/s]\n",
            "                 Class     Images  Instances      Box(P          R      mAP50  mAP50-95): 100%|██████████| 6/6 [00:01<00:00,  3.20it/s]"
          ]
        },
        {
          "name": "stdout",
          "output_type": "stream",
          "text": [
            "                   all        182        185      0.989      0.967      0.983      0.723\n"
          ]
        },
        {
          "name": "stderr",
          "output_type": "stream",
          "text": [
            "\n"
          ]
        },
        {
          "name": "stdout",
          "output_type": "stream",
          "text": [
            "\n",
            "      Epoch    GPU_mem   box_loss   cls_loss   dfl_loss  Instances       Size\n"
          ]
        },
        {
          "name": "stderr",
          "output_type": "stream",
          "text": [
            "     39/100      2.24G     0.9326     0.5231     0.9903         24        640: 100%|██████████| 40/40 [00:13<00:00,  2.98it/s]\n",
            "                 Class     Images  Instances      Box(P          R      mAP50  mAP50-95): 100%|██████████| 6/6 [00:01<00:00,  3.55it/s]\n"
          ]
        },
        {
          "name": "stdout",
          "output_type": "stream",
          "text": [
            "                   all        182        185      0.983      0.962       0.98      0.721\n",
            "\n",
            "      Epoch    GPU_mem   box_loss   cls_loss   dfl_loss  Instances       Size\n"
          ]
        },
        {
          "name": "stderr",
          "output_type": "stream",
          "text": [
            "     40/100      2.24G     0.9195      0.532      1.006         19        640: 100%|██████████| 40/40 [00:13<00:00,  2.93it/s]\n",
            "                 Class     Images  Instances      Box(P          R      mAP50  mAP50-95): 100%|██████████| 6/6 [00:01<00:00,  3.30it/s]"
          ]
        },
        {
          "name": "stdout",
          "output_type": "stream",
          "text": [
            "                   all        182        185      0.994      0.955      0.974      0.729\n"
          ]
        },
        {
          "name": "stderr",
          "output_type": "stream",
          "text": [
            "\n"
          ]
        },
        {
          "name": "stdout",
          "output_type": "stream",
          "text": [
            "\n",
            "      Epoch    GPU_mem   box_loss   cls_loss   dfl_loss  Instances       Size\n"
          ]
        },
        {
          "name": "stderr",
          "output_type": "stream",
          "text": [
            "     41/100      2.24G     0.8749     0.5055     0.9821         25        640: 100%|██████████| 40/40 [00:13<00:00,  3.01it/s]\n",
            "                 Class     Images  Instances      Box(P          R      mAP50  mAP50-95): 100%|██████████| 6/6 [00:01<00:00,  3.42it/s]"
          ]
        },
        {
          "name": "stdout",
          "output_type": "stream",
          "text": [
            "                   all        182        185      0.989      0.956      0.974      0.697\n"
          ]
        },
        {
          "name": "stderr",
          "output_type": "stream",
          "text": [
            "\n"
          ]
        },
        {
          "name": "stdout",
          "output_type": "stream",
          "text": [
            "\n",
            "      Epoch    GPU_mem   box_loss   cls_loss   dfl_loss  Instances       Size\n"
          ]
        },
        {
          "name": "stderr",
          "output_type": "stream",
          "text": [
            "     42/100      2.24G     0.9173      0.534     0.9855         28        640: 100%|██████████| 40/40 [00:12<00:00,  3.25it/s]\n",
            "                 Class     Images  Instances      Box(P          R      mAP50  mAP50-95): 100%|██████████| 6/6 [00:03<00:00,  1.92it/s]\n"
          ]
        },
        {
          "name": "stdout",
          "output_type": "stream",
          "text": [
            "                   all        182        185      0.983      0.966      0.975      0.741\n",
            "\n",
            "      Epoch    GPU_mem   box_loss   cls_loss   dfl_loss  Instances       Size\n"
          ]
        },
        {
          "name": "stderr",
          "output_type": "stream",
          "text": [
            "     43/100      2.24G     0.9023     0.5249     0.9946         28        640: 100%|██████████| 40/40 [00:10<00:00,  3.87it/s]\n",
            "                 Class     Images  Instances      Box(P          R      mAP50  mAP50-95): 100%|██████████| 6/6 [00:02<00:00,  2.01it/s]"
          ]
        },
        {
          "name": "stdout",
          "output_type": "stream",
          "text": [
            "                   all        182        185      0.983      0.968      0.975      0.725\n"
          ]
        },
        {
          "name": "stderr",
          "output_type": "stream",
          "text": [
            "\n"
          ]
        },
        {
          "name": "stdout",
          "output_type": "stream",
          "text": [
            "\n",
            "      Epoch    GPU_mem   box_loss   cls_loss   dfl_loss  Instances       Size\n"
          ]
        },
        {
          "name": "stderr",
          "output_type": "stream",
          "text": [
            "     44/100      2.24G     0.8677     0.4977     0.9643         24        640: 100%|██████████| 40/40 [00:11<00:00,  3.44it/s]\n",
            "                 Class     Images  Instances      Box(P          R      mAP50  mAP50-95): 100%|██████████| 6/6 [00:01<00:00,  3.54it/s]"
          ]
        },
        {
          "name": "stdout",
          "output_type": "stream",
          "text": [
            "                   all        182        185      0.976      0.962      0.982      0.734\n"
          ]
        },
        {
          "name": "stderr",
          "output_type": "stream",
          "text": [
            "\n"
          ]
        },
        {
          "name": "stdout",
          "output_type": "stream",
          "text": [
            "\n",
            "      Epoch    GPU_mem   box_loss   cls_loss   dfl_loss  Instances       Size\n"
          ]
        },
        {
          "name": "stderr",
          "output_type": "stream",
          "text": [
            "     45/100      2.24G     0.8927     0.4997     0.9915         28        640: 100%|██████████| 40/40 [00:13<00:00,  3.01it/s]\n",
            "                 Class     Images  Instances      Box(P          R      mAP50  mAP50-95): 100%|██████████| 6/6 [00:01<00:00,  3.57it/s]"
          ]
        },
        {
          "name": "stdout",
          "output_type": "stream",
          "text": [
            "                   all        182        185      0.989      0.973      0.981      0.743\n"
          ]
        },
        {
          "name": "stderr",
          "output_type": "stream",
          "text": [
            "\n"
          ]
        },
        {
          "name": "stdout",
          "output_type": "stream",
          "text": [
            "\n",
            "      Epoch    GPU_mem   box_loss   cls_loss   dfl_loss  Instances       Size\n"
          ]
        },
        {
          "name": "stderr",
          "output_type": "stream",
          "text": [
            "     46/100      2.24G     0.8571     0.4973     0.9754         33        640: 100%|██████████| 40/40 [00:13<00:00,  2.87it/s]\n",
            "                 Class     Images  Instances      Box(P          R      mAP50  mAP50-95): 100%|██████████| 6/6 [00:01<00:00,  3.37it/s]"
          ]
        },
        {
          "name": "stdout",
          "output_type": "stream",
          "text": [
            "                   all        182        185      0.997      0.962      0.983      0.732\n"
          ]
        },
        {
          "name": "stderr",
          "output_type": "stream",
          "text": [
            "\n"
          ]
        },
        {
          "name": "stdout",
          "output_type": "stream",
          "text": [
            "\n",
            "      Epoch    GPU_mem   box_loss   cls_loss   dfl_loss  Instances       Size\n"
          ]
        },
        {
          "name": "stderr",
          "output_type": "stream",
          "text": [
            "     47/100      2.24G     0.8718     0.4909     0.9802         28        640: 100%|██████████| 40/40 [00:13<00:00,  2.88it/s]\n",
            "                 Class     Images  Instances      Box(P          R      mAP50  mAP50-95): 100%|██████████| 6/6 [00:01<00:00,  3.74it/s]"
          ]
        },
        {
          "name": "stdout",
          "output_type": "stream",
          "text": [
            "                   all        182        185      0.988      0.968       0.98      0.718\n"
          ]
        },
        {
          "name": "stderr",
          "output_type": "stream",
          "text": [
            "\n"
          ]
        },
        {
          "name": "stdout",
          "output_type": "stream",
          "text": [
            "\n",
            "      Epoch    GPU_mem   box_loss   cls_loss   dfl_loss  Instances       Size\n"
          ]
        },
        {
          "name": "stderr",
          "output_type": "stream",
          "text": [
            "     48/100      2.24G     0.8892     0.4934     0.9787         27        640: 100%|██████████| 40/40 [00:12<00:00,  3.32it/s]\n",
            "                 Class     Images  Instances      Box(P          R      mAP50  mAP50-95): 100%|██████████| 6/6 [00:02<00:00,  2.19it/s]"
          ]
        },
        {
          "name": "stdout",
          "output_type": "stream",
          "text": [
            "                   all        182        185      0.991      0.957      0.981      0.756\n"
          ]
        },
        {
          "name": "stderr",
          "output_type": "stream",
          "text": [
            "\n"
          ]
        },
        {
          "name": "stdout",
          "output_type": "stream",
          "text": [
            "\n",
            "      Epoch    GPU_mem   box_loss   cls_loss   dfl_loss  Instances       Size\n"
          ]
        },
        {
          "name": "stderr",
          "output_type": "stream",
          "text": [
            "     49/100      2.24G     0.8609     0.4928     0.9694         25        640: 100%|██████████| 40/40 [00:10<00:00,  3.74it/s]\n",
            "                 Class     Images  Instances      Box(P          R      mAP50  mAP50-95): 100%|██████████| 6/6 [00:02<00:00,  2.17it/s]"
          ]
        },
        {
          "name": "stdout",
          "output_type": "stream",
          "text": [
            "                   all        182        185      0.994      0.967      0.981      0.729\n"
          ]
        },
        {
          "name": "stderr",
          "output_type": "stream",
          "text": [
            "\n"
          ]
        },
        {
          "name": "stdout",
          "output_type": "stream",
          "text": [
            "\n",
            "      Epoch    GPU_mem   box_loss   cls_loss   dfl_loss  Instances       Size\n"
          ]
        },
        {
          "name": "stderr",
          "output_type": "stream",
          "text": [
            "     50/100      2.24G       0.91     0.5442     0.9984         24        640: 100%|██████████| 40/40 [00:11<00:00,  3.50it/s]\n",
            "                 Class     Images  Instances      Box(P          R      mAP50  mAP50-95): 100%|██████████| 6/6 [00:01<00:00,  3.58it/s]"
          ]
        },
        {
          "name": "stdout",
          "output_type": "stream",
          "text": [
            "                   all        182        185       0.99      0.951      0.976      0.712\n"
          ]
        },
        {
          "name": "stderr",
          "output_type": "stream",
          "text": [
            "\n"
          ]
        },
        {
          "name": "stdout",
          "output_type": "stream",
          "text": [
            "\n",
            "      Epoch    GPU_mem   box_loss   cls_loss   dfl_loss  Instances       Size\n"
          ]
        },
        {
          "name": "stderr",
          "output_type": "stream",
          "text": [
            "     51/100      2.24G     0.8656     0.5022     0.9802         25        640: 100%|██████████| 40/40 [00:12<00:00,  3.09it/s]\n",
            "                 Class     Images  Instances      Box(P          R      mAP50  mAP50-95): 100%|██████████| 6/6 [00:01<00:00,  3.58it/s]"
          ]
        },
        {
          "name": "stdout",
          "output_type": "stream",
          "text": [
            "                   all        182        185      0.983      0.966      0.977      0.745\n"
          ]
        },
        {
          "name": "stderr",
          "output_type": "stream",
          "text": [
            "\n"
          ]
        },
        {
          "name": "stdout",
          "output_type": "stream",
          "text": [
            "\n",
            "      Epoch    GPU_mem   box_loss   cls_loss   dfl_loss  Instances       Size\n"
          ]
        },
        {
          "name": "stderr",
          "output_type": "stream",
          "text": [
            "     52/100      2.24G     0.8491     0.4715     0.9792         21        640: 100%|██████████| 40/40 [00:14<00:00,  2.83it/s]\n",
            "                 Class     Images  Instances      Box(P          R      mAP50  mAP50-95): 100%|██████████| 6/6 [00:01<00:00,  3.41it/s]"
          ]
        },
        {
          "name": "stdout",
          "output_type": "stream",
          "text": [
            "                   all        182        185      0.993      0.962      0.981      0.719\n"
          ]
        },
        {
          "name": "stderr",
          "output_type": "stream",
          "text": [
            "\n"
          ]
        },
        {
          "name": "stdout",
          "output_type": "stream",
          "text": [
            "\n",
            "      Epoch    GPU_mem   box_loss   cls_loss   dfl_loss  Instances       Size\n"
          ]
        },
        {
          "name": "stderr",
          "output_type": "stream",
          "text": [
            "     53/100      2.24G     0.8682     0.4725     0.9718         26        640: 100%|██████████| 40/40 [00:13<00:00,  2.86it/s]\n",
            "                 Class     Images  Instances      Box(P          R      mAP50  mAP50-95): 100%|██████████| 6/6 [00:01<00:00,  3.39it/s]"
          ]
        },
        {
          "name": "stdout",
          "output_type": "stream",
          "text": [
            "                   all        182        185      0.988      0.962      0.984      0.746\n"
          ]
        },
        {
          "name": "stderr",
          "output_type": "stream",
          "text": [
            "\n"
          ]
        },
        {
          "name": "stdout",
          "output_type": "stream",
          "text": [
            "\n",
            "      Epoch    GPU_mem   box_loss   cls_loss   dfl_loss  Instances       Size\n"
          ]
        },
        {
          "name": "stderr",
          "output_type": "stream",
          "text": [
            "     54/100      2.24G       0.84     0.4652     0.9778         22        640: 100%|██████████| 40/40 [00:11<00:00,  3.37it/s]\n",
            "                 Class     Images  Instances      Box(P          R      mAP50  mAP50-95): 100%|██████████| 6/6 [00:03<00:00,  1.88it/s]"
          ]
        },
        {
          "name": "stdout",
          "output_type": "stream",
          "text": [
            "                   all        182        185      0.989       0.96      0.976      0.722\n"
          ]
        },
        {
          "name": "stderr",
          "output_type": "stream",
          "text": [
            "\n"
          ]
        },
        {
          "name": "stdout",
          "output_type": "stream",
          "text": [
            "\n",
            "      Epoch    GPU_mem   box_loss   cls_loss   dfl_loss  Instances       Size\n"
          ]
        },
        {
          "name": "stderr",
          "output_type": "stream",
          "text": [
            "     55/100      2.24G     0.8335     0.4646       0.96         16        640: 100%|██████████| 40/40 [00:10<00:00,  3.93it/s]\n",
            "                 Class     Images  Instances      Box(P          R      mAP50  mAP50-95): 100%|██████████| 6/6 [00:02<00:00,  2.22it/s]"
          ]
        },
        {
          "name": "stdout",
          "output_type": "stream",
          "text": [
            "                   all        182        185      0.987      0.957      0.979      0.734\n"
          ]
        },
        {
          "name": "stderr",
          "output_type": "stream",
          "text": [
            "\n"
          ]
        },
        {
          "name": "stdout",
          "output_type": "stream",
          "text": [
            "\n",
            "      Epoch    GPU_mem   box_loss   cls_loss   dfl_loss  Instances       Size\n"
          ]
        },
        {
          "name": "stderr",
          "output_type": "stream",
          "text": [
            "     56/100      2.24G     0.8551     0.4814     0.9702         22        640: 100%|██████████| 40/40 [00:11<00:00,  3.39it/s]\n",
            "                 Class     Images  Instances      Box(P          R      mAP50  mAP50-95): 100%|██████████| 6/6 [00:01<00:00,  3.65it/s]"
          ]
        },
        {
          "name": "stdout",
          "output_type": "stream",
          "text": [
            "                   all        182        185      0.982      0.968      0.981      0.739\n"
          ]
        },
        {
          "name": "stderr",
          "output_type": "stream",
          "text": [
            "\n"
          ]
        },
        {
          "name": "stdout",
          "output_type": "stream",
          "text": [
            "\n",
            "      Epoch    GPU_mem   box_loss   cls_loss   dfl_loss  Instances       Size\n"
          ]
        },
        {
          "name": "stderr",
          "output_type": "stream",
          "text": [
            "     57/100      2.24G     0.8431     0.5039     0.9678         31        640: 100%|██████████| 40/40 [00:14<00:00,  2.84it/s]\n",
            "                 Class     Images  Instances      Box(P          R      mAP50  mAP50-95): 100%|██████████| 6/6 [00:01<00:00,  3.66it/s]"
          ]
        },
        {
          "name": "stdout",
          "output_type": "stream",
          "text": [
            "                   all        182        185      0.989      0.967      0.979       0.73\n"
          ]
        },
        {
          "name": "stderr",
          "output_type": "stream",
          "text": [
            "\n"
          ]
        },
        {
          "name": "stdout",
          "output_type": "stream",
          "text": [
            "\n",
            "      Epoch    GPU_mem   box_loss   cls_loss   dfl_loss  Instances       Size\n"
          ]
        },
        {
          "name": "stderr",
          "output_type": "stream",
          "text": [
            "     58/100      2.24G     0.8264     0.4742     0.9646         26        640: 100%|██████████| 40/40 [00:12<00:00,  3.09it/s]\n",
            "                 Class     Images  Instances      Box(P          R      mAP50  mAP50-95): 100%|██████████| 6/6 [00:01<00:00,  3.54it/s]"
          ]
        },
        {
          "name": "stdout",
          "output_type": "stream",
          "text": [
            "                   all        182        185      0.983      0.973      0.975      0.721\n"
          ]
        },
        {
          "name": "stderr",
          "output_type": "stream",
          "text": [
            "\n"
          ]
        },
        {
          "name": "stdout",
          "output_type": "stream",
          "text": [
            "\n",
            "      Epoch    GPU_mem   box_loss   cls_loss   dfl_loss  Instances       Size\n"
          ]
        },
        {
          "name": "stderr",
          "output_type": "stream",
          "text": [
            "     59/100      2.24G     0.8483     0.4629     0.9647         25        640: 100%|██████████| 40/40 [00:13<00:00,  3.05it/s]\n",
            "                 Class     Images  Instances      Box(P          R      mAP50  mAP50-95): 100%|██████████| 6/6 [00:01<00:00,  3.47it/s]"
          ]
        },
        {
          "name": "stdout",
          "output_type": "stream",
          "text": [
            "                   all        182        185      0.989      0.972      0.981      0.743\n"
          ]
        },
        {
          "name": "stderr",
          "output_type": "stream",
          "text": [
            "\n"
          ]
        },
        {
          "name": "stdout",
          "output_type": "stream",
          "text": [
            "\n",
            "      Epoch    GPU_mem   box_loss   cls_loss   dfl_loss  Instances       Size\n"
          ]
        },
        {
          "name": "stderr",
          "output_type": "stream",
          "text": [
            "     60/100      2.24G     0.8096     0.4667     0.9629         28        640: 100%|██████████| 40/40 [00:11<00:00,  3.46it/s]\n",
            "                 Class     Images  Instances      Box(P          R      mAP50  mAP50-95): 100%|██████████| 6/6 [00:03<00:00,  1.79it/s]"
          ]
        },
        {
          "name": "stdout",
          "output_type": "stream",
          "text": [
            "                   all        182        185      0.988      0.973      0.985      0.753\n"
          ]
        },
        {
          "name": "stderr",
          "output_type": "stream",
          "text": [
            "\n"
          ]
        },
        {
          "name": "stdout",
          "output_type": "stream",
          "text": [
            "\n",
            "      Epoch    GPU_mem   box_loss   cls_loss   dfl_loss  Instances       Size\n"
          ]
        },
        {
          "name": "stderr",
          "output_type": "stream",
          "text": [
            "     61/100      2.24G     0.8112     0.4499     0.9577         34        640: 100%|██████████| 40/40 [00:10<00:00,  3.99it/s]\n",
            "                 Class     Images  Instances      Box(P          R      mAP50  mAP50-95): 100%|██████████| 6/6 [00:02<00:00,  2.53it/s]"
          ]
        },
        {
          "name": "stdout",
          "output_type": "stream",
          "text": [
            "                   all        182        185      0.989      0.966      0.979      0.663\n"
          ]
        },
        {
          "name": "stderr",
          "output_type": "stream",
          "text": [
            "\n"
          ]
        },
        {
          "name": "stdout",
          "output_type": "stream",
          "text": [
            "\n",
            "      Epoch    GPU_mem   box_loss   cls_loss   dfl_loss  Instances       Size\n"
          ]
        },
        {
          "name": "stderr",
          "output_type": "stream",
          "text": [
            "     62/100      2.24G     0.8215     0.4683     0.9607         22        640: 100%|██████████| 40/40 [00:12<00:00,  3.09it/s]\n",
            "                 Class     Images  Instances      Box(P          R      mAP50  mAP50-95): 100%|██████████| 6/6 [00:01<00:00,  3.47it/s]"
          ]
        },
        {
          "name": "stdout",
          "output_type": "stream",
          "text": [
            "                   all        182        185      0.984      0.972      0.978       0.73\n"
          ]
        },
        {
          "name": "stderr",
          "output_type": "stream",
          "text": [
            "\n"
          ]
        },
        {
          "name": "stdout",
          "output_type": "stream",
          "text": [
            "\n",
            "      Epoch    GPU_mem   box_loss   cls_loss   dfl_loss  Instances       Size\n"
          ]
        },
        {
          "name": "stderr",
          "output_type": "stream",
          "text": [
            "     63/100      2.24G     0.8199     0.4511     0.9591         25        640: 100%|██████████| 40/40 [00:14<00:00,  2.86it/s]\n",
            "                 Class     Images  Instances      Box(P          R      mAP50  mAP50-95): 100%|██████████| 6/6 [00:01<00:00,  3.78it/s]"
          ]
        },
        {
          "name": "stdout",
          "output_type": "stream",
          "text": [
            "                   all        182        185      0.989      0.967      0.979      0.725\n"
          ]
        },
        {
          "name": "stderr",
          "output_type": "stream",
          "text": [
            "\n"
          ]
        },
        {
          "name": "stdout",
          "output_type": "stream",
          "text": [
            "\n",
            "      Epoch    GPU_mem   box_loss   cls_loss   dfl_loss  Instances       Size\n"
          ]
        },
        {
          "name": "stderr",
          "output_type": "stream",
          "text": [
            "     64/100      2.24G     0.7851     0.4424     0.9481         30        640: 100%|██████████| 40/40 [00:14<00:00,  2.84it/s]\n",
            "                 Class     Images  Instances      Box(P          R      mAP50  mAP50-95): 100%|██████████| 6/6 [00:01<00:00,  3.31it/s]"
          ]
        },
        {
          "name": "stdout",
          "output_type": "stream",
          "text": [
            "                   all        182        185      0.988      0.968      0.984      0.745\n"
          ]
        },
        {
          "name": "stderr",
          "output_type": "stream",
          "text": [
            "\n"
          ]
        },
        {
          "name": "stdout",
          "output_type": "stream",
          "text": [
            "\n",
            "      Epoch    GPU_mem   box_loss   cls_loss   dfl_loss  Instances       Size\n"
          ]
        },
        {
          "name": "stderr",
          "output_type": "stream",
          "text": [
            "     65/100      2.24G     0.8001     0.4419     0.9494         34        640: 100%|██████████| 40/40 [00:13<00:00,  2.98it/s]\n",
            "                 Class     Images  Instances      Box(P          R      mAP50  mAP50-95): 100%|██████████| 6/6 [00:01<00:00,  3.06it/s]"
          ]
        },
        {
          "name": "stdout",
          "output_type": "stream",
          "text": [
            "                   all        182        185      0.987      0.968      0.983       0.75\n"
          ]
        },
        {
          "name": "stderr",
          "output_type": "stream",
          "text": [
            "\n"
          ]
        },
        {
          "name": "stdout",
          "output_type": "stream",
          "text": [
            "\n",
            "      Epoch    GPU_mem   box_loss   cls_loss   dfl_loss  Instances       Size\n"
          ]
        },
        {
          "name": "stderr",
          "output_type": "stream",
          "text": [
            "     66/100      2.24G     0.8179     0.4592     0.9551         26        640: 100%|██████████| 40/40 [00:11<00:00,  3.51it/s]\n",
            "                 Class     Images  Instances      Box(P          R      mAP50  mAP50-95): 100%|██████████| 6/6 [00:03<00:00,  1.85it/s]"
          ]
        },
        {
          "name": "stdout",
          "output_type": "stream",
          "text": [
            "                   all        182        185      0.978       0.97       0.98      0.756\n"
          ]
        },
        {
          "name": "stderr",
          "output_type": "stream",
          "text": [
            "\n"
          ]
        },
        {
          "name": "stdout",
          "output_type": "stream",
          "text": [
            "\n",
            "      Epoch    GPU_mem   box_loss   cls_loss   dfl_loss  Instances       Size\n"
          ]
        },
        {
          "name": "stderr",
          "output_type": "stream",
          "text": [
            "     67/100      2.24G     0.8116     0.4671     0.9563         26        640: 100%|██████████| 40/40 [00:10<00:00,  3.74it/s]\n",
            "                 Class     Images  Instances      Box(P          R      mAP50  mAP50-95): 100%|██████████| 6/6 [00:02<00:00,  2.88it/s]"
          ]
        },
        {
          "name": "stdout",
          "output_type": "stream",
          "text": [
            "                   all        182        185      0.994      0.967      0.984      0.758\n"
          ]
        },
        {
          "name": "stderr",
          "output_type": "stream",
          "text": [
            "\n"
          ]
        },
        {
          "name": "stdout",
          "output_type": "stream",
          "text": [
            "\n",
            "      Epoch    GPU_mem   box_loss   cls_loss   dfl_loss  Instances       Size\n"
          ]
        },
        {
          "name": "stderr",
          "output_type": "stream",
          "text": [
            "     68/100      2.24G     0.7873     0.4317     0.9467         26        640: 100%|██████████| 40/40 [00:11<00:00,  3.36it/s]\n",
            "                 Class     Images  Instances      Box(P          R      mAP50  mAP50-95): 100%|██████████| 6/6 [00:01<00:00,  3.56it/s]"
          ]
        },
        {
          "name": "stdout",
          "output_type": "stream",
          "text": [
            "                   all        182        185          1      0.956      0.978      0.747\n"
          ]
        },
        {
          "name": "stderr",
          "output_type": "stream",
          "text": [
            "\n"
          ]
        },
        {
          "name": "stdout",
          "output_type": "stream",
          "text": [
            "\n",
            "      Epoch    GPU_mem   box_loss   cls_loss   dfl_loss  Instances       Size\n"
          ]
        },
        {
          "name": "stderr",
          "output_type": "stream",
          "text": [
            "     69/100      2.25G     0.7757     0.4403      0.942         29        640: 100%|██████████| 40/40 [00:13<00:00,  2.95it/s]\n",
            "                 Class     Images  Instances      Box(P          R      mAP50  mAP50-95): 100%|██████████| 6/6 [00:01<00:00,  3.99it/s]"
          ]
        },
        {
          "name": "stdout",
          "output_type": "stream",
          "text": [
            "                   all        182        185      0.989      0.967       0.98      0.754\n"
          ]
        },
        {
          "name": "stderr",
          "output_type": "stream",
          "text": [
            "\n"
          ]
        },
        {
          "name": "stdout",
          "output_type": "stream",
          "text": [
            "\n",
            "      Epoch    GPU_mem   box_loss   cls_loss   dfl_loss  Instances       Size\n"
          ]
        },
        {
          "name": "stderr",
          "output_type": "stream",
          "text": [
            "     70/100      2.24G     0.7856      0.454     0.9569         21        640: 100%|██████████| 40/40 [00:13<00:00,  2.95it/s]\n",
            "                 Class     Images  Instances      Box(P          R      mAP50  mAP50-95): 100%|██████████| 6/6 [00:01<00:00,  3.38it/s]"
          ]
        },
        {
          "name": "stdout",
          "output_type": "stream",
          "text": [
            "                   all        182        185      0.989      0.973      0.978      0.732\n"
          ]
        },
        {
          "name": "stderr",
          "output_type": "stream",
          "text": [
            "\n"
          ]
        },
        {
          "name": "stdout",
          "output_type": "stream",
          "text": [
            "\n",
            "      Epoch    GPU_mem   box_loss   cls_loss   dfl_loss  Instances       Size\n"
          ]
        },
        {
          "name": "stderr",
          "output_type": "stream",
          "text": [
            "     71/100      2.24G     0.7969     0.4449     0.9507         28        640: 100%|██████████| 40/40 [00:13<00:00,  2.87it/s]\n",
            "                 Class     Images  Instances      Box(P          R      mAP50  mAP50-95): 100%|██████████| 6/6 [00:01<00:00,  3.62it/s]"
          ]
        },
        {
          "name": "stdout",
          "output_type": "stream",
          "text": [
            "                   all        182        185      0.989      0.968      0.976      0.728\n"
          ]
        },
        {
          "name": "stderr",
          "output_type": "stream",
          "text": [
            "\n"
          ]
        },
        {
          "name": "stdout",
          "output_type": "stream",
          "text": [
            "\n",
            "      Epoch    GPU_mem   box_loss   cls_loss   dfl_loss  Instances       Size\n"
          ]
        },
        {
          "name": "stderr",
          "output_type": "stream",
          "text": [
            "     72/100      2.24G     0.7975     0.4481     0.9578         30        640: 100%|██████████| 40/40 [00:11<00:00,  3.61it/s]\n",
            "                 Class     Images  Instances      Box(P          R      mAP50  mAP50-95): 100%|██████████| 6/6 [00:03<00:00,  1.89it/s]"
          ]
        },
        {
          "name": "stdout",
          "output_type": "stream",
          "text": [
            "                   all        182        185      0.988      0.962      0.979      0.755\n"
          ]
        },
        {
          "name": "stderr",
          "output_type": "stream",
          "text": [
            "\n"
          ]
        },
        {
          "name": "stdout",
          "output_type": "stream",
          "text": [
            "\n",
            "      Epoch    GPU_mem   box_loss   cls_loss   dfl_loss  Instances       Size\n"
          ]
        },
        {
          "name": "stderr",
          "output_type": "stream",
          "text": [
            "     73/100      2.24G      0.751     0.4248      0.933         24        640: 100%|██████████| 40/40 [00:10<00:00,  3.98it/s]\n",
            "                 Class     Images  Instances      Box(P          R      mAP50  mAP50-95): 100%|██████████| 6/6 [00:02<00:00,  2.35it/s]"
          ]
        },
        {
          "name": "stdout",
          "output_type": "stream",
          "text": [
            "                   all        182        185      0.998      0.957      0.982      0.756\n"
          ]
        },
        {
          "name": "stderr",
          "output_type": "stream",
          "text": [
            "\n"
          ]
        },
        {
          "name": "stdout",
          "output_type": "stream",
          "text": [
            "\n",
            "      Epoch    GPU_mem   box_loss   cls_loss   dfl_loss  Instances       Size\n"
          ]
        },
        {
          "name": "stderr",
          "output_type": "stream",
          "text": [
            "     74/100      2.24G     0.7558     0.4244     0.9482         26        640: 100%|██████████| 40/40 [00:12<00:00,  3.26it/s]\n",
            "                 Class     Images  Instances      Box(P          R      mAP50  mAP50-95): 100%|██████████| 6/6 [00:01<00:00,  3.90it/s]"
          ]
        },
        {
          "name": "stdout",
          "output_type": "stream",
          "text": [
            "                   all        182        185      0.988      0.968      0.982      0.767\n"
          ]
        },
        {
          "name": "stderr",
          "output_type": "stream",
          "text": [
            "\n"
          ]
        },
        {
          "name": "stdout",
          "output_type": "stream",
          "text": [
            "\n",
            "      Epoch    GPU_mem   box_loss   cls_loss   dfl_loss  Instances       Size\n"
          ]
        },
        {
          "name": "stderr",
          "output_type": "stream",
          "text": [
            "     75/100      2.24G     0.7643     0.4195     0.9394         20        640: 100%|██████████| 40/40 [00:13<00:00,  3.01it/s]\n",
            "                 Class     Images  Instances      Box(P          R      mAP50  mAP50-95): 100%|██████████| 6/6 [00:01<00:00,  3.41it/s]"
          ]
        },
        {
          "name": "stdout",
          "output_type": "stream",
          "text": [
            "                   all        182        185      0.989      0.967      0.983       0.76\n"
          ]
        },
        {
          "name": "stderr",
          "output_type": "stream",
          "text": [
            "\n"
          ]
        },
        {
          "name": "stdout",
          "output_type": "stream",
          "text": [
            "\n",
            "      Epoch    GPU_mem   box_loss   cls_loss   dfl_loss  Instances       Size\n"
          ]
        },
        {
          "name": "stderr",
          "output_type": "stream",
          "text": [
            "     76/100      2.24G     0.7572     0.4275     0.9481         21        640: 100%|██████████| 40/40 [00:13<00:00,  2.93it/s]\n",
            "                 Class     Images  Instances      Box(P          R      mAP50  mAP50-95): 100%|██████████| 6/6 [00:01<00:00,  3.90it/s]"
          ]
        },
        {
          "name": "stdout",
          "output_type": "stream",
          "text": [
            "                   all        182        185      0.988      0.968      0.981      0.755\n"
          ]
        },
        {
          "name": "stderr",
          "output_type": "stream",
          "text": [
            "\n"
          ]
        },
        {
          "name": "stdout",
          "output_type": "stream",
          "text": [
            "\n",
            "      Epoch    GPU_mem   box_loss   cls_loss   dfl_loss  Instances       Size\n"
          ]
        },
        {
          "name": "stderr",
          "output_type": "stream",
          "text": [
            "     77/100      2.24G     0.7456     0.4108     0.9324         34        640: 100%|██████████| 40/40 [00:12<00:00,  3.09it/s]\n",
            "                 Class     Images  Instances      Box(P          R      mAP50  mAP50-95): 100%|██████████| 6/6 [00:01<00:00,  3.60it/s]"
          ]
        },
        {
          "name": "stdout",
          "output_type": "stream",
          "text": [
            "                   all        182        185      0.984      0.967      0.976      0.751\n"
          ]
        },
        {
          "name": "stderr",
          "output_type": "stream",
          "text": [
            "\n"
          ]
        },
        {
          "name": "stdout",
          "output_type": "stream",
          "text": [
            "\n",
            "      Epoch    GPU_mem   box_loss   cls_loss   dfl_loss  Instances       Size\n"
          ]
        },
        {
          "name": "stderr",
          "output_type": "stream",
          "text": [
            "     78/100      2.24G      0.761     0.4237     0.9429         20        640: 100%|██████████| 40/40 [00:11<00:00,  3.36it/s]\n",
            "                 Class     Images  Instances      Box(P          R      mAP50  mAP50-95): 100%|██████████| 6/6 [00:02<00:00,  2.05it/s]"
          ]
        },
        {
          "name": "stdout",
          "output_type": "stream",
          "text": [
            "                   all        182        185      0.989      0.968      0.979      0.758\n"
          ]
        },
        {
          "name": "stderr",
          "output_type": "stream",
          "text": [
            "\n"
          ]
        },
        {
          "name": "stdout",
          "output_type": "stream",
          "text": [
            "\n",
            "      Epoch    GPU_mem   box_loss   cls_loss   dfl_loss  Instances       Size\n"
          ]
        },
        {
          "name": "stderr",
          "output_type": "stream",
          "text": [
            "     79/100      2.24G     0.7258     0.4031     0.9347         25        640: 100%|██████████| 40/40 [00:10<00:00,  3.86it/s]\n",
            "                 Class     Images  Instances      Box(P          R      mAP50  mAP50-95): 100%|██████████| 6/6 [00:03<00:00,  1.98it/s]"
          ]
        },
        {
          "name": "stdout",
          "output_type": "stream",
          "text": [
            "                   all        182        185      0.993      0.962      0.978       0.74\n"
          ]
        },
        {
          "name": "stderr",
          "output_type": "stream",
          "text": [
            "\n"
          ]
        },
        {
          "name": "stdout",
          "output_type": "stream",
          "text": [
            "\n",
            "      Epoch    GPU_mem   box_loss   cls_loss   dfl_loss  Instances       Size\n"
          ]
        },
        {
          "name": "stderr",
          "output_type": "stream",
          "text": [
            "     80/100      2.24G     0.7221     0.4123     0.9323         25        640: 100%|██████████| 40/40 [00:11<00:00,  3.58it/s]\n",
            "                 Class     Images  Instances      Box(P          R      mAP50  mAP50-95): 100%|██████████| 6/6 [00:01<00:00,  3.26it/s]"
          ]
        },
        {
          "name": "stdout",
          "output_type": "stream",
          "text": [
            "                   all        182        185      0.988      0.968      0.975      0.743\n"
          ]
        },
        {
          "name": "stderr",
          "output_type": "stream",
          "text": [
            "\n"
          ]
        },
        {
          "name": "stdout",
          "output_type": "stream",
          "text": [
            "\n",
            "      Epoch    GPU_mem   box_loss   cls_loss   dfl_loss  Instances       Size\n"
          ]
        },
        {
          "name": "stderr",
          "output_type": "stream",
          "text": [
            "     81/100      2.24G     0.7205     0.4051     0.9181         32        640: 100%|██████████| 40/40 [00:12<00:00,  3.19it/s]\n",
            "                 Class     Images  Instances      Box(P          R      mAP50  mAP50-95): 100%|██████████| 6/6 [00:01<00:00,  3.66it/s]"
          ]
        },
        {
          "name": "stdout",
          "output_type": "stream",
          "text": [
            "                   all        182        185      0.989      0.957      0.978      0.744\n"
          ]
        },
        {
          "name": "stderr",
          "output_type": "stream",
          "text": [
            "\n"
          ]
        },
        {
          "name": "stdout",
          "output_type": "stream",
          "text": [
            "\n",
            "      Epoch    GPU_mem   box_loss   cls_loss   dfl_loss  Instances       Size\n"
          ]
        },
        {
          "name": "stderr",
          "output_type": "stream",
          "text": [
            "     82/100      2.24G     0.7126     0.3885     0.9331         21        640: 100%|██████████| 40/40 [00:13<00:00,  2.97it/s]\n",
            "                 Class     Images  Instances      Box(P          R      mAP50  mAP50-95): 100%|██████████| 6/6 [00:01<00:00,  3.37it/s]\n"
          ]
        },
        {
          "name": "stdout",
          "output_type": "stream",
          "text": [
            "                   all        182        185      0.978      0.973      0.978      0.749\n",
            "\n",
            "      Epoch    GPU_mem   box_loss   cls_loss   dfl_loss  Instances       Size\n"
          ]
        },
        {
          "name": "stderr",
          "output_type": "stream",
          "text": [
            "     83/100      2.24G     0.7071     0.4026      0.926         31        640: 100%|██████████| 40/40 [00:13<00:00,  2.97it/s]\n",
            "                 Class     Images  Instances      Box(P          R      mAP50  mAP50-95): 100%|██████████| 6/6 [00:01<00:00,  3.66it/s]"
          ]
        },
        {
          "name": "stdout",
          "output_type": "stream",
          "text": [
            "                   all        182        185      0.983      0.973      0.978      0.752\n"
          ]
        },
        {
          "name": "stderr",
          "output_type": "stream",
          "text": [
            "\n"
          ]
        },
        {
          "name": "stdout",
          "output_type": "stream",
          "text": [
            "\n",
            "      Epoch    GPU_mem   box_loss   cls_loss   dfl_loss  Instances       Size\n"
          ]
        },
        {
          "name": "stderr",
          "output_type": "stream",
          "text": [
            "     84/100      2.24G     0.7429     0.4014     0.9249         19        640: 100%|██████████| 40/40 [00:11<00:00,  3.36it/s]\n",
            "                 Class     Images  Instances      Box(P          R      mAP50  mAP50-95): 100%|██████████| 6/6 [00:02<00:00,  2.15it/s]"
          ]
        },
        {
          "name": "stdout",
          "output_type": "stream",
          "text": [
            "                   all        182        185      0.989      0.962      0.977      0.736\n"
          ]
        },
        {
          "name": "stderr",
          "output_type": "stream",
          "text": [
            "\n"
          ]
        },
        {
          "name": "stdout",
          "output_type": "stream",
          "text": [
            "\n",
            "      Epoch    GPU_mem   box_loss   cls_loss   dfl_loss  Instances       Size\n"
          ]
        },
        {
          "name": "stderr",
          "output_type": "stream",
          "text": [
            "     85/100      2.24G     0.7229      0.398     0.9281         26        640: 100%|██████████| 40/40 [00:10<00:00,  3.69it/s]\n",
            "                 Class     Images  Instances      Box(P          R      mAP50  mAP50-95): 100%|██████████| 6/6 [00:03<00:00,  1.94it/s]"
          ]
        },
        {
          "name": "stdout",
          "output_type": "stream",
          "text": [
            "                   all        182        185      0.988      0.962      0.983      0.735\n"
          ]
        },
        {
          "name": "stderr",
          "output_type": "stream",
          "text": [
            "\n"
          ]
        },
        {
          "name": "stdout",
          "output_type": "stream",
          "text": [
            "\n",
            "      Epoch    GPU_mem   box_loss   cls_loss   dfl_loss  Instances       Size\n"
          ]
        },
        {
          "name": "stderr",
          "output_type": "stream",
          "text": [
            "     86/100      2.24G      0.724     0.3986     0.9279         42        640: 100%|██████████| 40/40 [00:10<00:00,  3.84it/s]\n",
            "                 Class     Images  Instances      Box(P          R      mAP50  mAP50-95): 100%|██████████| 6/6 [00:02<00:00,  2.88it/s]"
          ]
        },
        {
          "name": "stdout",
          "output_type": "stream",
          "text": [
            "                   all        182        185      0.989      0.967      0.979      0.753\n"
          ]
        },
        {
          "name": "stderr",
          "output_type": "stream",
          "text": [
            "\n"
          ]
        },
        {
          "name": "stdout",
          "output_type": "stream",
          "text": [
            "\n",
            "      Epoch    GPU_mem   box_loss   cls_loss   dfl_loss  Instances       Size\n"
          ]
        },
        {
          "name": "stderr",
          "output_type": "stream",
          "text": [
            "     87/100      2.24G     0.7076     0.3892     0.9251         31        640: 100%|██████████| 40/40 [00:13<00:00,  3.07it/s]\n",
            "                 Class     Images  Instances      Box(P          R      mAP50  mAP50-95): 100%|██████████| 6/6 [00:01<00:00,  3.53it/s]"
          ]
        },
        {
          "name": "stdout",
          "output_type": "stream",
          "text": [
            "                   all        182        185      0.984      0.967      0.979      0.747\n"
          ]
        },
        {
          "name": "stderr",
          "output_type": "stream",
          "text": [
            "\n"
          ]
        },
        {
          "name": "stdout",
          "output_type": "stream",
          "text": [
            "\n",
            "      Epoch    GPU_mem   box_loss   cls_loss   dfl_loss  Instances       Size\n"
          ]
        },
        {
          "name": "stderr",
          "output_type": "stream",
          "text": [
            "     88/100      2.24G     0.7095     0.3904     0.9293         25        640: 100%|██████████| 40/40 [00:12<00:00,  3.09it/s]\n",
            "                 Class     Images  Instances      Box(P          R      mAP50  mAP50-95): 100%|██████████| 6/6 [00:01<00:00,  3.40it/s]"
          ]
        },
        {
          "name": "stdout",
          "output_type": "stream",
          "text": [
            "                   all        182        185      0.989      0.972      0.978      0.755\n"
          ]
        },
        {
          "name": "stderr",
          "output_type": "stream",
          "text": [
            "\n"
          ]
        },
        {
          "name": "stdout",
          "output_type": "stream",
          "text": [
            "\n",
            "      Epoch    GPU_mem   box_loss   cls_loss   dfl_loss  Instances       Size\n"
          ]
        },
        {
          "name": "stderr",
          "output_type": "stream",
          "text": [
            "     89/100      2.24G     0.7032     0.3789     0.9156         32        640: 100%|██████████| 40/40 [00:14<00:00,  2.85it/s]\n",
            "                 Class     Images  Instances      Box(P          R      mAP50  mAP50-95): 100%|██████████| 6/6 [00:01<00:00,  3.53it/s]"
          ]
        },
        {
          "name": "stdout",
          "output_type": "stream",
          "text": [
            "                   all        182        185      0.988      0.973      0.979      0.749\n"
          ]
        },
        {
          "name": "stderr",
          "output_type": "stream",
          "text": [
            "\n"
          ]
        },
        {
          "name": "stdout",
          "output_type": "stream",
          "text": [
            "\n",
            "      Epoch    GPU_mem   box_loss   cls_loss   dfl_loss  Instances       Size\n"
          ]
        },
        {
          "name": "stderr",
          "output_type": "stream",
          "text": [
            "     90/100      2.24G     0.6854     0.3722      0.918         24        640: 100%|██████████| 40/40 [00:12<00:00,  3.20it/s]\n",
            "                 Class     Images  Instances      Box(P          R      mAP50  mAP50-95): 100%|██████████| 6/6 [00:02<00:00,  2.18it/s]"
          ]
        },
        {
          "name": "stdout",
          "output_type": "stream",
          "text": [
            "                   all        182        185      0.988      0.973      0.981      0.747\n"
          ]
        },
        {
          "name": "stderr",
          "output_type": "stream",
          "text": [
            "\n"
          ]
        },
        {
          "name": "stdout",
          "output_type": "stream",
          "text": [
            "Closing dataloader mosaic\n",
            "\u001b[34m\u001b[1malbumentations: \u001b[0mBlur(p=0.01, blur_limit=(3, 7)), MedianBlur(p=0.01, blur_limit=(3, 7)), ToGray(p=0.01), CLAHE(p=0.01, clip_limit=(1, 4.0), tile_grid_size=(8, 8))\n"
          ]
        },
        {
          "name": "stderr",
          "output_type": "stream",
          "text": [
            "/usr/lib/python3.10/multiprocessing/popen_fork.py:66: RuntimeWarning: os.fork() was called. os.fork() is incompatible with multithreaded code, and JAX is multithreaded, so this will likely lead to a deadlock.\n",
            "  self.pid = os.fork()\n"
          ]
        },
        {
          "name": "stdout",
          "output_type": "stream",
          "text": [
            "\n",
            "      Epoch    GPU_mem   box_loss   cls_loss   dfl_loss  Instances       Size\n"
          ]
        },
        {
          "name": "stderr",
          "output_type": "stream",
          "text": [
            "     91/100      2.38G     0.6768      0.347     0.9286         18        640: 100%|██████████| 40/40 [00:13<00:00,  2.89it/s]\n",
            "                 Class     Images  Instances      Box(P          R      mAP50  mAP50-95): 100%|██████████| 6/6 [00:03<00:00,  1.90it/s]"
          ]
        },
        {
          "name": "stdout",
          "output_type": "stream",
          "text": [
            "                   all        182        185      0.978      0.973      0.984      0.755\n"
          ]
        },
        {
          "name": "stderr",
          "output_type": "stream",
          "text": [
            "\n"
          ]
        },
        {
          "name": "stdout",
          "output_type": "stream",
          "text": [
            "\n",
            "      Epoch    GPU_mem   box_loss   cls_loss   dfl_loss  Instances       Size\n"
          ]
        },
        {
          "name": "stderr",
          "output_type": "stream",
          "text": [
            "     92/100      2.24G      0.629     0.3324     0.9007         16        640: 100%|██████████| 40/40 [00:09<00:00,  4.16it/s]\n",
            "                 Class     Images  Instances      Box(P          R      mAP50  mAP50-95): 100%|██████████| 6/6 [00:02<00:00,  2.25it/s]"
          ]
        },
        {
          "name": "stdout",
          "output_type": "stream",
          "text": [
            "                   all        182        185      0.989      0.968      0.985      0.756\n"
          ]
        },
        {
          "name": "stderr",
          "output_type": "stream",
          "text": [
            "\n"
          ]
        },
        {
          "name": "stdout",
          "output_type": "stream",
          "text": [
            "\n",
            "      Epoch    GPU_mem   box_loss   cls_loss   dfl_loss  Instances       Size\n"
          ]
        },
        {
          "name": "stderr",
          "output_type": "stream",
          "text": [
            "     93/100      2.24G     0.6509     0.3458     0.9033         16        640: 100%|██████████| 40/40 [00:10<00:00,  3.64it/s]\n",
            "                 Class     Images  Instances      Box(P          R      mAP50  mAP50-95): 100%|██████████| 6/6 [00:01<00:00,  3.80it/s]"
          ]
        },
        {
          "name": "stdout",
          "output_type": "stream",
          "text": [
            "                   all        182        185      0.988      0.968      0.986      0.754\n"
          ]
        },
        {
          "name": "stderr",
          "output_type": "stream",
          "text": [
            "\n"
          ]
        },
        {
          "name": "stdout",
          "output_type": "stream",
          "text": [
            "\n",
            "      Epoch    GPU_mem   box_loss   cls_loss   dfl_loss  Instances       Size\n"
          ]
        },
        {
          "name": "stderr",
          "output_type": "stream",
          "text": [
            "     94/100      2.24G     0.6237     0.3291     0.8948         16        640: 100%|██████████| 40/40 [00:12<00:00,  3.14it/s]\n",
            "                 Class     Images  Instances      Box(P          R      mAP50  mAP50-95): 100%|██████████| 6/6 [00:01<00:00,  3.60it/s]"
          ]
        },
        {
          "name": "stdout",
          "output_type": "stream",
          "text": [
            "                   all        182        185      0.989      0.972      0.984      0.749\n"
          ]
        },
        {
          "name": "stderr",
          "output_type": "stream",
          "text": [
            "\n"
          ]
        },
        {
          "name": "stdout",
          "output_type": "stream",
          "text": [
            "\n",
            "      Epoch    GPU_mem   box_loss   cls_loss   dfl_loss  Instances       Size\n"
          ]
        },
        {
          "name": "stderr",
          "output_type": "stream",
          "text": [
            "     95/100      2.24G     0.6135     0.3229      0.905         16        640: 100%|██████████| 40/40 [00:13<00:00,  3.00it/s]\n",
            "                 Class     Images  Instances      Box(P          R      mAP50  mAP50-95): 100%|██████████| 6/6 [00:01<00:00,  3.64it/s]"
          ]
        },
        {
          "name": "stdout",
          "output_type": "stream",
          "text": [
            "                   all        182        185      0.989      0.973      0.983      0.751\n"
          ]
        },
        {
          "name": "stderr",
          "output_type": "stream",
          "text": [
            "\n"
          ]
        },
        {
          "name": "stdout",
          "output_type": "stream",
          "text": [
            "\n",
            "      Epoch    GPU_mem   box_loss   cls_loss   dfl_loss  Instances       Size\n"
          ]
        },
        {
          "name": "stderr",
          "output_type": "stream",
          "text": [
            "     96/100      2.24G       0.62     0.3268      0.901         17        640: 100%|██████████| 40/40 [00:12<00:00,  3.33it/s]\n",
            "                 Class     Images  Instances      Box(P          R      mAP50  mAP50-95): 100%|██████████| 6/6 [00:02<00:00,  2.26it/s]"
          ]
        },
        {
          "name": "stdout",
          "output_type": "stream",
          "text": [
            "                   all        182        185      0.989      0.973      0.983      0.754\n"
          ]
        },
        {
          "name": "stderr",
          "output_type": "stream",
          "text": [
            "\n"
          ]
        },
        {
          "name": "stdout",
          "output_type": "stream",
          "text": [
            "\n",
            "      Epoch    GPU_mem   box_loss   cls_loss   dfl_loss  Instances       Size\n"
          ]
        },
        {
          "name": "stderr",
          "output_type": "stream",
          "text": [
            "     97/100      2.24G     0.6048     0.3176     0.8862         16        640: 100%|██████████| 40/40 [00:10<00:00,  3.99it/s]\n",
            "                 Class     Images  Instances      Box(P          R      mAP50  mAP50-95): 100%|██████████| 6/6 [00:02<00:00,  2.29it/s]"
          ]
        },
        {
          "name": "stdout",
          "output_type": "stream",
          "text": [
            "                   all        182        185      0.989      0.973      0.983      0.754\n"
          ]
        },
        {
          "name": "stderr",
          "output_type": "stream",
          "text": [
            "\n"
          ]
        },
        {
          "name": "stdout",
          "output_type": "stream",
          "text": [
            "\n",
            "      Epoch    GPU_mem   box_loss   cls_loss   dfl_loss  Instances       Size\n"
          ]
        },
        {
          "name": "stderr",
          "output_type": "stream",
          "text": [
            "     98/100      2.24G     0.6036     0.3223     0.8828         17        640: 100%|██████████| 40/40 [00:10<00:00,  3.77it/s]\n",
            "                 Class     Images  Instances      Box(P          R      mAP50  mAP50-95): 100%|██████████| 6/6 [00:01<00:00,  3.93it/s]"
          ]
        },
        {
          "name": "stdout",
          "output_type": "stream",
          "text": [
            "                   all        182        185      0.989      0.973      0.983      0.762\n"
          ]
        },
        {
          "name": "stderr",
          "output_type": "stream",
          "text": [
            "\n"
          ]
        },
        {
          "name": "stdout",
          "output_type": "stream",
          "text": [
            "\n",
            "      Epoch    GPU_mem   box_loss   cls_loss   dfl_loss  Instances       Size\n"
          ]
        },
        {
          "name": "stderr",
          "output_type": "stream",
          "text": [
            "     99/100      2.24G     0.5876     0.3107     0.8924         16        640: 100%|██████████| 40/40 [00:12<00:00,  3.13it/s]\n",
            "                 Class     Images  Instances      Box(P          R      mAP50  mAP50-95): 100%|██████████| 6/6 [00:01<00:00,  3.67it/s]"
          ]
        },
        {
          "name": "stdout",
          "output_type": "stream",
          "text": [
            "                   all        182        185      0.988      0.973      0.982      0.757\n"
          ]
        },
        {
          "name": "stderr",
          "output_type": "stream",
          "text": [
            "\n"
          ]
        },
        {
          "name": "stdout",
          "output_type": "stream",
          "text": [
            "\n",
            "      Epoch    GPU_mem   box_loss   cls_loss   dfl_loss  Instances       Size\n"
          ]
        },
        {
          "name": "stderr",
          "output_type": "stream",
          "text": [
            "    100/100      2.24G     0.5945     0.3161     0.8978         16        640: 100%|██████████| 40/40 [00:12<00:00,  3.25it/s]\n",
            "                 Class     Images  Instances      Box(P          R      mAP50  mAP50-95): 100%|██████████| 6/6 [00:01<00:00,  3.69it/s]"
          ]
        },
        {
          "name": "stdout",
          "output_type": "stream",
          "text": [
            "                   all        182        185      0.989      0.973      0.982      0.757\n"
          ]
        },
        {
          "name": "stderr",
          "output_type": "stream",
          "text": [
            "\n"
          ]
        },
        {
          "name": "stdout",
          "output_type": "stream",
          "text": [
            "\n",
            "100 epochs completed in 0.426 hours.\n",
            "Optimizer stripped from runs/detect/train/weights/last.pt, 6.3MB\n",
            "Optimizer stripped from runs/detect/train/weights/best.pt, 6.3MB\n",
            "\n",
            "Validating runs/detect/train/weights/best.pt...\n",
            "Ultralytics YOLOv8.2.70 🚀 Python-3.10.12 torch-2.3.1+cu121 CUDA:0 (Tesla T4, 15102MiB)\n",
            "Model summary (fused): 168 layers, 3,005,843 parameters, 0 gradients, 8.1 GFLOPs\n"
          ]
        },
        {
          "name": "stderr",
          "output_type": "stream",
          "text": [
            "                 Class     Images  Instances      Box(P          R      mAP50  mAP50-95): 100%|██████████| 6/6 [00:04<00:00,  1.47it/s]\n"
          ]
        },
        {
          "name": "stdout",
          "output_type": "stream",
          "text": [
            "                   all        182        185      0.988      0.968      0.982      0.765\n",
            "Speed: 0.4ms preprocess, 3.3ms inference, 0.0ms loss, 5.4ms postprocess per image\n",
            "Results saved to \u001b[1mruns/detect/train\u001b[0m\n"
          ]
        },
        {
          "data": {
            "text/plain": [
              "ultralytics.utils.metrics.DetMetrics object with attributes:\n",
              "\n",
              "ap_class_index: array([0])\n",
              "box: ultralytics.utils.metrics.Metric object\n",
              "confusion_matrix: <ultralytics.utils.metrics.ConfusionMatrix object at 0x7b475ebc6b60>\n",
              "curves: ['Precision-Recall(B)', 'F1-Confidence(B)', 'Precision-Confidence(B)', 'Recall-Confidence(B)']\n",
              "curves_results: [[array([          0,    0.001001,    0.002002,    0.003003,    0.004004,    0.005005,    0.006006,    0.007007,    0.008008,    0.009009,     0.01001,    0.011011,    0.012012,    0.013013,    0.014014,    0.015015,    0.016016,    0.017017,    0.018018,    0.019019,     0.02002,    0.021021,    0.022022,    0.023023,\n",
              "          0.024024,    0.025025,    0.026026,    0.027027,    0.028028,    0.029029,     0.03003,    0.031031,    0.032032,    0.033033,    0.034034,    0.035035,    0.036036,    0.037037,    0.038038,    0.039039,     0.04004,    0.041041,    0.042042,    0.043043,    0.044044,    0.045045,    0.046046,    0.047047,\n",
              "          0.048048,    0.049049,     0.05005,    0.051051,    0.052052,    0.053053,    0.054054,    0.055055,    0.056056,    0.057057,    0.058058,    0.059059,     0.06006,    0.061061,    0.062062,    0.063063,    0.064064,    0.065065,    0.066066,    0.067067,    0.068068,    0.069069,     0.07007,    0.071071,\n",
              "          0.072072,    0.073073,    0.074074,    0.075075,    0.076076,    0.077077,    0.078078,    0.079079,     0.08008,    0.081081,    0.082082,    0.083083,    0.084084,    0.085085,    0.086086,    0.087087,    0.088088,    0.089089,     0.09009,    0.091091,    0.092092,    0.093093,    0.094094,    0.095095,\n",
              "          0.096096,    0.097097,    0.098098,    0.099099,      0.1001,      0.1011,      0.1021,      0.1031,      0.1041,     0.10511,     0.10611,     0.10711,     0.10811,     0.10911,     0.11011,     0.11111,     0.11211,     0.11311,     0.11411,     0.11512,     0.11612,     0.11712,     0.11812,     0.11912,\n",
              "           0.12012,     0.12112,     0.12212,     0.12312,     0.12412,     0.12513,     0.12613,     0.12713,     0.12813,     0.12913,     0.13013,     0.13113,     0.13213,     0.13313,     0.13413,     0.13514,     0.13614,     0.13714,     0.13814,     0.13914,     0.14014,     0.14114,     0.14214,     0.14314,\n",
              "           0.14414,     0.14515,     0.14615,     0.14715,     0.14815,     0.14915,     0.15015,     0.15115,     0.15215,     0.15315,     0.15415,     0.15516,     0.15616,     0.15716,     0.15816,     0.15916,     0.16016,     0.16116,     0.16216,     0.16316,     0.16416,     0.16517,     0.16617,     0.16717,\n",
              "           0.16817,     0.16917,     0.17017,     0.17117,     0.17217,     0.17317,     0.17417,     0.17518,     0.17618,     0.17718,     0.17818,     0.17918,     0.18018,     0.18118,     0.18218,     0.18318,     0.18418,     0.18519,     0.18619,     0.18719,     0.18819,     0.18919,     0.19019,     0.19119,\n",
              "           0.19219,     0.19319,     0.19419,      0.1952,      0.1962,      0.1972,      0.1982,      0.1992,      0.2002,      0.2012,      0.2022,      0.2032,      0.2042,     0.20521,     0.20621,     0.20721,     0.20821,     0.20921,     0.21021,     0.21121,     0.21221,     0.21321,     0.21421,     0.21522,\n",
              "           0.21622,     0.21722,     0.21822,     0.21922,     0.22022,     0.22122,     0.22222,     0.22322,     0.22422,     0.22523,     0.22623,     0.22723,     0.22823,     0.22923,     0.23023,     0.23123,     0.23223,     0.23323,     0.23423,     0.23524,     0.23624,     0.23724,     0.23824,     0.23924,\n",
              "           0.24024,     0.24124,     0.24224,     0.24324,     0.24424,     0.24525,     0.24625,     0.24725,     0.24825,     0.24925,     0.25025,     0.25125,     0.25225,     0.25325,     0.25425,     0.25526,     0.25626,     0.25726,     0.25826,     0.25926,     0.26026,     0.26126,     0.26226,     0.26326,\n",
              "           0.26426,     0.26527,     0.26627,     0.26727,     0.26827,     0.26927,     0.27027,     0.27127,     0.27227,     0.27327,     0.27427,     0.27528,     0.27628,     0.27728,     0.27828,     0.27928,     0.28028,     0.28128,     0.28228,     0.28328,     0.28428,     0.28529,     0.28629,     0.28729,\n",
              "           0.28829,     0.28929,     0.29029,     0.29129,     0.29229,     0.29329,     0.29429,      0.2953,      0.2963,      0.2973,      0.2983,      0.2993,      0.3003,      0.3013,      0.3023,      0.3033,      0.3043,     0.30531,     0.30631,     0.30731,     0.30831,     0.30931,     0.31031,     0.31131,\n",
              "           0.31231,     0.31331,     0.31431,     0.31532,     0.31632,     0.31732,     0.31832,     0.31932,     0.32032,     0.32132,     0.32232,     0.32332,     0.32432,     0.32533,     0.32633,     0.32733,     0.32833,     0.32933,     0.33033,     0.33133,     0.33233,     0.33333,     0.33433,     0.33534,\n",
              "           0.33634,     0.33734,     0.33834,     0.33934,     0.34034,     0.34134,     0.34234,     0.34334,     0.34434,     0.34535,     0.34635,     0.34735,     0.34835,     0.34935,     0.35035,     0.35135,     0.35235,     0.35335,     0.35435,     0.35536,     0.35636,     0.35736,     0.35836,     0.35936,\n",
              "           0.36036,     0.36136,     0.36236,     0.36336,     0.36436,     0.36537,     0.36637,     0.36737,     0.36837,     0.36937,     0.37037,     0.37137,     0.37237,     0.37337,     0.37437,     0.37538,     0.37638,     0.37738,     0.37838,     0.37938,     0.38038,     0.38138,     0.38238,     0.38338,\n",
              "           0.38438,     0.38539,     0.38639,     0.38739,     0.38839,     0.38939,     0.39039,     0.39139,     0.39239,     0.39339,     0.39439,      0.3954,      0.3964,      0.3974,      0.3984,      0.3994,      0.4004,      0.4014,      0.4024,      0.4034,      0.4044,     0.40541,     0.40641,     0.40741,\n",
              "           0.40841,     0.40941,     0.41041,     0.41141,     0.41241,     0.41341,     0.41441,     0.41542,     0.41642,     0.41742,     0.41842,     0.41942,     0.42042,     0.42142,     0.42242,     0.42342,     0.42442,     0.42543,     0.42643,     0.42743,     0.42843,     0.42943,     0.43043,     0.43143,\n",
              "           0.43243,     0.43343,     0.43443,     0.43544,     0.43644,     0.43744,     0.43844,     0.43944,     0.44044,     0.44144,     0.44244,     0.44344,     0.44444,     0.44545,     0.44645,     0.44745,     0.44845,     0.44945,     0.45045,     0.45145,     0.45245,     0.45345,     0.45445,     0.45546,\n",
              "           0.45646,     0.45746,     0.45846,     0.45946,     0.46046,     0.46146,     0.46246,     0.46346,     0.46446,     0.46547,     0.46647,     0.46747,     0.46847,     0.46947,     0.47047,     0.47147,     0.47247,     0.47347,     0.47447,     0.47548,     0.47648,     0.47748,     0.47848,     0.47948,\n",
              "           0.48048,     0.48148,     0.48248,     0.48348,     0.48448,     0.48549,     0.48649,     0.48749,     0.48849,     0.48949,     0.49049,     0.49149,     0.49249,     0.49349,     0.49449,      0.4955,      0.4965,      0.4975,      0.4985,      0.4995,      0.5005,      0.5015,      0.5025,      0.5035,\n",
              "            0.5045,     0.50551,     0.50651,     0.50751,     0.50851,     0.50951,     0.51051,     0.51151,     0.51251,     0.51351,     0.51451,     0.51552,     0.51652,     0.51752,     0.51852,     0.51952,     0.52052,     0.52152,     0.52252,     0.52352,     0.52452,     0.52553,     0.52653,     0.52753,\n",
              "           0.52853,     0.52953,     0.53053,     0.53153,     0.53253,     0.53353,     0.53453,     0.53554,     0.53654,     0.53754,     0.53854,     0.53954,     0.54054,     0.54154,     0.54254,     0.54354,     0.54454,     0.54555,     0.54655,     0.54755,     0.54855,     0.54955,     0.55055,     0.55155,\n",
              "           0.55255,     0.55355,     0.55455,     0.55556,     0.55656,     0.55756,     0.55856,     0.55956,     0.56056,     0.56156,     0.56256,     0.56356,     0.56456,     0.56557,     0.56657,     0.56757,     0.56857,     0.56957,     0.57057,     0.57157,     0.57257,     0.57357,     0.57457,     0.57558,\n",
              "           0.57658,     0.57758,     0.57858,     0.57958,     0.58058,     0.58158,     0.58258,     0.58358,     0.58458,     0.58559,     0.58659,     0.58759,     0.58859,     0.58959,     0.59059,     0.59159,     0.59259,     0.59359,     0.59459,      0.5956,      0.5966,      0.5976,      0.5986,      0.5996,\n",
              "            0.6006,      0.6016,      0.6026,      0.6036,      0.6046,     0.60561,     0.60661,     0.60761,     0.60861,     0.60961,     0.61061,     0.61161,     0.61261,     0.61361,     0.61461,     0.61562,     0.61662,     0.61762,     0.61862,     0.61962,     0.62062,     0.62162,     0.62262,     0.62362,\n",
              "           0.62462,     0.62563,     0.62663,     0.62763,     0.62863,     0.62963,     0.63063,     0.63163,     0.63263,     0.63363,     0.63463,     0.63564,     0.63664,     0.63764,     0.63864,     0.63964,     0.64064,     0.64164,     0.64264,     0.64364,     0.64464,     0.64565,     0.64665,     0.64765,\n",
              "           0.64865,     0.64965,     0.65065,     0.65165,     0.65265,     0.65365,     0.65465,     0.65566,     0.65666,     0.65766,     0.65866,     0.65966,     0.66066,     0.66166,     0.66266,     0.66366,     0.66466,     0.66567,     0.66667,     0.66767,     0.66867,     0.66967,     0.67067,     0.67167,\n",
              "           0.67267,     0.67367,     0.67467,     0.67568,     0.67668,     0.67768,     0.67868,     0.67968,     0.68068,     0.68168,     0.68268,     0.68368,     0.68468,     0.68569,     0.68669,     0.68769,     0.68869,     0.68969,     0.69069,     0.69169,     0.69269,     0.69369,     0.69469,      0.6957,\n",
              "            0.6967,      0.6977,      0.6987,      0.6997,      0.7007,      0.7017,      0.7027,      0.7037,      0.7047,     0.70571,     0.70671,     0.70771,     0.70871,     0.70971,     0.71071,     0.71171,     0.71271,     0.71371,     0.71471,     0.71572,     0.71672,     0.71772,     0.71872,     0.71972,\n",
              "           0.72072,     0.72172,     0.72272,     0.72372,     0.72472,     0.72573,     0.72673,     0.72773,     0.72873,     0.72973,     0.73073,     0.73173,     0.73273,     0.73373,     0.73473,     0.73574,     0.73674,     0.73774,     0.73874,     0.73974,     0.74074,     0.74174,     0.74274,     0.74374,\n",
              "           0.74474,     0.74575,     0.74675,     0.74775,     0.74875,     0.74975,     0.75075,     0.75175,     0.75275,     0.75375,     0.75475,     0.75576,     0.75676,     0.75776,     0.75876,     0.75976,     0.76076,     0.76176,     0.76276,     0.76376,     0.76476,     0.76577,     0.76677,     0.76777,\n",
              "           0.76877,     0.76977,     0.77077,     0.77177,     0.77277,     0.77377,     0.77477,     0.77578,     0.77678,     0.77778,     0.77878,     0.77978,     0.78078,     0.78178,     0.78278,     0.78378,     0.78478,     0.78579,     0.78679,     0.78779,     0.78879,     0.78979,     0.79079,     0.79179,\n",
              "           0.79279,     0.79379,     0.79479,      0.7958,      0.7968,      0.7978,      0.7988,      0.7998,      0.8008,      0.8018,      0.8028,      0.8038,      0.8048,     0.80581,     0.80681,     0.80781,     0.80881,     0.80981,     0.81081,     0.81181,     0.81281,     0.81381,     0.81481,     0.81582,\n",
              "           0.81682,     0.81782,     0.81882,     0.81982,     0.82082,     0.82182,     0.82282,     0.82382,     0.82482,     0.82583,     0.82683,     0.82783,     0.82883,     0.82983,     0.83083,     0.83183,     0.83283,     0.83383,     0.83483,     0.83584,     0.83684,     0.83784,     0.83884,     0.83984,\n",
              "           0.84084,     0.84184,     0.84284,     0.84384,     0.84484,     0.84585,     0.84685,     0.84785,     0.84885,     0.84985,     0.85085,     0.85185,     0.85285,     0.85385,     0.85485,     0.85586,     0.85686,     0.85786,     0.85886,     0.85986,     0.86086,     0.86186,     0.86286,     0.86386,\n",
              "           0.86486,     0.86587,     0.86687,     0.86787,     0.86887,     0.86987,     0.87087,     0.87187,     0.87287,     0.87387,     0.87487,     0.87588,     0.87688,     0.87788,     0.87888,     0.87988,     0.88088,     0.88188,     0.88288,     0.88388,     0.88488,     0.88589,     0.88689,     0.88789,\n",
              "           0.88889,     0.88989,     0.89089,     0.89189,     0.89289,     0.89389,     0.89489,      0.8959,      0.8969,      0.8979,      0.8989,      0.8999,      0.9009,      0.9019,      0.9029,      0.9039,      0.9049,     0.90591,     0.90691,     0.90791,     0.90891,     0.90991,     0.91091,     0.91191,\n",
              "           0.91291,     0.91391,     0.91491,     0.91592,     0.91692,     0.91792,     0.91892,     0.91992,     0.92092,     0.92192,     0.92292,     0.92392,     0.92492,     0.92593,     0.92693,     0.92793,     0.92893,     0.92993,     0.93093,     0.93193,     0.93293,     0.93393,     0.93493,     0.93594,\n",
              "           0.93694,     0.93794,     0.93894,     0.93994,     0.94094,     0.94194,     0.94294,     0.94394,     0.94494,     0.94595,     0.94695,     0.94795,     0.94895,     0.94995,     0.95095,     0.95195,     0.95295,     0.95395,     0.95495,     0.95596,     0.95696,     0.95796,     0.95896,     0.95996,\n",
              "           0.96096,     0.96196,     0.96296,     0.96396,     0.96496,     0.96597,     0.96697,     0.96797,     0.96897,     0.96997,     0.97097,     0.97197,     0.97297,     0.97397,     0.97497,     0.97598,     0.97698,     0.97798,     0.97898,     0.97998,     0.98098,     0.98198,     0.98298,     0.98398,\n",
              "           0.98498,     0.98599,     0.98699,     0.98799,     0.98899,     0.98999,     0.99099,     0.99199,     0.99299,     0.99399,     0.99499,       0.996,       0.997,       0.998,       0.999,           1]), array([[          1,           1,           1,           1,           1,           1,           1,           1,           1,           1,           1,           1,           1,           1,           1,           1,           1,           1,           1,           1,           1,           1,           1,\n",
              "                  1,           1,           1,           1,           1,           1,           1,           1,           1,           1,           1,           1,           1,           1,           1,           1,           1,           1,           1,           1,           1,           1,           1,\n",
              "                  1,           1,           1,           1,           1,           1,           1,           1,           1,           1,           1,           1,           1,           1,           1,           1,           1,           1,           1,           1,           1,           1,           1,\n",
              "                  1,           1,           1,           1,           1,           1,           1,           1,           1,           1,           1,           1,           1,           1,           1,           1,           1,           1,           1,           1,           1,           1,           1,\n",
              "                  1,           1,           1,           1,           1,           1,           1,           1,           1,           1,           1,           1,           1,           1,           1,           1,           1,           1,           1,           1,           1,           1,           1,\n",
              "                  1,           1,           1,           1,           1,           1,           1,           1,           1,           1,           1,           1,           1,           1,           1,           1,           1,           1,           1,           1,           1,           1,           1,\n",
              "                  1,           1,           1,           1,           1,           1,           1,           1,           1,           1,           1,           1,           1,           1,           1,           1,           1,           1,           1,           1,           1,           1,           1,\n",
              "                  1,           1,           1,           1,           1,           1,           1,           1,           1,           1,           1,           1,           1,           1,           1,           1,           1,           1,           1,           1,           1,           1,           1,\n",
              "                  1,           1,           1,           1,           1,           1,           1,           1,           1,           1,           1,           1,           1,           1,           1,           1,           1,           1,           1,           1,           1,           1,           1,\n",
              "                  1,           1,           1,           1,           1,           1,           1,           1,           1,           1,           1,           1,           1,           1,           1,           1,           1,           1,           1,           1,           1,           1,           1,\n",
              "                  1,           1,           1,           1,           1,           1,           1,           1,           1,           1,           1,           1,           1,           1,           1,           1,           1,           1,           1,           1,           1,           1,           1,\n",
              "                  1,           1,           1,           1,           1,           1,           1,           1,           1,           1,           1,           1,           1,           1,           1,           1,           1,           1,           1,           1,           1,           1,           1,\n",
              "                  1,           1,           1,           1,           1,           1,           1,           1,           1,           1,           1,           1,           1,           1,           1,           1,           1,           1,           1,           1,           1,           1,           1,\n",
              "                  1,           1,           1,           1,           1,           1,           1,           1,           1,           1,           1,           1,           1,           1,           1,           1,           1,           1,           1,           1,           1,           1,           1,\n",
              "                  1,           1,           1,           1,           1,           1,           1,           1,           1,           1,           1,           1,           1,           1,           1,           1,           1,           1,           1,           1,           1,           1,           1,\n",
              "                  1,           1,           1,           1,           1,           1,           1,           1,           1,           1,           1,           1,           1,           1,           1,           1,           1,           1,           1,           1,           1,           1,           1,\n",
              "                  1,           1,           1,           1,           1,           1,           1,           1,           1,           1,           1,           1,           1,           1,           1,           1,           1,           1,           1,           1,           1,           1,           1,\n",
              "                  1,           1,           1,           1,           1,           1,           1,           1,           1,           1,           1,           1,           1,           1,           1,           1,           1,           1,           1,           1,           1,           1,           1,\n",
              "                  1,           1,           1,           1,           1,           1,           1,           1,           1,           1,           1,           1,           1,           1,           1,           1,           1,           1,           1,           1,           1,           1,           1,\n",
              "                  1,           1,           1,           1,           1,           1,           1,           1,           1,           1,           1,           1,           1,           1,           1,           1,           1,           1,           1,           1,           1,           1,           1,\n",
              "                  1,           1,           1,           1,           1,           1,           1,           1,           1,           1,           1,           1,           1,           1,           1,           1,           1,           1,           1,           1,           1,           1,           1,\n",
              "                  1,           1,           1,           1,           1,           1,           1,           1,           1,           1,           1,           1,           1,           1,           1,           1,           1,           1,           1,           1,           1,           1,           1,\n",
              "                  1,           1,           1,           1,           1,           1,           1,           1,           1,           1,           1,           1,           1,           1,           1,           1,           1,           1,           1,           1,           1,           1,           1,\n",
              "                  1,           1,           1,           1,           1,           1,           1,           1,           1,           1,           1,           1,           1,           1,           1,           1,           1,           1,           1,           1,           1,           1,           1,\n",
              "                  1,           1,           1,           1,           1,           1,           1,           1,           1,           1,           1,           1,           1,           1,           1,           1,           1,           1,           1,           1,           1,           1,           1,\n",
              "                  1,           1,           1,           1,           1,           1,           1,           1,           1,           1,           1,           1,           1,           1,           1,           1,           1,           1,           1,           1,           1,           1,           1,\n",
              "                  1,           1,           1,           1,           1,           1,           1,           1,           1,           1,           1,           1,           1,           1,           1,           1,           1,           1,           1,           1,           1,           1,           1,\n",
              "                  1,           1,           1,           1,           1,           1,           1,           1,           1,           1,           1,           1,           1,           1,           1,           1,           1,           1,           1,           1,           1,           1,           1,\n",
              "                  1,           1,           1,           1,           1,           1,           1,           1,           1,           1,           1,           1,           1,           1,           1,           1,           1,           1,           1,           1,           1,           1,           1,\n",
              "                  1,           1,           1,           1,           1,           1,           1,           1,           1,           1,           1,           1,           1,           1,           1,           1,           1,           1,           1,           1,           1,           1,           1,\n",
              "                  1,           1,           1,           1,           1,           1,           1,           1,           1,           1,           1,           1,           1,           1,           1,           1,           1,           1,           1,           1,           1,           1,           1,\n",
              "                  1,           1,           1,           1,           1,           1,           1,           1,           1,           1,           1,           1,           1,           1,           1,           1,           1,           1,           1,           1,           1,           1,           1,\n",
              "                  1,           1,           1,           1,           1,           1,           1,           1,           1,           1,           1,           1,           1,           1,           1,           1,           1,           1,           1,           1,           1,           1,           1,\n",
              "                  1,           1,           1,           1,           1,           1,           1,           1,           1,           1,           1,           1,           1,           1,           1,           1,           1,           1,           1,           1,           1,           1,           1,\n",
              "                  1,           1,           1,           1,           1,           1,           1,           1,           1,           1,           1,           1,           1,           1,           1,           1,           1,           1,           1,           1,           1,           1,           1,\n",
              "                  1,           1,           1,           1,           1,           1,           1,           1,           1,           1,           1,           1,           1,           1,           1,           1,           1,           1,           1,           1,           1,           1,           1,\n",
              "                  1,           1,           1,           1,           1,           1,           1,           1,           1,           1,           1,           1,           1,           1,           1,           1,           1,           1,           1,           1,           1,           1,           1,\n",
              "                  1,           1,           1,           1,           1,           1,           1,           1,           1,           1,           1,           1,           1,           1,           1,           1,           1,           1,           1,           1,           1,           1,           1,\n",
              "                  1,           1,           1,           1,           1,           1,           1,           1,           1,           1,           1,           1,           1,           1,           1,           1,           1,           1,           1,           1,           1,           1,           1,\n",
              "                  1,           1,           1,           1,           1,           1,           1,           1,           1,           1,           1,           1,           1,           1,           1,           1,           1,           1,           1,           1,           1,           1,           1,\n",
              "                  1,           1,           1,           1,           1,           1,           1,           1,           1,           1,           1,           1,           1,           1,           1,           1,           1,           1,           1,           1,     0.99435,     0.99435,     0.99435,\n",
              "            0.99435,     0.99435,     0.99435,     0.99435,     0.99435,     0.99435,     0.99435,     0.99435,     0.98895,     0.98895,     0.98895,     0.98895,     0.98895,     0.98895,     0.98895,     0.98895,     0.98895,     0.98895,     0.98895,     0.98895,     0.98895,     0.98895,     0.98895,\n",
              "            0.98895,      0.9375,      0.9375,      0.9375,      0.9375,      0.9375,      0.9375,     0.91878,     0.91878,     0.91878,     0.91878,     0.91878,     0.56583,     0.53888,     0.51194,     0.48499,     0.45805,     0.43111,     0.40416,     0.37722,     0.35027,     0.32333,     0.29639,\n",
              "            0.26944,      0.2425,     0.21555,     0.18861,     0.16166,     0.13472,     0.10778,    0.080832,    0.053888,    0.026944,           0]]), 'Recall', 'Precision'], [array([          0,    0.001001,    0.002002,    0.003003,    0.004004,    0.005005,    0.006006,    0.007007,    0.008008,    0.009009,     0.01001,    0.011011,    0.012012,    0.013013,    0.014014,    0.015015,    0.016016,    0.017017,    0.018018,    0.019019,     0.02002,    0.021021,    0.022022,    0.023023,\n",
              "          0.024024,    0.025025,    0.026026,    0.027027,    0.028028,    0.029029,     0.03003,    0.031031,    0.032032,    0.033033,    0.034034,    0.035035,    0.036036,    0.037037,    0.038038,    0.039039,     0.04004,    0.041041,    0.042042,    0.043043,    0.044044,    0.045045,    0.046046,    0.047047,\n",
              "          0.048048,    0.049049,     0.05005,    0.051051,    0.052052,    0.053053,    0.054054,    0.055055,    0.056056,    0.057057,    0.058058,    0.059059,     0.06006,    0.061061,    0.062062,    0.063063,    0.064064,    0.065065,    0.066066,    0.067067,    0.068068,    0.069069,     0.07007,    0.071071,\n",
              "          0.072072,    0.073073,    0.074074,    0.075075,    0.076076,    0.077077,    0.078078,    0.079079,     0.08008,    0.081081,    0.082082,    0.083083,    0.084084,    0.085085,    0.086086,    0.087087,    0.088088,    0.089089,     0.09009,    0.091091,    0.092092,    0.093093,    0.094094,    0.095095,\n",
              "          0.096096,    0.097097,    0.098098,    0.099099,      0.1001,      0.1011,      0.1021,      0.1031,      0.1041,     0.10511,     0.10611,     0.10711,     0.10811,     0.10911,     0.11011,     0.11111,     0.11211,     0.11311,     0.11411,     0.11512,     0.11612,     0.11712,     0.11812,     0.11912,\n",
              "           0.12012,     0.12112,     0.12212,     0.12312,     0.12412,     0.12513,     0.12613,     0.12713,     0.12813,     0.12913,     0.13013,     0.13113,     0.13213,     0.13313,     0.13413,     0.13514,     0.13614,     0.13714,     0.13814,     0.13914,     0.14014,     0.14114,     0.14214,     0.14314,\n",
              "           0.14414,     0.14515,     0.14615,     0.14715,     0.14815,     0.14915,     0.15015,     0.15115,     0.15215,     0.15315,     0.15415,     0.15516,     0.15616,     0.15716,     0.15816,     0.15916,     0.16016,     0.16116,     0.16216,     0.16316,     0.16416,     0.16517,     0.16617,     0.16717,\n",
              "           0.16817,     0.16917,     0.17017,     0.17117,     0.17217,     0.17317,     0.17417,     0.17518,     0.17618,     0.17718,     0.17818,     0.17918,     0.18018,     0.18118,     0.18218,     0.18318,     0.18418,     0.18519,     0.18619,     0.18719,     0.18819,     0.18919,     0.19019,     0.19119,\n",
              "           0.19219,     0.19319,     0.19419,      0.1952,      0.1962,      0.1972,      0.1982,      0.1992,      0.2002,      0.2012,      0.2022,      0.2032,      0.2042,     0.20521,     0.20621,     0.20721,     0.20821,     0.20921,     0.21021,     0.21121,     0.21221,     0.21321,     0.21421,     0.21522,\n",
              "           0.21622,     0.21722,     0.21822,     0.21922,     0.22022,     0.22122,     0.22222,     0.22322,     0.22422,     0.22523,     0.22623,     0.22723,     0.22823,     0.22923,     0.23023,     0.23123,     0.23223,     0.23323,     0.23423,     0.23524,     0.23624,     0.23724,     0.23824,     0.23924,\n",
              "           0.24024,     0.24124,     0.24224,     0.24324,     0.24424,     0.24525,     0.24625,     0.24725,     0.24825,     0.24925,     0.25025,     0.25125,     0.25225,     0.25325,     0.25425,     0.25526,     0.25626,     0.25726,     0.25826,     0.25926,     0.26026,     0.26126,     0.26226,     0.26326,\n",
              "           0.26426,     0.26527,     0.26627,     0.26727,     0.26827,     0.26927,     0.27027,     0.27127,     0.27227,     0.27327,     0.27427,     0.27528,     0.27628,     0.27728,     0.27828,     0.27928,     0.28028,     0.28128,     0.28228,     0.28328,     0.28428,     0.28529,     0.28629,     0.28729,\n",
              "           0.28829,     0.28929,     0.29029,     0.29129,     0.29229,     0.29329,     0.29429,      0.2953,      0.2963,      0.2973,      0.2983,      0.2993,      0.3003,      0.3013,      0.3023,      0.3033,      0.3043,     0.30531,     0.30631,     0.30731,     0.30831,     0.30931,     0.31031,     0.31131,\n",
              "           0.31231,     0.31331,     0.31431,     0.31532,     0.31632,     0.31732,     0.31832,     0.31932,     0.32032,     0.32132,     0.32232,     0.32332,     0.32432,     0.32533,     0.32633,     0.32733,     0.32833,     0.32933,     0.33033,     0.33133,     0.33233,     0.33333,     0.33433,     0.33534,\n",
              "           0.33634,     0.33734,     0.33834,     0.33934,     0.34034,     0.34134,     0.34234,     0.34334,     0.34434,     0.34535,     0.34635,     0.34735,     0.34835,     0.34935,     0.35035,     0.35135,     0.35235,     0.35335,     0.35435,     0.35536,     0.35636,     0.35736,     0.35836,     0.35936,\n",
              "           0.36036,     0.36136,     0.36236,     0.36336,     0.36436,     0.36537,     0.36637,     0.36737,     0.36837,     0.36937,     0.37037,     0.37137,     0.37237,     0.37337,     0.37437,     0.37538,     0.37638,     0.37738,     0.37838,     0.37938,     0.38038,     0.38138,     0.38238,     0.38338,\n",
              "           0.38438,     0.38539,     0.38639,     0.38739,     0.38839,     0.38939,     0.39039,     0.39139,     0.39239,     0.39339,     0.39439,      0.3954,      0.3964,      0.3974,      0.3984,      0.3994,      0.4004,      0.4014,      0.4024,      0.4034,      0.4044,     0.40541,     0.40641,     0.40741,\n",
              "           0.40841,     0.40941,     0.41041,     0.41141,     0.41241,     0.41341,     0.41441,     0.41542,     0.41642,     0.41742,     0.41842,     0.41942,     0.42042,     0.42142,     0.42242,     0.42342,     0.42442,     0.42543,     0.42643,     0.42743,     0.42843,     0.42943,     0.43043,     0.43143,\n",
              "           0.43243,     0.43343,     0.43443,     0.43544,     0.43644,     0.43744,     0.43844,     0.43944,     0.44044,     0.44144,     0.44244,     0.44344,     0.44444,     0.44545,     0.44645,     0.44745,     0.44845,     0.44945,     0.45045,     0.45145,     0.45245,     0.45345,     0.45445,     0.45546,\n",
              "           0.45646,     0.45746,     0.45846,     0.45946,     0.46046,     0.46146,     0.46246,     0.46346,     0.46446,     0.46547,     0.46647,     0.46747,     0.46847,     0.46947,     0.47047,     0.47147,     0.47247,     0.47347,     0.47447,     0.47548,     0.47648,     0.47748,     0.47848,     0.47948,\n",
              "           0.48048,     0.48148,     0.48248,     0.48348,     0.48448,     0.48549,     0.48649,     0.48749,     0.48849,     0.48949,     0.49049,     0.49149,     0.49249,     0.49349,     0.49449,      0.4955,      0.4965,      0.4975,      0.4985,      0.4995,      0.5005,      0.5015,      0.5025,      0.5035,\n",
              "            0.5045,     0.50551,     0.50651,     0.50751,     0.50851,     0.50951,     0.51051,     0.51151,     0.51251,     0.51351,     0.51451,     0.51552,     0.51652,     0.51752,     0.51852,     0.51952,     0.52052,     0.52152,     0.52252,     0.52352,     0.52452,     0.52553,     0.52653,     0.52753,\n",
              "           0.52853,     0.52953,     0.53053,     0.53153,     0.53253,     0.53353,     0.53453,     0.53554,     0.53654,     0.53754,     0.53854,     0.53954,     0.54054,     0.54154,     0.54254,     0.54354,     0.54454,     0.54555,     0.54655,     0.54755,     0.54855,     0.54955,     0.55055,     0.55155,\n",
              "           0.55255,     0.55355,     0.55455,     0.55556,     0.55656,     0.55756,     0.55856,     0.55956,     0.56056,     0.56156,     0.56256,     0.56356,     0.56456,     0.56557,     0.56657,     0.56757,     0.56857,     0.56957,     0.57057,     0.57157,     0.57257,     0.57357,     0.57457,     0.57558,\n",
              "           0.57658,     0.57758,     0.57858,     0.57958,     0.58058,     0.58158,     0.58258,     0.58358,     0.58458,     0.58559,     0.58659,     0.58759,     0.58859,     0.58959,     0.59059,     0.59159,     0.59259,     0.59359,     0.59459,      0.5956,      0.5966,      0.5976,      0.5986,      0.5996,\n",
              "            0.6006,      0.6016,      0.6026,      0.6036,      0.6046,     0.60561,     0.60661,     0.60761,     0.60861,     0.60961,     0.61061,     0.61161,     0.61261,     0.61361,     0.61461,     0.61562,     0.61662,     0.61762,     0.61862,     0.61962,     0.62062,     0.62162,     0.62262,     0.62362,\n",
              "           0.62462,     0.62563,     0.62663,     0.62763,     0.62863,     0.62963,     0.63063,     0.63163,     0.63263,     0.63363,     0.63463,     0.63564,     0.63664,     0.63764,     0.63864,     0.63964,     0.64064,     0.64164,     0.64264,     0.64364,     0.64464,     0.64565,     0.64665,     0.64765,\n",
              "           0.64865,     0.64965,     0.65065,     0.65165,     0.65265,     0.65365,     0.65465,     0.65566,     0.65666,     0.65766,     0.65866,     0.65966,     0.66066,     0.66166,     0.66266,     0.66366,     0.66466,     0.66567,     0.66667,     0.66767,     0.66867,     0.66967,     0.67067,     0.67167,\n",
              "           0.67267,     0.67367,     0.67467,     0.67568,     0.67668,     0.67768,     0.67868,     0.67968,     0.68068,     0.68168,     0.68268,     0.68368,     0.68468,     0.68569,     0.68669,     0.68769,     0.68869,     0.68969,     0.69069,     0.69169,     0.69269,     0.69369,     0.69469,      0.6957,\n",
              "            0.6967,      0.6977,      0.6987,      0.6997,      0.7007,      0.7017,      0.7027,      0.7037,      0.7047,     0.70571,     0.70671,     0.70771,     0.70871,     0.70971,     0.71071,     0.71171,     0.71271,     0.71371,     0.71471,     0.71572,     0.71672,     0.71772,     0.71872,     0.71972,\n",
              "           0.72072,     0.72172,     0.72272,     0.72372,     0.72472,     0.72573,     0.72673,     0.72773,     0.72873,     0.72973,     0.73073,     0.73173,     0.73273,     0.73373,     0.73473,     0.73574,     0.73674,     0.73774,     0.73874,     0.73974,     0.74074,     0.74174,     0.74274,     0.74374,\n",
              "           0.74474,     0.74575,     0.74675,     0.74775,     0.74875,     0.74975,     0.75075,     0.75175,     0.75275,     0.75375,     0.75475,     0.75576,     0.75676,     0.75776,     0.75876,     0.75976,     0.76076,     0.76176,     0.76276,     0.76376,     0.76476,     0.76577,     0.76677,     0.76777,\n",
              "           0.76877,     0.76977,     0.77077,     0.77177,     0.77277,     0.77377,     0.77477,     0.77578,     0.77678,     0.77778,     0.77878,     0.77978,     0.78078,     0.78178,     0.78278,     0.78378,     0.78478,     0.78579,     0.78679,     0.78779,     0.78879,     0.78979,     0.79079,     0.79179,\n",
              "           0.79279,     0.79379,     0.79479,      0.7958,      0.7968,      0.7978,      0.7988,      0.7998,      0.8008,      0.8018,      0.8028,      0.8038,      0.8048,     0.80581,     0.80681,     0.80781,     0.80881,     0.80981,     0.81081,     0.81181,     0.81281,     0.81381,     0.81481,     0.81582,\n",
              "           0.81682,     0.81782,     0.81882,     0.81982,     0.82082,     0.82182,     0.82282,     0.82382,     0.82482,     0.82583,     0.82683,     0.82783,     0.82883,     0.82983,     0.83083,     0.83183,     0.83283,     0.83383,     0.83483,     0.83584,     0.83684,     0.83784,     0.83884,     0.83984,\n",
              "           0.84084,     0.84184,     0.84284,     0.84384,     0.84484,     0.84585,     0.84685,     0.84785,     0.84885,     0.84985,     0.85085,     0.85185,     0.85285,     0.85385,     0.85485,     0.85586,     0.85686,     0.85786,     0.85886,     0.85986,     0.86086,     0.86186,     0.86286,     0.86386,\n",
              "           0.86486,     0.86587,     0.86687,     0.86787,     0.86887,     0.86987,     0.87087,     0.87187,     0.87287,     0.87387,     0.87487,     0.87588,     0.87688,     0.87788,     0.87888,     0.87988,     0.88088,     0.88188,     0.88288,     0.88388,     0.88488,     0.88589,     0.88689,     0.88789,\n",
              "           0.88889,     0.88989,     0.89089,     0.89189,     0.89289,     0.89389,     0.89489,      0.8959,      0.8969,      0.8979,      0.8989,      0.8999,      0.9009,      0.9019,      0.9029,      0.9039,      0.9049,     0.90591,     0.90691,     0.90791,     0.90891,     0.90991,     0.91091,     0.91191,\n",
              "           0.91291,     0.91391,     0.91491,     0.91592,     0.91692,     0.91792,     0.91892,     0.91992,     0.92092,     0.92192,     0.92292,     0.92392,     0.92492,     0.92593,     0.92693,     0.92793,     0.92893,     0.92993,     0.93093,     0.93193,     0.93293,     0.93393,     0.93493,     0.93594,\n",
              "           0.93694,     0.93794,     0.93894,     0.93994,     0.94094,     0.94194,     0.94294,     0.94394,     0.94494,     0.94595,     0.94695,     0.94795,     0.94895,     0.94995,     0.95095,     0.95195,     0.95295,     0.95395,     0.95495,     0.95596,     0.95696,     0.95796,     0.95896,     0.95996,\n",
              "           0.96096,     0.96196,     0.96296,     0.96396,     0.96496,     0.96597,     0.96697,     0.96797,     0.96897,     0.96997,     0.97097,     0.97197,     0.97297,     0.97397,     0.97497,     0.97598,     0.97698,     0.97798,     0.97898,     0.97998,     0.98098,     0.98198,     0.98298,     0.98398,\n",
              "           0.98498,     0.98599,     0.98699,     0.98799,     0.98899,     0.98999,     0.99099,     0.99199,     0.99299,     0.99399,     0.99499,       0.996,       0.997,       0.998,       0.999,           1]), array([[    0.72984,     0.72984,     0.81529,     0.86478,     0.88552,     0.89829,     0.91264,     0.91743,     0.91969,     0.92307,     0.92417,      0.9249,     0.92563,     0.92905,       0.931,     0.93186,     0.93271,     0.93512,     0.93707,     0.93953,     0.94281,     0.94324,     0.94368,\n",
              "            0.94411,     0.94455,     0.94498,     0.94633,     0.94675,     0.94498,     0.94542,     0.94586,      0.9463,     0.94674,     0.94717,      0.9475,     0.94773,     0.94797,      0.9482,     0.94843,     0.94867,      0.9489,     0.94913,     0.94937,      0.9496,     0.94983,     0.95325,\n",
              "            0.95449,     0.95229,     0.95228,     0.95245,     0.95261,     0.95277,     0.95293,     0.95309,     0.95325,     0.95342,     0.95358,     0.95374,      0.9539,     0.95406,     0.95422,     0.95439,     0.95455,     0.95495,     0.95605,     0.95715,     0.95982,     0.95992,     0.96003,\n",
              "            0.96013,     0.96023,     0.96034,     0.96044,     0.96054,     0.96065,     0.96075,     0.96085,     0.96096,     0.96106,     0.96116,     0.96127,     0.96137,     0.96147,     0.96158,     0.96168,     0.96178,     0.96188,     0.96199,     0.96209,     0.96219,      0.9623,     0.96239,\n",
              "            0.96247,     0.96254,     0.96262,      0.9627,     0.96278,     0.96285,     0.96293,     0.96301,     0.96308,     0.96316,     0.96324,     0.96331,     0.96339,     0.96347,     0.96354,     0.96362,      0.9637,     0.96377,     0.96385,     0.96393,       0.964,     0.96408,     0.96416,\n",
              "            0.96423,     0.96431,     0.96439,     0.96446,     0.96454,     0.96461,     0.96469,     0.96477,     0.96484,     0.96492,     0.96497,     0.96499,     0.96501,     0.96503,     0.96505,     0.96507,     0.96509,     0.96511,     0.96513,     0.96516,     0.96518,      0.9652,     0.96522,\n",
              "            0.96524,     0.96526,     0.96528,      0.9653,     0.96532,     0.96534,     0.96536,     0.96538,      0.9654,     0.96542,     0.96544,     0.96546,     0.96548,      0.9655,     0.96553,     0.96555,     0.96557,     0.96559,     0.96561,     0.96563,     0.96565,     0.96567,     0.96569,\n",
              "            0.96571,     0.96573,     0.96575,     0.96577,     0.96579,     0.96581,     0.96583,     0.96585,     0.96588,      0.9659,     0.96592,     0.96594,     0.96596,     0.96598,       0.966,     0.96602,     0.96604,     0.96606,     0.96608,      0.9661,     0.96612,     0.96614,     0.96616,\n",
              "            0.96618,      0.9662,     0.96622,     0.96625,     0.96627,     0.96629,     0.96631,     0.96633,     0.96635,     0.96637,     0.96639,     0.96641,     0.96643,     0.96645,     0.96647,     0.96649,     0.96651,     0.96653,     0.96655,     0.96657,     0.96659,     0.96661,     0.96664,\n",
              "            0.96666,     0.96668,      0.9667,     0.96672,     0.96674,     0.96676,     0.96678,      0.9668,     0.96682,     0.96684,     0.96686,     0.96688,      0.9669,     0.96692,     0.96694,     0.96696,     0.96698,       0.967,     0.96703,     0.96705,     0.96707,     0.96709,     0.96711,\n",
              "            0.96713,     0.96715,     0.96717,     0.96719,     0.96721,     0.96723,     0.96725,     0.96727,     0.96729,     0.96731,     0.96733,     0.96735,     0.96737,     0.96739,     0.96741,     0.96744,     0.96746,     0.96748,      0.9675,     0.96752,     0.96754,     0.96756,     0.96761,\n",
              "             0.9677,     0.96779,     0.96787,     0.96796,     0.96805,     0.96813,     0.96822,      0.9683,     0.96839,     0.96848,     0.96856,     0.96865,     0.96873,     0.96882,     0.96891,     0.96899,     0.96908,     0.96916,     0.96925,     0.96934,     0.96942,     0.96951,     0.96959,\n",
              "            0.96968,     0.96977,     0.96985,     0.96994,     0.97002,     0.97011,     0.97019,     0.97022,     0.97025,     0.97029,     0.97032,     0.97035,     0.97038,     0.97041,     0.97044,     0.97047,      0.9705,     0.97054,     0.97057,      0.9706,     0.97063,     0.97066,     0.97069,\n",
              "            0.97072,     0.97075,     0.97079,     0.97082,     0.97085,     0.97088,     0.97091,     0.97094,     0.97097,     0.97101,     0.97104,     0.97107,      0.9711,     0.97113,     0.97116,     0.97119,     0.97122,     0.97126,     0.97129,     0.97132,     0.97135,     0.97138,     0.97141,\n",
              "            0.97144,     0.97147,     0.97151,     0.97154,     0.97157,      0.9716,     0.97163,     0.97166,     0.97169,     0.97172,     0.97176,     0.97179,     0.97182,     0.97185,     0.97188,     0.97191,     0.97194,     0.97197,       0.972,     0.97204,     0.97207,      0.9721,     0.97213,\n",
              "            0.97216,     0.97219,     0.97222,     0.97225,     0.97229,     0.97232,     0.97235,     0.97238,     0.97241,     0.97244,     0.97247,      0.9725,     0.97254,     0.97257,      0.9726,     0.97263,     0.97266,     0.97269,     0.97272,     0.97275,     0.97278,     0.97282,     0.97524,\n",
              "            0.97549,      0.9755,     0.97551,     0.97552,     0.97554,     0.97555,     0.97556,     0.97557,     0.97559,      0.9756,     0.97561,     0.97562,     0.97563,     0.97565,     0.97566,     0.97567,     0.97568,      0.9757,     0.97571,     0.97572,     0.97573,     0.97574,     0.97576,\n",
              "            0.97577,     0.97578,     0.97579,     0.97581,     0.97582,     0.97583,     0.97584,     0.97585,     0.97587,     0.97588,     0.97589,      0.9759,     0.97591,     0.97593,     0.97594,     0.97595,     0.97596,     0.97598,     0.97599,       0.976,     0.97601,     0.97602,     0.97604,\n",
              "            0.97605,     0.97606,     0.97607,     0.97609,      0.9761,     0.97611,     0.97612,     0.97613,     0.97615,     0.97616,     0.97617,     0.97618,     0.97619,     0.97621,     0.97622,     0.97623,     0.97624,     0.97626,     0.97627,     0.97628,     0.97629,      0.9763,     0.97632,\n",
              "            0.97633,     0.97634,     0.97635,     0.97637,     0.97638,     0.97639,      0.9764,     0.97641,     0.97643,     0.97644,     0.97645,     0.97646,     0.97647,     0.97649,      0.9765,     0.97651,     0.97652,     0.97654,     0.97655,     0.97656,     0.97657,     0.97658,      0.9766,\n",
              "            0.97661,     0.97662,     0.97663,     0.97664,     0.97666,     0.97667,     0.97668,     0.97669,     0.97671,     0.97672,     0.97673,     0.97674,     0.97675,     0.97677,     0.97678,     0.97679,      0.9768,     0.97682,     0.97683,     0.97684,     0.97685,     0.97686,     0.97688,\n",
              "            0.97689,      0.9769,     0.97691,     0.97692,     0.97694,     0.97695,     0.97696,     0.97697,     0.97699,       0.977,     0.97701,     0.97702,     0.97703,     0.97705,     0.97706,     0.97707,     0.97708,     0.97709,     0.97711,     0.97712,     0.97713,     0.97714,     0.97716,\n",
              "            0.97717,     0.97718,     0.97719,      0.9772,     0.97722,     0.97723,     0.97724,     0.97725,     0.97726,     0.97728,     0.97729,      0.9773,     0.97731,     0.97733,     0.97734,     0.97735,     0.97736,     0.97737,     0.97739,      0.9774,     0.97741,     0.97742,     0.97743,\n",
              "            0.97745,     0.97746,     0.97747,     0.97748,      0.9775,     0.97751,     0.97752,     0.97753,     0.97754,     0.97756,     0.97757,     0.97758,     0.97759,      0.9776,     0.97762,     0.97763,     0.97764,     0.97765,     0.97767,     0.97768,     0.97769,      0.9777,     0.97771,\n",
              "            0.97773,     0.97774,     0.97775,     0.97776,     0.97777,     0.97779,      0.9778,     0.97781,     0.97782,     0.97783,     0.97785,     0.97786,     0.97787,     0.97788,      0.9779,     0.97791,     0.97792,     0.97793,     0.97794,     0.97796,     0.97797,     0.97798,     0.97799,\n",
              "              0.978,     0.97802,     0.97803,     0.97804,     0.97805,     0.97807,     0.97808,     0.97809,      0.9781,     0.97811,     0.97813,     0.97814,     0.97812,     0.97809,     0.97806,     0.97803,       0.978,     0.97797,     0.97793,      0.9779,     0.97787,     0.97784,     0.97781,\n",
              "            0.97778,     0.97775,     0.97772,     0.97769,     0.97765,     0.97762,     0.97759,     0.97756,     0.97753,      0.9775,     0.97747,     0.97744,     0.97741,     0.97737,     0.97734,     0.97731,     0.97728,     0.97725,     0.97722,     0.97719,     0.97716,     0.97712,     0.97709,\n",
              "            0.97706,     0.97703,       0.977,     0.97697,     0.97694,     0.97691,     0.97688,     0.97684,     0.97681,     0.97678,     0.97675,     0.97672,     0.97669,     0.97666,     0.97663,     0.97659,     0.97656,     0.97653,      0.9765,     0.97647,     0.97644,     0.97641,     0.97638,\n",
              "            0.97634,     0.97631,     0.97628,     0.97625,     0.97622,     0.97619,     0.97616,     0.97613,      0.9761,     0.97606,     0.97603,       0.976,     0.97597,     0.97594,     0.97591,     0.97588,     0.97585,     0.97581,     0.97578,     0.97575,     0.97572,     0.97569,     0.97566,\n",
              "            0.97563,      0.9756,     0.97556,     0.97553,      0.9755,     0.97547,     0.97544,     0.97541,     0.97538,     0.97535,     0.97531,     0.97527,     0.97524,      0.9752,     0.97517,     0.97513,      0.9751,     0.97506,     0.97503,     0.97499,     0.97495,     0.97492,     0.97488,\n",
              "            0.97485,     0.97481,     0.97478,     0.97474,     0.97471,     0.97467,     0.97463,      0.9746,     0.97456,     0.97453,     0.97449,     0.97446,     0.97442,     0.97439,     0.97435,     0.97431,     0.97428,     0.97424,     0.97421,     0.97417,     0.97414,      0.9741,     0.97406,\n",
              "            0.97403,     0.97399,     0.97396,     0.97392,     0.97389,     0.97385,     0.97382,     0.97378,     0.97374,     0.97371,     0.97367,     0.97364,      0.9736,     0.97357,     0.97353,     0.97349,     0.97346,     0.97342,     0.97339,     0.97335,     0.97332,     0.97328,     0.97325,\n",
              "            0.97321,     0.97317,     0.97314,      0.9731,     0.97307,     0.97303,       0.973,     0.97296,     0.97292,     0.97289,     0.97285,     0.97282,     0.97278,     0.97275,     0.97271,     0.97267,     0.97264,      0.9726,     0.97257,     0.97253,     0.97149,     0.97033,     0.96976,\n",
              "             0.9699,     0.97004,     0.97017,     0.97031,     0.97045,     0.97059,     0.97072,     0.97086,       0.971,     0.97113,     0.97127,     0.97141,     0.97155,     0.97168,     0.97182,     0.97196,     0.97209,     0.97223,     0.97237,     0.97211,     0.97184,     0.97156,     0.97128,\n",
              "              0.971,     0.97073,     0.97045,     0.97017,     0.96989,     0.96961,     0.96935,      0.9691,     0.96884,     0.96859,     0.96833,     0.96808,     0.96782,     0.96757,     0.96731,     0.96705,      0.9668,     0.96733,     0.96871,     0.96914,     0.96872,     0.96829,     0.96787,\n",
              "            0.96745,     0.96703,     0.96661,     0.96613,     0.96564,     0.96515,     0.96465,     0.96416,     0.96366,     0.96232,     0.96083,     0.95725,     0.95605,     0.95484,     0.95284,     0.94884,     0.94761,     0.94638,     0.94497,     0.94343,     0.93894,     0.92856,     0.92667,\n",
              "            0.92539,     0.92391,     0.92176,     0.91877,     0.91001,     0.90308,     0.89923,     0.89256,     0.88271,     0.87778,     0.87545,     0.86155,     0.83265,     0.82131,     0.80204,     0.78849,     0.77385,     0.76643,     0.76474,     0.76304,     0.75235,     0.74367,     0.73387,\n",
              "            0.71709,     0.70338,     0.69982,     0.69748,     0.67006,     0.65531,     0.63496,     0.61453,     0.57147,     0.52564,     0.49537,     0.48626,      0.4635,     0.43721,     0.42356,     0.40399,     0.39554,     0.36845,     0.35925,     0.33675,     0.32128,     0.28192,     0.26645,\n",
              "            0.26089,     0.25528,     0.23099,     0.21732,     0.19562,      0.1638,     0.15441,     0.13558,      0.1259,     0.10648,    0.096491,      0.0864,     0.07844,    0.071927,    0.066763,     0.06211,    0.059133,    0.056147,    0.053152,     0.03793,    0.032583,     0.02815,    0.023832,\n",
              "           0.016645,           0,           0,           0,           0,           0,           0,           0,           0,           0,           0,           0,           0,           0,           0,           0,           0,           0,           0,           0,           0,           0,           0,\n",
              "                  0,           0,           0,           0,           0,           0,           0,           0,           0,           0,           0,           0,           0,           0,           0,           0,           0,           0,           0,           0,           0,           0,           0,\n",
              "                  0,           0,           0,           0,           0,           0,           0,           0,           0,           0,           0,           0,           0,           0,           0,           0,           0,           0,           0,           0,           0,           0,           0,\n",
              "                  0,           0,           0,           0,           0,           0,           0,           0,           0,           0,           0,           0,           0,           0,           0,           0,           0,           0,           0,           0,           0,           0,           0,\n",
              "                  0,           0,           0,           0,           0,           0,           0,           0,           0,           0,           0]]), 'Confidence', 'F1'], [array([          0,    0.001001,    0.002002,    0.003003,    0.004004,    0.005005,    0.006006,    0.007007,    0.008008,    0.009009,     0.01001,    0.011011,    0.012012,    0.013013,    0.014014,    0.015015,    0.016016,    0.017017,    0.018018,    0.019019,     0.02002,    0.021021,    0.022022,    0.023023,\n",
              "          0.024024,    0.025025,    0.026026,    0.027027,    0.028028,    0.029029,     0.03003,    0.031031,    0.032032,    0.033033,    0.034034,    0.035035,    0.036036,    0.037037,    0.038038,    0.039039,     0.04004,    0.041041,    0.042042,    0.043043,    0.044044,    0.045045,    0.046046,    0.047047,\n",
              "          0.048048,    0.049049,     0.05005,    0.051051,    0.052052,    0.053053,    0.054054,    0.055055,    0.056056,    0.057057,    0.058058,    0.059059,     0.06006,    0.061061,    0.062062,    0.063063,    0.064064,    0.065065,    0.066066,    0.067067,    0.068068,    0.069069,     0.07007,    0.071071,\n",
              "          0.072072,    0.073073,    0.074074,    0.075075,    0.076076,    0.077077,    0.078078,    0.079079,     0.08008,    0.081081,    0.082082,    0.083083,    0.084084,    0.085085,    0.086086,    0.087087,    0.088088,    0.089089,     0.09009,    0.091091,    0.092092,    0.093093,    0.094094,    0.095095,\n",
              "          0.096096,    0.097097,    0.098098,    0.099099,      0.1001,      0.1011,      0.1021,      0.1031,      0.1041,     0.10511,     0.10611,     0.10711,     0.10811,     0.10911,     0.11011,     0.11111,     0.11211,     0.11311,     0.11411,     0.11512,     0.11612,     0.11712,     0.11812,     0.11912,\n",
              "           0.12012,     0.12112,     0.12212,     0.12312,     0.12412,     0.12513,     0.12613,     0.12713,     0.12813,     0.12913,     0.13013,     0.13113,     0.13213,     0.13313,     0.13413,     0.13514,     0.13614,     0.13714,     0.13814,     0.13914,     0.14014,     0.14114,     0.14214,     0.14314,\n",
              "           0.14414,     0.14515,     0.14615,     0.14715,     0.14815,     0.14915,     0.15015,     0.15115,     0.15215,     0.15315,     0.15415,     0.15516,     0.15616,     0.15716,     0.15816,     0.15916,     0.16016,     0.16116,     0.16216,     0.16316,     0.16416,     0.16517,     0.16617,     0.16717,\n",
              "           0.16817,     0.16917,     0.17017,     0.17117,     0.17217,     0.17317,     0.17417,     0.17518,     0.17618,     0.17718,     0.17818,     0.17918,     0.18018,     0.18118,     0.18218,     0.18318,     0.18418,     0.18519,     0.18619,     0.18719,     0.18819,     0.18919,     0.19019,     0.19119,\n",
              "           0.19219,     0.19319,     0.19419,      0.1952,      0.1962,      0.1972,      0.1982,      0.1992,      0.2002,      0.2012,      0.2022,      0.2032,      0.2042,     0.20521,     0.20621,     0.20721,     0.20821,     0.20921,     0.21021,     0.21121,     0.21221,     0.21321,     0.21421,     0.21522,\n",
              "           0.21622,     0.21722,     0.21822,     0.21922,     0.22022,     0.22122,     0.22222,     0.22322,     0.22422,     0.22523,     0.22623,     0.22723,     0.22823,     0.22923,     0.23023,     0.23123,     0.23223,     0.23323,     0.23423,     0.23524,     0.23624,     0.23724,     0.23824,     0.23924,\n",
              "           0.24024,     0.24124,     0.24224,     0.24324,     0.24424,     0.24525,     0.24625,     0.24725,     0.24825,     0.24925,     0.25025,     0.25125,     0.25225,     0.25325,     0.25425,     0.25526,     0.25626,     0.25726,     0.25826,     0.25926,     0.26026,     0.26126,     0.26226,     0.26326,\n",
              "           0.26426,     0.26527,     0.26627,     0.26727,     0.26827,     0.26927,     0.27027,     0.27127,     0.27227,     0.27327,     0.27427,     0.27528,     0.27628,     0.27728,     0.27828,     0.27928,     0.28028,     0.28128,     0.28228,     0.28328,     0.28428,     0.28529,     0.28629,     0.28729,\n",
              "           0.28829,     0.28929,     0.29029,     0.29129,     0.29229,     0.29329,     0.29429,      0.2953,      0.2963,      0.2973,      0.2983,      0.2993,      0.3003,      0.3013,      0.3023,      0.3033,      0.3043,     0.30531,     0.30631,     0.30731,     0.30831,     0.30931,     0.31031,     0.31131,\n",
              "           0.31231,     0.31331,     0.31431,     0.31532,     0.31632,     0.31732,     0.31832,     0.31932,     0.32032,     0.32132,     0.32232,     0.32332,     0.32432,     0.32533,     0.32633,     0.32733,     0.32833,     0.32933,     0.33033,     0.33133,     0.33233,     0.33333,     0.33433,     0.33534,\n",
              "           0.33634,     0.33734,     0.33834,     0.33934,     0.34034,     0.34134,     0.34234,     0.34334,     0.34434,     0.34535,     0.34635,     0.34735,     0.34835,     0.34935,     0.35035,     0.35135,     0.35235,     0.35335,     0.35435,     0.35536,     0.35636,     0.35736,     0.35836,     0.35936,\n",
              "           0.36036,     0.36136,     0.36236,     0.36336,     0.36436,     0.36537,     0.36637,     0.36737,     0.36837,     0.36937,     0.37037,     0.37137,     0.37237,     0.37337,     0.37437,     0.37538,     0.37638,     0.37738,     0.37838,     0.37938,     0.38038,     0.38138,     0.38238,     0.38338,\n",
              "           0.38438,     0.38539,     0.38639,     0.38739,     0.38839,     0.38939,     0.39039,     0.39139,     0.39239,     0.39339,     0.39439,      0.3954,      0.3964,      0.3974,      0.3984,      0.3994,      0.4004,      0.4014,      0.4024,      0.4034,      0.4044,     0.40541,     0.40641,     0.40741,\n",
              "           0.40841,     0.40941,     0.41041,     0.41141,     0.41241,     0.41341,     0.41441,     0.41542,     0.41642,     0.41742,     0.41842,     0.41942,     0.42042,     0.42142,     0.42242,     0.42342,     0.42442,     0.42543,     0.42643,     0.42743,     0.42843,     0.42943,     0.43043,     0.43143,\n",
              "           0.43243,     0.43343,     0.43443,     0.43544,     0.43644,     0.43744,     0.43844,     0.43944,     0.44044,     0.44144,     0.44244,     0.44344,     0.44444,     0.44545,     0.44645,     0.44745,     0.44845,     0.44945,     0.45045,     0.45145,     0.45245,     0.45345,     0.45445,     0.45546,\n",
              "           0.45646,     0.45746,     0.45846,     0.45946,     0.46046,     0.46146,     0.46246,     0.46346,     0.46446,     0.46547,     0.46647,     0.46747,     0.46847,     0.46947,     0.47047,     0.47147,     0.47247,     0.47347,     0.47447,     0.47548,     0.47648,     0.47748,     0.47848,     0.47948,\n",
              "           0.48048,     0.48148,     0.48248,     0.48348,     0.48448,     0.48549,     0.48649,     0.48749,     0.48849,     0.48949,     0.49049,     0.49149,     0.49249,     0.49349,     0.49449,      0.4955,      0.4965,      0.4975,      0.4985,      0.4995,      0.5005,      0.5015,      0.5025,      0.5035,\n",
              "            0.5045,     0.50551,     0.50651,     0.50751,     0.50851,     0.50951,     0.51051,     0.51151,     0.51251,     0.51351,     0.51451,     0.51552,     0.51652,     0.51752,     0.51852,     0.51952,     0.52052,     0.52152,     0.52252,     0.52352,     0.52452,     0.52553,     0.52653,     0.52753,\n",
              "           0.52853,     0.52953,     0.53053,     0.53153,     0.53253,     0.53353,     0.53453,     0.53554,     0.53654,     0.53754,     0.53854,     0.53954,     0.54054,     0.54154,     0.54254,     0.54354,     0.54454,     0.54555,     0.54655,     0.54755,     0.54855,     0.54955,     0.55055,     0.55155,\n",
              "           0.55255,     0.55355,     0.55455,     0.55556,     0.55656,     0.55756,     0.55856,     0.55956,     0.56056,     0.56156,     0.56256,     0.56356,     0.56456,     0.56557,     0.56657,     0.56757,     0.56857,     0.56957,     0.57057,     0.57157,     0.57257,     0.57357,     0.57457,     0.57558,\n",
              "           0.57658,     0.57758,     0.57858,     0.57958,     0.58058,     0.58158,     0.58258,     0.58358,     0.58458,     0.58559,     0.58659,     0.58759,     0.58859,     0.58959,     0.59059,     0.59159,     0.59259,     0.59359,     0.59459,      0.5956,      0.5966,      0.5976,      0.5986,      0.5996,\n",
              "            0.6006,      0.6016,      0.6026,      0.6036,      0.6046,     0.60561,     0.60661,     0.60761,     0.60861,     0.60961,     0.61061,     0.61161,     0.61261,     0.61361,     0.61461,     0.61562,     0.61662,     0.61762,     0.61862,     0.61962,     0.62062,     0.62162,     0.62262,     0.62362,\n",
              "           0.62462,     0.62563,     0.62663,     0.62763,     0.62863,     0.62963,     0.63063,     0.63163,     0.63263,     0.63363,     0.63463,     0.63564,     0.63664,     0.63764,     0.63864,     0.63964,     0.64064,     0.64164,     0.64264,     0.64364,     0.64464,     0.64565,     0.64665,     0.64765,\n",
              "           0.64865,     0.64965,     0.65065,     0.65165,     0.65265,     0.65365,     0.65465,     0.65566,     0.65666,     0.65766,     0.65866,     0.65966,     0.66066,     0.66166,     0.66266,     0.66366,     0.66466,     0.66567,     0.66667,     0.66767,     0.66867,     0.66967,     0.67067,     0.67167,\n",
              "           0.67267,     0.67367,     0.67467,     0.67568,     0.67668,     0.67768,     0.67868,     0.67968,     0.68068,     0.68168,     0.68268,     0.68368,     0.68468,     0.68569,     0.68669,     0.68769,     0.68869,     0.68969,     0.69069,     0.69169,     0.69269,     0.69369,     0.69469,      0.6957,\n",
              "            0.6967,      0.6977,      0.6987,      0.6997,      0.7007,      0.7017,      0.7027,      0.7037,      0.7047,     0.70571,     0.70671,     0.70771,     0.70871,     0.70971,     0.71071,     0.71171,     0.71271,     0.71371,     0.71471,     0.71572,     0.71672,     0.71772,     0.71872,     0.71972,\n",
              "           0.72072,     0.72172,     0.72272,     0.72372,     0.72472,     0.72573,     0.72673,     0.72773,     0.72873,     0.72973,     0.73073,     0.73173,     0.73273,     0.73373,     0.73473,     0.73574,     0.73674,     0.73774,     0.73874,     0.73974,     0.74074,     0.74174,     0.74274,     0.74374,\n",
              "           0.74474,     0.74575,     0.74675,     0.74775,     0.74875,     0.74975,     0.75075,     0.75175,     0.75275,     0.75375,     0.75475,     0.75576,     0.75676,     0.75776,     0.75876,     0.75976,     0.76076,     0.76176,     0.76276,     0.76376,     0.76476,     0.76577,     0.76677,     0.76777,\n",
              "           0.76877,     0.76977,     0.77077,     0.77177,     0.77277,     0.77377,     0.77477,     0.77578,     0.77678,     0.77778,     0.77878,     0.77978,     0.78078,     0.78178,     0.78278,     0.78378,     0.78478,     0.78579,     0.78679,     0.78779,     0.78879,     0.78979,     0.79079,     0.79179,\n",
              "           0.79279,     0.79379,     0.79479,      0.7958,      0.7968,      0.7978,      0.7988,      0.7998,      0.8008,      0.8018,      0.8028,      0.8038,      0.8048,     0.80581,     0.80681,     0.80781,     0.80881,     0.80981,     0.81081,     0.81181,     0.81281,     0.81381,     0.81481,     0.81582,\n",
              "           0.81682,     0.81782,     0.81882,     0.81982,     0.82082,     0.82182,     0.82282,     0.82382,     0.82482,     0.82583,     0.82683,     0.82783,     0.82883,     0.82983,     0.83083,     0.83183,     0.83283,     0.83383,     0.83483,     0.83584,     0.83684,     0.83784,     0.83884,     0.83984,\n",
              "           0.84084,     0.84184,     0.84284,     0.84384,     0.84484,     0.84585,     0.84685,     0.84785,     0.84885,     0.84985,     0.85085,     0.85185,     0.85285,     0.85385,     0.85485,     0.85586,     0.85686,     0.85786,     0.85886,     0.85986,     0.86086,     0.86186,     0.86286,     0.86386,\n",
              "           0.86486,     0.86587,     0.86687,     0.86787,     0.86887,     0.86987,     0.87087,     0.87187,     0.87287,     0.87387,     0.87487,     0.87588,     0.87688,     0.87788,     0.87888,     0.87988,     0.88088,     0.88188,     0.88288,     0.88388,     0.88488,     0.88589,     0.88689,     0.88789,\n",
              "           0.88889,     0.88989,     0.89089,     0.89189,     0.89289,     0.89389,     0.89489,      0.8959,      0.8969,      0.8979,      0.8989,      0.8999,      0.9009,      0.9019,      0.9029,      0.9039,      0.9049,     0.90591,     0.90691,     0.90791,     0.90891,     0.90991,     0.91091,     0.91191,\n",
              "           0.91291,     0.91391,     0.91491,     0.91592,     0.91692,     0.91792,     0.91892,     0.91992,     0.92092,     0.92192,     0.92292,     0.92392,     0.92492,     0.92593,     0.92693,     0.92793,     0.92893,     0.92993,     0.93093,     0.93193,     0.93293,     0.93393,     0.93493,     0.93594,\n",
              "           0.93694,     0.93794,     0.93894,     0.93994,     0.94094,     0.94194,     0.94294,     0.94394,     0.94494,     0.94595,     0.94695,     0.94795,     0.94895,     0.94995,     0.95095,     0.95195,     0.95295,     0.95395,     0.95495,     0.95596,     0.95696,     0.95796,     0.95896,     0.95996,\n",
              "           0.96096,     0.96196,     0.96296,     0.96396,     0.96496,     0.96597,     0.96697,     0.96797,     0.96897,     0.96997,     0.97097,     0.97197,     0.97297,     0.97397,     0.97497,     0.97598,     0.97698,     0.97798,     0.97898,     0.97998,     0.98098,     0.98198,     0.98298,     0.98398,\n",
              "           0.98498,     0.98599,     0.98699,     0.98799,     0.98899,     0.98999,     0.99099,     0.99199,     0.99299,     0.99399,     0.99499,       0.996,       0.997,       0.998,       0.999,           1]), array([[    0.58199,     0.58199,     0.69881,     0.77482,     0.80876,     0.83033,     0.85517,     0.86362,     0.86764,     0.87368,     0.87565,     0.87696,     0.87827,     0.88446,       0.888,     0.88956,     0.89112,     0.89553,     0.89911,     0.90364,     0.90973,     0.91054,     0.91135,\n",
              "            0.91216,     0.91297,     0.91378,     0.91632,     0.91865,     0.91856,     0.91939,     0.92022,     0.92105,     0.92188,     0.92271,     0.92332,     0.92377,     0.92421,     0.92466,      0.9251,     0.92555,     0.92599,     0.92644,     0.92688,     0.92733,     0.92777,     0.93431,\n",
              "            0.93669,     0.93719,     0.93747,     0.93779,      0.9381,     0.93842,     0.93873,     0.93904,     0.93936,     0.93967,     0.93999,      0.9403,     0.94062,     0.94093,     0.94124,     0.94156,     0.94187,     0.94266,     0.94481,     0.94696,      0.9522,      0.9524,      0.9526,\n",
              "            0.95281,     0.95301,     0.95321,     0.95342,     0.95362,     0.95382,     0.95403,     0.95423,     0.95444,     0.95464,     0.95484,     0.95505,     0.95525,     0.95545,     0.95566,     0.95586,     0.95606,     0.95627,     0.95647,     0.95668,     0.95688,     0.95708,     0.95727,\n",
              "            0.95742,     0.95757,     0.95773,     0.95788,     0.95803,     0.95818,     0.95833,     0.95849,     0.95864,     0.95879,     0.95894,     0.95909,     0.95925,      0.9594,     0.95955,      0.9597,     0.95985,     0.96001,     0.96016,     0.96031,     0.96046,     0.96062,     0.96077,\n",
              "            0.96092,     0.96107,     0.96122,     0.96138,     0.96153,     0.96168,     0.96183,     0.96198,     0.96214,     0.96229,     0.96239,     0.96243,     0.96247,     0.96251,     0.96255,     0.96259,     0.96263,     0.96267,     0.96271,     0.96275,      0.9628,     0.96284,     0.96288,\n",
              "            0.96292,     0.96296,       0.963,     0.96304,     0.96308,     0.96312,     0.96316,     0.96321,     0.96325,     0.96329,     0.96333,     0.96337,     0.96341,     0.96345,     0.96349,     0.96353,     0.96357,     0.96362,     0.96366,      0.9637,     0.96374,     0.96378,     0.96382,\n",
              "            0.96386,      0.9639,     0.96394,     0.96398,     0.96402,     0.96407,     0.96411,     0.96415,     0.96419,     0.96423,     0.96427,     0.96431,     0.96435,     0.96439,     0.96443,     0.96448,     0.96452,     0.96456,      0.9646,     0.96464,     0.96468,     0.96472,     0.96476,\n",
              "             0.9648,     0.96484,     0.96489,     0.96493,     0.96497,     0.96501,     0.96505,     0.96509,     0.96513,     0.96517,     0.96521,     0.96525,      0.9653,     0.96534,     0.96538,     0.96542,     0.96546,      0.9655,     0.96554,     0.96558,     0.96562,     0.96566,      0.9657,\n",
              "            0.96575,     0.96579,     0.96583,     0.96587,     0.96591,     0.96595,     0.96599,     0.96603,     0.96607,     0.96611,     0.96616,      0.9662,     0.96624,     0.96628,     0.96632,     0.96636,      0.9664,     0.96644,     0.96648,     0.96652,     0.96657,     0.96661,     0.96665,\n",
              "            0.96669,     0.96673,     0.96677,     0.96681,     0.96685,     0.96689,     0.96693,     0.96698,     0.96702,     0.96706,      0.9671,     0.96714,     0.96718,     0.96722,     0.96726,      0.9673,     0.96734,     0.96738,     0.96743,     0.96747,     0.96751,     0.96755,     0.96766,\n",
              "            0.96783,     0.96801,     0.96818,     0.96835,     0.96852,      0.9687,     0.96887,     0.96904,     0.96921,     0.96939,     0.96956,     0.96973,      0.9699,     0.97008,     0.97025,     0.97042,     0.97059,     0.97077,     0.97094,     0.97111,     0.97128,     0.97146,     0.97163,\n",
              "             0.9718,     0.97197,     0.97215,     0.97232,     0.97249,     0.97266,     0.97283,     0.97289,     0.97296,     0.97302,     0.97308,     0.97314,     0.97321,     0.97327,     0.97333,      0.9734,     0.97346,     0.97352,     0.97359,     0.97365,     0.97371,     0.97377,     0.97384,\n",
              "             0.9739,     0.97396,     0.97403,     0.97409,     0.97415,     0.97422,     0.97428,     0.97434,      0.9744,     0.97447,     0.97453,     0.97459,     0.97466,     0.97472,     0.97478,     0.97485,     0.97491,     0.97497,     0.97503,      0.9751,     0.97516,     0.97522,     0.97529,\n",
              "            0.97535,     0.97541,     0.97548,     0.97554,      0.9756,     0.97566,     0.97573,     0.97579,     0.97585,     0.97592,     0.97598,     0.97604,     0.97611,     0.97617,     0.97623,     0.97629,     0.97636,     0.97642,     0.97648,     0.97655,     0.97661,     0.97667,     0.97674,\n",
              "             0.9768,     0.97686,     0.97692,     0.97699,     0.97705,     0.97711,     0.97718,     0.97724,      0.9773,     0.97737,     0.97743,     0.97749,     0.97755,     0.97762,     0.97768,     0.97774,     0.97781,     0.97787,     0.97793,       0.978,     0.97806,     0.97812,     0.98304,\n",
              "            0.98354,     0.98356,     0.98359,     0.98361,     0.98364,     0.98366,     0.98369,     0.98371,     0.98374,     0.98376,     0.98379,     0.98381,     0.98384,     0.98386,     0.98389,     0.98391,     0.98394,     0.98396,     0.98399,     0.98401,     0.98404,     0.98406,     0.98408,\n",
              "            0.98411,     0.98413,     0.98416,     0.98418,     0.98421,     0.98423,     0.98426,     0.98428,     0.98431,     0.98433,     0.98436,     0.98438,     0.98441,     0.98443,     0.98446,     0.98448,     0.98451,     0.98453,     0.98456,     0.98458,     0.98461,     0.98463,     0.98465,\n",
              "            0.98468,      0.9847,     0.98473,     0.98475,     0.98478,      0.9848,     0.98483,     0.98485,     0.98488,      0.9849,     0.98493,     0.98495,     0.98498,       0.985,     0.98503,     0.98505,     0.98508,      0.9851,     0.98513,     0.98515,     0.98518,      0.9852,     0.98522,\n",
              "            0.98525,     0.98527,      0.9853,     0.98532,     0.98535,     0.98537,      0.9854,     0.98542,     0.98545,     0.98547,      0.9855,     0.98552,     0.98555,     0.98557,      0.9856,     0.98562,     0.98565,     0.98567,      0.9857,     0.98572,     0.98575,     0.98577,     0.98579,\n",
              "            0.98582,     0.98584,     0.98587,     0.98589,     0.98592,     0.98594,     0.98597,     0.98599,     0.98602,     0.98604,     0.98607,     0.98609,     0.98612,     0.98614,     0.98617,     0.98619,     0.98622,     0.98624,     0.98627,     0.98629,     0.98632,     0.98634,     0.98636,\n",
              "            0.98639,     0.98641,     0.98644,     0.98646,     0.98649,     0.98651,     0.98654,     0.98656,     0.98659,     0.98661,     0.98664,     0.98666,     0.98669,     0.98671,     0.98674,     0.98676,     0.98679,     0.98681,     0.98684,     0.98686,     0.98689,     0.98691,     0.98693,\n",
              "            0.98696,     0.98698,     0.98701,     0.98703,     0.98706,     0.98708,     0.98711,     0.98713,     0.98716,     0.98718,     0.98721,     0.98723,     0.98726,     0.98728,     0.98731,     0.98733,     0.98736,     0.98738,     0.98741,     0.98743,     0.98746,     0.98748,      0.9875,\n",
              "            0.98753,     0.98755,     0.98758,      0.9876,     0.98763,     0.98765,     0.98768,      0.9877,     0.98773,     0.98775,     0.98778,      0.9878,     0.98783,     0.98785,     0.98788,      0.9879,     0.98793,     0.98795,     0.98798,       0.988,     0.98803,     0.98805,     0.98807,\n",
              "             0.9881,     0.98812,     0.98815,     0.98817,      0.9882,     0.98822,     0.98825,     0.98827,      0.9883,     0.98832,     0.98835,     0.98837,      0.9884,     0.98842,     0.98845,     0.98847,      0.9885,     0.98852,     0.98855,     0.98857,      0.9886,     0.98862,     0.98864,\n",
              "            0.98867,     0.98869,     0.98872,     0.98874,     0.98877,     0.98879,     0.98882,     0.98884,     0.98887,     0.98889,     0.98892,     0.98894,     0.98895,     0.98895,     0.98895,     0.98895,     0.98895,     0.98895,     0.98895,     0.98895,     0.98894,     0.98894,     0.98894,\n",
              "            0.98894,     0.98894,     0.98894,     0.98894,     0.98894,     0.98894,     0.98894,     0.98894,     0.98894,     0.98894,     0.98894,     0.98893,     0.98893,     0.98893,     0.98893,     0.98893,     0.98893,     0.98893,     0.98893,     0.98893,     0.98893,     0.98893,     0.98893,\n",
              "            0.98893,     0.98893,     0.98893,     0.98892,     0.98892,     0.98892,     0.98892,     0.98892,     0.98892,     0.98892,     0.98892,     0.98892,     0.98892,     0.98892,     0.98892,     0.98892,     0.98892,     0.98891,     0.98891,     0.98891,     0.98891,     0.98891,     0.98891,\n",
              "            0.98891,     0.98891,     0.98891,     0.98891,     0.98891,     0.98891,     0.98891,     0.98891,     0.98891,      0.9889,      0.9889,      0.9889,      0.9889,      0.9889,      0.9889,      0.9889,      0.9889,      0.9889,      0.9889,      0.9889,      0.9889,      0.9889,      0.9889,\n",
              "             0.9889,     0.98889,     0.98889,     0.98889,     0.98889,     0.98889,     0.98889,     0.98889,     0.98889,     0.98889,     0.98889,     0.98889,     0.98889,     0.98889,     0.98889,     0.98888,     0.98888,     0.98888,     0.98888,     0.98888,     0.98888,     0.98888,     0.98888,\n",
              "            0.98888,     0.98888,     0.98888,     0.98888,     0.98887,     0.98887,     0.98887,     0.98887,     0.98887,     0.98887,     0.98887,     0.98887,     0.98887,     0.98887,     0.98887,     0.98887,     0.98887,     0.98886,     0.98886,     0.98886,     0.98886,     0.98886,     0.98886,\n",
              "            0.98886,     0.98886,     0.98886,     0.98886,     0.98886,     0.98886,     0.98886,     0.98885,     0.98885,     0.98885,     0.98885,     0.98885,     0.98885,     0.98885,     0.98885,     0.98885,     0.98885,     0.98885,     0.98885,     0.98884,     0.98884,     0.98884,     0.98884,\n",
              "            0.98884,     0.98884,     0.98884,     0.98884,     0.98884,     0.98884,     0.98884,     0.98884,     0.98884,     0.98883,     0.98883,     0.98883,     0.98883,     0.98883,     0.98883,     0.98883,     0.98883,     0.98883,     0.98883,     0.98883,      0.9888,     0.98878,      0.9889,\n",
              "            0.98918,     0.98947,     0.98975,     0.99004,     0.99033,     0.99061,      0.9909,     0.99119,     0.99147,     0.99176,     0.99204,     0.99233,     0.99262,      0.9929,     0.99319,     0.99348,     0.99376,     0.99405,     0.99433,     0.99435,     0.99434,     0.99434,     0.99434,\n",
              "            0.99433,     0.99433,     0.99433,     0.99433,     0.99432,     0.99432,     0.99432,     0.99431,     0.99431,     0.99431,      0.9943,      0.9943,      0.9943,      0.9943,     0.99429,     0.99429,     0.99429,      0.9957,     0.99863,           1,           1,           1,           1,\n",
              "                  1,           1,           1,           1,           1,           1,           1,           1,           1,           1,           1,           1,           1,           1,           1,           1,           1,           1,           1,           1,           1,           1,           1,\n",
              "                  1,           1,           1,           1,           1,           1,           1,           1,           1,           1,           1,           1,           1,           1,           1,           1,           1,           1,           1,           1,           1,           1,           1,\n",
              "                  1,           1,           1,           1,           1,           1,           1,           1,           1,           1,           1,           1,           1,           1,           1,           1,           1,           1,           1,           1,           1,           1,           1,\n",
              "                  1,           1,           1,           1,           1,           1,           1,           1,           1,           1,           1,           1,           1,           1,           1,           1,           1,           1,           1,           1,           1,           1,           1,\n",
              "                  1,           1,           1,           1,           1,           1,           1,           1,           1,           1,           1,           1,           1,           1,           1,           1,           1,           1,           1,           1,           1,           1,           1,\n",
              "                  1,           1,           1,           1,           1,           1,           1,           1,           1,           1,           1,           1,           1,           1,           1,           1,           1,           1,           1,           1,           1,           1,           1,\n",
              "                  1,           1,           1,           1,           1,           1,           1,           1,           1,           1,           1,           1,           1,           1,           1,           1,           1,           1,           1,           1,           1,           1,           1,\n",
              "                  1,           1,           1,           1,           1,           1,           1,           1,           1,           1,           1,           1,           1,           1,           1,           1,           1,           1,           1,           1,           1,           1,           1,\n",
              "                  1,           1,           1,           1,           1,           1,           1,           1,           1,           1,           1]]), 'Confidence', 'Precision'], [array([          0,    0.001001,    0.002002,    0.003003,    0.004004,    0.005005,    0.006006,    0.007007,    0.008008,    0.009009,     0.01001,    0.011011,    0.012012,    0.013013,    0.014014,    0.015015,    0.016016,    0.017017,    0.018018,    0.019019,     0.02002,    0.021021,    0.022022,    0.023023,\n",
              "          0.024024,    0.025025,    0.026026,    0.027027,    0.028028,    0.029029,     0.03003,    0.031031,    0.032032,    0.033033,    0.034034,    0.035035,    0.036036,    0.037037,    0.038038,    0.039039,     0.04004,    0.041041,    0.042042,    0.043043,    0.044044,    0.045045,    0.046046,    0.047047,\n",
              "          0.048048,    0.049049,     0.05005,    0.051051,    0.052052,    0.053053,    0.054054,    0.055055,    0.056056,    0.057057,    0.058058,    0.059059,     0.06006,    0.061061,    0.062062,    0.063063,    0.064064,    0.065065,    0.066066,    0.067067,    0.068068,    0.069069,     0.07007,    0.071071,\n",
              "          0.072072,    0.073073,    0.074074,    0.075075,    0.076076,    0.077077,    0.078078,    0.079079,     0.08008,    0.081081,    0.082082,    0.083083,    0.084084,    0.085085,    0.086086,    0.087087,    0.088088,    0.089089,     0.09009,    0.091091,    0.092092,    0.093093,    0.094094,    0.095095,\n",
              "          0.096096,    0.097097,    0.098098,    0.099099,      0.1001,      0.1011,      0.1021,      0.1031,      0.1041,     0.10511,     0.10611,     0.10711,     0.10811,     0.10911,     0.11011,     0.11111,     0.11211,     0.11311,     0.11411,     0.11512,     0.11612,     0.11712,     0.11812,     0.11912,\n",
              "           0.12012,     0.12112,     0.12212,     0.12312,     0.12412,     0.12513,     0.12613,     0.12713,     0.12813,     0.12913,     0.13013,     0.13113,     0.13213,     0.13313,     0.13413,     0.13514,     0.13614,     0.13714,     0.13814,     0.13914,     0.14014,     0.14114,     0.14214,     0.14314,\n",
              "           0.14414,     0.14515,     0.14615,     0.14715,     0.14815,     0.14915,     0.15015,     0.15115,     0.15215,     0.15315,     0.15415,     0.15516,     0.15616,     0.15716,     0.15816,     0.15916,     0.16016,     0.16116,     0.16216,     0.16316,     0.16416,     0.16517,     0.16617,     0.16717,\n",
              "           0.16817,     0.16917,     0.17017,     0.17117,     0.17217,     0.17317,     0.17417,     0.17518,     0.17618,     0.17718,     0.17818,     0.17918,     0.18018,     0.18118,     0.18218,     0.18318,     0.18418,     0.18519,     0.18619,     0.18719,     0.18819,     0.18919,     0.19019,     0.19119,\n",
              "           0.19219,     0.19319,     0.19419,      0.1952,      0.1962,      0.1972,      0.1982,      0.1992,      0.2002,      0.2012,      0.2022,      0.2032,      0.2042,     0.20521,     0.20621,     0.20721,     0.20821,     0.20921,     0.21021,     0.21121,     0.21221,     0.21321,     0.21421,     0.21522,\n",
              "           0.21622,     0.21722,     0.21822,     0.21922,     0.22022,     0.22122,     0.22222,     0.22322,     0.22422,     0.22523,     0.22623,     0.22723,     0.22823,     0.22923,     0.23023,     0.23123,     0.23223,     0.23323,     0.23423,     0.23524,     0.23624,     0.23724,     0.23824,     0.23924,\n",
              "           0.24024,     0.24124,     0.24224,     0.24324,     0.24424,     0.24525,     0.24625,     0.24725,     0.24825,     0.24925,     0.25025,     0.25125,     0.25225,     0.25325,     0.25425,     0.25526,     0.25626,     0.25726,     0.25826,     0.25926,     0.26026,     0.26126,     0.26226,     0.26326,\n",
              "           0.26426,     0.26527,     0.26627,     0.26727,     0.26827,     0.26927,     0.27027,     0.27127,     0.27227,     0.27327,     0.27427,     0.27528,     0.27628,     0.27728,     0.27828,     0.27928,     0.28028,     0.28128,     0.28228,     0.28328,     0.28428,     0.28529,     0.28629,     0.28729,\n",
              "           0.28829,     0.28929,     0.29029,     0.29129,     0.29229,     0.29329,     0.29429,      0.2953,      0.2963,      0.2973,      0.2983,      0.2993,      0.3003,      0.3013,      0.3023,      0.3033,      0.3043,     0.30531,     0.30631,     0.30731,     0.30831,     0.30931,     0.31031,     0.31131,\n",
              "           0.31231,     0.31331,     0.31431,     0.31532,     0.31632,     0.31732,     0.31832,     0.31932,     0.32032,     0.32132,     0.32232,     0.32332,     0.32432,     0.32533,     0.32633,     0.32733,     0.32833,     0.32933,     0.33033,     0.33133,     0.33233,     0.33333,     0.33433,     0.33534,\n",
              "           0.33634,     0.33734,     0.33834,     0.33934,     0.34034,     0.34134,     0.34234,     0.34334,     0.34434,     0.34535,     0.34635,     0.34735,     0.34835,     0.34935,     0.35035,     0.35135,     0.35235,     0.35335,     0.35435,     0.35536,     0.35636,     0.35736,     0.35836,     0.35936,\n",
              "           0.36036,     0.36136,     0.36236,     0.36336,     0.36436,     0.36537,     0.36637,     0.36737,     0.36837,     0.36937,     0.37037,     0.37137,     0.37237,     0.37337,     0.37437,     0.37538,     0.37638,     0.37738,     0.37838,     0.37938,     0.38038,     0.38138,     0.38238,     0.38338,\n",
              "           0.38438,     0.38539,     0.38639,     0.38739,     0.38839,     0.38939,     0.39039,     0.39139,     0.39239,     0.39339,     0.39439,      0.3954,      0.3964,      0.3974,      0.3984,      0.3994,      0.4004,      0.4014,      0.4024,      0.4034,      0.4044,     0.40541,     0.40641,     0.40741,\n",
              "           0.40841,     0.40941,     0.41041,     0.41141,     0.41241,     0.41341,     0.41441,     0.41542,     0.41642,     0.41742,     0.41842,     0.41942,     0.42042,     0.42142,     0.42242,     0.42342,     0.42442,     0.42543,     0.42643,     0.42743,     0.42843,     0.42943,     0.43043,     0.43143,\n",
              "           0.43243,     0.43343,     0.43443,     0.43544,     0.43644,     0.43744,     0.43844,     0.43944,     0.44044,     0.44144,     0.44244,     0.44344,     0.44444,     0.44545,     0.44645,     0.44745,     0.44845,     0.44945,     0.45045,     0.45145,     0.45245,     0.45345,     0.45445,     0.45546,\n",
              "           0.45646,     0.45746,     0.45846,     0.45946,     0.46046,     0.46146,     0.46246,     0.46346,     0.46446,     0.46547,     0.46647,     0.46747,     0.46847,     0.46947,     0.47047,     0.47147,     0.47247,     0.47347,     0.47447,     0.47548,     0.47648,     0.47748,     0.47848,     0.47948,\n",
              "           0.48048,     0.48148,     0.48248,     0.48348,     0.48448,     0.48549,     0.48649,     0.48749,     0.48849,     0.48949,     0.49049,     0.49149,     0.49249,     0.49349,     0.49449,      0.4955,      0.4965,      0.4975,      0.4985,      0.4995,      0.5005,      0.5015,      0.5025,      0.5035,\n",
              "            0.5045,     0.50551,     0.50651,     0.50751,     0.50851,     0.50951,     0.51051,     0.51151,     0.51251,     0.51351,     0.51451,     0.51552,     0.51652,     0.51752,     0.51852,     0.51952,     0.52052,     0.52152,     0.52252,     0.52352,     0.52452,     0.52553,     0.52653,     0.52753,\n",
              "           0.52853,     0.52953,     0.53053,     0.53153,     0.53253,     0.53353,     0.53453,     0.53554,     0.53654,     0.53754,     0.53854,     0.53954,     0.54054,     0.54154,     0.54254,     0.54354,     0.54454,     0.54555,     0.54655,     0.54755,     0.54855,     0.54955,     0.55055,     0.55155,\n",
              "           0.55255,     0.55355,     0.55455,     0.55556,     0.55656,     0.55756,     0.55856,     0.55956,     0.56056,     0.56156,     0.56256,     0.56356,     0.56456,     0.56557,     0.56657,     0.56757,     0.56857,     0.56957,     0.57057,     0.57157,     0.57257,     0.57357,     0.57457,     0.57558,\n",
              "           0.57658,     0.57758,     0.57858,     0.57958,     0.58058,     0.58158,     0.58258,     0.58358,     0.58458,     0.58559,     0.58659,     0.58759,     0.58859,     0.58959,     0.59059,     0.59159,     0.59259,     0.59359,     0.59459,      0.5956,      0.5966,      0.5976,      0.5986,      0.5996,\n",
              "            0.6006,      0.6016,      0.6026,      0.6036,      0.6046,     0.60561,     0.60661,     0.60761,     0.60861,     0.60961,     0.61061,     0.61161,     0.61261,     0.61361,     0.61461,     0.61562,     0.61662,     0.61762,     0.61862,     0.61962,     0.62062,     0.62162,     0.62262,     0.62362,\n",
              "           0.62462,     0.62563,     0.62663,     0.62763,     0.62863,     0.62963,     0.63063,     0.63163,     0.63263,     0.63363,     0.63463,     0.63564,     0.63664,     0.63764,     0.63864,     0.63964,     0.64064,     0.64164,     0.64264,     0.64364,     0.64464,     0.64565,     0.64665,     0.64765,\n",
              "           0.64865,     0.64965,     0.65065,     0.65165,     0.65265,     0.65365,     0.65465,     0.65566,     0.65666,     0.65766,     0.65866,     0.65966,     0.66066,     0.66166,     0.66266,     0.66366,     0.66466,     0.66567,     0.66667,     0.66767,     0.66867,     0.66967,     0.67067,     0.67167,\n",
              "           0.67267,     0.67367,     0.67467,     0.67568,     0.67668,     0.67768,     0.67868,     0.67968,     0.68068,     0.68168,     0.68268,     0.68368,     0.68468,     0.68569,     0.68669,     0.68769,     0.68869,     0.68969,     0.69069,     0.69169,     0.69269,     0.69369,     0.69469,      0.6957,\n",
              "            0.6967,      0.6977,      0.6987,      0.6997,      0.7007,      0.7017,      0.7027,      0.7037,      0.7047,     0.70571,     0.70671,     0.70771,     0.70871,     0.70971,     0.71071,     0.71171,     0.71271,     0.71371,     0.71471,     0.71572,     0.71672,     0.71772,     0.71872,     0.71972,\n",
              "           0.72072,     0.72172,     0.72272,     0.72372,     0.72472,     0.72573,     0.72673,     0.72773,     0.72873,     0.72973,     0.73073,     0.73173,     0.73273,     0.73373,     0.73473,     0.73574,     0.73674,     0.73774,     0.73874,     0.73974,     0.74074,     0.74174,     0.74274,     0.74374,\n",
              "           0.74474,     0.74575,     0.74675,     0.74775,     0.74875,     0.74975,     0.75075,     0.75175,     0.75275,     0.75375,     0.75475,     0.75576,     0.75676,     0.75776,     0.75876,     0.75976,     0.76076,     0.76176,     0.76276,     0.76376,     0.76476,     0.76577,     0.76677,     0.76777,\n",
              "           0.76877,     0.76977,     0.77077,     0.77177,     0.77277,     0.77377,     0.77477,     0.77578,     0.77678,     0.77778,     0.77878,     0.77978,     0.78078,     0.78178,     0.78278,     0.78378,     0.78478,     0.78579,     0.78679,     0.78779,     0.78879,     0.78979,     0.79079,     0.79179,\n",
              "           0.79279,     0.79379,     0.79479,      0.7958,      0.7968,      0.7978,      0.7988,      0.7998,      0.8008,      0.8018,      0.8028,      0.8038,      0.8048,     0.80581,     0.80681,     0.80781,     0.80881,     0.80981,     0.81081,     0.81181,     0.81281,     0.81381,     0.81481,     0.81582,\n",
              "           0.81682,     0.81782,     0.81882,     0.81982,     0.82082,     0.82182,     0.82282,     0.82382,     0.82482,     0.82583,     0.82683,     0.82783,     0.82883,     0.82983,     0.83083,     0.83183,     0.83283,     0.83383,     0.83483,     0.83584,     0.83684,     0.83784,     0.83884,     0.83984,\n",
              "           0.84084,     0.84184,     0.84284,     0.84384,     0.84484,     0.84585,     0.84685,     0.84785,     0.84885,     0.84985,     0.85085,     0.85185,     0.85285,     0.85385,     0.85485,     0.85586,     0.85686,     0.85786,     0.85886,     0.85986,     0.86086,     0.86186,     0.86286,     0.86386,\n",
              "           0.86486,     0.86587,     0.86687,     0.86787,     0.86887,     0.86987,     0.87087,     0.87187,     0.87287,     0.87387,     0.87487,     0.87588,     0.87688,     0.87788,     0.87888,     0.87988,     0.88088,     0.88188,     0.88288,     0.88388,     0.88488,     0.88589,     0.88689,     0.88789,\n",
              "           0.88889,     0.88989,     0.89089,     0.89189,     0.89289,     0.89389,     0.89489,      0.8959,      0.8969,      0.8979,      0.8989,      0.8999,      0.9009,      0.9019,      0.9029,      0.9039,      0.9049,     0.90591,     0.90691,     0.90791,     0.90891,     0.90991,     0.91091,     0.91191,\n",
              "           0.91291,     0.91391,     0.91491,     0.91592,     0.91692,     0.91792,     0.91892,     0.91992,     0.92092,     0.92192,     0.92292,     0.92392,     0.92492,     0.92593,     0.92693,     0.92793,     0.92893,     0.92993,     0.93093,     0.93193,     0.93293,     0.93393,     0.93493,     0.93594,\n",
              "           0.93694,     0.93794,     0.93894,     0.93994,     0.94094,     0.94194,     0.94294,     0.94394,     0.94494,     0.94595,     0.94695,     0.94795,     0.94895,     0.94995,     0.95095,     0.95195,     0.95295,     0.95395,     0.95495,     0.95596,     0.95696,     0.95796,     0.95896,     0.95996,\n",
              "           0.96096,     0.96196,     0.96296,     0.96396,     0.96496,     0.96597,     0.96697,     0.96797,     0.96897,     0.96997,     0.97097,     0.97197,     0.97297,     0.97397,     0.97497,     0.97598,     0.97698,     0.97798,     0.97898,     0.97998,     0.98098,     0.98198,     0.98298,     0.98398,\n",
              "           0.98498,     0.98599,     0.98699,     0.98799,     0.98899,     0.98999,     0.99099,     0.99199,     0.99299,     0.99399,     0.99499,       0.996,       0.997,       0.998,       0.999,           1]), array([[    0.97838,     0.97838,     0.97838,     0.97838,     0.97838,     0.97838,     0.97838,     0.97838,     0.97838,     0.97838,     0.97838,     0.97838,     0.97838,     0.97838,     0.97838,     0.97838,     0.97838,     0.97838,     0.97838,     0.97838,     0.97838,     0.97838,     0.97838,\n",
              "            0.97838,     0.97838,     0.97838,     0.97838,     0.97663,     0.97297,     0.97297,     0.97297,     0.97297,     0.97297,     0.97297,     0.97297,     0.97297,     0.97297,     0.97297,     0.97297,     0.97297,     0.97297,     0.97297,     0.97297,     0.97297,     0.97297,     0.97297,\n",
              "            0.97297,     0.96789,     0.96757,     0.96757,     0.96757,     0.96757,     0.96757,     0.96757,     0.96757,     0.96757,     0.96757,     0.96757,     0.96757,     0.96757,     0.96757,     0.96757,     0.96757,     0.96757,     0.96757,     0.96757,     0.96757,     0.96757,     0.96757,\n",
              "            0.96757,     0.96757,     0.96757,     0.96757,     0.96757,     0.96757,     0.96757,     0.96757,     0.96757,     0.96757,     0.96757,     0.96757,     0.96757,     0.96757,     0.96757,     0.96757,     0.96757,     0.96757,     0.96757,     0.96757,     0.96757,     0.96757,     0.96757,\n",
              "            0.96757,     0.96757,     0.96757,     0.96757,     0.96757,     0.96757,     0.96757,     0.96757,     0.96757,     0.96757,     0.96757,     0.96757,     0.96757,     0.96757,     0.96757,     0.96757,     0.96757,     0.96757,     0.96757,     0.96757,     0.96757,     0.96757,     0.96757,\n",
              "            0.96757,     0.96757,     0.96757,     0.96757,     0.96757,     0.96757,     0.96757,     0.96757,     0.96757,     0.96757,     0.96757,     0.96757,     0.96757,     0.96757,     0.96757,     0.96757,     0.96757,     0.96757,     0.96757,     0.96757,     0.96757,     0.96757,     0.96757,\n",
              "            0.96757,     0.96757,     0.96757,     0.96757,     0.96757,     0.96757,     0.96757,     0.96757,     0.96757,     0.96757,     0.96757,     0.96757,     0.96757,     0.96757,     0.96757,     0.96757,     0.96757,     0.96757,     0.96757,     0.96757,     0.96757,     0.96757,     0.96757,\n",
              "            0.96757,     0.96757,     0.96757,     0.96757,     0.96757,     0.96757,     0.96757,     0.96757,     0.96757,     0.96757,     0.96757,     0.96757,     0.96757,     0.96757,     0.96757,     0.96757,     0.96757,     0.96757,     0.96757,     0.96757,     0.96757,     0.96757,     0.96757,\n",
              "            0.96757,     0.96757,     0.96757,     0.96757,     0.96757,     0.96757,     0.96757,     0.96757,     0.96757,     0.96757,     0.96757,     0.96757,     0.96757,     0.96757,     0.96757,     0.96757,     0.96757,     0.96757,     0.96757,     0.96757,     0.96757,     0.96757,     0.96757,\n",
              "            0.96757,     0.96757,     0.96757,     0.96757,     0.96757,     0.96757,     0.96757,     0.96757,     0.96757,     0.96757,     0.96757,     0.96757,     0.96757,     0.96757,     0.96757,     0.96757,     0.96757,     0.96757,     0.96757,     0.96757,     0.96757,     0.96757,     0.96757,\n",
              "            0.96757,     0.96757,     0.96757,     0.96757,     0.96757,     0.96757,     0.96757,     0.96757,     0.96757,     0.96757,     0.96757,     0.96757,     0.96757,     0.96757,     0.96757,     0.96757,     0.96757,     0.96757,     0.96757,     0.96757,     0.96757,     0.96757,     0.96757,\n",
              "            0.96757,     0.96757,     0.96757,     0.96757,     0.96757,     0.96757,     0.96757,     0.96757,     0.96757,     0.96757,     0.96757,     0.96757,     0.96757,     0.96757,     0.96757,     0.96757,     0.96757,     0.96757,     0.96757,     0.96757,     0.96757,     0.96757,     0.96757,\n",
              "            0.96757,     0.96757,     0.96757,     0.96757,     0.96757,     0.96757,     0.96757,     0.96757,     0.96757,     0.96757,     0.96757,     0.96757,     0.96757,     0.96757,     0.96757,     0.96757,     0.96757,     0.96757,     0.96757,     0.96757,     0.96757,     0.96757,     0.96757,\n",
              "            0.96757,     0.96757,     0.96757,     0.96757,     0.96757,     0.96757,     0.96757,     0.96757,     0.96757,     0.96757,     0.96757,     0.96757,     0.96757,     0.96757,     0.96757,     0.96757,     0.96757,     0.96757,     0.96757,     0.96757,     0.96757,     0.96757,     0.96757,\n",
              "            0.96757,     0.96757,     0.96757,     0.96757,     0.96757,     0.96757,     0.96757,     0.96757,     0.96757,     0.96757,     0.96757,     0.96757,     0.96757,     0.96757,     0.96757,     0.96757,     0.96757,     0.96757,     0.96757,     0.96757,     0.96757,     0.96757,     0.96757,\n",
              "            0.96757,     0.96757,     0.96757,     0.96757,     0.96757,     0.96757,     0.96757,     0.96757,     0.96757,     0.96757,     0.96757,     0.96757,     0.96757,     0.96757,     0.96757,     0.96757,     0.96757,     0.96757,     0.96757,     0.96757,     0.96757,     0.96757,     0.96757,\n",
              "            0.96757,     0.96757,     0.96757,     0.96757,     0.96757,     0.96757,     0.96757,     0.96757,     0.96757,     0.96757,     0.96757,     0.96757,     0.96757,     0.96757,     0.96757,     0.96757,     0.96757,     0.96757,     0.96757,     0.96757,     0.96757,     0.96757,     0.96757,\n",
              "            0.96757,     0.96757,     0.96757,     0.96757,     0.96757,     0.96757,     0.96757,     0.96757,     0.96757,     0.96757,     0.96757,     0.96757,     0.96757,     0.96757,     0.96757,     0.96757,     0.96757,     0.96757,     0.96757,     0.96757,     0.96757,     0.96757,     0.96757,\n",
              "            0.96757,     0.96757,     0.96757,     0.96757,     0.96757,     0.96757,     0.96757,     0.96757,     0.96757,     0.96757,     0.96757,     0.96757,     0.96757,     0.96757,     0.96757,     0.96757,     0.96757,     0.96757,     0.96757,     0.96757,     0.96757,     0.96757,     0.96757,\n",
              "            0.96757,     0.96757,     0.96757,     0.96757,     0.96757,     0.96757,     0.96757,     0.96757,     0.96757,     0.96757,     0.96757,     0.96757,     0.96757,     0.96757,     0.96757,     0.96757,     0.96757,     0.96757,     0.96757,     0.96757,     0.96757,     0.96757,     0.96757,\n",
              "            0.96757,     0.96757,     0.96757,     0.96757,     0.96757,     0.96757,     0.96757,     0.96757,     0.96757,     0.96757,     0.96757,     0.96757,     0.96757,     0.96757,     0.96757,     0.96757,     0.96757,     0.96757,     0.96757,     0.96757,     0.96757,     0.96757,     0.96757,\n",
              "            0.96757,     0.96757,     0.96757,     0.96757,     0.96757,     0.96757,     0.96757,     0.96757,     0.96757,     0.96757,     0.96757,     0.96757,     0.96757,     0.96757,     0.96757,     0.96757,     0.96757,     0.96757,     0.96757,     0.96757,     0.96757,     0.96757,     0.96757,\n",
              "            0.96757,     0.96757,     0.96757,     0.96757,     0.96757,     0.96757,     0.96757,     0.96757,     0.96757,     0.96757,     0.96757,     0.96757,     0.96757,     0.96757,     0.96757,     0.96757,     0.96757,     0.96757,     0.96757,     0.96757,     0.96757,     0.96757,     0.96757,\n",
              "            0.96757,     0.96757,     0.96757,     0.96757,     0.96757,     0.96757,     0.96757,     0.96757,     0.96757,     0.96757,     0.96757,     0.96757,     0.96757,     0.96757,     0.96757,     0.96757,     0.96757,     0.96757,     0.96757,     0.96757,     0.96757,     0.96757,     0.96757,\n",
              "            0.96757,     0.96757,     0.96757,     0.96757,     0.96757,     0.96757,     0.96757,     0.96757,     0.96757,     0.96757,     0.96757,     0.96757,     0.96757,     0.96757,     0.96757,     0.96757,     0.96757,     0.96757,     0.96757,     0.96757,     0.96757,     0.96757,     0.96757,\n",
              "            0.96757,     0.96757,     0.96757,     0.96757,     0.96757,     0.96757,     0.96757,     0.96757,     0.96757,     0.96757,     0.96757,     0.96757,     0.96753,     0.96747,     0.96741,     0.96735,     0.96729,     0.96723,     0.96717,     0.96711,     0.96705,     0.96699,     0.96692,\n",
              "            0.96686,      0.9668,     0.96674,     0.96668,     0.96662,     0.96656,      0.9665,     0.96644,     0.96638,     0.96632,     0.96626,      0.9662,     0.96614,     0.96608,     0.96602,     0.96596,      0.9659,     0.96584,     0.96578,     0.96572,     0.96566,      0.9656,     0.96554,\n",
              "            0.96548,     0.96542,     0.96536,      0.9653,     0.96524,     0.96518,     0.96512,     0.96506,       0.965,     0.96494,     0.96488,     0.96482,     0.96476,      0.9647,     0.96464,     0.96458,     0.96452,     0.96446,      0.9644,     0.96434,     0.96427,     0.96421,     0.96415,\n",
              "            0.96409,     0.96403,     0.96397,     0.96391,     0.96385,     0.96379,     0.96373,     0.96367,     0.96361,     0.96355,     0.96349,     0.96343,     0.96337,     0.96331,     0.96325,     0.96319,     0.96313,     0.96307,     0.96301,     0.96295,     0.96289,     0.96283,     0.96277,\n",
              "            0.96271,     0.96265,     0.96259,     0.96253,     0.96247,     0.96241,     0.96235,     0.96229,     0.96223,     0.96217,      0.9621,     0.96203,     0.96196,     0.96189,     0.96183,     0.96176,     0.96169,     0.96162,     0.96155,     0.96148,     0.96142,     0.96135,     0.96128,\n",
              "            0.96121,     0.96114,     0.96107,       0.961,     0.96094,     0.96087,      0.9608,     0.96073,     0.96066,     0.96059,     0.96053,     0.96046,     0.96039,     0.96032,     0.96025,     0.96018,     0.96012,     0.96005,     0.95998,     0.95991,     0.95984,     0.95977,     0.95971,\n",
              "            0.95964,     0.95957,      0.9595,     0.95943,     0.95936,     0.95929,     0.95923,     0.95916,     0.95909,     0.95902,     0.95895,     0.95888,     0.95882,     0.95875,     0.95868,     0.95861,     0.95854,     0.95847,     0.95841,     0.95834,     0.95827,      0.9582,     0.95813,\n",
              "            0.95806,       0.958,     0.95793,     0.95786,     0.95779,     0.95772,     0.95765,     0.95758,     0.95752,     0.95745,     0.95738,     0.95731,     0.95724,     0.95717,     0.95711,     0.95704,     0.95697,      0.9569,     0.95683,     0.95676,     0.95477,     0.95255,     0.95135,\n",
              "            0.95135,     0.95135,     0.95135,     0.95135,     0.95135,     0.95135,     0.95135,     0.95135,     0.95135,     0.95135,     0.95135,     0.95135,     0.95135,     0.95135,     0.95135,     0.95135,     0.95135,     0.95135,     0.95135,     0.95085,     0.95032,      0.9498,     0.94927,\n",
              "            0.94874,     0.94821,     0.94769,     0.94716,     0.94663,      0.9461,     0.94561,     0.94513,     0.94464,     0.94416,     0.94368,      0.9432,     0.94272,     0.94224,     0.94175,     0.94127,     0.94079,     0.94054,     0.94054,     0.94012,     0.93933,     0.93854,     0.93775,\n",
              "            0.93695,     0.93616,     0.93537,     0.93449,     0.93356,     0.93264,     0.93172,     0.93079,     0.92987,     0.92738,     0.92461,     0.91801,     0.91579,     0.91358,     0.90993,     0.90266,     0.90044,     0.89823,     0.89569,     0.89292,     0.88491,     0.86665,     0.86336,\n",
              "            0.86114,     0.85857,     0.85488,     0.84975,     0.83488,     0.82329,     0.81691,     0.80597,     0.79004,     0.78218,     0.77848,     0.75678,     0.71329,      0.6968,      0.6695,     0.65083,     0.63112,     0.62131,     0.61909,     0.61687,     0.60301,     0.59193,     0.57961,\n",
              "            0.55896,     0.54247,     0.53825,     0.53548,     0.50382,     0.48734,     0.46515,     0.44355,     0.40004,     0.35652,     0.32923,     0.32123,     0.30166,     0.27977,     0.26868,     0.25313,     0.24652,     0.22583,     0.21895,     0.20247,     0.19139,     0.16409,     0.15371,\n",
              "            0.15001,     0.14632,     0.13057,     0.12191,     0.10841,    0.089205,    0.083665,    0.072719,    0.067178,    0.056232,    0.050691,    0.045151,    0.040821,    0.037305,    0.034535,    0.032051,    0.030468,    0.028884,    0.027301,    0.019331,    0.016561,    0.014276,     0.01206,\n",
              "          0.0083922,           0,           0,           0,           0,           0,           0,           0,           0,           0,           0,           0,           0,           0,           0,           0,           0,           0,           0,           0,           0,           0,           0,\n",
              "                  0,           0,           0,           0,           0,           0,           0,           0,           0,           0,           0,           0,           0,           0,           0,           0,           0,           0,           0,           0,           0,           0,           0,\n",
              "                  0,           0,           0,           0,           0,           0,           0,           0,           0,           0,           0,           0,           0,           0,           0,           0,           0,           0,           0,           0,           0,           0,           0,\n",
              "                  0,           0,           0,           0,           0,           0,           0,           0,           0,           0,           0,           0,           0,           0,           0,           0,           0,           0,           0,           0,           0,           0,           0,\n",
              "                  0,           0,           0,           0,           0,           0,           0,           0,           0,           0,           0]]), 'Confidence', 'Recall']]\n",
              "fitness: 0.7869295617725532\n",
              "keys: ['metrics/precision(B)', 'metrics/recall(B)', 'metrics/mAP50(B)', 'metrics/mAP50-95(B)']\n",
              "maps: array([    0.76522])\n",
              "names: {0: 'Number-Plate'}\n",
              "plot: True\n",
              "results_dict: {'metrics/precision(B)': 0.9883969629604743, 'metrics/recall(B)': 0.9675675675675676, 'metrics/mAP50(B)': 0.9822831663589938, 'metrics/mAP50-95(B)': 0.7652236057073931, 'fitness': 0.7869295617725532}\n",
              "save_dir: PosixPath('runs/detect/train')\n",
              "speed: {'preprocess': 0.43526717594691683, 'inference': 3.3239362004039053, 'loss': 0.0007912352844908997, 'postprocess': 5.371603336963025}\n",
              "task: 'detect'"
            ]
          },
          "execution_count": 5,
          "metadata": {},
          "output_type": "execute_result"
        }
      ],
      "source": [
        "from ultralytics import YOLO\n",
        "\n",
        "# Initialize the model (using a pre-trained YOLOv8n model)\n",
        "model = YOLO('yolov8n.pt')\n",
        "\n",
        "# Train the model\n",
        "model.train(\n",
        "    data='data.yaml',   # Path to the dataset configuration file\n",
        "    epochs=100,           # Number of training epochs\n",
        "    imgsz=640,            # Image size\n",
        "    batch=16,             # Batch size\n",
        "\n",
        ")"
      ]
    },
    {
      "cell_type": "code",
      "execution_count": null,
      "metadata": {
        "colab": {
          "base_uri": "https://localhost:8080/",
          "height": 36
        },
        "id": "g6s-UUcKTV_B",
        "outputId": "8076e8d3-2598-4614-b0ee-ff350dd9e8f7"
      },
      "outputs": [
        {
          "data": {
            "application/vnd.google.colaboratory.intrinsic+json": {
              "type": "string"
            },
            "text/plain": [
              "'/content/train8.zip'"
            ]
          },
          "execution_count": 6,
          "metadata": {},
          "output_type": "execute_result"
        }
      ],
      "source": [
        "import shutil\n",
        "\n",
        "shutil.make_archive('train8', 'zip', '/content/runs/detect/train')\n"
      ]
    },
    {
      "cell_type": "code",
      "execution_count": null,
      "metadata": {
        "id": "RRIoS2GAaPxh"
      },
      "outputs": [],
      "source": []
    }
  ],
  "metadata": {
    "accelerator": "GPU",
    "colab": {
      "gpuType": "T4",
      "provenance": []
    },
    "kernelspec": {
      "display_name": "Python 3",
      "name": "python3"
    },
    "language_info": {
      "name": "python"
    }
  },
  "nbformat": 4,
  "nbformat_minor": 0
}
