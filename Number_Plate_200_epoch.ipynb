{
  "cells": [
    {
      "cell_type": "code",
      "execution_count": 2,
      "metadata": {
        "colab": {
          "base_uri": "https://localhost:8080/"
        },
        "id": "0hEwjDJl7eHH",
        "outputId": "7499dbcc-97c0-4034-be5d-abaeb3595b60"
      },
      "outputs": [
        {
          "name": "stdout",
          "output_type": "stream",
          "text": [
            "Drive already mounted at /content/drive; to attempt to forcibly remount, call drive.mount(\"/content/drive\", force_remount=True).\n"
          ]
        }
      ],
      "source": [
        "# mount google drive\n",
        "from google.colab import drive\n",
        "drive.mount('/content/drive')"
      ]
    },
    {
      "cell_type": "code",
      "execution_count": 3,
      "metadata": {
        "colab": {
          "base_uri": "https://localhost:8080/"
        },
        "id": "UJs5DQFIQj39",
        "outputId": "60f9d548-cf98-4f12-b31e-c7f54505ae16"
      },
      "outputs": [
        {
          "name": "stdout",
          "output_type": "stream",
          "text": [
            "Archive:  /content/drive/MyDrive/vehicle/vechileclass.zip\n",
            "  inflating: /content/drive/MyDrive/vehicle/data.yaml  \n",
            "   creating: /content/drive/MyDrive/vehicle/images/\n",
            "   creating: /content/drive/MyDrive/vehicle/images/train/\n",
            "  inflating: /content/drive/MyDrive/vehicle/images/train/car_1.jpg  \n",
            "  inflating: /content/drive/MyDrive/vehicle/images/train/car_10.jpg  \n",
            "  inflating: /content/drive/MyDrive/vehicle/images/train/car_100.jpg  \n",
            "  inflating: /content/drive/MyDrive/vehicle/images/train/car_101.jpg  \n",
            "  inflating: /content/drive/MyDrive/vehicle/images/train/car_102.jpg  \n",
            "  inflating: /content/drive/MyDrive/vehicle/images/train/car_103.jpg  \n",
            "  inflating: /content/drive/MyDrive/vehicle/images/train/car_104.jpg  \n",
            "  inflating: /content/drive/MyDrive/vehicle/images/train/car_105.jpg  \n",
            "  inflating: /content/drive/MyDrive/vehicle/images/train/car_106.jpg  \n",
            "  inflating: /content/drive/MyDrive/vehicle/images/train/car_107.jpg  \n",
            "  inflating: /content/drive/MyDrive/vehicle/images/train/car_108.jpg  \n",
            "  inflating: /content/drive/MyDrive/vehicle/images/train/car_109.jpg  \n",
            "  inflating: /content/drive/MyDrive/vehicle/images/train/car_11.jpg  \n",
            "  inflating: /content/drive/MyDrive/vehicle/images/train/car_110.jpg  \n",
            "  inflating: /content/drive/MyDrive/vehicle/images/train/car_111.jpg  \n",
            "  inflating: /content/drive/MyDrive/vehicle/images/train/car_112.jpg  \n",
            "  inflating: /content/drive/MyDrive/vehicle/images/train/car_113.jpg  \n",
            "  inflating: /content/drive/MyDrive/vehicle/images/train/car_114.jpg  \n",
            "  inflating: /content/drive/MyDrive/vehicle/images/train/car_115.jpg  \n",
            "  inflating: /content/drive/MyDrive/vehicle/images/train/car_116.jpg  \n",
            "  inflating: /content/drive/MyDrive/vehicle/images/train/car_117.jpg  \n",
            "  inflating: /content/drive/MyDrive/vehicle/images/train/car_118.jpg  \n",
            "  inflating: /content/drive/MyDrive/vehicle/images/train/car_119.jpg  \n",
            "  inflating: /content/drive/MyDrive/vehicle/images/train/car_12.jpg  \n",
            "  inflating: /content/drive/MyDrive/vehicle/images/train/car_120.jpg  \n",
            "  inflating: /content/drive/MyDrive/vehicle/images/train/car_121.jpg  \n",
            "  inflating: /content/drive/MyDrive/vehicle/images/train/car_122.jpg  \n",
            "  inflating: /content/drive/MyDrive/vehicle/images/train/car_123.jpg  \n",
            "  inflating: /content/drive/MyDrive/vehicle/images/train/car_124.jpg  \n",
            "  inflating: /content/drive/MyDrive/vehicle/images/train/car_125.jpg  \n",
            "  inflating: /content/drive/MyDrive/vehicle/images/train/car_126.jpg  \n",
            "  inflating: /content/drive/MyDrive/vehicle/images/train/car_127.jpg  \n",
            "  inflating: /content/drive/MyDrive/vehicle/images/train/car_128.jpg  \n",
            "  inflating: /content/drive/MyDrive/vehicle/images/train/car_129.jpg  \n",
            "  inflating: /content/drive/MyDrive/vehicle/images/train/car_13.jpg  \n",
            "  inflating: /content/drive/MyDrive/vehicle/images/train/car_130.jpg  \n",
            "  inflating: /content/drive/MyDrive/vehicle/images/train/car_131.jpg  \n",
            "  inflating: /content/drive/MyDrive/vehicle/images/train/car_132.jpg  \n",
            "  inflating: /content/drive/MyDrive/vehicle/images/train/car_133.jpg  \n",
            "  inflating: /content/drive/MyDrive/vehicle/images/train/car_134.jpg  \n",
            "  inflating: /content/drive/MyDrive/vehicle/images/train/car_135.jpg  \n",
            "  inflating: /content/drive/MyDrive/vehicle/images/train/car_136.jpg  \n",
            "  inflating: /content/drive/MyDrive/vehicle/images/train/car_137.jpg  \n",
            "  inflating: /content/drive/MyDrive/vehicle/images/train/car_138.jpg  \n",
            "  inflating: /content/drive/MyDrive/vehicle/images/train/car_139.jpg  \n",
            "  inflating: /content/drive/MyDrive/vehicle/images/train/car_14.jpg  \n",
            "  inflating: /content/drive/MyDrive/vehicle/images/train/car_140.jpg  \n",
            "  inflating: /content/drive/MyDrive/vehicle/images/train/car_141.jpg  \n",
            "  inflating: /content/drive/MyDrive/vehicle/images/train/car_142.jpg  \n",
            "  inflating: /content/drive/MyDrive/vehicle/images/train/car_143.jpg  \n",
            "  inflating: /content/drive/MyDrive/vehicle/images/train/car_144.jpg  \n",
            "  inflating: /content/drive/MyDrive/vehicle/images/train/car_145.jpg  \n",
            "  inflating: /content/drive/MyDrive/vehicle/images/train/car_146.jpg  \n",
            "  inflating: /content/drive/MyDrive/vehicle/images/train/car_147.jpg  \n",
            "  inflating: /content/drive/MyDrive/vehicle/images/train/car_148.jpg  \n",
            "  inflating: /content/drive/MyDrive/vehicle/images/train/car_149.jpg  \n",
            "  inflating: /content/drive/MyDrive/vehicle/images/train/car_15.jpg  \n",
            "  inflating: /content/drive/MyDrive/vehicle/images/train/car_150.jpg  \n",
            "  inflating: /content/drive/MyDrive/vehicle/images/train/car_151.jpg  \n",
            "  inflating: /content/drive/MyDrive/vehicle/images/train/car_152.jpg  \n",
            "  inflating: /content/drive/MyDrive/vehicle/images/train/car_153.jpg  \n",
            "  inflating: /content/drive/MyDrive/vehicle/images/train/car_154.jpg  \n",
            "  inflating: /content/drive/MyDrive/vehicle/images/train/car_155.jpg  \n",
            "  inflating: /content/drive/MyDrive/vehicle/images/train/car_156.jpg  \n",
            "  inflating: /content/drive/MyDrive/vehicle/images/train/car_157.jpg  \n",
            "  inflating: /content/drive/MyDrive/vehicle/images/train/car_158.jpg  \n",
            "  inflating: /content/drive/MyDrive/vehicle/images/train/car_159.jpg  \n",
            "  inflating: /content/drive/MyDrive/vehicle/images/train/car_16.jpg  \n",
            "  inflating: /content/drive/MyDrive/vehicle/images/train/car_160.jpg  \n",
            "  inflating: /content/drive/MyDrive/vehicle/images/train/car_161.jpg  \n",
            "  inflating: /content/drive/MyDrive/vehicle/images/train/car_162.jpg  \n",
            "  inflating: /content/drive/MyDrive/vehicle/images/train/car_163.jpg  \n",
            "  inflating: /content/drive/MyDrive/vehicle/images/train/car_164.jpg  \n",
            "  inflating: /content/drive/MyDrive/vehicle/images/train/car_165.jpg  \n",
            "  inflating: /content/drive/MyDrive/vehicle/images/train/car_166.jpg  \n",
            "  inflating: /content/drive/MyDrive/vehicle/images/train/car_167.jpg  \n",
            "  inflating: /content/drive/MyDrive/vehicle/images/train/car_168.jpg  \n",
            "  inflating: /content/drive/MyDrive/vehicle/images/train/car_169.jpg  \n",
            "  inflating: /content/drive/MyDrive/vehicle/images/train/car_17.jpg  \n",
            "  inflating: /content/drive/MyDrive/vehicle/images/train/car_170.jpg  \n",
            "  inflating: /content/drive/MyDrive/vehicle/images/train/car_171.jpg  \n",
            "  inflating: /content/drive/MyDrive/vehicle/images/train/car_172.jpg  \n",
            "  inflating: /content/drive/MyDrive/vehicle/images/train/car_173.jpg  \n",
            "  inflating: /content/drive/MyDrive/vehicle/images/train/car_174.jpg  \n",
            "  inflating: /content/drive/MyDrive/vehicle/images/train/car_175.jpg  \n",
            "  inflating: /content/drive/MyDrive/vehicle/images/train/car_176.jpg  \n",
            "  inflating: /content/drive/MyDrive/vehicle/images/train/car_177.jpg  \n",
            "  inflating: /content/drive/MyDrive/vehicle/images/train/car_178.jpg  \n",
            "  inflating: /content/drive/MyDrive/vehicle/images/train/car_179.jpg  \n",
            "  inflating: /content/drive/MyDrive/vehicle/images/train/car_18.jpg  \n",
            "  inflating: /content/drive/MyDrive/vehicle/images/train/car_180.jpg  \n",
            "  inflating: /content/drive/MyDrive/vehicle/images/train/car_181.jpg  \n",
            "  inflating: /content/drive/MyDrive/vehicle/images/train/car_182.jpg  \n",
            "  inflating: /content/drive/MyDrive/vehicle/images/train/car_183.jpg  \n",
            "  inflating: /content/drive/MyDrive/vehicle/images/train/car_184.jpg  \n",
            "  inflating: /content/drive/MyDrive/vehicle/images/train/car_185.jpg  \n",
            "  inflating: /content/drive/MyDrive/vehicle/images/train/car_186.jpg  \n",
            "  inflating: /content/drive/MyDrive/vehicle/images/train/car_187.jpg  \n",
            "  inflating: /content/drive/MyDrive/vehicle/images/train/car_188.jpg  \n",
            "  inflating: /content/drive/MyDrive/vehicle/images/train/car_189.jpg  \n",
            "  inflating: /content/drive/MyDrive/vehicle/images/train/car_19.jpg  \n",
            "  inflating: /content/drive/MyDrive/vehicle/images/train/car_190.jpg  \n",
            "  inflating: /content/drive/MyDrive/vehicle/images/train/car_191.jpg  \n",
            "  inflating: /content/drive/MyDrive/vehicle/images/train/car_192.jpg  \n",
            "  inflating: /content/drive/MyDrive/vehicle/images/train/car_193.jpg  \n",
            "  inflating: /content/drive/MyDrive/vehicle/images/train/car_194.jpg  \n",
            "  inflating: /content/drive/MyDrive/vehicle/images/train/car_195.jpg  \n",
            "  inflating: /content/drive/MyDrive/vehicle/images/train/car_196.jpg  \n",
            "  inflating: /content/drive/MyDrive/vehicle/images/train/car_197.jpg  \n",
            "  inflating: /content/drive/MyDrive/vehicle/images/train/car_198.jpg  \n",
            "  inflating: /content/drive/MyDrive/vehicle/images/train/car_199.jpg  \n",
            "  inflating: /content/drive/MyDrive/vehicle/images/train/car_2.jpg  \n",
            "  inflating: /content/drive/MyDrive/vehicle/images/train/car_20.jpg  \n",
            "  inflating: /content/drive/MyDrive/vehicle/images/train/car_200.jpg  \n",
            "  inflating: /content/drive/MyDrive/vehicle/images/train/car_201.jpg  \n",
            "  inflating: /content/drive/MyDrive/vehicle/images/train/car_202.jpg  \n",
            "  inflating: /content/drive/MyDrive/vehicle/images/train/car_203.jpg  \n",
            "  inflating: /content/drive/MyDrive/vehicle/images/train/car_204.jpg  \n",
            "  inflating: /content/drive/MyDrive/vehicle/images/train/car_205.jpg  \n",
            "  inflating: /content/drive/MyDrive/vehicle/images/train/car_206.jpg  \n",
            "  inflating: /content/drive/MyDrive/vehicle/images/train/car_207.jpg  \n",
            "  inflating: /content/drive/MyDrive/vehicle/images/train/car_208.jpg  \n",
            "  inflating: /content/drive/MyDrive/vehicle/images/train/car_209.jpg  \n",
            "  inflating: /content/drive/MyDrive/vehicle/images/train/car_21.jpg  \n",
            "  inflating: /content/drive/MyDrive/vehicle/images/train/car_210.jpg  \n",
            "  inflating: /content/drive/MyDrive/vehicle/images/train/car_211.jpg  \n",
            "  inflating: /content/drive/MyDrive/vehicle/images/train/car_212.jpg  \n",
            "  inflating: /content/drive/MyDrive/vehicle/images/train/car_213.jpg  \n",
            "  inflating: /content/drive/MyDrive/vehicle/images/train/car_214.jpg  \n",
            "  inflating: /content/drive/MyDrive/vehicle/images/train/car_215.jpg  \n",
            "  inflating: /content/drive/MyDrive/vehicle/images/train/car_216.jpg  \n",
            "  inflating: /content/drive/MyDrive/vehicle/images/train/car_217.jpg  \n",
            "  inflating: /content/drive/MyDrive/vehicle/images/train/car_218.jpg  \n",
            "  inflating: /content/drive/MyDrive/vehicle/images/train/car_219.jpg  \n",
            "  inflating: /content/drive/MyDrive/vehicle/images/train/car_22.jpg  \n",
            "  inflating: /content/drive/MyDrive/vehicle/images/train/car_220.jpg  \n",
            "  inflating: /content/drive/MyDrive/vehicle/images/train/car_221.jpg  \n",
            "  inflating: /content/drive/MyDrive/vehicle/images/train/car_222.jpg  \n",
            "  inflating: /content/drive/MyDrive/vehicle/images/train/car_223.jpg  \n",
            "  inflating: /content/drive/MyDrive/vehicle/images/train/car_224.jpg  \n",
            "  inflating: /content/drive/MyDrive/vehicle/images/train/car_225.jpg  \n",
            "  inflating: /content/drive/MyDrive/vehicle/images/train/car_226.jpg  \n",
            "  inflating: /content/drive/MyDrive/vehicle/images/train/car_227.jpg  \n",
            "  inflating: /content/drive/MyDrive/vehicle/images/train/car_228.jpg  \n",
            "  inflating: /content/drive/MyDrive/vehicle/images/train/car_229.jpg  \n",
            "  inflating: /content/drive/MyDrive/vehicle/images/train/car_23.jpg  \n",
            "  inflating: /content/drive/MyDrive/vehicle/images/train/car_230.jpg  \n",
            "  inflating: /content/drive/MyDrive/vehicle/images/train/car_231.jpg  \n",
            "  inflating: /content/drive/MyDrive/vehicle/images/train/car_232.jpg  \n",
            "  inflating: /content/drive/MyDrive/vehicle/images/train/car_233.jpg  \n",
            "  inflating: /content/drive/MyDrive/vehicle/images/train/car_234.jpg  \n",
            "  inflating: /content/drive/MyDrive/vehicle/images/train/car_235.jpg  \n",
            "  inflating: /content/drive/MyDrive/vehicle/images/train/car_236.jpg  \n",
            "  inflating: /content/drive/MyDrive/vehicle/images/train/car_237.jpg  \n",
            "  inflating: /content/drive/MyDrive/vehicle/images/train/car_238.jpg  \n",
            "  inflating: /content/drive/MyDrive/vehicle/images/train/car_239.jpg  \n",
            "  inflating: /content/drive/MyDrive/vehicle/images/train/car_24.jpg  \n",
            "  inflating: /content/drive/MyDrive/vehicle/images/train/car_240.jpg  \n",
            "  inflating: /content/drive/MyDrive/vehicle/images/train/car_241.jpg  \n",
            "  inflating: /content/drive/MyDrive/vehicle/images/train/car_242.jpg  \n",
            "  inflating: /content/drive/MyDrive/vehicle/images/train/car_243.jpg  \n",
            "  inflating: /content/drive/MyDrive/vehicle/images/train/car_244.jpg  \n",
            "  inflating: /content/drive/MyDrive/vehicle/images/train/car_245.jpg  \n",
            "  inflating: /content/drive/MyDrive/vehicle/images/train/car_246.jpg  \n",
            "  inflating: /content/drive/MyDrive/vehicle/images/train/car_247.jpg  \n",
            "  inflating: /content/drive/MyDrive/vehicle/images/train/car_248.jpg  \n",
            "  inflating: /content/drive/MyDrive/vehicle/images/train/car_249.jpg  \n",
            "  inflating: /content/drive/MyDrive/vehicle/images/train/car_25.jpg  \n",
            "  inflating: /content/drive/MyDrive/vehicle/images/train/car_250.jpg  \n",
            "  inflating: /content/drive/MyDrive/vehicle/images/train/car_251.jpg  \n",
            "  inflating: /content/drive/MyDrive/vehicle/images/train/car_252.jpg  \n",
            "  inflating: /content/drive/MyDrive/vehicle/images/train/car_253.jpg  \n",
            "  inflating: /content/drive/MyDrive/vehicle/images/train/car_254.jpg  \n",
            "  inflating: /content/drive/MyDrive/vehicle/images/train/car_255.jpg  \n",
            "  inflating: /content/drive/MyDrive/vehicle/images/train/car_256.jpg  \n",
            "  inflating: /content/drive/MyDrive/vehicle/images/train/car_257.jpg  \n",
            "  inflating: /content/drive/MyDrive/vehicle/images/train/car_258.jpg  \n",
            "  inflating: /content/drive/MyDrive/vehicle/images/train/car_259.jpg  \n",
            "  inflating: /content/drive/MyDrive/vehicle/images/train/car_26.jpg  \n",
            "  inflating: /content/drive/MyDrive/vehicle/images/train/car_260.jpg  \n",
            "  inflating: /content/drive/MyDrive/vehicle/images/train/car_261.jpg  \n",
            "  inflating: /content/drive/MyDrive/vehicle/images/train/car_262.jpg  \n",
            "  inflating: /content/drive/MyDrive/vehicle/images/train/car_263.jpg  \n",
            "  inflating: /content/drive/MyDrive/vehicle/images/train/car_264.jpg  \n",
            "  inflating: /content/drive/MyDrive/vehicle/images/train/car_265.jpg  \n",
            "  inflating: /content/drive/MyDrive/vehicle/images/train/car_266.jpg  \n",
            "  inflating: /content/drive/MyDrive/vehicle/images/train/car_267.jpg  \n",
            "  inflating: /content/drive/MyDrive/vehicle/images/train/car_268.jpg  \n",
            "  inflating: /content/drive/MyDrive/vehicle/images/train/car_269.jpg  \n",
            "  inflating: /content/drive/MyDrive/vehicle/images/train/car_27.jpg  \n",
            "  inflating: /content/drive/MyDrive/vehicle/images/train/car_270.jpg  \n",
            "  inflating: /content/drive/MyDrive/vehicle/images/train/car_271.jpg  \n",
            "  inflating: /content/drive/MyDrive/vehicle/images/train/car_272.jpg  \n",
            "  inflating: /content/drive/MyDrive/vehicle/images/train/car_273.jpg  \n",
            "  inflating: /content/drive/MyDrive/vehicle/images/train/car_274.jpg  \n",
            "  inflating: /content/drive/MyDrive/vehicle/images/train/car_275.jpg  \n",
            "  inflating: /content/drive/MyDrive/vehicle/images/train/car_276.jpg  \n",
            "  inflating: /content/drive/MyDrive/vehicle/images/train/car_277.jpg  \n",
            "  inflating: /content/drive/MyDrive/vehicle/images/train/car_278.jpg  \n",
            "  inflating: /content/drive/MyDrive/vehicle/images/train/car_279.jpg  \n",
            "  inflating: /content/drive/MyDrive/vehicle/images/train/car_28.jpg  \n",
            "  inflating: /content/drive/MyDrive/vehicle/images/train/car_280.jpg  \n",
            "  inflating: /content/drive/MyDrive/vehicle/images/train/car_281.jpg  \n",
            "  inflating: /content/drive/MyDrive/vehicle/images/train/car_282.jpg  \n",
            "  inflating: /content/drive/MyDrive/vehicle/images/train/car_283.jpg  \n",
            "  inflating: /content/drive/MyDrive/vehicle/images/train/car_284.jpg  \n",
            "  inflating: /content/drive/MyDrive/vehicle/images/train/car_285.jpg  \n",
            "  inflating: /content/drive/MyDrive/vehicle/images/train/car_286.jpg  \n",
            "  inflating: /content/drive/MyDrive/vehicle/images/train/car_287.jpg  \n",
            "  inflating: /content/drive/MyDrive/vehicle/images/train/car_288.jpg  \n",
            "  inflating: /content/drive/MyDrive/vehicle/images/train/car_289.jpg  \n",
            "  inflating: /content/drive/MyDrive/vehicle/images/train/car_29.jpg  \n",
            "  inflating: /content/drive/MyDrive/vehicle/images/train/car_290.jpg  \n",
            "  inflating: /content/drive/MyDrive/vehicle/images/train/car_291.jpg  \n",
            "  inflating: /content/drive/MyDrive/vehicle/images/train/car_292.jpg  \n",
            "  inflating: /content/drive/MyDrive/vehicle/images/train/car_293.jpg  \n",
            "  inflating: /content/drive/MyDrive/vehicle/images/train/car_294.jpg  \n",
            "  inflating: /content/drive/MyDrive/vehicle/images/train/car_295.jpg  \n",
            "  inflating: /content/drive/MyDrive/vehicle/images/train/car_296.jpg  \n",
            "  inflating: /content/drive/MyDrive/vehicle/images/train/car_297.jpg  \n",
            "  inflating: /content/drive/MyDrive/vehicle/images/train/car_298.jpg  \n",
            "  inflating: /content/drive/MyDrive/vehicle/images/train/car_299.jpg  \n",
            "  inflating: /content/drive/MyDrive/vehicle/images/train/car_3.jpg  \n",
            "  inflating: /content/drive/MyDrive/vehicle/images/train/car_30.jpg  \n",
            "  inflating: /content/drive/MyDrive/vehicle/images/train/car_300.jpg  \n",
            "  inflating: /content/drive/MyDrive/vehicle/images/train/car_301.jpg  \n",
            "  inflating: /content/drive/MyDrive/vehicle/images/train/car_302.jpg  \n",
            "  inflating: /content/drive/MyDrive/vehicle/images/train/car_303.jpg  \n",
            "  inflating: /content/drive/MyDrive/vehicle/images/train/car_304.jpg  \n",
            "  inflating: /content/drive/MyDrive/vehicle/images/train/car_305.jpg  \n",
            "  inflating: /content/drive/MyDrive/vehicle/images/train/car_306.jpg  \n",
            "  inflating: /content/drive/MyDrive/vehicle/images/train/car_307.jpg  \n",
            "  inflating: /content/drive/MyDrive/vehicle/images/train/car_308.jpg  \n",
            "  inflating: /content/drive/MyDrive/vehicle/images/train/car_309.jpg  \n",
            "  inflating: /content/drive/MyDrive/vehicle/images/train/car_31.jpg  \n",
            "  inflating: /content/drive/MyDrive/vehicle/images/train/car_310.jpg  \n",
            "  inflating: /content/drive/MyDrive/vehicle/images/train/car_311.jpg  \n",
            "  inflating: /content/drive/MyDrive/vehicle/images/train/car_312.jpg  \n",
            "  inflating: /content/drive/MyDrive/vehicle/images/train/car_313.jpg  \n",
            "  inflating: /content/drive/MyDrive/vehicle/images/train/car_314.jpg  \n",
            "  inflating: /content/drive/MyDrive/vehicle/images/train/car_315.jpg  \n",
            "  inflating: /content/drive/MyDrive/vehicle/images/train/car_316.jpg  \n",
            "  inflating: /content/drive/MyDrive/vehicle/images/train/car_317.jpg  \n",
            "  inflating: /content/drive/MyDrive/vehicle/images/train/car_318.jpg  \n",
            "  inflating: /content/drive/MyDrive/vehicle/images/train/car_319.jpg  \n",
            "  inflating: /content/drive/MyDrive/vehicle/images/train/car_32.jpg  \n",
            "  inflating: /content/drive/MyDrive/vehicle/images/train/car_320.jpg  \n",
            "  inflating: /content/drive/MyDrive/vehicle/images/train/car_321.jpg  \n",
            "  inflating: /content/drive/MyDrive/vehicle/images/train/car_322.jpg  \n",
            "  inflating: /content/drive/MyDrive/vehicle/images/train/car_323.jpg  \n",
            "  inflating: /content/drive/MyDrive/vehicle/images/train/car_324.jpg  \n",
            "  inflating: /content/drive/MyDrive/vehicle/images/train/car_325.jpg  \n",
            "  inflating: /content/drive/MyDrive/vehicle/images/train/car_326.jpg  \n",
            "  inflating: /content/drive/MyDrive/vehicle/images/train/car_327.jpg  \n",
            "  inflating: /content/drive/MyDrive/vehicle/images/train/car_328.jpg  \n",
            "  inflating: /content/drive/MyDrive/vehicle/images/train/car_329.jpg  \n",
            "  inflating: /content/drive/MyDrive/vehicle/images/train/car_33.jpg  \n",
            "  inflating: /content/drive/MyDrive/vehicle/images/train/car_330.jpg  \n",
            "  inflating: /content/drive/MyDrive/vehicle/images/train/car_331.jpg  \n",
            "  inflating: /content/drive/MyDrive/vehicle/images/train/car_332.jpg  \n",
            "  inflating: /content/drive/MyDrive/vehicle/images/train/car_333.jpg  \n",
            "  inflating: /content/drive/MyDrive/vehicle/images/train/car_334.jpg  \n",
            "  inflating: /content/drive/MyDrive/vehicle/images/train/car_335.jpg  \n",
            "  inflating: /content/drive/MyDrive/vehicle/images/train/car_336.jpg  \n",
            "  inflating: /content/drive/MyDrive/vehicle/images/train/car_337.jpg  \n",
            "  inflating: /content/drive/MyDrive/vehicle/images/train/car_338.jpg  \n",
            "  inflating: /content/drive/MyDrive/vehicle/images/train/car_339.jpg  \n",
            "  inflating: /content/drive/MyDrive/vehicle/images/train/car_34.jpg  \n",
            "  inflating: /content/drive/MyDrive/vehicle/images/train/car_340.jpg  \n",
            "  inflating: /content/drive/MyDrive/vehicle/images/train/car_341.jpg  \n",
            "  inflating: /content/drive/MyDrive/vehicle/images/train/car_342.jpg  \n",
            "  inflating: /content/drive/MyDrive/vehicle/images/train/car_343.jpg  \n",
            "  inflating: /content/drive/MyDrive/vehicle/images/train/car_344.jpg  \n",
            "  inflating: /content/drive/MyDrive/vehicle/images/train/car_345.jpg  \n",
            "  inflating: /content/drive/MyDrive/vehicle/images/train/car_346.jpg  \n",
            "  inflating: /content/drive/MyDrive/vehicle/images/train/car_347.jpg  \n",
            "  inflating: /content/drive/MyDrive/vehicle/images/train/car_348.jpg  \n",
            "  inflating: /content/drive/MyDrive/vehicle/images/train/car_349.jpg  \n",
            "  inflating: /content/drive/MyDrive/vehicle/images/train/car_35.jpg  \n",
            "  inflating: /content/drive/MyDrive/vehicle/images/train/car_350.jpg  \n",
            "  inflating: /content/drive/MyDrive/vehicle/images/train/car_351.jpg  \n",
            "  inflating: /content/drive/MyDrive/vehicle/images/train/car_352.jpg  \n",
            "  inflating: /content/drive/MyDrive/vehicle/images/train/car_353.jpg  \n",
            "  inflating: /content/drive/MyDrive/vehicle/images/train/car_354.jpg  \n",
            "  inflating: /content/drive/MyDrive/vehicle/images/train/car_355.jpg  \n",
            "  inflating: /content/drive/MyDrive/vehicle/images/train/car_356.jpg  \n",
            "  inflating: /content/drive/MyDrive/vehicle/images/train/car_357.jpg  \n",
            "  inflating: /content/drive/MyDrive/vehicle/images/train/car_358.jpg  \n",
            "  inflating: /content/drive/MyDrive/vehicle/images/train/car_359.jpg  \n",
            "  inflating: /content/drive/MyDrive/vehicle/images/train/car_36.jpg  \n",
            "  inflating: /content/drive/MyDrive/vehicle/images/train/car_360.jpg  \n",
            "  inflating: /content/drive/MyDrive/vehicle/images/train/car_361.jpg  \n",
            "  inflating: /content/drive/MyDrive/vehicle/images/train/car_362.jpg  \n",
            "  inflating: /content/drive/MyDrive/vehicle/images/train/car_363.jpg  \n",
            "  inflating: /content/drive/MyDrive/vehicle/images/train/car_364.jpg  \n",
            "  inflating: /content/drive/MyDrive/vehicle/images/train/car_365.jpg  \n",
            "  inflating: /content/drive/MyDrive/vehicle/images/train/car_366.jpg  \n",
            "  inflating: /content/drive/MyDrive/vehicle/images/train/car_367.jpg  \n",
            "  inflating: /content/drive/MyDrive/vehicle/images/train/car_368.jpg  \n",
            "  inflating: /content/drive/MyDrive/vehicle/images/train/car_369.jpg  \n",
            "  inflating: /content/drive/MyDrive/vehicle/images/train/car_37.jpg  \n",
            "  inflating: /content/drive/MyDrive/vehicle/images/train/car_370.jpg  \n",
            "  inflating: /content/drive/MyDrive/vehicle/images/train/car_371.jpg  \n",
            "  inflating: /content/drive/MyDrive/vehicle/images/train/car_372.jpg  \n",
            "  inflating: /content/drive/MyDrive/vehicle/images/train/car_373.jpg  \n",
            "  inflating: /content/drive/MyDrive/vehicle/images/train/car_374.jpg  \n",
            "  inflating: /content/drive/MyDrive/vehicle/images/train/car_375.jpg  \n",
            "  inflating: /content/drive/MyDrive/vehicle/images/train/car_376.jpg  \n",
            "  inflating: /content/drive/MyDrive/vehicle/images/train/car_377.jpg  \n",
            "  inflating: /content/drive/MyDrive/vehicle/images/train/car_378.jpg  \n",
            "  inflating: /content/drive/MyDrive/vehicle/images/train/car_379.jpg  \n",
            "  inflating: /content/drive/MyDrive/vehicle/images/train/car_38.jpg  \n",
            "  inflating: /content/drive/MyDrive/vehicle/images/train/car_380.jpg  \n",
            "  inflating: /content/drive/MyDrive/vehicle/images/train/car_381.jpg  \n",
            "  inflating: /content/drive/MyDrive/vehicle/images/train/car_382.jpg  \n",
            "  inflating: /content/drive/MyDrive/vehicle/images/train/car_383.jpg  \n",
            "  inflating: /content/drive/MyDrive/vehicle/images/train/car_384.jpg  \n",
            "  inflating: /content/drive/MyDrive/vehicle/images/train/car_385.jpg  \n",
            "  inflating: /content/drive/MyDrive/vehicle/images/train/car_386.jpg  \n",
            "  inflating: /content/drive/MyDrive/vehicle/images/train/car_387.jpg  \n",
            "  inflating: /content/drive/MyDrive/vehicle/images/train/car_388.jpg  \n",
            "  inflating: /content/drive/MyDrive/vehicle/images/train/car_389.jpg  \n",
            "  inflating: /content/drive/MyDrive/vehicle/images/train/car_39.jpg  \n",
            "  inflating: /content/drive/MyDrive/vehicle/images/train/car_390.jpg  \n",
            "  inflating: /content/drive/MyDrive/vehicle/images/train/car_391.jpg  \n",
            "  inflating: /content/drive/MyDrive/vehicle/images/train/car_392.jpg  \n",
            "  inflating: /content/drive/MyDrive/vehicle/images/train/car_393.jpg  \n",
            "  inflating: /content/drive/MyDrive/vehicle/images/train/car_394.jpg  \n",
            "  inflating: /content/drive/MyDrive/vehicle/images/train/car_395.jpg  \n",
            "  inflating: /content/drive/MyDrive/vehicle/images/train/car_396.jpg  \n",
            "  inflating: /content/drive/MyDrive/vehicle/images/train/car_397.jpg  \n",
            "  inflating: /content/drive/MyDrive/vehicle/images/train/car_398.jpg  \n",
            "  inflating: /content/drive/MyDrive/vehicle/images/train/car_399.jpg  \n",
            "  inflating: /content/drive/MyDrive/vehicle/images/train/car_4.jpg  \n",
            "  inflating: /content/drive/MyDrive/vehicle/images/train/car_40.jpg  \n",
            "  inflating: /content/drive/MyDrive/vehicle/images/train/car_400.jpg  \n",
            "  inflating: /content/drive/MyDrive/vehicle/images/train/car_401.jpg  \n",
            "  inflating: /content/drive/MyDrive/vehicle/images/train/car_402.jpg  \n",
            "  inflating: /content/drive/MyDrive/vehicle/images/train/car_403.jpg  \n",
            "  inflating: /content/drive/MyDrive/vehicle/images/train/car_404.jpg  \n",
            "  inflating: /content/drive/MyDrive/vehicle/images/train/car_405.jpg  \n",
            "  inflating: /content/drive/MyDrive/vehicle/images/train/car_406.jpg  \n",
            "  inflating: /content/drive/MyDrive/vehicle/images/train/car_407.jpg  \n",
            "  inflating: /content/drive/MyDrive/vehicle/images/train/car_408.jpg  \n",
            "  inflating: /content/drive/MyDrive/vehicle/images/train/car_409.jpg  \n",
            "  inflating: /content/drive/MyDrive/vehicle/images/train/car_41.jpg  \n",
            "  inflating: /content/drive/MyDrive/vehicle/images/train/car_410.jpg  \n",
            "  inflating: /content/drive/MyDrive/vehicle/images/train/car_411.jpg  \n",
            "  inflating: /content/drive/MyDrive/vehicle/images/train/car_412.jpg  \n",
            "  inflating: /content/drive/MyDrive/vehicle/images/train/car_413.jpg  \n",
            "  inflating: /content/drive/MyDrive/vehicle/images/train/car_414.jpg  \n",
            "  inflating: /content/drive/MyDrive/vehicle/images/train/car_415.jpg  \n",
            "  inflating: /content/drive/MyDrive/vehicle/images/train/car_416.jpg  \n",
            "  inflating: /content/drive/MyDrive/vehicle/images/train/car_417.jpg  \n",
            "  inflating: /content/drive/MyDrive/vehicle/images/train/car_418.jpg  \n",
            "  inflating: /content/drive/MyDrive/vehicle/images/train/car_419.jpg  \n",
            "  inflating: /content/drive/MyDrive/vehicle/images/train/car_42.jpg  \n",
            "  inflating: /content/drive/MyDrive/vehicle/images/train/car_420.jpg  \n",
            "  inflating: /content/drive/MyDrive/vehicle/images/train/car_421.jpg  \n",
            "  inflating: /content/drive/MyDrive/vehicle/images/train/car_422.jpg  \n",
            "  inflating: /content/drive/MyDrive/vehicle/images/train/car_423.jpg  \n",
            "  inflating: /content/drive/MyDrive/vehicle/images/train/car_424.jpg  \n",
            "  inflating: /content/drive/MyDrive/vehicle/images/train/car_425.jpg  \n",
            "  inflating: /content/drive/MyDrive/vehicle/images/train/car_426.jpg  \n",
            "  inflating: /content/drive/MyDrive/vehicle/images/train/car_427.jpg  \n",
            "  inflating: /content/drive/MyDrive/vehicle/images/train/car_428.jpg  \n",
            "  inflating: /content/drive/MyDrive/vehicle/images/train/car_429.jpg  \n",
            "  inflating: /content/drive/MyDrive/vehicle/images/train/car_43.jpg  \n",
            "  inflating: /content/drive/MyDrive/vehicle/images/train/car_430.jpg  \n",
            "  inflating: /content/drive/MyDrive/vehicle/images/train/car_431.jpg  \n",
            "  inflating: /content/drive/MyDrive/vehicle/images/train/car_432.jpg  \n",
            "  inflating: /content/drive/MyDrive/vehicle/images/train/car_433.jpg  \n",
            "  inflating: /content/drive/MyDrive/vehicle/images/train/car_434.jpg  \n",
            "  inflating: /content/drive/MyDrive/vehicle/images/train/car_435.jpg  \n",
            "  inflating: /content/drive/MyDrive/vehicle/images/train/car_436.jpg  \n",
            "  inflating: /content/drive/MyDrive/vehicle/images/train/car_437.jpg  \n",
            "  inflating: /content/drive/MyDrive/vehicle/images/train/car_438.jpg  \n",
            "  inflating: /content/drive/MyDrive/vehicle/images/train/car_439.jpg  \n",
            "  inflating: /content/drive/MyDrive/vehicle/images/train/car_44.jpg  \n",
            "  inflating: /content/drive/MyDrive/vehicle/images/train/car_440.jpg  \n",
            "  inflating: /content/drive/MyDrive/vehicle/images/train/car_441.jpg  \n",
            "  inflating: /content/drive/MyDrive/vehicle/images/train/car_442.jpg  \n",
            "  inflating: /content/drive/MyDrive/vehicle/images/train/car_443.jpg  \n",
            "  inflating: /content/drive/MyDrive/vehicle/images/train/car_444.jpg  \n",
            "  inflating: /content/drive/MyDrive/vehicle/images/train/car_445.jpg  \n",
            "  inflating: /content/drive/MyDrive/vehicle/images/train/car_446.jpg  \n",
            "  inflating: /content/drive/MyDrive/vehicle/images/train/car_447.jpg  \n",
            "  inflating: /content/drive/MyDrive/vehicle/images/train/car_448.jpg  \n",
            "  inflating: /content/drive/MyDrive/vehicle/images/train/car_449.jpg  \n",
            "  inflating: /content/drive/MyDrive/vehicle/images/train/car_45.jpg  \n",
            "  inflating: /content/drive/MyDrive/vehicle/images/train/car_450.jpg  \n",
            "  inflating: /content/drive/MyDrive/vehicle/images/train/car_451.jpg  \n",
            "  inflating: /content/drive/MyDrive/vehicle/images/train/car_452.jpg  \n",
            "  inflating: /content/drive/MyDrive/vehicle/images/train/car_453.jpg  \n",
            "  inflating: /content/drive/MyDrive/vehicle/images/train/car_454.jpg  \n",
            "  inflating: /content/drive/MyDrive/vehicle/images/train/car_455.jpg  \n",
            "  inflating: /content/drive/MyDrive/vehicle/images/train/car_456.jpg  \n",
            "  inflating: /content/drive/MyDrive/vehicle/images/train/car_457.jpg  \n",
            "  inflating: /content/drive/MyDrive/vehicle/images/train/car_458.jpg  \n",
            "  inflating: /content/drive/MyDrive/vehicle/images/train/car_459.jpg  \n",
            "  inflating: /content/drive/MyDrive/vehicle/images/train/car_46.jpg  \n",
            "  inflating: /content/drive/MyDrive/vehicle/images/train/car_460.jpg  \n",
            "  inflating: /content/drive/MyDrive/vehicle/images/train/car_461.jpg  \n",
            "  inflating: /content/drive/MyDrive/vehicle/images/train/car_462.jpg  \n",
            "  inflating: /content/drive/MyDrive/vehicle/images/train/car_463.jpg  \n",
            "  inflating: /content/drive/MyDrive/vehicle/images/train/car_464.jpg  \n",
            "  inflating: /content/drive/MyDrive/vehicle/images/train/car_465.jpg  \n",
            "  inflating: /content/drive/MyDrive/vehicle/images/train/car_466.jpg  \n",
            "  inflating: /content/drive/MyDrive/vehicle/images/train/car_467.jpg  \n",
            "  inflating: /content/drive/MyDrive/vehicle/images/train/car_468.jpg  \n",
            "  inflating: /content/drive/MyDrive/vehicle/images/train/car_469.jpg  \n",
            "  inflating: /content/drive/MyDrive/vehicle/images/train/car_47.jpg  \n",
            "  inflating: /content/drive/MyDrive/vehicle/images/train/car_470.jpg  \n",
            "  inflating: /content/drive/MyDrive/vehicle/images/train/car_471.jpg  \n",
            "  inflating: /content/drive/MyDrive/vehicle/images/train/car_472.jpg  \n",
            "  inflating: /content/drive/MyDrive/vehicle/images/train/car_473.jpg  \n",
            "  inflating: /content/drive/MyDrive/vehicle/images/train/car_474.jpg  \n",
            "  inflating: /content/drive/MyDrive/vehicle/images/train/car_475.jpg  \n",
            "  inflating: /content/drive/MyDrive/vehicle/images/train/car_476.jpg  \n",
            "  inflating: /content/drive/MyDrive/vehicle/images/train/car_477.jpg  \n",
            "  inflating: /content/drive/MyDrive/vehicle/images/train/car_478.jpg  \n",
            "  inflating: /content/drive/MyDrive/vehicle/images/train/car_479.jpg  \n",
            "  inflating: /content/drive/MyDrive/vehicle/images/train/car_48.jpg  \n",
            "  inflating: /content/drive/MyDrive/vehicle/images/train/car_480.jpg  \n",
            "  inflating: /content/drive/MyDrive/vehicle/images/train/car_481.jpg  \n",
            "  inflating: /content/drive/MyDrive/vehicle/images/train/car_482.jpg  \n",
            "  inflating: /content/drive/MyDrive/vehicle/images/train/car_483.jpg  \n",
            "  inflating: /content/drive/MyDrive/vehicle/images/train/car_484.jpg  \n",
            "  inflating: /content/drive/MyDrive/vehicle/images/train/car_485.jpg  \n",
            "  inflating: /content/drive/MyDrive/vehicle/images/train/car_486.jpg  \n",
            "  inflating: /content/drive/MyDrive/vehicle/images/train/car_487.jpg  \n",
            "  inflating: /content/drive/MyDrive/vehicle/images/train/car_488.jpg  \n",
            "  inflating: /content/drive/MyDrive/vehicle/images/train/car_489.jpg  \n",
            "  inflating: /content/drive/MyDrive/vehicle/images/train/car_49.jpg  \n",
            "  inflating: /content/drive/MyDrive/vehicle/images/train/car_490.jpg  \n",
            "  inflating: /content/drive/MyDrive/vehicle/images/train/car_491.jpg  \n",
            "  inflating: /content/drive/MyDrive/vehicle/images/train/car_492.jpg  \n",
            "  inflating: /content/drive/MyDrive/vehicle/images/train/car_493.jpg  \n",
            "  inflating: /content/drive/MyDrive/vehicle/images/train/car_494.jpg  \n",
            "  inflating: /content/drive/MyDrive/vehicle/images/train/car_495.jpg  \n",
            "  inflating: /content/drive/MyDrive/vehicle/images/train/car_496.jpg  \n",
            "  inflating: /content/drive/MyDrive/vehicle/images/train/car_497.jpg  \n",
            "  inflating: /content/drive/MyDrive/vehicle/images/train/car_498.jpg  \n",
            "  inflating: /content/drive/MyDrive/vehicle/images/train/car_499.jpg  \n",
            "  inflating: /content/drive/MyDrive/vehicle/images/train/car_5.jpg  \n",
            "  inflating: /content/drive/MyDrive/vehicle/images/train/car_50.jpg  \n",
            "  inflating: /content/drive/MyDrive/vehicle/images/train/car_500.jpg  \n",
            "  inflating: /content/drive/MyDrive/vehicle/images/train/car_501.jpg  \n",
            "  inflating: /content/drive/MyDrive/vehicle/images/train/car_502.jpg  \n",
            "  inflating: /content/drive/MyDrive/vehicle/images/train/car_503.jpg  \n",
            "  inflating: /content/drive/MyDrive/vehicle/images/train/car_504.jpg  \n",
            "  inflating: /content/drive/MyDrive/vehicle/images/train/car_505.jpg  \n",
            "  inflating: /content/drive/MyDrive/vehicle/images/train/car_506.jpg  \n",
            "  inflating: /content/drive/MyDrive/vehicle/images/train/car_507.jpg  \n",
            "  inflating: /content/drive/MyDrive/vehicle/images/train/car_508.jpg  \n",
            "  inflating: /content/drive/MyDrive/vehicle/images/train/car_509.jpg  \n",
            "  inflating: /content/drive/MyDrive/vehicle/images/train/car_51.jpg  \n",
            "  inflating: /content/drive/MyDrive/vehicle/images/train/car_510.jpg  \n",
            "  inflating: /content/drive/MyDrive/vehicle/images/train/car_511.jpg  \n",
            "  inflating: /content/drive/MyDrive/vehicle/images/train/car_512.jpg  \n",
            "  inflating: /content/drive/MyDrive/vehicle/images/train/car_513.jpg  \n",
            "  inflating: /content/drive/MyDrive/vehicle/images/train/car_514.jpg  \n",
            "  inflating: /content/drive/MyDrive/vehicle/images/train/car_515.jpg  \n",
            "  inflating: /content/drive/MyDrive/vehicle/images/train/car_516.jpg  \n",
            "  inflating: /content/drive/MyDrive/vehicle/images/train/car_517.jpg  \n",
            "  inflating: /content/drive/MyDrive/vehicle/images/train/car_518.jpg  \n",
            "  inflating: /content/drive/MyDrive/vehicle/images/train/car_519.jpg  \n",
            "  inflating: /content/drive/MyDrive/vehicle/images/train/car_52.jpg  \n",
            "  inflating: /content/drive/MyDrive/vehicle/images/train/car_520.jpg  \n",
            "  inflating: /content/drive/MyDrive/vehicle/images/train/car_521.jpg  \n",
            "  inflating: /content/drive/MyDrive/vehicle/images/train/car_522.jpg  \n",
            "  inflating: /content/drive/MyDrive/vehicle/images/train/car_523.jpg  \n",
            "  inflating: /content/drive/MyDrive/vehicle/images/train/car_524.jpg  \n",
            "  inflating: /content/drive/MyDrive/vehicle/images/train/car_525.jpg  \n",
            "  inflating: /content/drive/MyDrive/vehicle/images/train/car_526.jpg  \n",
            "  inflating: /content/drive/MyDrive/vehicle/images/train/car_527.jpg  \n",
            "  inflating: /content/drive/MyDrive/vehicle/images/train/car_528.jpg  \n",
            "  inflating: /content/drive/MyDrive/vehicle/images/train/car_529.jpg  \n",
            "  inflating: /content/drive/MyDrive/vehicle/images/train/car_53.jpg  \n",
            "  inflating: /content/drive/MyDrive/vehicle/images/train/car_530.jpg  \n",
            "  inflating: /content/drive/MyDrive/vehicle/images/train/car_531.jpg  \n",
            "  inflating: /content/drive/MyDrive/vehicle/images/train/car_532.jpg  \n",
            "  inflating: /content/drive/MyDrive/vehicle/images/train/car_533.jpg  \n",
            "  inflating: /content/drive/MyDrive/vehicle/images/train/car_534.jpg  \n",
            "  inflating: /content/drive/MyDrive/vehicle/images/train/car_535.jpg  \n",
            "  inflating: /content/drive/MyDrive/vehicle/images/train/car_536.jpg  \n",
            "  inflating: /content/drive/MyDrive/vehicle/images/train/car_537.jpg  \n",
            "  inflating: /content/drive/MyDrive/vehicle/images/train/car_538.jpg  \n",
            "  inflating: /content/drive/MyDrive/vehicle/images/train/car_539.jpg  \n",
            "  inflating: /content/drive/MyDrive/vehicle/images/train/car_54.jpg  \n",
            "  inflating: /content/drive/MyDrive/vehicle/images/train/car_540.jpg  \n",
            "  inflating: /content/drive/MyDrive/vehicle/images/train/car_541.jpg  \n",
            "  inflating: /content/drive/MyDrive/vehicle/images/train/car_542.jpg  \n",
            "  inflating: /content/drive/MyDrive/vehicle/images/train/car_543.jpg  \n",
            "  inflating: /content/drive/MyDrive/vehicle/images/train/car_544.jpg  \n",
            "  inflating: /content/drive/MyDrive/vehicle/images/train/car_545.jpg  \n",
            "  inflating: /content/drive/MyDrive/vehicle/images/train/car_546.jpg  \n",
            "  inflating: /content/drive/MyDrive/vehicle/images/train/car_547.jpg  \n",
            "  inflating: /content/drive/MyDrive/vehicle/images/train/car_548.jpg  \n",
            "  inflating: /content/drive/MyDrive/vehicle/images/train/car_549.jpg  \n",
            "  inflating: /content/drive/MyDrive/vehicle/images/train/car_55.jpg  \n",
            "  inflating: /content/drive/MyDrive/vehicle/images/train/car_550.jpg  \n",
            "  inflating: /content/drive/MyDrive/vehicle/images/train/car_551.jpg  \n",
            "  inflating: /content/drive/MyDrive/vehicle/images/train/car_552.jpg  \n",
            "  inflating: /content/drive/MyDrive/vehicle/images/train/car_553.jpg  \n",
            "  inflating: /content/drive/MyDrive/vehicle/images/train/car_554.jpg  \n",
            "  inflating: /content/drive/MyDrive/vehicle/images/train/car_555.jpg  \n",
            "  inflating: /content/drive/MyDrive/vehicle/images/train/car_556.jpg  \n",
            "  inflating: /content/drive/MyDrive/vehicle/images/train/car_557.jpg  \n",
            "  inflating: /content/drive/MyDrive/vehicle/images/train/car_558.jpg  \n",
            "  inflating: /content/drive/MyDrive/vehicle/images/train/car_559.jpg  \n",
            "  inflating: /content/drive/MyDrive/vehicle/images/train/car_56.jpg  \n",
            "  inflating: /content/drive/MyDrive/vehicle/images/train/car_560.jpg  \n",
            "  inflating: /content/drive/MyDrive/vehicle/images/train/car_561.jpg  \n",
            "  inflating: /content/drive/MyDrive/vehicle/images/train/car_562.jpg  \n",
            "  inflating: /content/drive/MyDrive/vehicle/images/train/car_563.jpg  \n",
            "  inflating: /content/drive/MyDrive/vehicle/images/train/car_564.jpg  \n",
            "  inflating: /content/drive/MyDrive/vehicle/images/train/car_565.jpg  \n",
            "  inflating: /content/drive/MyDrive/vehicle/images/train/car_566.jpg  \n",
            "  inflating: /content/drive/MyDrive/vehicle/images/train/car_567.jpg  \n",
            "  inflating: /content/drive/MyDrive/vehicle/images/train/car_568.jpg  \n",
            "  inflating: /content/drive/MyDrive/vehicle/images/train/car_569.jpg  \n",
            "  inflating: /content/drive/MyDrive/vehicle/images/train/car_57.jpg  \n",
            "  inflating: /content/drive/MyDrive/vehicle/images/train/car_570.jpg  \n",
            "  inflating: /content/drive/MyDrive/vehicle/images/train/car_571.jpg  \n",
            "  inflating: /content/drive/MyDrive/vehicle/images/train/car_572.jpg  \n",
            "  inflating: /content/drive/MyDrive/vehicle/images/train/car_573.jpg  \n",
            "  inflating: /content/drive/MyDrive/vehicle/images/train/car_574.jpg  \n",
            "  inflating: /content/drive/MyDrive/vehicle/images/train/car_575.jpg  \n",
            "  inflating: /content/drive/MyDrive/vehicle/images/train/car_576.jpg  \n",
            "  inflating: /content/drive/MyDrive/vehicle/images/train/car_577.jpg  \n",
            "  inflating: /content/drive/MyDrive/vehicle/images/train/car_578.jpg  \n",
            "  inflating: /content/drive/MyDrive/vehicle/images/train/car_579.jpg  \n",
            "  inflating: /content/drive/MyDrive/vehicle/images/train/car_58.jpg  \n",
            "  inflating: /content/drive/MyDrive/vehicle/images/train/car_580.jpg  \n",
            "  inflating: /content/drive/MyDrive/vehicle/images/train/car_581.jpg  \n",
            "  inflating: /content/drive/MyDrive/vehicle/images/train/car_582.jpg  \n",
            "  inflating: /content/drive/MyDrive/vehicle/images/train/car_583.jpg  \n",
            "  inflating: /content/drive/MyDrive/vehicle/images/train/car_584.jpg  \n",
            "  inflating: /content/drive/MyDrive/vehicle/images/train/car_585.jpg  \n",
            "  inflating: /content/drive/MyDrive/vehicle/images/train/car_586.jpg  \n",
            "  inflating: /content/drive/MyDrive/vehicle/images/train/car_587.jpg  \n",
            "  inflating: /content/drive/MyDrive/vehicle/images/train/car_588.jpg  \n",
            "  inflating: /content/drive/MyDrive/vehicle/images/train/car_589.jpg  \n",
            "  inflating: /content/drive/MyDrive/vehicle/images/train/car_59.jpg  \n",
            "  inflating: /content/drive/MyDrive/vehicle/images/train/car_590.jpg  \n",
            "  inflating: /content/drive/MyDrive/vehicle/images/train/car_591.jpg  \n",
            "  inflating: /content/drive/MyDrive/vehicle/images/train/car_592.jpg  \n",
            "  inflating: /content/drive/MyDrive/vehicle/images/train/car_593.jpg  \n",
            "  inflating: /content/drive/MyDrive/vehicle/images/train/car_594.jpg  \n",
            "  inflating: /content/drive/MyDrive/vehicle/images/train/car_595.jpg  \n",
            "  inflating: /content/drive/MyDrive/vehicle/images/train/car_596.jpg  \n",
            "  inflating: /content/drive/MyDrive/vehicle/images/train/car_597.jpg  \n",
            "  inflating: /content/drive/MyDrive/vehicle/images/train/car_598.jpg  \n",
            "  inflating: /content/drive/MyDrive/vehicle/images/train/car_599.jpg  \n",
            "  inflating: /content/drive/MyDrive/vehicle/images/train/car_6.jpg  \n",
            "  inflating: /content/drive/MyDrive/vehicle/images/train/car_60.jpg  \n",
            "  inflating: /content/drive/MyDrive/vehicle/images/train/car_600.jpg  \n",
            "  inflating: /content/drive/MyDrive/vehicle/images/train/car_601.jpg  \n",
            "  inflating: /content/drive/MyDrive/vehicle/images/train/car_602.jpg  \n",
            "  inflating: /content/drive/MyDrive/vehicle/images/train/car_603.jpg  \n",
            "  inflating: /content/drive/MyDrive/vehicle/images/train/car_604.jpg  \n",
            "  inflating: /content/drive/MyDrive/vehicle/images/train/car_605.jpg  \n",
            "  inflating: /content/drive/MyDrive/vehicle/images/train/car_606.jpg  \n",
            "  inflating: /content/drive/MyDrive/vehicle/images/train/car_607.jpg  \n",
            "  inflating: /content/drive/MyDrive/vehicle/images/train/car_608.jpg  \n",
            "  inflating: /content/drive/MyDrive/vehicle/images/train/car_609.jpg  \n",
            "  inflating: /content/drive/MyDrive/vehicle/images/train/car_61.jpg  \n",
            "  inflating: /content/drive/MyDrive/vehicle/images/train/car_610.jpg  \n",
            "  inflating: /content/drive/MyDrive/vehicle/images/train/car_611.jpg  \n",
            "  inflating: /content/drive/MyDrive/vehicle/images/train/car_612.jpg  \n",
            "  inflating: /content/drive/MyDrive/vehicle/images/train/car_613.jpg  \n",
            "  inflating: /content/drive/MyDrive/vehicle/images/train/car_614.jpg  \n",
            "  inflating: /content/drive/MyDrive/vehicle/images/train/car_615.jpg  \n",
            "  inflating: /content/drive/MyDrive/vehicle/images/train/car_616.jpg  \n",
            "  inflating: /content/drive/MyDrive/vehicle/images/train/car_617.jpg  \n",
            "  inflating: /content/drive/MyDrive/vehicle/images/train/car_618.jpg  \n",
            "  inflating: /content/drive/MyDrive/vehicle/images/train/car_619.jpg  \n",
            "  inflating: /content/drive/MyDrive/vehicle/images/train/car_62.jpg  \n",
            "  inflating: /content/drive/MyDrive/vehicle/images/train/car_620.jpg  \n",
            "  inflating: /content/drive/MyDrive/vehicle/images/train/car_621.jpg  \n",
            "  inflating: /content/drive/MyDrive/vehicle/images/train/car_622.jpg  \n",
            "  inflating: /content/drive/MyDrive/vehicle/images/train/car_623.jpg  \n",
            "  inflating: /content/drive/MyDrive/vehicle/images/train/car_624.jpg  \n",
            "  inflating: /content/drive/MyDrive/vehicle/images/train/car_625.jpg  \n",
            "  inflating: /content/drive/MyDrive/vehicle/images/train/car_626.jpg  \n",
            "  inflating: /content/drive/MyDrive/vehicle/images/train/car_627.jpg  \n",
            "  inflating: /content/drive/MyDrive/vehicle/images/train/car_628.jpg  \n",
            "  inflating: /content/drive/MyDrive/vehicle/images/train/car_629.jpg  \n",
            "  inflating: /content/drive/MyDrive/vehicle/images/train/car_63.jpg  \n",
            "  inflating: /content/drive/MyDrive/vehicle/images/train/car_630.jpg  \n",
            "  inflating: /content/drive/MyDrive/vehicle/images/train/car_631.jpg  \n",
            "  inflating: /content/drive/MyDrive/vehicle/images/train/car_632.jpg  \n",
            "  inflating: /content/drive/MyDrive/vehicle/images/train/car_633.jpg  \n",
            "  inflating: /content/drive/MyDrive/vehicle/images/train/car_634.jpg  \n",
            "  inflating: /content/drive/MyDrive/vehicle/images/train/car_635.jpg  \n",
            "  inflating: /content/drive/MyDrive/vehicle/images/train/car_636.jpg  \n",
            "  inflating: /content/drive/MyDrive/vehicle/images/train/car_637.jpg  \n",
            "  inflating: /content/drive/MyDrive/vehicle/images/train/car_638.jpg  \n",
            "  inflating: /content/drive/MyDrive/vehicle/images/train/car_639.jpg  \n",
            "  inflating: /content/drive/MyDrive/vehicle/images/train/car_64.jpg  \n",
            "  inflating: /content/drive/MyDrive/vehicle/images/train/car_640.jpg  \n",
            "  inflating: /content/drive/MyDrive/vehicle/images/train/car_65.jpg  \n",
            "  inflating: /content/drive/MyDrive/vehicle/images/train/car_66.jpg  \n",
            "  inflating: /content/drive/MyDrive/vehicle/images/train/car_67.jpg  \n",
            "  inflating: /content/drive/MyDrive/vehicle/images/train/car_68.jpg  \n",
            "  inflating: /content/drive/MyDrive/vehicle/images/train/car_69.jpg  \n",
            "  inflating: /content/drive/MyDrive/vehicle/images/train/car_7.jpg  \n",
            "  inflating: /content/drive/MyDrive/vehicle/images/train/car_70.jpg  \n",
            "  inflating: /content/drive/MyDrive/vehicle/images/train/car_71.jpg  \n",
            "  inflating: /content/drive/MyDrive/vehicle/images/train/car_72.jpg  \n",
            "  inflating: /content/drive/MyDrive/vehicle/images/train/car_73.jpg  \n",
            "  inflating: /content/drive/MyDrive/vehicle/images/train/car_74.jpg  \n",
            "  inflating: /content/drive/MyDrive/vehicle/images/train/car_75.jpg  \n",
            "  inflating: /content/drive/MyDrive/vehicle/images/train/car_76.jpg  \n",
            "  inflating: /content/drive/MyDrive/vehicle/images/train/car_77.jpg  \n",
            "  inflating: /content/drive/MyDrive/vehicle/images/train/car_78.jpg  \n",
            "  inflating: /content/drive/MyDrive/vehicle/images/train/car_79.jpg  \n",
            "  inflating: /content/drive/MyDrive/vehicle/images/train/car_8.jpg  \n",
            "  inflating: /content/drive/MyDrive/vehicle/images/train/car_80.jpg  \n",
            "  inflating: /content/drive/MyDrive/vehicle/images/train/car_81.jpg  \n",
            "  inflating: /content/drive/MyDrive/vehicle/images/train/car_82.jpg  \n",
            "  inflating: /content/drive/MyDrive/vehicle/images/train/car_83.jpg  \n",
            "  inflating: /content/drive/MyDrive/vehicle/images/train/car_84.jpg  \n",
            "  inflating: /content/drive/MyDrive/vehicle/images/train/car_85.jpg  \n",
            "  inflating: /content/drive/MyDrive/vehicle/images/train/car_86.jpg  \n",
            "  inflating: /content/drive/MyDrive/vehicle/images/train/car_87.jpg  \n",
            "  inflating: /content/drive/MyDrive/vehicle/images/train/car_88.jpg  \n",
            "  inflating: /content/drive/MyDrive/vehicle/images/train/car_89.jpg  \n",
            "  inflating: /content/drive/MyDrive/vehicle/images/train/car_9.jpg  \n",
            "  inflating: /content/drive/MyDrive/vehicle/images/train/car_90.jpg  \n",
            "  inflating: /content/drive/MyDrive/vehicle/images/train/car_91.jpg  \n",
            "  inflating: /content/drive/MyDrive/vehicle/images/train/car_92.jpg  \n",
            "  inflating: /content/drive/MyDrive/vehicle/images/train/car_93.jpg  \n",
            "  inflating: /content/drive/MyDrive/vehicle/images/train/car_94.jpg  \n",
            "  inflating: /content/drive/MyDrive/vehicle/images/train/car_95.jpg  \n",
            "  inflating: /content/drive/MyDrive/vehicle/images/train/car_96.jpg  \n",
            "  inflating: /content/drive/MyDrive/vehicle/images/train/car_97.jpg  \n",
            "  inflating: /content/drive/MyDrive/vehicle/images/train/car_98.jpg  \n",
            "  inflating: /content/drive/MyDrive/vehicle/images/train/car_99.jpg  \n",
            "   creating: /content/drive/MyDrive/vehicle/images/val/\n",
            "  inflating: /content/drive/MyDrive/vehicle/images/val/car_1.jpg  \n",
            "  inflating: /content/drive/MyDrive/vehicle/images/val/car_10.jpg  \n",
            "  inflating: /content/drive/MyDrive/vehicle/images/val/car_100.jpg  \n",
            "  inflating: /content/drive/MyDrive/vehicle/images/val/car_101.jpg  \n",
            "  inflating: /content/drive/MyDrive/vehicle/images/val/car_102.jpg  \n",
            "  inflating: /content/drive/MyDrive/vehicle/images/val/car_103.jpg  \n",
            "  inflating: /content/drive/MyDrive/vehicle/images/val/car_104.jpg  \n",
            "  inflating: /content/drive/MyDrive/vehicle/images/val/car_105.jpg  \n",
            "  inflating: /content/drive/MyDrive/vehicle/images/val/car_106.jpg  \n",
            "  inflating: /content/drive/MyDrive/vehicle/images/val/car_107.jpg  \n",
            "  inflating: /content/drive/MyDrive/vehicle/images/val/car_108.jpg  \n",
            "  inflating: /content/drive/MyDrive/vehicle/images/val/car_109.jpg  \n",
            "  inflating: /content/drive/MyDrive/vehicle/images/val/car_11.jpg  \n",
            "  inflating: /content/drive/MyDrive/vehicle/images/val/car_110.jpg  \n",
            "  inflating: /content/drive/MyDrive/vehicle/images/val/car_111.jpg  \n",
            "  inflating: /content/drive/MyDrive/vehicle/images/val/car_112.jpg  \n",
            "  inflating: /content/drive/MyDrive/vehicle/images/val/car_113.jpg  \n",
            "  inflating: /content/drive/MyDrive/vehicle/images/val/car_114.jpg  \n",
            "  inflating: /content/drive/MyDrive/vehicle/images/val/car_115.jpg  \n",
            "  inflating: /content/drive/MyDrive/vehicle/images/val/car_116.jpg  \n",
            "  inflating: /content/drive/MyDrive/vehicle/images/val/car_117.jpg  \n",
            "  inflating: /content/drive/MyDrive/vehicle/images/val/car_118.jpg  \n",
            "  inflating: /content/drive/MyDrive/vehicle/images/val/car_119.jpg  \n",
            "  inflating: /content/drive/MyDrive/vehicle/images/val/car_12.jpg  \n",
            "  inflating: /content/drive/MyDrive/vehicle/images/val/car_120.jpg  \n",
            "  inflating: /content/drive/MyDrive/vehicle/images/val/car_121.jpg  \n",
            "  inflating: /content/drive/MyDrive/vehicle/images/val/car_122.jpg  \n",
            "  inflating: /content/drive/MyDrive/vehicle/images/val/car_123.jpg  \n",
            "  inflating: /content/drive/MyDrive/vehicle/images/val/car_124.jpg  \n",
            "  inflating: /content/drive/MyDrive/vehicle/images/val/car_125.jpg  \n",
            "  inflating: /content/drive/MyDrive/vehicle/images/val/car_126.jpg  \n",
            "  inflating: /content/drive/MyDrive/vehicle/images/val/car_127.jpg  \n",
            "  inflating: /content/drive/MyDrive/vehicle/images/val/car_128.jpg  \n",
            "  inflating: /content/drive/MyDrive/vehicle/images/val/car_129.jpg  \n",
            "  inflating: /content/drive/MyDrive/vehicle/images/val/car_13.jpg  \n",
            "  inflating: /content/drive/MyDrive/vehicle/images/val/car_130.jpg  \n",
            "  inflating: /content/drive/MyDrive/vehicle/images/val/car_131.jpg  \n",
            "  inflating: /content/drive/MyDrive/vehicle/images/val/car_132.jpg  \n",
            "  inflating: /content/drive/MyDrive/vehicle/images/val/car_133.jpg  \n",
            "  inflating: /content/drive/MyDrive/vehicle/images/val/car_134.jpg  \n",
            "  inflating: /content/drive/MyDrive/vehicle/images/val/car_135.jpg  \n",
            "  inflating: /content/drive/MyDrive/vehicle/images/val/car_136.jpg  \n",
            "  inflating: /content/drive/MyDrive/vehicle/images/val/car_137.jpg  \n",
            "  inflating: /content/drive/MyDrive/vehicle/images/val/car_138.jpg  \n",
            "  inflating: /content/drive/MyDrive/vehicle/images/val/car_139.jpg  \n",
            "  inflating: /content/drive/MyDrive/vehicle/images/val/car_14.jpg  \n",
            "  inflating: /content/drive/MyDrive/vehicle/images/val/car_140.jpg  \n",
            "  inflating: /content/drive/MyDrive/vehicle/images/val/car_141.jpg  \n",
            "  inflating: /content/drive/MyDrive/vehicle/images/val/car_142.jpg  \n",
            "  inflating: /content/drive/MyDrive/vehicle/images/val/car_143.jpg  \n",
            "  inflating: /content/drive/MyDrive/vehicle/images/val/car_144.jpg  \n",
            "  inflating: /content/drive/MyDrive/vehicle/images/val/car_145.jpg  \n",
            "  inflating: /content/drive/MyDrive/vehicle/images/val/car_146.jpg  \n",
            "  inflating: /content/drive/MyDrive/vehicle/images/val/car_147.jpg  \n",
            "  inflating: /content/drive/MyDrive/vehicle/images/val/car_148.jpg  \n",
            "  inflating: /content/drive/MyDrive/vehicle/images/val/car_149.jpg  \n",
            "  inflating: /content/drive/MyDrive/vehicle/images/val/car_15.jpg  \n",
            "  inflating: /content/drive/MyDrive/vehicle/images/val/car_150.jpg  \n",
            "  inflating: /content/drive/MyDrive/vehicle/images/val/car_151.jpg  \n",
            "  inflating: /content/drive/MyDrive/vehicle/images/val/car_152.jpg  \n",
            "  inflating: /content/drive/MyDrive/vehicle/images/val/car_153.jpg  \n",
            "  inflating: /content/drive/MyDrive/vehicle/images/val/car_154.jpg  \n",
            "  inflating: /content/drive/MyDrive/vehicle/images/val/car_155.jpg  \n",
            "  inflating: /content/drive/MyDrive/vehicle/images/val/car_156.jpg  \n",
            "  inflating: /content/drive/MyDrive/vehicle/images/val/car_157.jpg  \n",
            "  inflating: /content/drive/MyDrive/vehicle/images/val/car_158.jpg  \n",
            "  inflating: /content/drive/MyDrive/vehicle/images/val/car_159.jpg  \n",
            "  inflating: /content/drive/MyDrive/vehicle/images/val/car_16.jpg  \n",
            "  inflating: /content/drive/MyDrive/vehicle/images/val/car_160.jpg  \n",
            "  inflating: /content/drive/MyDrive/vehicle/images/val/car_161.jpg  \n",
            "  inflating: /content/drive/MyDrive/vehicle/images/val/car_162.jpg  \n",
            "  inflating: /content/drive/MyDrive/vehicle/images/val/car_163.jpg  \n",
            "  inflating: /content/drive/MyDrive/vehicle/images/val/car_164.jpg  \n",
            "  inflating: /content/drive/MyDrive/vehicle/images/val/car_165.jpg  \n",
            "  inflating: /content/drive/MyDrive/vehicle/images/val/car_166.jpg  \n",
            "  inflating: /content/drive/MyDrive/vehicle/images/val/car_167.jpg  \n",
            "  inflating: /content/drive/MyDrive/vehicle/images/val/car_168.jpg  \n",
            "  inflating: /content/drive/MyDrive/vehicle/images/val/car_169.jpg  \n",
            "  inflating: /content/drive/MyDrive/vehicle/images/val/car_17.jpg  \n",
            "  inflating: /content/drive/MyDrive/vehicle/images/val/car_170.jpg  \n",
            "  inflating: /content/drive/MyDrive/vehicle/images/val/car_171.jpg  \n",
            "  inflating: /content/drive/MyDrive/vehicle/images/val/car_172.jpg  \n",
            "  inflating: /content/drive/MyDrive/vehicle/images/val/car_173.jpg  \n",
            "  inflating: /content/drive/MyDrive/vehicle/images/val/car_174.jpg  \n",
            "  inflating: /content/drive/MyDrive/vehicle/images/val/car_175.jpg  \n",
            "  inflating: /content/drive/MyDrive/vehicle/images/val/car_176.jpg  \n",
            "  inflating: /content/drive/MyDrive/vehicle/images/val/car_177.jpg  \n",
            "  inflating: /content/drive/MyDrive/vehicle/images/val/car_178.jpg  \n",
            "  inflating: /content/drive/MyDrive/vehicle/images/val/car_179.jpg  \n",
            "  inflating: /content/drive/MyDrive/vehicle/images/val/car_18.jpg  \n",
            "  inflating: /content/drive/MyDrive/vehicle/images/val/car_180.jpg  \n",
            "  inflating: /content/drive/MyDrive/vehicle/images/val/car_181.jpg  \n",
            "  inflating: /content/drive/MyDrive/vehicle/images/val/car_182.jpg  \n",
            "  inflating: /content/drive/MyDrive/vehicle/images/val/car_19.jpg  \n",
            "  inflating: /content/drive/MyDrive/vehicle/images/val/car_2.jpg  \n",
            "  inflating: /content/drive/MyDrive/vehicle/images/val/car_20.jpg  \n",
            "  inflating: /content/drive/MyDrive/vehicle/images/val/car_21.jpg  \n",
            "  inflating: /content/drive/MyDrive/vehicle/images/val/car_22.jpg  \n",
            "  inflating: /content/drive/MyDrive/vehicle/images/val/car_23.jpg  \n",
            "  inflating: /content/drive/MyDrive/vehicle/images/val/car_24.jpg  \n",
            "  inflating: /content/drive/MyDrive/vehicle/images/val/car_25.jpg  \n",
            "  inflating: /content/drive/MyDrive/vehicle/images/val/car_26.jpg  \n",
            "  inflating: /content/drive/MyDrive/vehicle/images/val/car_27.jpg  \n",
            "  inflating: /content/drive/MyDrive/vehicle/images/val/car_28.jpg  \n",
            "  inflating: /content/drive/MyDrive/vehicle/images/val/car_29.jpg  \n",
            "  inflating: /content/drive/MyDrive/vehicle/images/val/car_3.jpg  \n",
            "  inflating: /content/drive/MyDrive/vehicle/images/val/car_30.jpg  \n",
            "  inflating: /content/drive/MyDrive/vehicle/images/val/car_31.jpg  \n",
            "  inflating: /content/drive/MyDrive/vehicle/images/val/car_32.jpg  \n",
            "  inflating: /content/drive/MyDrive/vehicle/images/val/car_33.jpg  \n",
            "  inflating: /content/drive/MyDrive/vehicle/images/val/car_34.jpg  \n",
            "  inflating: /content/drive/MyDrive/vehicle/images/val/car_35.jpg  \n",
            "  inflating: /content/drive/MyDrive/vehicle/images/val/car_36.jpg  \n",
            "  inflating: /content/drive/MyDrive/vehicle/images/val/car_37.jpg  \n",
            "  inflating: /content/drive/MyDrive/vehicle/images/val/car_38.jpg  \n",
            "  inflating: /content/drive/MyDrive/vehicle/images/val/car_39.jpg  \n",
            "  inflating: /content/drive/MyDrive/vehicle/images/val/car_4.jpg  \n",
            "  inflating: /content/drive/MyDrive/vehicle/images/val/car_40.jpg  \n",
            "  inflating: /content/drive/MyDrive/vehicle/images/val/car_41.jpg  \n",
            "  inflating: /content/drive/MyDrive/vehicle/images/val/car_42.jpg  \n",
            "  inflating: /content/drive/MyDrive/vehicle/images/val/car_43.jpg  \n",
            "  inflating: /content/drive/MyDrive/vehicle/images/val/car_44.jpg  \n",
            "  inflating: /content/drive/MyDrive/vehicle/images/val/car_45.jpg  \n",
            "  inflating: /content/drive/MyDrive/vehicle/images/val/car_46.jpg  \n",
            "  inflating: /content/drive/MyDrive/vehicle/images/val/car_47.jpg  \n",
            "  inflating: /content/drive/MyDrive/vehicle/images/val/car_48.jpg  \n",
            "  inflating: /content/drive/MyDrive/vehicle/images/val/car_49.jpg  \n",
            "  inflating: /content/drive/MyDrive/vehicle/images/val/car_5.jpg  \n",
            "  inflating: /content/drive/MyDrive/vehicle/images/val/car_50.jpg  \n",
            "  inflating: /content/drive/MyDrive/vehicle/images/val/car_51.jpg  \n",
            "  inflating: /content/drive/MyDrive/vehicle/images/val/car_52.jpg  \n",
            "  inflating: /content/drive/MyDrive/vehicle/images/val/car_53.jpg  \n",
            "  inflating: /content/drive/MyDrive/vehicle/images/val/car_54.jpg  \n",
            "  inflating: /content/drive/MyDrive/vehicle/images/val/car_55.jpg  \n",
            "  inflating: /content/drive/MyDrive/vehicle/images/val/car_56.jpg  \n",
            "  inflating: /content/drive/MyDrive/vehicle/images/val/car_57.jpg  \n",
            "  inflating: /content/drive/MyDrive/vehicle/images/val/car_58.jpg  \n",
            "  inflating: /content/drive/MyDrive/vehicle/images/val/car_59.jpg  \n",
            "  inflating: /content/drive/MyDrive/vehicle/images/val/car_6.jpg  \n",
            "  inflating: /content/drive/MyDrive/vehicle/images/val/car_60.jpg  \n",
            "  inflating: /content/drive/MyDrive/vehicle/images/val/car_61.jpg  \n",
            "  inflating: /content/drive/MyDrive/vehicle/images/val/car_62.jpg  \n",
            "  inflating: /content/drive/MyDrive/vehicle/images/val/car_63.jpg  \n",
            "  inflating: /content/drive/MyDrive/vehicle/images/val/car_64.jpg  \n",
            "  inflating: /content/drive/MyDrive/vehicle/images/val/car_65.jpg  \n",
            "  inflating: /content/drive/MyDrive/vehicle/images/val/car_66.jpg  \n",
            "  inflating: /content/drive/MyDrive/vehicle/images/val/car_67.jpg  \n",
            "  inflating: /content/drive/MyDrive/vehicle/images/val/car_68.jpg  \n",
            "  inflating: /content/drive/MyDrive/vehicle/images/val/car_69.jpg  \n",
            "  inflating: /content/drive/MyDrive/vehicle/images/val/car_7.jpg  \n",
            "  inflating: /content/drive/MyDrive/vehicle/images/val/car_70.jpg  \n",
            "  inflating: /content/drive/MyDrive/vehicle/images/val/car_71.jpg  \n",
            "  inflating: /content/drive/MyDrive/vehicle/images/val/car_72.jpg  \n",
            "  inflating: /content/drive/MyDrive/vehicle/images/val/car_73.jpg  \n",
            "  inflating: /content/drive/MyDrive/vehicle/images/val/car_74.jpg  \n",
            "  inflating: /content/drive/MyDrive/vehicle/images/val/car_75.jpg  \n",
            "  inflating: /content/drive/MyDrive/vehicle/images/val/car_76.jpg  \n",
            "  inflating: /content/drive/MyDrive/vehicle/images/val/car_77.jpg  \n",
            "  inflating: /content/drive/MyDrive/vehicle/images/val/car_78.jpg  \n",
            "  inflating: /content/drive/MyDrive/vehicle/images/val/car_79.jpg  \n",
            "  inflating: /content/drive/MyDrive/vehicle/images/val/car_8.jpg  \n",
            "  inflating: /content/drive/MyDrive/vehicle/images/val/car_80.jpg  \n",
            "  inflating: /content/drive/MyDrive/vehicle/images/val/car_81.jpg  \n",
            "  inflating: /content/drive/MyDrive/vehicle/images/val/car_82.jpg  \n",
            "  inflating: /content/drive/MyDrive/vehicle/images/val/car_83.jpg  \n",
            "  inflating: /content/drive/MyDrive/vehicle/images/val/car_84.jpg  \n",
            "  inflating: /content/drive/MyDrive/vehicle/images/val/car_85.jpg  \n",
            "  inflating: /content/drive/MyDrive/vehicle/images/val/car_86.jpg  \n",
            "  inflating: /content/drive/MyDrive/vehicle/images/val/car_87.jpg  \n",
            "  inflating: /content/drive/MyDrive/vehicle/images/val/car_88.jpg  \n",
            "  inflating: /content/drive/MyDrive/vehicle/images/val/car_89.jpg  \n",
            "  inflating: /content/drive/MyDrive/vehicle/images/val/car_9.jpg  \n",
            "  inflating: /content/drive/MyDrive/vehicle/images/val/car_90.jpg  \n",
            "  inflating: /content/drive/MyDrive/vehicle/images/val/car_91.jpg  \n",
            "  inflating: /content/drive/MyDrive/vehicle/images/val/car_92.jpg  \n",
            "  inflating: /content/drive/MyDrive/vehicle/images/val/car_93.jpg  \n",
            "  inflating: /content/drive/MyDrive/vehicle/images/val/car_94.jpg  \n",
            "  inflating: /content/drive/MyDrive/vehicle/images/val/car_95.jpg  \n",
            "  inflating: /content/drive/MyDrive/vehicle/images/val/car_96.jpg  \n",
            "  inflating: /content/drive/MyDrive/vehicle/images/val/car_97.jpg  \n",
            "  inflating: /content/drive/MyDrive/vehicle/images/val/car_98.jpg  \n",
            "  inflating: /content/drive/MyDrive/vehicle/images/val/car_99.jpg  \n",
            "   creating: /content/drive/MyDrive/vehicle/labels/\n",
            "   creating: /content/drive/MyDrive/vehicle/labels/train/\n",
            "  inflating: /content/drive/MyDrive/vehicle/labels/train/car_1.txt  \n",
            "  inflating: /content/drive/MyDrive/vehicle/labels/train/car_10.txt  \n",
            "  inflating: /content/drive/MyDrive/vehicle/labels/train/car_100.txt  \n",
            "  inflating: /content/drive/MyDrive/vehicle/labels/train/car_101.txt  \n",
            "  inflating: /content/drive/MyDrive/vehicle/labels/train/car_102.txt  \n",
            "  inflating: /content/drive/MyDrive/vehicle/labels/train/car_103.txt  \n",
            "  inflating: /content/drive/MyDrive/vehicle/labels/train/car_104.txt  \n",
            " extracting: /content/drive/MyDrive/vehicle/labels/train/car_105.txt  \n",
            "  inflating: /content/drive/MyDrive/vehicle/labels/train/car_106.txt  \n",
            "  inflating: /content/drive/MyDrive/vehicle/labels/train/car_107.txt  \n",
            "  inflating: /content/drive/MyDrive/vehicle/labels/train/car_108.txt  \n",
            "  inflating: /content/drive/MyDrive/vehicle/labels/train/car_109.txt  \n",
            "  inflating: /content/drive/MyDrive/vehicle/labels/train/car_11.txt  \n",
            "  inflating: /content/drive/MyDrive/vehicle/labels/train/car_110.txt  \n",
            "  inflating: /content/drive/MyDrive/vehicle/labels/train/car_111.txt  \n",
            "  inflating: /content/drive/MyDrive/vehicle/labels/train/car_112.txt  \n",
            "  inflating: /content/drive/MyDrive/vehicle/labels/train/car_113.txt  \n",
            "  inflating: /content/drive/MyDrive/vehicle/labels/train/car_114.txt  \n",
            "  inflating: /content/drive/MyDrive/vehicle/labels/train/car_115.txt  \n",
            "  inflating: /content/drive/MyDrive/vehicle/labels/train/car_116.txt  \n",
            "  inflating: /content/drive/MyDrive/vehicle/labels/train/car_117.txt  \n",
            "  inflating: /content/drive/MyDrive/vehicle/labels/train/car_118.txt  \n",
            "  inflating: /content/drive/MyDrive/vehicle/labels/train/car_119.txt  \n",
            "  inflating: /content/drive/MyDrive/vehicle/labels/train/car_12.txt  \n",
            "  inflating: /content/drive/MyDrive/vehicle/labels/train/car_120.txt  \n",
            "  inflating: /content/drive/MyDrive/vehicle/labels/train/car_121.txt  \n",
            "  inflating: /content/drive/MyDrive/vehicle/labels/train/car_122.txt  \n",
            "  inflating: /content/drive/MyDrive/vehicle/labels/train/car_123.txt  \n",
            "  inflating: /content/drive/MyDrive/vehicle/labels/train/car_124.txt  \n",
            "  inflating: /content/drive/MyDrive/vehicle/labels/train/car_125.txt  \n",
            "  inflating: /content/drive/MyDrive/vehicle/labels/train/car_126.txt  \n",
            "  inflating: /content/drive/MyDrive/vehicle/labels/train/car_127.txt  \n",
            "  inflating: /content/drive/MyDrive/vehicle/labels/train/car_128.txt  \n",
            "  inflating: /content/drive/MyDrive/vehicle/labels/train/car_129.txt  \n",
            "  inflating: /content/drive/MyDrive/vehicle/labels/train/car_13.txt  \n",
            "  inflating: /content/drive/MyDrive/vehicle/labels/train/car_130.txt  \n",
            " extracting: /content/drive/MyDrive/vehicle/labels/train/car_131.txt  \n",
            "  inflating: /content/drive/MyDrive/vehicle/labels/train/car_132.txt  \n",
            "  inflating: /content/drive/MyDrive/vehicle/labels/train/car_133.txt  \n",
            "  inflating: /content/drive/MyDrive/vehicle/labels/train/car_134.txt  \n",
            "  inflating: /content/drive/MyDrive/vehicle/labels/train/car_135.txt  \n",
            "  inflating: /content/drive/MyDrive/vehicle/labels/train/car_136.txt  \n",
            "  inflating: /content/drive/MyDrive/vehicle/labels/train/car_137.txt  \n",
            "  inflating: /content/drive/MyDrive/vehicle/labels/train/car_138.txt  \n",
            "  inflating: /content/drive/MyDrive/vehicle/labels/train/car_139.txt  \n",
            "  inflating: /content/drive/MyDrive/vehicle/labels/train/car_14.txt  \n",
            "  inflating: /content/drive/MyDrive/vehicle/labels/train/car_140.txt  \n",
            "  inflating: /content/drive/MyDrive/vehicle/labels/train/car_141.txt  \n",
            "  inflating: /content/drive/MyDrive/vehicle/labels/train/car_142.txt  \n",
            "  inflating: /content/drive/MyDrive/vehicle/labels/train/car_143.txt  \n",
            "  inflating: /content/drive/MyDrive/vehicle/labels/train/car_144.txt  \n",
            "  inflating: /content/drive/MyDrive/vehicle/labels/train/car_145.txt  \n",
            "  inflating: /content/drive/MyDrive/vehicle/labels/train/car_146.txt  \n",
            "  inflating: /content/drive/MyDrive/vehicle/labels/train/car_147.txt  \n",
            "  inflating: /content/drive/MyDrive/vehicle/labels/train/car_148.txt  \n",
            "  inflating: /content/drive/MyDrive/vehicle/labels/train/car_149.txt  \n",
            "  inflating: /content/drive/MyDrive/vehicle/labels/train/car_15.txt  \n",
            "  inflating: /content/drive/MyDrive/vehicle/labels/train/car_150.txt  \n",
            "  inflating: /content/drive/MyDrive/vehicle/labels/train/car_151.txt  \n",
            "  inflating: /content/drive/MyDrive/vehicle/labels/train/car_152.txt  \n",
            "  inflating: /content/drive/MyDrive/vehicle/labels/train/car_153.txt  \n",
            "  inflating: /content/drive/MyDrive/vehicle/labels/train/car_154.txt  \n",
            "  inflating: /content/drive/MyDrive/vehicle/labels/train/car_155.txt  \n",
            "  inflating: /content/drive/MyDrive/vehicle/labels/train/car_156.txt  \n",
            "  inflating: /content/drive/MyDrive/vehicle/labels/train/car_157.txt  \n",
            "  inflating: /content/drive/MyDrive/vehicle/labels/train/car_158.txt  \n",
            "  inflating: /content/drive/MyDrive/vehicle/labels/train/car_159.txt  \n",
            "  inflating: /content/drive/MyDrive/vehicle/labels/train/car_16.txt  \n",
            " extracting: /content/drive/MyDrive/vehicle/labels/train/car_160.txt  \n",
            "  inflating: /content/drive/MyDrive/vehicle/labels/train/car_161.txt  \n",
            "  inflating: /content/drive/MyDrive/vehicle/labels/train/car_162.txt  \n",
            "  inflating: /content/drive/MyDrive/vehicle/labels/train/car_163.txt  \n",
            "  inflating: /content/drive/MyDrive/vehicle/labels/train/car_164.txt  \n",
            "  inflating: /content/drive/MyDrive/vehicle/labels/train/car_165.txt  \n",
            "  inflating: /content/drive/MyDrive/vehicle/labels/train/car_166.txt  \n",
            "  inflating: /content/drive/MyDrive/vehicle/labels/train/car_167.txt  \n",
            " extracting: /content/drive/MyDrive/vehicle/labels/train/car_168.txt  \n",
            "  inflating: /content/drive/MyDrive/vehicle/labels/train/car_169.txt  \n",
            "  inflating: /content/drive/MyDrive/vehicle/labels/train/car_17.txt  \n",
            "  inflating: /content/drive/MyDrive/vehicle/labels/train/car_170.txt  \n",
            "  inflating: /content/drive/MyDrive/vehicle/labels/train/car_171.txt  \n",
            "  inflating: /content/drive/MyDrive/vehicle/labels/train/car_172.txt  \n",
            "  inflating: /content/drive/MyDrive/vehicle/labels/train/car_173.txt  \n",
            "  inflating: /content/drive/MyDrive/vehicle/labels/train/car_174.txt  \n",
            " extracting: /content/drive/MyDrive/vehicle/labels/train/car_175.txt  \n",
            "  inflating: /content/drive/MyDrive/vehicle/labels/train/car_176.txt  \n",
            "  inflating: /content/drive/MyDrive/vehicle/labels/train/car_177.txt  \n",
            "  inflating: /content/drive/MyDrive/vehicle/labels/train/car_178.txt  \n",
            "  inflating: /content/drive/MyDrive/vehicle/labels/train/car_179.txt  \n",
            "  inflating: /content/drive/MyDrive/vehicle/labels/train/car_18.txt  \n",
            "  inflating: /content/drive/MyDrive/vehicle/labels/train/car_180.txt  \n",
            "  inflating: /content/drive/MyDrive/vehicle/labels/train/car_181.txt  \n",
            "  inflating: /content/drive/MyDrive/vehicle/labels/train/car_182.txt  \n",
            "  inflating: /content/drive/MyDrive/vehicle/labels/train/car_183.txt  \n",
            "  inflating: /content/drive/MyDrive/vehicle/labels/train/car_184.txt  \n",
            "  inflating: /content/drive/MyDrive/vehicle/labels/train/car_185.txt  \n",
            "  inflating: /content/drive/MyDrive/vehicle/labels/train/car_186.txt  \n",
            "  inflating: /content/drive/MyDrive/vehicle/labels/train/car_187.txt  \n",
            "  inflating: /content/drive/MyDrive/vehicle/labels/train/car_188.txt  \n",
            "  inflating: /content/drive/MyDrive/vehicle/labels/train/car_189.txt  \n",
            "  inflating: /content/drive/MyDrive/vehicle/labels/train/car_19.txt  \n",
            "  inflating: /content/drive/MyDrive/vehicle/labels/train/car_190.txt  \n",
            "  inflating: /content/drive/MyDrive/vehicle/labels/train/car_191.txt  \n",
            "  inflating: /content/drive/MyDrive/vehicle/labels/train/car_192.txt  \n",
            "  inflating: /content/drive/MyDrive/vehicle/labels/train/car_193.txt  \n",
            "  inflating: /content/drive/MyDrive/vehicle/labels/train/car_194.txt  \n",
            "  inflating: /content/drive/MyDrive/vehicle/labels/train/car_195.txt  \n",
            "  inflating: /content/drive/MyDrive/vehicle/labels/train/car_196.txt  \n",
            "  inflating: /content/drive/MyDrive/vehicle/labels/train/car_197.txt  \n",
            "  inflating: /content/drive/MyDrive/vehicle/labels/train/car_198.txt  \n",
            "  inflating: /content/drive/MyDrive/vehicle/labels/train/car_199.txt  \n",
            "  inflating: /content/drive/MyDrive/vehicle/labels/train/car_2.txt  \n",
            "  inflating: /content/drive/MyDrive/vehicle/labels/train/car_20.txt  \n",
            "  inflating: /content/drive/MyDrive/vehicle/labels/train/car_200.txt  \n",
            "  inflating: /content/drive/MyDrive/vehicle/labels/train/car_201.txt  \n",
            "  inflating: /content/drive/MyDrive/vehicle/labels/train/car_202.txt  \n",
            "  inflating: /content/drive/MyDrive/vehicle/labels/train/car_203.txt  \n",
            "  inflating: /content/drive/MyDrive/vehicle/labels/train/car_204.txt  \n",
            "  inflating: /content/drive/MyDrive/vehicle/labels/train/car_205.txt  \n",
            "  inflating: /content/drive/MyDrive/vehicle/labels/train/car_206.txt  \n",
            "  inflating: /content/drive/MyDrive/vehicle/labels/train/car_207.txt  \n",
            "  inflating: /content/drive/MyDrive/vehicle/labels/train/car_208.txt  \n",
            "  inflating: /content/drive/MyDrive/vehicle/labels/train/car_209.txt  \n",
            "  inflating: /content/drive/MyDrive/vehicle/labels/train/car_21.txt  \n",
            "  inflating: /content/drive/MyDrive/vehicle/labels/train/car_210.txt  \n",
            "  inflating: /content/drive/MyDrive/vehicle/labels/train/car_211.txt  \n",
            "  inflating: /content/drive/MyDrive/vehicle/labels/train/car_212.txt  \n",
            "  inflating: /content/drive/MyDrive/vehicle/labels/train/car_213.txt  \n",
            "  inflating: /content/drive/MyDrive/vehicle/labels/train/car_214.txt  \n",
            " extracting: /content/drive/MyDrive/vehicle/labels/train/car_215.txt  \n",
            "  inflating: /content/drive/MyDrive/vehicle/labels/train/car_216.txt  \n",
            "  inflating: /content/drive/MyDrive/vehicle/labels/train/car_217.txt  \n",
            "  inflating: /content/drive/MyDrive/vehicle/labels/train/car_218.txt  \n",
            "  inflating: /content/drive/MyDrive/vehicle/labels/train/car_219.txt  \n",
            "  inflating: /content/drive/MyDrive/vehicle/labels/train/car_22.txt  \n",
            "  inflating: /content/drive/MyDrive/vehicle/labels/train/car_220.txt  \n",
            "  inflating: /content/drive/MyDrive/vehicle/labels/train/car_221.txt  \n",
            "  inflating: /content/drive/MyDrive/vehicle/labels/train/car_222.txt  \n",
            "  inflating: /content/drive/MyDrive/vehicle/labels/train/car_223.txt  \n",
            "  inflating: /content/drive/MyDrive/vehicle/labels/train/car_224.txt  \n",
            "  inflating: /content/drive/MyDrive/vehicle/labels/train/car_225.txt  \n",
            "  inflating: /content/drive/MyDrive/vehicle/labels/train/car_226.txt  \n",
            "  inflating: /content/drive/MyDrive/vehicle/labels/train/car_227.txt  \n",
            "  inflating: /content/drive/MyDrive/vehicle/labels/train/car_228.txt  \n",
            "  inflating: /content/drive/MyDrive/vehicle/labels/train/car_229.txt  \n",
            "  inflating: /content/drive/MyDrive/vehicle/labels/train/car_23.txt  \n",
            "  inflating: /content/drive/MyDrive/vehicle/labels/train/car_230.txt  \n",
            "  inflating: /content/drive/MyDrive/vehicle/labels/train/car_231.txt  \n",
            " extracting: /content/drive/MyDrive/vehicle/labels/train/car_232.txt  \n",
            "  inflating: /content/drive/MyDrive/vehicle/labels/train/car_233.txt  \n",
            "  inflating: /content/drive/MyDrive/vehicle/labels/train/car_234.txt  \n",
            "  inflating: /content/drive/MyDrive/vehicle/labels/train/car_235.txt  \n",
            " extracting: /content/drive/MyDrive/vehicle/labels/train/car_236.txt  \n",
            "  inflating: /content/drive/MyDrive/vehicle/labels/train/car_237.txt  \n",
            "  inflating: /content/drive/MyDrive/vehicle/labels/train/car_238.txt  \n",
            "  inflating: /content/drive/MyDrive/vehicle/labels/train/car_239.txt  \n",
            "  inflating: /content/drive/MyDrive/vehicle/labels/train/car_24.txt  \n",
            "  inflating: /content/drive/MyDrive/vehicle/labels/train/car_240.txt  \n",
            "  inflating: /content/drive/MyDrive/vehicle/labels/train/car_241.txt  \n",
            "  inflating: /content/drive/MyDrive/vehicle/labels/train/car_242.txt  \n",
            "  inflating: /content/drive/MyDrive/vehicle/labels/train/car_243.txt  \n",
            "  inflating: /content/drive/MyDrive/vehicle/labels/train/car_244.txt  \n",
            "  inflating: /content/drive/MyDrive/vehicle/labels/train/car_245.txt  \n",
            "  inflating: /content/drive/MyDrive/vehicle/labels/train/car_246.txt  \n",
            "  inflating: /content/drive/MyDrive/vehicle/labels/train/car_247.txt  \n",
            "  inflating: /content/drive/MyDrive/vehicle/labels/train/car_248.txt  \n",
            "  inflating: /content/drive/MyDrive/vehicle/labels/train/car_249.txt  \n",
            "  inflating: /content/drive/MyDrive/vehicle/labels/train/car_25.txt  \n",
            "  inflating: /content/drive/MyDrive/vehicle/labels/train/car_250.txt  \n",
            "  inflating: /content/drive/MyDrive/vehicle/labels/train/car_251.txt  \n",
            "  inflating: /content/drive/MyDrive/vehicle/labels/train/car_252.txt  \n",
            "  inflating: /content/drive/MyDrive/vehicle/labels/train/car_253.txt  \n",
            "  inflating: /content/drive/MyDrive/vehicle/labels/train/car_254.txt  \n",
            "  inflating: /content/drive/MyDrive/vehicle/labels/train/car_255.txt  \n",
            "  inflating: /content/drive/MyDrive/vehicle/labels/train/car_256.txt  \n",
            "  inflating: /content/drive/MyDrive/vehicle/labels/train/car_257.txt  \n",
            "  inflating: /content/drive/MyDrive/vehicle/labels/train/car_258.txt  \n",
            "  inflating: /content/drive/MyDrive/vehicle/labels/train/car_259.txt  \n",
            "  inflating: /content/drive/MyDrive/vehicle/labels/train/car_26.txt  \n",
            "  inflating: /content/drive/MyDrive/vehicle/labels/train/car_260.txt  \n",
            "  inflating: /content/drive/MyDrive/vehicle/labels/train/car_261.txt  \n",
            "  inflating: /content/drive/MyDrive/vehicle/labels/train/car_262.txt  \n",
            "  inflating: /content/drive/MyDrive/vehicle/labels/train/car_263.txt  \n",
            "  inflating: /content/drive/MyDrive/vehicle/labels/train/car_264.txt  \n",
            "  inflating: /content/drive/MyDrive/vehicle/labels/train/car_265.txt  \n",
            "  inflating: /content/drive/MyDrive/vehicle/labels/train/car_266.txt  \n",
            "  inflating: /content/drive/MyDrive/vehicle/labels/train/car_267.txt  \n",
            "  inflating: /content/drive/MyDrive/vehicle/labels/train/car_268.txt  \n",
            "  inflating: /content/drive/MyDrive/vehicle/labels/train/car_269.txt  \n",
            "  inflating: /content/drive/MyDrive/vehicle/labels/train/car_27.txt  \n",
            "  inflating: /content/drive/MyDrive/vehicle/labels/train/car_270.txt  \n",
            "  inflating: /content/drive/MyDrive/vehicle/labels/train/car_271.txt  \n",
            " extracting: /content/drive/MyDrive/vehicle/labels/train/car_272.txt  \n",
            "  inflating: /content/drive/MyDrive/vehicle/labels/train/car_273.txt  \n",
            "  inflating: /content/drive/MyDrive/vehicle/labels/train/car_274.txt  \n",
            "  inflating: /content/drive/MyDrive/vehicle/labels/train/car_275.txt  \n",
            "  inflating: /content/drive/MyDrive/vehicle/labels/train/car_276.txt  \n",
            "  inflating: /content/drive/MyDrive/vehicle/labels/train/car_277.txt  \n",
            "  inflating: /content/drive/MyDrive/vehicle/labels/train/car_278.txt  \n",
            "  inflating: /content/drive/MyDrive/vehicle/labels/train/car_279.txt  \n",
            "  inflating: /content/drive/MyDrive/vehicle/labels/train/car_28.txt  \n",
            "  inflating: /content/drive/MyDrive/vehicle/labels/train/car_280.txt  \n",
            "  inflating: /content/drive/MyDrive/vehicle/labels/train/car_281.txt  \n",
            "  inflating: /content/drive/MyDrive/vehicle/labels/train/car_282.txt  \n",
            "  inflating: /content/drive/MyDrive/vehicle/labels/train/car_283.txt  \n",
            "  inflating: /content/drive/MyDrive/vehicle/labels/train/car_284.txt  \n",
            "  inflating: /content/drive/MyDrive/vehicle/labels/train/car_285.txt  \n",
            "  inflating: /content/drive/MyDrive/vehicle/labels/train/car_286.txt  \n",
            " extracting: /content/drive/MyDrive/vehicle/labels/train/car_287.txt  \n",
            "  inflating: /content/drive/MyDrive/vehicle/labels/train/car_288.txt  \n",
            "  inflating: /content/drive/MyDrive/vehicle/labels/train/car_289.txt  \n",
            "  inflating: /content/drive/MyDrive/vehicle/labels/train/car_29.txt  \n",
            "  inflating: /content/drive/MyDrive/vehicle/labels/train/car_290.txt  \n",
            "  inflating: /content/drive/MyDrive/vehicle/labels/train/car_291.txt  \n",
            "  inflating: /content/drive/MyDrive/vehicle/labels/train/car_292.txt  \n",
            "  inflating: /content/drive/MyDrive/vehicle/labels/train/car_293.txt  \n",
            "  inflating: /content/drive/MyDrive/vehicle/labels/train/car_294.txt  \n",
            "  inflating: /content/drive/MyDrive/vehicle/labels/train/car_295.txt  \n",
            " extracting: /content/drive/MyDrive/vehicle/labels/train/car_296.txt  \n",
            "  inflating: /content/drive/MyDrive/vehicle/labels/train/car_297.txt  \n",
            "  inflating: /content/drive/MyDrive/vehicle/labels/train/car_298.txt  \n",
            "  inflating: /content/drive/MyDrive/vehicle/labels/train/car_299.txt  \n",
            "  inflating: /content/drive/MyDrive/vehicle/labels/train/car_3.txt  \n",
            "  inflating: /content/drive/MyDrive/vehicle/labels/train/car_30.txt  \n",
            "  inflating: /content/drive/MyDrive/vehicle/labels/train/car_300.txt  \n",
            "  inflating: /content/drive/MyDrive/vehicle/labels/train/car_301.txt  \n",
            "  inflating: /content/drive/MyDrive/vehicle/labels/train/car_302.txt  \n",
            "  inflating: /content/drive/MyDrive/vehicle/labels/train/car_303.txt  \n",
            " extracting: /content/drive/MyDrive/vehicle/labels/train/car_304.txt  \n",
            "  inflating: /content/drive/MyDrive/vehicle/labels/train/car_305.txt  \n",
            "  inflating: /content/drive/MyDrive/vehicle/labels/train/car_306.txt  \n",
            "  inflating: /content/drive/MyDrive/vehicle/labels/train/car_307.txt  \n",
            "  inflating: /content/drive/MyDrive/vehicle/labels/train/car_308.txt  \n",
            "  inflating: /content/drive/MyDrive/vehicle/labels/train/car_309.txt  \n",
            "  inflating: /content/drive/MyDrive/vehicle/labels/train/car_31.txt  \n",
            "  inflating: /content/drive/MyDrive/vehicle/labels/train/car_310.txt  \n",
            "  inflating: /content/drive/MyDrive/vehicle/labels/train/car_311.txt  \n",
            "  inflating: /content/drive/MyDrive/vehicle/labels/train/car_312.txt  \n",
            "  inflating: /content/drive/MyDrive/vehicle/labels/train/car_313.txt  \n",
            "  inflating: /content/drive/MyDrive/vehicle/labels/train/car_314.txt  \n",
            "  inflating: /content/drive/MyDrive/vehicle/labels/train/car_315.txt  \n",
            "  inflating: /content/drive/MyDrive/vehicle/labels/train/car_316.txt  \n",
            "  inflating: /content/drive/MyDrive/vehicle/labels/train/car_317.txt  \n",
            "  inflating: /content/drive/MyDrive/vehicle/labels/train/car_318.txt  \n",
            "  inflating: /content/drive/MyDrive/vehicle/labels/train/car_319.txt  \n",
            "  inflating: /content/drive/MyDrive/vehicle/labels/train/car_32.txt  \n",
            "  inflating: /content/drive/MyDrive/vehicle/labels/train/car_320.txt  \n",
            "  inflating: /content/drive/MyDrive/vehicle/labels/train/car_321.txt  \n",
            "  inflating: /content/drive/MyDrive/vehicle/labels/train/car_322.txt  \n",
            "  inflating: /content/drive/MyDrive/vehicle/labels/train/car_323.txt  \n",
            "  inflating: /content/drive/MyDrive/vehicle/labels/train/car_324.txt  \n",
            "  inflating: /content/drive/MyDrive/vehicle/labels/train/car_325.txt  \n",
            "  inflating: /content/drive/MyDrive/vehicle/labels/train/car_326.txt  \n",
            "  inflating: /content/drive/MyDrive/vehicle/labels/train/car_327.txt  \n",
            "  inflating: /content/drive/MyDrive/vehicle/labels/train/car_328.txt  \n",
            "  inflating: /content/drive/MyDrive/vehicle/labels/train/car_329.txt  \n",
            "  inflating: /content/drive/MyDrive/vehicle/labels/train/car_33.txt  \n",
            "  inflating: /content/drive/MyDrive/vehicle/labels/train/car_330.txt  \n",
            "  inflating: /content/drive/MyDrive/vehicle/labels/train/car_331.txt  \n",
            "  inflating: /content/drive/MyDrive/vehicle/labels/train/car_332.txt  \n",
            "  inflating: /content/drive/MyDrive/vehicle/labels/train/car_333.txt  \n",
            "  inflating: /content/drive/MyDrive/vehicle/labels/train/car_334.txt  \n",
            "  inflating: /content/drive/MyDrive/vehicle/labels/train/car_335.txt  \n",
            "  inflating: /content/drive/MyDrive/vehicle/labels/train/car_336.txt  \n",
            "  inflating: /content/drive/MyDrive/vehicle/labels/train/car_337.txt  \n",
            "  inflating: /content/drive/MyDrive/vehicle/labels/train/car_338.txt  \n",
            " extracting: /content/drive/MyDrive/vehicle/labels/train/car_339.txt  \n",
            "  inflating: /content/drive/MyDrive/vehicle/labels/train/car_34.txt  \n",
            "  inflating: /content/drive/MyDrive/vehicle/labels/train/car_340.txt  \n",
            "  inflating: /content/drive/MyDrive/vehicle/labels/train/car_341.txt  \n",
            "  inflating: /content/drive/MyDrive/vehicle/labels/train/car_342.txt  \n",
            "  inflating: /content/drive/MyDrive/vehicle/labels/train/car_343.txt  \n",
            "  inflating: /content/drive/MyDrive/vehicle/labels/train/car_344.txt  \n",
            "  inflating: /content/drive/MyDrive/vehicle/labels/train/car_345.txt  \n",
            "  inflating: /content/drive/MyDrive/vehicle/labels/train/car_346.txt  \n",
            "  inflating: /content/drive/MyDrive/vehicle/labels/train/car_347.txt  \n",
            " extracting: /content/drive/MyDrive/vehicle/labels/train/car_348.txt  \n",
            "  inflating: /content/drive/MyDrive/vehicle/labels/train/car_349.txt  \n",
            "  inflating: /content/drive/MyDrive/vehicle/labels/train/car_35.txt  \n",
            "  inflating: /content/drive/MyDrive/vehicle/labels/train/car_350.txt  \n",
            "  inflating: /content/drive/MyDrive/vehicle/labels/train/car_351.txt  \n",
            "  inflating: /content/drive/MyDrive/vehicle/labels/train/car_352.txt  \n",
            "  inflating: /content/drive/MyDrive/vehicle/labels/train/car_353.txt  \n",
            "  inflating: /content/drive/MyDrive/vehicle/labels/train/car_354.txt  \n",
            "  inflating: /content/drive/MyDrive/vehicle/labels/train/car_355.txt  \n",
            "  inflating: /content/drive/MyDrive/vehicle/labels/train/car_356.txt  \n",
            "  inflating: /content/drive/MyDrive/vehicle/labels/train/car_357.txt  \n",
            "  inflating: /content/drive/MyDrive/vehicle/labels/train/car_358.txt  \n",
            "  inflating: /content/drive/MyDrive/vehicle/labels/train/car_359.txt  \n",
            "  inflating: /content/drive/MyDrive/vehicle/labels/train/car_36.txt  \n",
            "  inflating: /content/drive/MyDrive/vehicle/labels/train/car_360.txt  \n",
            "  inflating: /content/drive/MyDrive/vehicle/labels/train/car_361.txt  \n",
            "  inflating: /content/drive/MyDrive/vehicle/labels/train/car_362.txt  \n",
            "  inflating: /content/drive/MyDrive/vehicle/labels/train/car_363.txt  \n",
            "  inflating: /content/drive/MyDrive/vehicle/labels/train/car_364.txt  \n",
            "  inflating: /content/drive/MyDrive/vehicle/labels/train/car_365.txt  \n",
            "  inflating: /content/drive/MyDrive/vehicle/labels/train/car_366.txt  \n",
            "  inflating: /content/drive/MyDrive/vehicle/labels/train/car_367.txt  \n",
            "  inflating: /content/drive/MyDrive/vehicle/labels/train/car_368.txt  \n",
            "  inflating: /content/drive/MyDrive/vehicle/labels/train/car_369.txt  \n",
            "  inflating: /content/drive/MyDrive/vehicle/labels/train/car_37.txt  \n",
            "  inflating: /content/drive/MyDrive/vehicle/labels/train/car_370.txt  \n",
            "  inflating: /content/drive/MyDrive/vehicle/labels/train/car_371.txt  \n",
            "  inflating: /content/drive/MyDrive/vehicle/labels/train/car_372.txt  \n",
            "  inflating: /content/drive/MyDrive/vehicle/labels/train/car_373.txt  \n",
            "  inflating: /content/drive/MyDrive/vehicle/labels/train/car_374.txt  \n",
            "  inflating: /content/drive/MyDrive/vehicle/labels/train/car_375.txt  \n",
            "  inflating: /content/drive/MyDrive/vehicle/labels/train/car_376.txt  \n",
            "  inflating: /content/drive/MyDrive/vehicle/labels/train/car_377.txt  \n",
            "  inflating: /content/drive/MyDrive/vehicle/labels/train/car_378.txt  \n",
            "  inflating: /content/drive/MyDrive/vehicle/labels/train/car_379.txt  \n",
            "  inflating: /content/drive/MyDrive/vehicle/labels/train/car_38.txt  \n",
            "  inflating: /content/drive/MyDrive/vehicle/labels/train/car_380.txt  \n",
            "  inflating: /content/drive/MyDrive/vehicle/labels/train/car_381.txt  \n",
            "  inflating: /content/drive/MyDrive/vehicle/labels/train/car_382.txt  \n",
            "  inflating: /content/drive/MyDrive/vehicle/labels/train/car_383.txt  \n",
            "  inflating: /content/drive/MyDrive/vehicle/labels/train/car_384.txt  \n",
            "  inflating: /content/drive/MyDrive/vehicle/labels/train/car_385.txt  \n",
            "  inflating: /content/drive/MyDrive/vehicle/labels/train/car_386.txt  \n",
            "  inflating: /content/drive/MyDrive/vehicle/labels/train/car_387.txt  \n",
            "  inflating: /content/drive/MyDrive/vehicle/labels/train/car_388.txt  \n",
            "  inflating: /content/drive/MyDrive/vehicle/labels/train/car_389.txt  \n",
            "  inflating: /content/drive/MyDrive/vehicle/labels/train/car_39.txt  \n",
            "  inflating: /content/drive/MyDrive/vehicle/labels/train/car_390.txt  \n",
            "  inflating: /content/drive/MyDrive/vehicle/labels/train/car_391.txt  \n",
            "  inflating: /content/drive/MyDrive/vehicle/labels/train/car_392.txt  \n",
            "  inflating: /content/drive/MyDrive/vehicle/labels/train/car_393.txt  \n",
            "  inflating: /content/drive/MyDrive/vehicle/labels/train/car_394.txt  \n",
            " extracting: /content/drive/MyDrive/vehicle/labels/train/car_395.txt  \n",
            "  inflating: /content/drive/MyDrive/vehicle/labels/train/car_396.txt  \n",
            "  inflating: /content/drive/MyDrive/vehicle/labels/train/car_397.txt  \n",
            "  inflating: /content/drive/MyDrive/vehicle/labels/train/car_398.txt  \n",
            "  inflating: /content/drive/MyDrive/vehicle/labels/train/car_399.txt  \n",
            "  inflating: /content/drive/MyDrive/vehicle/labels/train/car_4.txt  \n",
            "  inflating: /content/drive/MyDrive/vehicle/labels/train/car_40.txt  \n",
            "  inflating: /content/drive/MyDrive/vehicle/labels/train/car_400.txt  \n",
            "  inflating: /content/drive/MyDrive/vehicle/labels/train/car_401.txt  \n",
            "  inflating: /content/drive/MyDrive/vehicle/labels/train/car_402.txt  \n",
            "  inflating: /content/drive/MyDrive/vehicle/labels/train/car_403.txt  \n",
            "  inflating: /content/drive/MyDrive/vehicle/labels/train/car_404.txt  \n",
            "  inflating: /content/drive/MyDrive/vehicle/labels/train/car_405.txt  \n",
            "  inflating: /content/drive/MyDrive/vehicle/labels/train/car_406.txt  \n",
            "  inflating: /content/drive/MyDrive/vehicle/labels/train/car_407.txt  \n",
            "  inflating: /content/drive/MyDrive/vehicle/labels/train/car_408.txt  \n",
            "  inflating: /content/drive/MyDrive/vehicle/labels/train/car_409.txt  \n",
            "  inflating: /content/drive/MyDrive/vehicle/labels/train/car_41.txt  \n",
            "  inflating: /content/drive/MyDrive/vehicle/labels/train/car_410.txt  \n",
            "  inflating: /content/drive/MyDrive/vehicle/labels/train/car_411.txt  \n",
            "  inflating: /content/drive/MyDrive/vehicle/labels/train/car_412.txt  \n",
            "  inflating: /content/drive/MyDrive/vehicle/labels/train/car_413.txt  \n",
            "  inflating: /content/drive/MyDrive/vehicle/labels/train/car_414.txt  \n",
            "  inflating: /content/drive/MyDrive/vehicle/labels/train/car_415.txt  \n",
            "  inflating: /content/drive/MyDrive/vehicle/labels/train/car_416.txt  \n",
            "  inflating: /content/drive/MyDrive/vehicle/labels/train/car_417.txt  \n",
            "  inflating: /content/drive/MyDrive/vehicle/labels/train/car_418.txt  \n",
            "  inflating: /content/drive/MyDrive/vehicle/labels/train/car_419.txt  \n",
            "  inflating: /content/drive/MyDrive/vehicle/labels/train/car_42.txt  \n",
            "  inflating: /content/drive/MyDrive/vehicle/labels/train/car_420.txt  \n",
            "  inflating: /content/drive/MyDrive/vehicle/labels/train/car_421.txt  \n",
            "  inflating: /content/drive/MyDrive/vehicle/labels/train/car_422.txt  \n",
            "  inflating: /content/drive/MyDrive/vehicle/labels/train/car_423.txt  \n",
            "  inflating: /content/drive/MyDrive/vehicle/labels/train/car_424.txt  \n",
            "  inflating: /content/drive/MyDrive/vehicle/labels/train/car_425.txt  \n",
            "  inflating: /content/drive/MyDrive/vehicle/labels/train/car_426.txt  \n",
            " extracting: /content/drive/MyDrive/vehicle/labels/train/car_427.txt  \n",
            "  inflating: /content/drive/MyDrive/vehicle/labels/train/car_428.txt  \n",
            "  inflating: /content/drive/MyDrive/vehicle/labels/train/car_429.txt  \n",
            "  inflating: /content/drive/MyDrive/vehicle/labels/train/car_43.txt  \n",
            "  inflating: /content/drive/MyDrive/vehicle/labels/train/car_430.txt  \n",
            "  inflating: /content/drive/MyDrive/vehicle/labels/train/car_431.txt  \n",
            "  inflating: /content/drive/MyDrive/vehicle/labels/train/car_432.txt  \n",
            "  inflating: /content/drive/MyDrive/vehicle/labels/train/car_433.txt  \n",
            "  inflating: /content/drive/MyDrive/vehicle/labels/train/car_434.txt  \n",
            "  inflating: /content/drive/MyDrive/vehicle/labels/train/car_435.txt  \n",
            "  inflating: /content/drive/MyDrive/vehicle/labels/train/car_436.txt  \n",
            "  inflating: /content/drive/MyDrive/vehicle/labels/train/car_437.txt  \n",
            "  inflating: /content/drive/MyDrive/vehicle/labels/train/car_438.txt  \n",
            "  inflating: /content/drive/MyDrive/vehicle/labels/train/car_439.txt  \n",
            "  inflating: /content/drive/MyDrive/vehicle/labels/train/car_44.txt  \n",
            "  inflating: /content/drive/MyDrive/vehicle/labels/train/car_440.txt  \n",
            "  inflating: /content/drive/MyDrive/vehicle/labels/train/car_441.txt  \n",
            "  inflating: /content/drive/MyDrive/vehicle/labels/train/car_442.txt  \n",
            "  inflating: /content/drive/MyDrive/vehicle/labels/train/car_443.txt  \n",
            "  inflating: /content/drive/MyDrive/vehicle/labels/train/car_444.txt  \n",
            " extracting: /content/drive/MyDrive/vehicle/labels/train/car_445.txt  \n",
            "  inflating: /content/drive/MyDrive/vehicle/labels/train/car_446.txt  \n",
            "  inflating: /content/drive/MyDrive/vehicle/labels/train/car_447.txt  \n",
            "  inflating: /content/drive/MyDrive/vehicle/labels/train/car_448.txt  \n",
            "  inflating: /content/drive/MyDrive/vehicle/labels/train/car_449.txt  \n",
            "  inflating: /content/drive/MyDrive/vehicle/labels/train/car_45.txt  \n",
            "  inflating: /content/drive/MyDrive/vehicle/labels/train/car_450.txt  \n",
            "  inflating: /content/drive/MyDrive/vehicle/labels/train/car_451.txt  \n",
            "  inflating: /content/drive/MyDrive/vehicle/labels/train/car_452.txt  \n",
            "  inflating: /content/drive/MyDrive/vehicle/labels/train/car_453.txt  \n",
            " extracting: /content/drive/MyDrive/vehicle/labels/train/car_454.txt  \n",
            "  inflating: /content/drive/MyDrive/vehicle/labels/train/car_455.txt  \n",
            "  inflating: /content/drive/MyDrive/vehicle/labels/train/car_456.txt  \n",
            "  inflating: /content/drive/MyDrive/vehicle/labels/train/car_457.txt  \n",
            "  inflating: /content/drive/MyDrive/vehicle/labels/train/car_458.txt  \n",
            "  inflating: /content/drive/MyDrive/vehicle/labels/train/car_459.txt  \n",
            "  inflating: /content/drive/MyDrive/vehicle/labels/train/car_46.txt  \n",
            "  inflating: /content/drive/MyDrive/vehicle/labels/train/car_460.txt  \n",
            "  inflating: /content/drive/MyDrive/vehicle/labels/train/car_461.txt  \n",
            "  inflating: /content/drive/MyDrive/vehicle/labels/train/car_462.txt  \n",
            "  inflating: /content/drive/MyDrive/vehicle/labels/train/car_463.txt  \n",
            "  inflating: /content/drive/MyDrive/vehicle/labels/train/car_464.txt  \n",
            "  inflating: /content/drive/MyDrive/vehicle/labels/train/car_465.txt  \n",
            "  inflating: /content/drive/MyDrive/vehicle/labels/train/car_466.txt  \n",
            "  inflating: /content/drive/MyDrive/vehicle/labels/train/car_467.txt  \n",
            "  inflating: /content/drive/MyDrive/vehicle/labels/train/car_468.txt  \n",
            "  inflating: /content/drive/MyDrive/vehicle/labels/train/car_469.txt  \n",
            "  inflating: /content/drive/MyDrive/vehicle/labels/train/car_47.txt  \n",
            "  inflating: /content/drive/MyDrive/vehicle/labels/train/car_470.txt  \n",
            "  inflating: /content/drive/MyDrive/vehicle/labels/train/car_471.txt  \n",
            "  inflating: /content/drive/MyDrive/vehicle/labels/train/car_472.txt  \n",
            "  inflating: /content/drive/MyDrive/vehicle/labels/train/car_473.txt  \n",
            "  inflating: /content/drive/MyDrive/vehicle/labels/train/car_474.txt  \n",
            "  inflating: /content/drive/MyDrive/vehicle/labels/train/car_475.txt  \n",
            "  inflating: /content/drive/MyDrive/vehicle/labels/train/car_476.txt  \n",
            "  inflating: /content/drive/MyDrive/vehicle/labels/train/car_477.txt  \n",
            "  inflating: /content/drive/MyDrive/vehicle/labels/train/car_478.txt  \n",
            "  inflating: /content/drive/MyDrive/vehicle/labels/train/car_479.txt  \n",
            "  inflating: /content/drive/MyDrive/vehicle/labels/train/car_48.txt  \n",
            "  inflating: /content/drive/MyDrive/vehicle/labels/train/car_480.txt  \n",
            "  inflating: /content/drive/MyDrive/vehicle/labels/train/car_481.txt  \n",
            "  inflating: /content/drive/MyDrive/vehicle/labels/train/car_482.txt  \n",
            "  inflating: /content/drive/MyDrive/vehicle/labels/train/car_483.txt  \n",
            "  inflating: /content/drive/MyDrive/vehicle/labels/train/car_484.txt  \n",
            "  inflating: /content/drive/MyDrive/vehicle/labels/train/car_485.txt  \n",
            "  inflating: /content/drive/MyDrive/vehicle/labels/train/car_486.txt  \n",
            "  inflating: /content/drive/MyDrive/vehicle/labels/train/car_487.txt  \n",
            "  inflating: /content/drive/MyDrive/vehicle/labels/train/car_488.txt  \n",
            "  inflating: /content/drive/MyDrive/vehicle/labels/train/car_489.txt  \n",
            "  inflating: /content/drive/MyDrive/vehicle/labels/train/car_49.txt  \n",
            "  inflating: /content/drive/MyDrive/vehicle/labels/train/car_490.txt  \n",
            "  inflating: /content/drive/MyDrive/vehicle/labels/train/car_491.txt  \n",
            "  inflating: /content/drive/MyDrive/vehicle/labels/train/car_492.txt  \n",
            "  inflating: /content/drive/MyDrive/vehicle/labels/train/car_493.txt  \n",
            "  inflating: /content/drive/MyDrive/vehicle/labels/train/car_494.txt  \n",
            "  inflating: /content/drive/MyDrive/vehicle/labels/train/car_495.txt  \n",
            "  inflating: /content/drive/MyDrive/vehicle/labels/train/car_496.txt  \n",
            "  inflating: /content/drive/MyDrive/vehicle/labels/train/car_497.txt  \n",
            "  inflating: /content/drive/MyDrive/vehicle/labels/train/car_498.txt  \n",
            "  inflating: /content/drive/MyDrive/vehicle/labels/train/car_499.txt  \n",
            "  inflating: /content/drive/MyDrive/vehicle/labels/train/car_5.txt  \n",
            "  inflating: /content/drive/MyDrive/vehicle/labels/train/car_50.txt  \n",
            "  inflating: /content/drive/MyDrive/vehicle/labels/train/car_500.txt  \n",
            "  inflating: /content/drive/MyDrive/vehicle/labels/train/car_501.txt  \n",
            "  inflating: /content/drive/MyDrive/vehicle/labels/train/car_502.txt  \n",
            "  inflating: /content/drive/MyDrive/vehicle/labels/train/car_503.txt  \n",
            "  inflating: /content/drive/MyDrive/vehicle/labels/train/car_504.txt  \n",
            "  inflating: /content/drive/MyDrive/vehicle/labels/train/car_505.txt  \n",
            "  inflating: /content/drive/MyDrive/vehicle/labels/train/car_506.txt  \n",
            "  inflating: /content/drive/MyDrive/vehicle/labels/train/car_507.txt  \n",
            "  inflating: /content/drive/MyDrive/vehicle/labels/train/car_508.txt  \n",
            "  inflating: /content/drive/MyDrive/vehicle/labels/train/car_509.txt  \n",
            "  inflating: /content/drive/MyDrive/vehicle/labels/train/car_51.txt  \n",
            " extracting: /content/drive/MyDrive/vehicle/labels/train/car_510.txt  \n",
            "  inflating: /content/drive/MyDrive/vehicle/labels/train/car_511.txt  \n",
            "  inflating: /content/drive/MyDrive/vehicle/labels/train/car_512.txt  \n",
            "  inflating: /content/drive/MyDrive/vehicle/labels/train/car_513.txt  \n",
            "  inflating: /content/drive/MyDrive/vehicle/labels/train/car_514.txt  \n",
            "  inflating: /content/drive/MyDrive/vehicle/labels/train/car_515.txt  \n",
            "  inflating: /content/drive/MyDrive/vehicle/labels/train/car_516.txt  \n",
            "  inflating: /content/drive/MyDrive/vehicle/labels/train/car_517.txt  \n",
            "  inflating: /content/drive/MyDrive/vehicle/labels/train/car_518.txt  \n",
            "  inflating: /content/drive/MyDrive/vehicle/labels/train/car_519.txt  \n",
            "  inflating: /content/drive/MyDrive/vehicle/labels/train/car_52.txt  \n",
            "  inflating: /content/drive/MyDrive/vehicle/labels/train/car_520.txt  \n",
            "  inflating: /content/drive/MyDrive/vehicle/labels/train/car_521.txt  \n",
            "  inflating: /content/drive/MyDrive/vehicle/labels/train/car_522.txt  \n",
            "  inflating: /content/drive/MyDrive/vehicle/labels/train/car_523.txt  \n",
            "  inflating: /content/drive/MyDrive/vehicle/labels/train/car_524.txt  \n",
            "  inflating: /content/drive/MyDrive/vehicle/labels/train/car_525.txt  \n",
            "  inflating: /content/drive/MyDrive/vehicle/labels/train/car_526.txt  \n",
            "  inflating: /content/drive/MyDrive/vehicle/labels/train/car_527.txt  \n",
            "  inflating: /content/drive/MyDrive/vehicle/labels/train/car_528.txt  \n",
            "  inflating: /content/drive/MyDrive/vehicle/labels/train/car_529.txt  \n",
            "  inflating: /content/drive/MyDrive/vehicle/labels/train/car_53.txt  \n",
            "  inflating: /content/drive/MyDrive/vehicle/labels/train/car_530.txt  \n",
            "  inflating: /content/drive/MyDrive/vehicle/labels/train/car_531.txt  \n",
            "  inflating: /content/drive/MyDrive/vehicle/labels/train/car_532.txt  \n",
            "  inflating: /content/drive/MyDrive/vehicle/labels/train/car_533.txt  \n",
            "  inflating: /content/drive/MyDrive/vehicle/labels/train/car_534.txt  \n",
            "  inflating: /content/drive/MyDrive/vehicle/labels/train/car_535.txt  \n",
            "  inflating: /content/drive/MyDrive/vehicle/labels/train/car_536.txt  \n",
            "  inflating: /content/drive/MyDrive/vehicle/labels/train/car_537.txt  \n",
            "  inflating: /content/drive/MyDrive/vehicle/labels/train/car_538.txt  \n",
            "  inflating: /content/drive/MyDrive/vehicle/labels/train/car_539.txt  \n",
            "  inflating: /content/drive/MyDrive/vehicle/labels/train/car_54.txt  \n",
            "  inflating: /content/drive/MyDrive/vehicle/labels/train/car_540.txt  \n",
            "  inflating: /content/drive/MyDrive/vehicle/labels/train/car_541.txt  \n",
            "  inflating: /content/drive/MyDrive/vehicle/labels/train/car_542.txt  \n",
            "  inflating: /content/drive/MyDrive/vehicle/labels/train/car_543.txt  \n",
            "  inflating: /content/drive/MyDrive/vehicle/labels/train/car_544.txt  \n",
            "  inflating: /content/drive/MyDrive/vehicle/labels/train/car_545.txt  \n",
            "  inflating: /content/drive/MyDrive/vehicle/labels/train/car_546.txt  \n",
            "  inflating: /content/drive/MyDrive/vehicle/labels/train/car_547.txt  \n",
            "  inflating: /content/drive/MyDrive/vehicle/labels/train/car_548.txt  \n",
            "  inflating: /content/drive/MyDrive/vehicle/labels/train/car_549.txt  \n",
            "  inflating: /content/drive/MyDrive/vehicle/labels/train/car_55.txt  \n",
            "  inflating: /content/drive/MyDrive/vehicle/labels/train/car_550.txt  \n",
            "  inflating: /content/drive/MyDrive/vehicle/labels/train/car_551.txt  \n",
            "  inflating: /content/drive/MyDrive/vehicle/labels/train/car_552.txt  \n",
            "  inflating: /content/drive/MyDrive/vehicle/labels/train/car_553.txt  \n",
            "  inflating: /content/drive/MyDrive/vehicle/labels/train/car_554.txt  \n",
            "  inflating: /content/drive/MyDrive/vehicle/labels/train/car_555.txt  \n",
            "  inflating: /content/drive/MyDrive/vehicle/labels/train/car_556.txt  \n",
            "  inflating: /content/drive/MyDrive/vehicle/labels/train/car_557.txt  \n",
            "  inflating: /content/drive/MyDrive/vehicle/labels/train/car_558.txt  \n",
            "  inflating: /content/drive/MyDrive/vehicle/labels/train/car_559.txt  \n",
            "  inflating: /content/drive/MyDrive/vehicle/labels/train/car_56.txt  \n",
            "  inflating: /content/drive/MyDrive/vehicle/labels/train/car_560.txt  \n",
            "  inflating: /content/drive/MyDrive/vehicle/labels/train/car_561.txt  \n",
            "  inflating: /content/drive/MyDrive/vehicle/labels/train/car_562.txt  \n",
            "  inflating: /content/drive/MyDrive/vehicle/labels/train/car_563.txt  \n",
            "  inflating: /content/drive/MyDrive/vehicle/labels/train/car_564.txt  \n",
            "  inflating: /content/drive/MyDrive/vehicle/labels/train/car_565.txt  \n",
            "  inflating: /content/drive/MyDrive/vehicle/labels/train/car_566.txt  \n",
            "  inflating: /content/drive/MyDrive/vehicle/labels/train/car_567.txt  \n",
            "  inflating: /content/drive/MyDrive/vehicle/labels/train/car_568.txt  \n",
            "  inflating: /content/drive/MyDrive/vehicle/labels/train/car_569.txt  \n",
            "  inflating: /content/drive/MyDrive/vehicle/labels/train/car_57.txt  \n",
            "  inflating: /content/drive/MyDrive/vehicle/labels/train/car_570.txt  \n",
            "  inflating: /content/drive/MyDrive/vehicle/labels/train/car_571.txt  \n",
            "  inflating: /content/drive/MyDrive/vehicle/labels/train/car_572.txt  \n",
            " extracting: /content/drive/MyDrive/vehicle/labels/train/car_573.txt  \n",
            "  inflating: /content/drive/MyDrive/vehicle/labels/train/car_574.txt  \n",
            "  inflating: /content/drive/MyDrive/vehicle/labels/train/car_575.txt  \n",
            "  inflating: /content/drive/MyDrive/vehicle/labels/train/car_576.txt  \n",
            "  inflating: /content/drive/MyDrive/vehicle/labels/train/car_577.txt  \n",
            "  inflating: /content/drive/MyDrive/vehicle/labels/train/car_578.txt  \n",
            "  inflating: /content/drive/MyDrive/vehicle/labels/train/car_579.txt  \n",
            "  inflating: /content/drive/MyDrive/vehicle/labels/train/car_58.txt  \n",
            "  inflating: /content/drive/MyDrive/vehicle/labels/train/car_580.txt  \n",
            " extracting: /content/drive/MyDrive/vehicle/labels/train/car_581.txt  \n",
            "  inflating: /content/drive/MyDrive/vehicle/labels/train/car_582.txt  \n",
            "  inflating: /content/drive/MyDrive/vehicle/labels/train/car_583.txt  \n",
            "  inflating: /content/drive/MyDrive/vehicle/labels/train/car_584.txt  \n",
            "  inflating: /content/drive/MyDrive/vehicle/labels/train/car_585.txt  \n",
            "  inflating: /content/drive/MyDrive/vehicle/labels/train/car_586.txt  \n",
            "  inflating: /content/drive/MyDrive/vehicle/labels/train/car_587.txt  \n",
            "  inflating: /content/drive/MyDrive/vehicle/labels/train/car_588.txt  \n",
            "  inflating: /content/drive/MyDrive/vehicle/labels/train/car_589.txt  \n",
            "  inflating: /content/drive/MyDrive/vehicle/labels/train/car_59.txt  \n",
            "  inflating: /content/drive/MyDrive/vehicle/labels/train/car_590.txt  \n",
            "  inflating: /content/drive/MyDrive/vehicle/labels/train/car_591.txt  \n",
            "  inflating: /content/drive/MyDrive/vehicle/labels/train/car_592.txt  \n",
            "  inflating: /content/drive/MyDrive/vehicle/labels/train/car_593.txt  \n",
            "  inflating: /content/drive/MyDrive/vehicle/labels/train/car_594.txt  \n",
            " extracting: /content/drive/MyDrive/vehicle/labels/train/car_595.txt  \n",
            "  inflating: /content/drive/MyDrive/vehicle/labels/train/car_596.txt  \n",
            "  inflating: /content/drive/MyDrive/vehicle/labels/train/car_597.txt  \n",
            "  inflating: /content/drive/MyDrive/vehicle/labels/train/car_598.txt  \n",
            "  inflating: /content/drive/MyDrive/vehicle/labels/train/car_599.txt  \n",
            "  inflating: /content/drive/MyDrive/vehicle/labels/train/car_6.txt  \n",
            "  inflating: /content/drive/MyDrive/vehicle/labels/train/car_60.txt  \n",
            "  inflating: /content/drive/MyDrive/vehicle/labels/train/car_600.txt  \n",
            "  inflating: /content/drive/MyDrive/vehicle/labels/train/car_601.txt  \n",
            "  inflating: /content/drive/MyDrive/vehicle/labels/train/car_602.txt  \n",
            "  inflating: /content/drive/MyDrive/vehicle/labels/train/car_603.txt  \n",
            "  inflating: /content/drive/MyDrive/vehicle/labels/train/car_604.txt  \n",
            "  inflating: /content/drive/MyDrive/vehicle/labels/train/car_605.txt  \n",
            "  inflating: /content/drive/MyDrive/vehicle/labels/train/car_606.txt  \n",
            "  inflating: /content/drive/MyDrive/vehicle/labels/train/car_607.txt  \n",
            "  inflating: /content/drive/MyDrive/vehicle/labels/train/car_608.txt  \n",
            "  inflating: /content/drive/MyDrive/vehicle/labels/train/car_609.txt  \n",
            "  inflating: /content/drive/MyDrive/vehicle/labels/train/car_61.txt  \n",
            " extracting: /content/drive/MyDrive/vehicle/labels/train/car_610.txt  \n",
            "  inflating: /content/drive/MyDrive/vehicle/labels/train/car_611.txt  \n",
            "  inflating: /content/drive/MyDrive/vehicle/labels/train/car_612.txt  \n",
            "  inflating: /content/drive/MyDrive/vehicle/labels/train/car_613.txt  \n",
            "  inflating: /content/drive/MyDrive/vehicle/labels/train/car_614.txt  \n",
            "  inflating: /content/drive/MyDrive/vehicle/labels/train/car_615.txt  \n",
            "  inflating: /content/drive/MyDrive/vehicle/labels/train/car_616.txt  \n",
            " extracting: /content/drive/MyDrive/vehicle/labels/train/car_617.txt  \n",
            " extracting: /content/drive/MyDrive/vehicle/labels/train/car_618.txt  \n",
            "  inflating: /content/drive/MyDrive/vehicle/labels/train/car_619.txt  \n",
            "  inflating: /content/drive/MyDrive/vehicle/labels/train/car_62.txt  \n",
            "  inflating: /content/drive/MyDrive/vehicle/labels/train/car_620.txt  \n",
            "  inflating: /content/drive/MyDrive/vehicle/labels/train/car_621.txt  \n",
            "  inflating: /content/drive/MyDrive/vehicle/labels/train/car_622.txt  \n",
            "  inflating: /content/drive/MyDrive/vehicle/labels/train/car_623.txt  \n",
            " extracting: /content/drive/MyDrive/vehicle/labels/train/car_624.txt  \n",
            "  inflating: /content/drive/MyDrive/vehicle/labels/train/car_625.txt  \n",
            "  inflating: /content/drive/MyDrive/vehicle/labels/train/car_626.txt  \n",
            "  inflating: /content/drive/MyDrive/vehicle/labels/train/car_627.txt  \n",
            "  inflating: /content/drive/MyDrive/vehicle/labels/train/car_628.txt  \n",
            "  inflating: /content/drive/MyDrive/vehicle/labels/train/car_629.txt  \n",
            "  inflating: /content/drive/MyDrive/vehicle/labels/train/car_63.txt  \n",
            "  inflating: /content/drive/MyDrive/vehicle/labels/train/car_630.txt  \n",
            "  inflating: /content/drive/MyDrive/vehicle/labels/train/car_631.txt  \n",
            "  inflating: /content/drive/MyDrive/vehicle/labels/train/car_632.txt  \n",
            "  inflating: /content/drive/MyDrive/vehicle/labels/train/car_633.txt  \n",
            "  inflating: /content/drive/MyDrive/vehicle/labels/train/car_634.txt  \n",
            "  inflating: /content/drive/MyDrive/vehicle/labels/train/car_635.txt  \n",
            "  inflating: /content/drive/MyDrive/vehicle/labels/train/car_636.txt  \n",
            "  inflating: /content/drive/MyDrive/vehicle/labels/train/car_637.txt  \n",
            "  inflating: /content/drive/MyDrive/vehicle/labels/train/car_638.txt  \n",
            "  inflating: /content/drive/MyDrive/vehicle/labels/train/car_639.txt  \n",
            "  inflating: /content/drive/MyDrive/vehicle/labels/train/car_64.txt  \n",
            "  inflating: /content/drive/MyDrive/vehicle/labels/train/car_640.txt  \n",
            "  inflating: /content/drive/MyDrive/vehicle/labels/train/car_65.txt  \n",
            "  inflating: /content/drive/MyDrive/vehicle/labels/train/car_66.txt  \n",
            "  inflating: /content/drive/MyDrive/vehicle/labels/train/car_67.txt  \n",
            "  inflating: /content/drive/MyDrive/vehicle/labels/train/car_68.txt  \n",
            "  inflating: /content/drive/MyDrive/vehicle/labels/train/car_69.txt  \n",
            "  inflating: /content/drive/MyDrive/vehicle/labels/train/car_7.txt  \n",
            "  inflating: /content/drive/MyDrive/vehicle/labels/train/car_70.txt  \n",
            "  inflating: /content/drive/MyDrive/vehicle/labels/train/car_71.txt  \n",
            "  inflating: /content/drive/MyDrive/vehicle/labels/train/car_72.txt  \n",
            "  inflating: /content/drive/MyDrive/vehicle/labels/train/car_73.txt  \n",
            "  inflating: /content/drive/MyDrive/vehicle/labels/train/car_74.txt  \n",
            "  inflating: /content/drive/MyDrive/vehicle/labels/train/car_75.txt  \n",
            "  inflating: /content/drive/MyDrive/vehicle/labels/train/car_76.txt  \n",
            "  inflating: /content/drive/MyDrive/vehicle/labels/train/car_77.txt  \n",
            "  inflating: /content/drive/MyDrive/vehicle/labels/train/car_78.txt  \n",
            "  inflating: /content/drive/MyDrive/vehicle/labels/train/car_79.txt  \n",
            "  inflating: /content/drive/MyDrive/vehicle/labels/train/car_8.txt  \n",
            "  inflating: /content/drive/MyDrive/vehicle/labels/train/car_80.txt  \n",
            "  inflating: /content/drive/MyDrive/vehicle/labels/train/car_81.txt  \n",
            "  inflating: /content/drive/MyDrive/vehicle/labels/train/car_82.txt  \n",
            "  inflating: /content/drive/MyDrive/vehicle/labels/train/car_83.txt  \n",
            "  inflating: /content/drive/MyDrive/vehicle/labels/train/car_84.txt  \n",
            "  inflating: /content/drive/MyDrive/vehicle/labels/train/car_85.txt  \n",
            "  inflating: /content/drive/MyDrive/vehicle/labels/train/car_86.txt  \n",
            "  inflating: /content/drive/MyDrive/vehicle/labels/train/car_87.txt  \n",
            "  inflating: /content/drive/MyDrive/vehicle/labels/train/car_88.txt  \n",
            "  inflating: /content/drive/MyDrive/vehicle/labels/train/car_89.txt  \n",
            "  inflating: /content/drive/MyDrive/vehicle/labels/train/car_9.txt  \n",
            "  inflating: /content/drive/MyDrive/vehicle/labels/train/car_90.txt  \n",
            "  inflating: /content/drive/MyDrive/vehicle/labels/train/car_91.txt  \n",
            "  inflating: /content/drive/MyDrive/vehicle/labels/train/car_92.txt  \n",
            "  inflating: /content/drive/MyDrive/vehicle/labels/train/car_93.txt  \n",
            "  inflating: /content/drive/MyDrive/vehicle/labels/train/car_94.txt  \n",
            "  inflating: /content/drive/MyDrive/vehicle/labels/train/car_95.txt  \n",
            "  inflating: /content/drive/MyDrive/vehicle/labels/train/car_96.txt  \n",
            "  inflating: /content/drive/MyDrive/vehicle/labels/train/car_97.txt  \n",
            "  inflating: /content/drive/MyDrive/vehicle/labels/train/car_98.txt  \n",
            "  inflating: /content/drive/MyDrive/vehicle/labels/train/car_99.txt  \n",
            "   creating: /content/drive/MyDrive/vehicle/labels/val/\n",
            "  inflating: /content/drive/MyDrive/vehicle/labels/val/car_1.txt  \n",
            "  inflating: /content/drive/MyDrive/vehicle/labels/val/car_10.txt  \n",
            "  inflating: /content/drive/MyDrive/vehicle/labels/val/car_100.txt  \n",
            "  inflating: /content/drive/MyDrive/vehicle/labels/val/car_101.txt  \n",
            "  inflating: /content/drive/MyDrive/vehicle/labels/val/car_102.txt  \n",
            "  inflating: /content/drive/MyDrive/vehicle/labels/val/car_103.txt  \n",
            "  inflating: /content/drive/MyDrive/vehicle/labels/val/car_104.txt  \n",
            "  inflating: /content/drive/MyDrive/vehicle/labels/val/car_105.txt  \n",
            "  inflating: /content/drive/MyDrive/vehicle/labels/val/car_106.txt  \n",
            "  inflating: /content/drive/MyDrive/vehicle/labels/val/car_107.txt  \n",
            "  inflating: /content/drive/MyDrive/vehicle/labels/val/car_108.txt  \n",
            "  inflating: /content/drive/MyDrive/vehicle/labels/val/car_109.txt  \n",
            "  inflating: /content/drive/MyDrive/vehicle/labels/val/car_11.txt  \n",
            "  inflating: /content/drive/MyDrive/vehicle/labels/val/car_110.txt  \n",
            " extracting: /content/drive/MyDrive/vehicle/labels/val/car_111.txt  \n",
            "  inflating: /content/drive/MyDrive/vehicle/labels/val/car_112.txt  \n",
            "  inflating: /content/drive/MyDrive/vehicle/labels/val/car_113.txt  \n",
            "  inflating: /content/drive/MyDrive/vehicle/labels/val/car_114.txt  \n",
            " extracting: /content/drive/MyDrive/vehicle/labels/val/car_115.txt  \n",
            "  inflating: /content/drive/MyDrive/vehicle/labels/val/car_116.txt  \n",
            "  inflating: /content/drive/MyDrive/vehicle/labels/val/car_117.txt  \n",
            "  inflating: /content/drive/MyDrive/vehicle/labels/val/car_118.txt  \n",
            "  inflating: /content/drive/MyDrive/vehicle/labels/val/car_119.txt  \n",
            "  inflating: /content/drive/MyDrive/vehicle/labels/val/car_12.txt  \n",
            "  inflating: /content/drive/MyDrive/vehicle/labels/val/car_120.txt  \n",
            "  inflating: /content/drive/MyDrive/vehicle/labels/val/car_121.txt  \n",
            "  inflating: /content/drive/MyDrive/vehicle/labels/val/car_122.txt  \n",
            "  inflating: /content/drive/MyDrive/vehicle/labels/val/car_123.txt  \n",
            "  inflating: /content/drive/MyDrive/vehicle/labels/val/car_124.txt  \n",
            "  inflating: /content/drive/MyDrive/vehicle/labels/val/car_125.txt  \n",
            "  inflating: /content/drive/MyDrive/vehicle/labels/val/car_126.txt  \n",
            "  inflating: /content/drive/MyDrive/vehicle/labels/val/car_127.txt  \n",
            "  inflating: /content/drive/MyDrive/vehicle/labels/val/car_128.txt  \n",
            "  inflating: /content/drive/MyDrive/vehicle/labels/val/car_129.txt  \n",
            "  inflating: /content/drive/MyDrive/vehicle/labels/val/car_13.txt  \n",
            "  inflating: /content/drive/MyDrive/vehicle/labels/val/car_130.txt  \n",
            "  inflating: /content/drive/MyDrive/vehicle/labels/val/car_131.txt  \n",
            "  inflating: /content/drive/MyDrive/vehicle/labels/val/car_132.txt  \n",
            "  inflating: /content/drive/MyDrive/vehicle/labels/val/car_133.txt  \n",
            "  inflating: /content/drive/MyDrive/vehicle/labels/val/car_134.txt  \n",
            "  inflating: /content/drive/MyDrive/vehicle/labels/val/car_135.txt  \n",
            "  inflating: /content/drive/MyDrive/vehicle/labels/val/car_136.txt  \n",
            "  inflating: /content/drive/MyDrive/vehicle/labels/val/car_137.txt  \n",
            "  inflating: /content/drive/MyDrive/vehicle/labels/val/car_138.txt  \n",
            "  inflating: /content/drive/MyDrive/vehicle/labels/val/car_139.txt  \n",
            "  inflating: /content/drive/MyDrive/vehicle/labels/val/car_14.txt  \n",
            "  inflating: /content/drive/MyDrive/vehicle/labels/val/car_140.txt  \n",
            "  inflating: /content/drive/MyDrive/vehicle/labels/val/car_141.txt  \n",
            "  inflating: /content/drive/MyDrive/vehicle/labels/val/car_142.txt  \n",
            "  inflating: /content/drive/MyDrive/vehicle/labels/val/car_143.txt  \n",
            "  inflating: /content/drive/MyDrive/vehicle/labels/val/car_144.txt  \n",
            "  inflating: /content/drive/MyDrive/vehicle/labels/val/car_145.txt  \n",
            "  inflating: /content/drive/MyDrive/vehicle/labels/val/car_146.txt  \n",
            "  inflating: /content/drive/MyDrive/vehicle/labels/val/car_147.txt  \n",
            "  inflating: /content/drive/MyDrive/vehicle/labels/val/car_148.txt  \n",
            "  inflating: /content/drive/MyDrive/vehicle/labels/val/car_149.txt  \n",
            "  inflating: /content/drive/MyDrive/vehicle/labels/val/car_15.txt  \n",
            "  inflating: /content/drive/MyDrive/vehicle/labels/val/car_150.txt  \n",
            "  inflating: /content/drive/MyDrive/vehicle/labels/val/car_151.txt  \n",
            "  inflating: /content/drive/MyDrive/vehicle/labels/val/car_152.txt  \n",
            "  inflating: /content/drive/MyDrive/vehicle/labels/val/car_153.txt  \n",
            "  inflating: /content/drive/MyDrive/vehicle/labels/val/car_154.txt  \n",
            "  inflating: /content/drive/MyDrive/vehicle/labels/val/car_155.txt  \n",
            "  inflating: /content/drive/MyDrive/vehicle/labels/val/car_156.txt  \n",
            "  inflating: /content/drive/MyDrive/vehicle/labels/val/car_157.txt  \n",
            "  inflating: /content/drive/MyDrive/vehicle/labels/val/car_158.txt  \n",
            "  inflating: /content/drive/MyDrive/vehicle/labels/val/car_159.txt  \n",
            "  inflating: /content/drive/MyDrive/vehicle/labels/val/car_16.txt  \n",
            "  inflating: /content/drive/MyDrive/vehicle/labels/val/car_160.txt  \n",
            "  inflating: /content/drive/MyDrive/vehicle/labels/val/car_161.txt  \n",
            "  inflating: /content/drive/MyDrive/vehicle/labels/val/car_162.txt  \n",
            "  inflating: /content/drive/MyDrive/vehicle/labels/val/car_163.txt  \n",
            "  inflating: /content/drive/MyDrive/vehicle/labels/val/car_164.txt  \n",
            "  inflating: /content/drive/MyDrive/vehicle/labels/val/car_165.txt  \n",
            "  inflating: /content/drive/MyDrive/vehicle/labels/val/car_166.txt  \n",
            "  inflating: /content/drive/MyDrive/vehicle/labels/val/car_167.txt  \n",
            "  inflating: /content/drive/MyDrive/vehicle/labels/val/car_168.txt  \n",
            "  inflating: /content/drive/MyDrive/vehicle/labels/val/car_169.txt  \n",
            "  inflating: /content/drive/MyDrive/vehicle/labels/val/car_17.txt  \n",
            "  inflating: /content/drive/MyDrive/vehicle/labels/val/car_170.txt  \n",
            "  inflating: /content/drive/MyDrive/vehicle/labels/val/car_171.txt  \n",
            "  inflating: /content/drive/MyDrive/vehicle/labels/val/car_172.txt  \n",
            "  inflating: /content/drive/MyDrive/vehicle/labels/val/car_173.txt  \n",
            " extracting: /content/drive/MyDrive/vehicle/labels/val/car_174.txt  \n",
            "  inflating: /content/drive/MyDrive/vehicle/labels/val/car_175.txt  \n",
            "  inflating: /content/drive/MyDrive/vehicle/labels/val/car_176.txt  \n",
            "  inflating: /content/drive/MyDrive/vehicle/labels/val/car_177.txt  \n",
            "  inflating: /content/drive/MyDrive/vehicle/labels/val/car_178.txt  \n",
            " extracting: /content/drive/MyDrive/vehicle/labels/val/car_179.txt  \n",
            "  inflating: /content/drive/MyDrive/vehicle/labels/val/car_18.txt  \n",
            "  inflating: /content/drive/MyDrive/vehicle/labels/val/car_180.txt  \n",
            "  inflating: /content/drive/MyDrive/vehicle/labels/val/car_181.txt  \n",
            " extracting: /content/drive/MyDrive/vehicle/labels/val/car_182.txt  \n",
            "  inflating: /content/drive/MyDrive/vehicle/labels/val/car_19.txt  \n",
            "  inflating: /content/drive/MyDrive/vehicle/labels/val/car_2.txt  \n",
            "  inflating: /content/drive/MyDrive/vehicle/labels/val/car_20.txt  \n",
            "  inflating: /content/drive/MyDrive/vehicle/labels/val/car_21.txt  \n",
            "  inflating: /content/drive/MyDrive/vehicle/labels/val/car_22.txt  \n",
            "  inflating: /content/drive/MyDrive/vehicle/labels/val/car_23.txt  \n",
            "  inflating: /content/drive/MyDrive/vehicle/labels/val/car_24.txt  \n",
            "  inflating: /content/drive/MyDrive/vehicle/labels/val/car_25.txt  \n",
            "  inflating: /content/drive/MyDrive/vehicle/labels/val/car_26.txt  \n",
            "  inflating: /content/drive/MyDrive/vehicle/labels/val/car_27.txt  \n",
            "  inflating: /content/drive/MyDrive/vehicle/labels/val/car_28.txt  \n",
            "  inflating: /content/drive/MyDrive/vehicle/labels/val/car_29.txt  \n",
            "  inflating: /content/drive/MyDrive/vehicle/labels/val/car_3.txt  \n",
            "  inflating: /content/drive/MyDrive/vehicle/labels/val/car_30.txt  \n",
            "  inflating: /content/drive/MyDrive/vehicle/labels/val/car_31.txt  \n",
            "  inflating: /content/drive/MyDrive/vehicle/labels/val/car_32.txt  \n",
            "  inflating: /content/drive/MyDrive/vehicle/labels/val/car_33.txt  \n",
            "  inflating: /content/drive/MyDrive/vehicle/labels/val/car_34.txt  \n",
            " extracting: /content/drive/MyDrive/vehicle/labels/val/car_35.txt  \n",
            "  inflating: /content/drive/MyDrive/vehicle/labels/val/car_36.txt  \n",
            "  inflating: /content/drive/MyDrive/vehicle/labels/val/car_37.txt  \n",
            "  inflating: /content/drive/MyDrive/vehicle/labels/val/car_38.txt  \n",
            "  inflating: /content/drive/MyDrive/vehicle/labels/val/car_39.txt  \n",
            "  inflating: /content/drive/MyDrive/vehicle/labels/val/car_4.txt  \n",
            "  inflating: /content/drive/MyDrive/vehicle/labels/val/car_40.txt  \n",
            "  inflating: /content/drive/MyDrive/vehicle/labels/val/car_41.txt  \n",
            "  inflating: /content/drive/MyDrive/vehicle/labels/val/car_42.txt  \n",
            "  inflating: /content/drive/MyDrive/vehicle/labels/val/car_43.txt  \n",
            "  inflating: /content/drive/MyDrive/vehicle/labels/val/car_44.txt  \n",
            " extracting: /content/drive/MyDrive/vehicle/labels/val/car_45.txt  \n",
            "  inflating: /content/drive/MyDrive/vehicle/labels/val/car_46.txt  \n",
            "  inflating: /content/drive/MyDrive/vehicle/labels/val/car_47.txt  \n",
            "  inflating: /content/drive/MyDrive/vehicle/labels/val/car_48.txt  \n",
            "  inflating: /content/drive/MyDrive/vehicle/labels/val/car_49.txt  \n",
            "  inflating: /content/drive/MyDrive/vehicle/labels/val/car_5.txt  \n",
            "  inflating: /content/drive/MyDrive/vehicle/labels/val/car_50.txt  \n",
            "  inflating: /content/drive/MyDrive/vehicle/labels/val/car_51.txt  \n",
            "  inflating: /content/drive/MyDrive/vehicle/labels/val/car_52.txt  \n",
            "  inflating: /content/drive/MyDrive/vehicle/labels/val/car_53.txt  \n",
            "  inflating: /content/drive/MyDrive/vehicle/labels/val/car_54.txt  \n",
            "  inflating: /content/drive/MyDrive/vehicle/labels/val/car_55.txt  \n",
            "  inflating: /content/drive/MyDrive/vehicle/labels/val/car_56.txt  \n",
            "  inflating: /content/drive/MyDrive/vehicle/labels/val/car_57.txt  \n",
            "  inflating: /content/drive/MyDrive/vehicle/labels/val/car_58.txt  \n",
            "  inflating: /content/drive/MyDrive/vehicle/labels/val/car_59.txt  \n",
            "  inflating: /content/drive/MyDrive/vehicle/labels/val/car_6.txt  \n",
            "  inflating: /content/drive/MyDrive/vehicle/labels/val/car_60.txt  \n",
            "  inflating: /content/drive/MyDrive/vehicle/labels/val/car_61.txt  \n",
            "  inflating: /content/drive/MyDrive/vehicle/labels/val/car_62.txt  \n",
            "  inflating: /content/drive/MyDrive/vehicle/labels/val/car_63.txt  \n",
            "  inflating: /content/drive/MyDrive/vehicle/labels/val/car_64.txt  \n",
            "  inflating: /content/drive/MyDrive/vehicle/labels/val/car_65.txt  \n",
            "  inflating: /content/drive/MyDrive/vehicle/labels/val/car_66.txt  \n",
            "  inflating: /content/drive/MyDrive/vehicle/labels/val/car_67.txt  \n",
            "  inflating: /content/drive/MyDrive/vehicle/labels/val/car_68.txt  \n",
            "  inflating: /content/drive/MyDrive/vehicle/labels/val/car_69.txt  \n",
            "  inflating: /content/drive/MyDrive/vehicle/labels/val/car_7.txt  \n",
            "  inflating: /content/drive/MyDrive/vehicle/labels/val/car_70.txt  \n",
            "  inflating: /content/drive/MyDrive/vehicle/labels/val/car_71.txt  \n",
            " extracting: /content/drive/MyDrive/vehicle/labels/val/car_72.txt  \n",
            "  inflating: /content/drive/MyDrive/vehicle/labels/val/car_73.txt  \n",
            "  inflating: /content/drive/MyDrive/vehicle/labels/val/car_74.txt  \n",
            "  inflating: /content/drive/MyDrive/vehicle/labels/val/car_75.txt  \n",
            "  inflating: /content/drive/MyDrive/vehicle/labels/val/car_76.txt  \n",
            "  inflating: /content/drive/MyDrive/vehicle/labels/val/car_77.txt  \n",
            "  inflating: /content/drive/MyDrive/vehicle/labels/val/car_78.txt  \n",
            "  inflating: /content/drive/MyDrive/vehicle/labels/val/car_79.txt  \n",
            "  inflating: /content/drive/MyDrive/vehicle/labels/val/car_8.txt  \n",
            "  inflating: /content/drive/MyDrive/vehicle/labels/val/car_80.txt  \n",
            "  inflating: /content/drive/MyDrive/vehicle/labels/val/car_81.txt  \n",
            "  inflating: /content/drive/MyDrive/vehicle/labels/val/car_82.txt  \n",
            "  inflating: /content/drive/MyDrive/vehicle/labels/val/car_83.txt  \n",
            "  inflating: /content/drive/MyDrive/vehicle/labels/val/car_84.txt  \n",
            "  inflating: /content/drive/MyDrive/vehicle/labels/val/car_85.txt  \n",
            "  inflating: /content/drive/MyDrive/vehicle/labels/val/car_86.txt  \n",
            "  inflating: /content/drive/MyDrive/vehicle/labels/val/car_87.txt  \n",
            " extracting: /content/drive/MyDrive/vehicle/labels/val/car_88.txt  \n",
            "  inflating: /content/drive/MyDrive/vehicle/labels/val/car_89.txt  \n",
            "  inflating: /content/drive/MyDrive/vehicle/labels/val/car_9.txt  \n",
            "  inflating: /content/drive/MyDrive/vehicle/labels/val/car_90.txt  \n",
            "  inflating: /content/drive/MyDrive/vehicle/labels/val/car_91.txt  \n",
            "  inflating: /content/drive/MyDrive/vehicle/labels/val/car_92.txt  \n",
            "  inflating: /content/drive/MyDrive/vehicle/labels/val/car_93.txt  \n",
            "  inflating: /content/drive/MyDrive/vehicle/labels/val/car_94.txt  \n",
            "  inflating: /content/drive/MyDrive/vehicle/labels/val/car_95.txt  \n",
            "  inflating: /content/drive/MyDrive/vehicle/labels/val/car_96.txt  \n",
            "  inflating: /content/drive/MyDrive/vehicle/labels/val/car_97.txt  \n",
            "  inflating: /content/drive/MyDrive/vehicle/labels/val/car_98.txt  \n",
            "  inflating: /content/drive/MyDrive/vehicle/labels/val/car_99.txt  \n"
          ]
        }
      ],
      "source": [
        "# unzip the dataset\n",
        "!unzip /content/drive/MyDrive/vehicle/vechileclass.zip -d /content/drive/MyDrive/vehicle/"
      ]
    },
    {
      "cell_type": "code",
      "execution_count": 4,
      "metadata": {
        "colab": {
          "base_uri": "https://localhost:8080/"
        },
        "id": "JoPCz1jTSBXA",
        "outputId": "d70dcb31-9d33-459c-bad7-0c3e4057f6af"
      },
      "outputs": [
        {
          "name": "stdout",
          "output_type": "stream",
          "text": [
            "Collecting ultralytics\n",
            "  Downloading ultralytics-8.2.70-py3-none-any.whl.metadata (41 kB)\n",
            "\u001b[?25l     \u001b[90m━━━━━━━━━━━━━━━━━━━━━━━━━━━━━━━━━━━━━━━━\u001b[0m \u001b[32m0.0/41.3 kB\u001b[0m \u001b[31m?\u001b[0m eta \u001b[36m-:--:--\u001b[0m\r\u001b[2K     \u001b[90m━━━━━━━━━━━━━━━━━━━━━━━━━━━━━━━━━━━━━━━━\u001b[0m \u001b[32m41.3/41.3 kB\u001b[0m \u001b[31m2.9 MB/s\u001b[0m eta \u001b[36m0:00:00\u001b[0m\n",
            "\u001b[?25hRequirement already satisfied: numpy<2.0.0,>=1.23.0 in /usr/local/lib/python3.10/dist-packages (from ultralytics) (1.26.4)\n",
            "Requirement already satisfied: matplotlib>=3.3.0 in /usr/local/lib/python3.10/dist-packages (from ultralytics) (3.7.1)\n",
            "Requirement already satisfied: opencv-python>=4.6.0 in /usr/local/lib/python3.10/dist-packages (from ultralytics) (4.10.0.84)\n",
            "Requirement already satisfied: pillow>=7.1.2 in /usr/local/lib/python3.10/dist-packages (from ultralytics) (9.4.0)\n",
            "Requirement already satisfied: pyyaml>=5.3.1 in /usr/local/lib/python3.10/dist-packages (from ultralytics) (6.0.1)\n",
            "Requirement already satisfied: requests>=2.23.0 in /usr/local/lib/python3.10/dist-packages (from ultralytics) (2.31.0)\n",
            "Requirement already satisfied: scipy>=1.4.1 in /usr/local/lib/python3.10/dist-packages (from ultralytics) (1.13.1)\n",
            "Requirement already satisfied: torch>=1.8.0 in /usr/local/lib/python3.10/dist-packages (from ultralytics) (2.3.1+cu121)\n",
            "Requirement already satisfied: torchvision>=0.9.0 in /usr/local/lib/python3.10/dist-packages (from ultralytics) (0.18.1+cu121)\n",
            "Requirement already satisfied: tqdm>=4.64.0 in /usr/local/lib/python3.10/dist-packages (from ultralytics) (4.66.4)\n",
            "Requirement already satisfied: psutil in /usr/local/lib/python3.10/dist-packages (from ultralytics) (5.9.5)\n",
            "Requirement already satisfied: py-cpuinfo in /usr/local/lib/python3.10/dist-packages (from ultralytics) (9.0.0)\n",
            "Requirement already satisfied: pandas>=1.1.4 in /usr/local/lib/python3.10/dist-packages (from ultralytics) (2.1.4)\n",
            "Requirement already satisfied: seaborn>=0.11.0 in /usr/local/lib/python3.10/dist-packages (from ultralytics) (0.13.1)\n",
            "Collecting ultralytics-thop>=2.0.0 (from ultralytics)\n",
            "  Downloading ultralytics_thop-2.0.0-py3-none-any.whl.metadata (8.5 kB)\n",
            "Requirement already satisfied: contourpy>=1.0.1 in /usr/local/lib/python3.10/dist-packages (from matplotlib>=3.3.0->ultralytics) (1.2.1)\n",
            "Requirement already satisfied: cycler>=0.10 in /usr/local/lib/python3.10/dist-packages (from matplotlib>=3.3.0->ultralytics) (0.12.1)\n",
            "Requirement already satisfied: fonttools>=4.22.0 in /usr/local/lib/python3.10/dist-packages (from matplotlib>=3.3.0->ultralytics) (4.53.1)\n",
            "Requirement already satisfied: kiwisolver>=1.0.1 in /usr/local/lib/python3.10/dist-packages (from matplotlib>=3.3.0->ultralytics) (1.4.5)\n",
            "Requirement already satisfied: packaging>=20.0 in /usr/local/lib/python3.10/dist-packages (from matplotlib>=3.3.0->ultralytics) (24.1)\n",
            "Requirement already satisfied: pyparsing>=2.3.1 in /usr/local/lib/python3.10/dist-packages (from matplotlib>=3.3.0->ultralytics) (3.1.2)\n",
            "Requirement already satisfied: python-dateutil>=2.7 in /usr/local/lib/python3.10/dist-packages (from matplotlib>=3.3.0->ultralytics) (2.8.2)\n",
            "Requirement already satisfied: pytz>=2020.1 in /usr/local/lib/python3.10/dist-packages (from pandas>=1.1.4->ultralytics) (2024.1)\n",
            "Requirement already satisfied: tzdata>=2022.1 in /usr/local/lib/python3.10/dist-packages (from pandas>=1.1.4->ultralytics) (2024.1)\n",
            "Requirement already satisfied: charset-normalizer<4,>=2 in /usr/local/lib/python3.10/dist-packages (from requests>=2.23.0->ultralytics) (3.3.2)\n",
            "Requirement already satisfied: idna<4,>=2.5 in /usr/local/lib/python3.10/dist-packages (from requests>=2.23.0->ultralytics) (3.7)\n",
            "Requirement already satisfied: urllib3<3,>=1.21.1 in /usr/local/lib/python3.10/dist-packages (from requests>=2.23.0->ultralytics) (2.0.7)\n",
            "Requirement already satisfied: certifi>=2017.4.17 in /usr/local/lib/python3.10/dist-packages (from requests>=2.23.0->ultralytics) (2024.7.4)\n",
            "Requirement already satisfied: filelock in /usr/local/lib/python3.10/dist-packages (from torch>=1.8.0->ultralytics) (3.15.4)\n",
            "Requirement already satisfied: typing-extensions>=4.8.0 in /usr/local/lib/python3.10/dist-packages (from torch>=1.8.0->ultralytics) (4.12.2)\n",
            "Requirement already satisfied: sympy in /usr/local/lib/python3.10/dist-packages (from torch>=1.8.0->ultralytics) (1.13.1)\n",
            "Requirement already satisfied: networkx in /usr/local/lib/python3.10/dist-packages (from torch>=1.8.0->ultralytics) (3.3)\n",
            "Requirement already satisfied: jinja2 in /usr/local/lib/python3.10/dist-packages (from torch>=1.8.0->ultralytics) (3.1.4)\n",
            "Requirement already satisfied: fsspec in /usr/local/lib/python3.10/dist-packages (from torch>=1.8.0->ultralytics) (2024.6.1)\n",
            "Collecting nvidia-cuda-nvrtc-cu12==12.1.105 (from torch>=1.8.0->ultralytics)\n",
            "  Using cached nvidia_cuda_nvrtc_cu12-12.1.105-py3-none-manylinux1_x86_64.whl.metadata (1.5 kB)\n",
            "Collecting nvidia-cuda-runtime-cu12==12.1.105 (from torch>=1.8.0->ultralytics)\n",
            "  Using cached nvidia_cuda_runtime_cu12-12.1.105-py3-none-manylinux1_x86_64.whl.metadata (1.5 kB)\n",
            "Collecting nvidia-cuda-cupti-cu12==12.1.105 (from torch>=1.8.0->ultralytics)\n",
            "  Using cached nvidia_cuda_cupti_cu12-12.1.105-py3-none-manylinux1_x86_64.whl.metadata (1.6 kB)\n",
            "Collecting nvidia-cudnn-cu12==8.9.2.26 (from torch>=1.8.0->ultralytics)\n",
            "  Using cached nvidia_cudnn_cu12-8.9.2.26-py3-none-manylinux1_x86_64.whl.metadata (1.6 kB)\n",
            "Collecting nvidia-cublas-cu12==12.1.3.1 (from torch>=1.8.0->ultralytics)\n",
            "  Using cached nvidia_cublas_cu12-12.1.3.1-py3-none-manylinux1_x86_64.whl.metadata (1.5 kB)\n",
            "Collecting nvidia-cufft-cu12==11.0.2.54 (from torch>=1.8.0->ultralytics)\n",
            "  Using cached nvidia_cufft_cu12-11.0.2.54-py3-none-manylinux1_x86_64.whl.metadata (1.5 kB)\n",
            "Collecting nvidia-curand-cu12==10.3.2.106 (from torch>=1.8.0->ultralytics)\n",
            "  Using cached nvidia_curand_cu12-10.3.2.106-py3-none-manylinux1_x86_64.whl.metadata (1.5 kB)\n",
            "Collecting nvidia-cusolver-cu12==11.4.5.107 (from torch>=1.8.0->ultralytics)\n",
            "  Using cached nvidia_cusolver_cu12-11.4.5.107-py3-none-manylinux1_x86_64.whl.metadata (1.6 kB)\n",
            "Collecting nvidia-cusparse-cu12==12.1.0.106 (from torch>=1.8.0->ultralytics)\n",
            "  Using cached nvidia_cusparse_cu12-12.1.0.106-py3-none-manylinux1_x86_64.whl.metadata (1.6 kB)\n",
            "Collecting nvidia-nccl-cu12==2.20.5 (from torch>=1.8.0->ultralytics)\n",
            "  Using cached nvidia_nccl_cu12-2.20.5-py3-none-manylinux2014_x86_64.whl.metadata (1.8 kB)\n",
            "Collecting nvidia-nvtx-cu12==12.1.105 (from torch>=1.8.0->ultralytics)\n",
            "  Using cached nvidia_nvtx_cu12-12.1.105-py3-none-manylinux1_x86_64.whl.metadata (1.7 kB)\n",
            "Requirement already satisfied: triton==2.3.1 in /usr/local/lib/python3.10/dist-packages (from torch>=1.8.0->ultralytics) (2.3.1)\n",
            "Collecting nvidia-nvjitlink-cu12 (from nvidia-cusolver-cu12==11.4.5.107->torch>=1.8.0->ultralytics)\n",
            "  Downloading nvidia_nvjitlink_cu12-12.5.82-py3-none-manylinux2014_x86_64.whl.metadata (1.5 kB)\n",
            "Requirement already satisfied: six>=1.5 in /usr/local/lib/python3.10/dist-packages (from python-dateutil>=2.7->matplotlib>=3.3.0->ultralytics) (1.16.0)\n",
            "Requirement already satisfied: MarkupSafe>=2.0 in /usr/local/lib/python3.10/dist-packages (from jinja2->torch>=1.8.0->ultralytics) (2.1.5)\n",
            "Requirement already satisfied: mpmath<1.4,>=1.1.0 in /usr/local/lib/python3.10/dist-packages (from sympy->torch>=1.8.0->ultralytics) (1.3.0)\n",
            "Downloading ultralytics-8.2.70-py3-none-any.whl (862 kB)\n",
            "\u001b[2K   \u001b[90m━━━━━━━━━━━━━━━━━━━━━━━━━━━━━━━━━━━━━━━━\u001b[0m \u001b[32m862.6/862.6 kB\u001b[0m \u001b[31m26.2 MB/s\u001b[0m eta \u001b[36m0:00:00\u001b[0m\n",
            "\u001b[?25hUsing cached nvidia_cublas_cu12-12.1.3.1-py3-none-manylinux1_x86_64.whl (410.6 MB)\n",
            "Using cached nvidia_cuda_cupti_cu12-12.1.105-py3-none-manylinux1_x86_64.whl (14.1 MB)\n",
            "Using cached nvidia_cuda_nvrtc_cu12-12.1.105-py3-none-manylinux1_x86_64.whl (23.7 MB)\n",
            "Using cached nvidia_cuda_runtime_cu12-12.1.105-py3-none-manylinux1_x86_64.whl (823 kB)\n",
            "Using cached nvidia_cudnn_cu12-8.9.2.26-py3-none-manylinux1_x86_64.whl (731.7 MB)\n",
            "Using cached nvidia_cufft_cu12-11.0.2.54-py3-none-manylinux1_x86_64.whl (121.6 MB)\n",
            "Using cached nvidia_curand_cu12-10.3.2.106-py3-none-manylinux1_x86_64.whl (56.5 MB)\n",
            "Using cached nvidia_cusolver_cu12-11.4.5.107-py3-none-manylinux1_x86_64.whl (124.2 MB)\n",
            "Using cached nvidia_cusparse_cu12-12.1.0.106-py3-none-manylinux1_x86_64.whl (196.0 MB)\n",
            "Using cached nvidia_nccl_cu12-2.20.5-py3-none-manylinux2014_x86_64.whl (176.2 MB)\n",
            "Using cached nvidia_nvtx_cu12-12.1.105-py3-none-manylinux1_x86_64.whl (99 kB)\n",
            "Downloading ultralytics_thop-2.0.0-py3-none-any.whl (25 kB)\n",
            "Downloading nvidia_nvjitlink_cu12-12.5.82-py3-none-manylinux2014_x86_64.whl (21.3 MB)\n",
            "\u001b[2K   \u001b[90m━━━━━━━━━━━━━━━━━━━━━━━━━━━━━━━━━━━━━━━━\u001b[0m \u001b[32m21.3/21.3 MB\u001b[0m \u001b[31m15.0 MB/s\u001b[0m eta \u001b[36m0:00:00\u001b[0m\n",
            "\u001b[?25hInstalling collected packages: nvidia-nvtx-cu12, nvidia-nvjitlink-cu12, nvidia-nccl-cu12, nvidia-curand-cu12, nvidia-cufft-cu12, nvidia-cuda-runtime-cu12, nvidia-cuda-nvrtc-cu12, nvidia-cuda-cupti-cu12, nvidia-cublas-cu12, nvidia-cusparse-cu12, nvidia-cudnn-cu12, nvidia-cusolver-cu12, ultralytics-thop, ultralytics\n",
            "Successfully installed nvidia-cublas-cu12-12.1.3.1 nvidia-cuda-cupti-cu12-12.1.105 nvidia-cuda-nvrtc-cu12-12.1.105 nvidia-cuda-runtime-cu12-12.1.105 nvidia-cudnn-cu12-8.9.2.26 nvidia-cufft-cu12-11.0.2.54 nvidia-curand-cu12-10.3.2.106 nvidia-cusolver-cu12-11.4.5.107 nvidia-cusparse-cu12-12.1.0.106 nvidia-nccl-cu12-2.20.5 nvidia-nvjitlink-cu12-12.5.82 nvidia-nvtx-cu12-12.1.105 ultralytics-8.2.70 ultralytics-thop-2.0.0\n"
          ]
        }
      ],
      "source": [
        "pip install ultralytics"
      ]
    },
    {
      "cell_type": "code",
      "execution_count": 8,
      "metadata": {
        "colab": {
          "base_uri": "https://localhost:8080/"
        },
        "id": "84TVDtNFSLYw",
        "outputId": "7eecf3b1-da28-4695-8ffc-02046f90a6b8"
      },
      "outputs": [
        {
          "name": "stdout",
          "output_type": "stream",
          "text": [
            "Ultralytics YOLOv8.2.70 🚀 Python-3.10.12 torch-2.3.1+cu121 CUDA:0 (Tesla T4, 15102MiB)\n",
            "\u001b[34m\u001b[1mengine/trainer: \u001b[0mtask=detect, mode=train, model=yolov8n.pt, data=/content/drive/MyDrive/vehicle/data.yaml, epochs=200, time=None, patience=100, batch=32, imgsz=640, save=True, save_period=-1, cache=False, device=None, workers=8, project=None, name=train4, exist_ok=False, pretrained=True, optimizer=auto, verbose=True, seed=0, deterministic=True, single_cls=False, rect=False, cos_lr=False, close_mosaic=10, resume=False, amp=True, fraction=1.0, profile=False, freeze=None, multi_scale=False, overlap_mask=True, mask_ratio=4, dropout=0.0, val=True, split=val, save_json=False, save_hybrid=False, conf=None, iou=0.7, max_det=300, half=False, dnn=False, plots=True, source=None, vid_stride=1, stream_buffer=False, visualize=False, augment=False, agnostic_nms=False, classes=None, retina_masks=False, embed=None, show=False, save_frames=False, save_txt=False, save_conf=False, save_crop=False, show_labels=True, show_conf=True, show_boxes=True, line_width=None, format=torchscript, keras=False, optimize=False, int8=False, dynamic=False, simplify=False, opset=None, workspace=4, nms=False, lr0=0.01, lrf=0.01, momentum=0.937, weight_decay=0.0005, warmup_epochs=3.0, warmup_momentum=0.8, warmup_bias_lr=0.1, box=7.5, cls=0.5, dfl=1.5, pose=12.0, kobj=1.0, label_smoothing=0.0, nbs=64, hsv_h=0.015, hsv_s=0.7, hsv_v=0.4, degrees=0.0, translate=0.1, scale=0.5, shear=0.0, perspective=0.0, flipud=0.0, fliplr=0.5, bgr=0.0, mosaic=1.0, mixup=0.0, copy_paste=0.0, auto_augment=randaugment, erasing=0.4, crop_fraction=1.0, cfg=None, tracker=botsort.yaml, save_dir=runs/detect/train4\n",
            "Downloading https://ultralytics.com/assets/Arial.ttf to '/root/.config/Ultralytics/Arial.ttf'...\n"
          ]
        },
        {
          "name": "stderr",
          "output_type": "stream",
          "text": [
            "100%|██████████| 755k/755k [00:00<00:00, 20.0MB/s]\n"
          ]
        },
        {
          "name": "stdout",
          "output_type": "stream",
          "text": [
            "Overriding model.yaml nc=80 with nc=1\n",
            "\n",
            "                   from  n    params  module                                       arguments                     \n",
            "  0                  -1  1       464  ultralytics.nn.modules.conv.Conv             [3, 16, 3, 2]                 \n",
            "  1                  -1  1      4672  ultralytics.nn.modules.conv.Conv             [16, 32, 3, 2]                \n",
            "  2                  -1  1      7360  ultralytics.nn.modules.block.C2f             [32, 32, 1, True]             \n",
            "  3                  -1  1     18560  ultralytics.nn.modules.conv.Conv             [32, 64, 3, 2]                \n",
            "  4                  -1  2     49664  ultralytics.nn.modules.block.C2f             [64, 64, 2, True]             \n",
            "  5                  -1  1     73984  ultralytics.nn.modules.conv.Conv             [64, 128, 3, 2]               \n",
            "  6                  -1  2    197632  ultralytics.nn.modules.block.C2f             [128, 128, 2, True]           \n",
            "  7                  -1  1    295424  ultralytics.nn.modules.conv.Conv             [128, 256, 3, 2]              \n",
            "  8                  -1  1    460288  ultralytics.nn.modules.block.C2f             [256, 256, 1, True]           \n",
            "  9                  -1  1    164608  ultralytics.nn.modules.block.SPPF            [256, 256, 5]                 \n",
            " 10                  -1  1         0  torch.nn.modules.upsampling.Upsample         [None, 2, 'nearest']          \n",
            " 11             [-1, 6]  1         0  ultralytics.nn.modules.conv.Concat           [1]                           \n",
            " 12                  -1  1    148224  ultralytics.nn.modules.block.C2f             [384, 128, 1]                 \n",
            " 13                  -1  1         0  torch.nn.modules.upsampling.Upsample         [None, 2, 'nearest']          \n",
            " 14             [-1, 4]  1         0  ultralytics.nn.modules.conv.Concat           [1]                           \n",
            " 15                  -1  1     37248  ultralytics.nn.modules.block.C2f             [192, 64, 1]                  \n",
            " 16                  -1  1     36992  ultralytics.nn.modules.conv.Conv             [64, 64, 3, 2]                \n",
            " 17            [-1, 12]  1         0  ultralytics.nn.modules.conv.Concat           [1]                           \n",
            " 18                  -1  1    123648  ultralytics.nn.modules.block.C2f             [192, 128, 1]                 \n",
            " 19                  -1  1    147712  ultralytics.nn.modules.conv.Conv             [128, 128, 3, 2]              \n",
            " 20             [-1, 9]  1         0  ultralytics.nn.modules.conv.Concat           [1]                           \n",
            " 21                  -1  1    493056  ultralytics.nn.modules.block.C2f             [384, 256, 1]                 \n",
            " 22        [15, 18, 21]  1    751507  ultralytics.nn.modules.head.Detect           [1, [64, 128, 256]]           \n",
            "Model summary: 225 layers, 3,011,043 parameters, 3,011,027 gradients, 8.2 GFLOPs\n",
            "\n",
            "Transferred 319/355 items from pretrained weights\n",
            "\u001b[34m\u001b[1mTensorBoard: \u001b[0mStart with 'tensorboard --logdir runs/detect/train4', view at http://localhost:6006/\n",
            "Freezing layer 'model.22.dfl.conv.weight'\n",
            "\u001b[34m\u001b[1mAMP: \u001b[0mrunning Automatic Mixed Precision (AMP) checks with YOLOv8n...\n",
            "\u001b[34m\u001b[1mAMP: \u001b[0mchecks passed ✅\n"
          ]
        },
        {
          "name": "stderr",
          "output_type": "stream",
          "text": [
            "\u001b[34m\u001b[1mtrain: \u001b[0mScanning /content/drive/MyDrive/vehicle/labels/train... 640 images, 1 backgrounds, 0 corrupt: 100%|██████████| 640/640 [00:07<00:00, 86.37it/s] \n"
          ]
        },
        {
          "name": "stdout",
          "output_type": "stream",
          "text": [
            "\u001b[34m\u001b[1mtrain: \u001b[0mNew cache created: /content/drive/MyDrive/vehicle/labels/train.cache\n",
            "WARNING ⚠️ Box and segment counts should be equal, but got len(segments) = 58, len(boxes) = 650. To resolve this only boxes will be used and all segments will be removed. To avoid this please supply either a detect or segment dataset, not a detect-segment mixed dataset.\n",
            "\u001b[34m\u001b[1malbumentations: \u001b[0mBlur(p=0.01, blur_limit=(3, 7)), MedianBlur(p=0.01, blur_limit=(3, 7)), ToGray(p=0.01), CLAHE(p=0.01, clip_limit=(1, 4.0), tile_grid_size=(8, 8))\n"
          ]
        },
        {
          "name": "stderr",
          "output_type": "stream",
          "text": [
            "/usr/lib/python3.10/multiprocessing/popen_fork.py:66: RuntimeWarning: os.fork() was called. os.fork() is incompatible with multithreaded code, and JAX is multithreaded, so this will likely lead to a deadlock.\n",
            "  self.pid = os.fork()\n",
            "\u001b[34m\u001b[1mval: \u001b[0mScanning /content/drive/MyDrive/vehicle/labels/val... 182 images, 1 backgrounds, 0 corrupt: 100%|██████████| 182/182 [00:03<00:00, 56.04it/s]\n"
          ]
        },
        {
          "name": "stdout",
          "output_type": "stream",
          "text": [
            "\u001b[34m\u001b[1mval: \u001b[0mNew cache created: /content/drive/MyDrive/vehicle/labels/val.cache\n",
            "WARNING ⚠️ Box and segment counts should be equal, but got len(segments) = 17, len(boxes) = 185. To resolve this only boxes will be used and all segments will be removed. To avoid this please supply either a detect or segment dataset, not a detect-segment mixed dataset.\n",
            "Plotting labels to runs/detect/train4/labels.jpg... \n",
            "\u001b[34m\u001b[1moptimizer:\u001b[0m 'optimizer=auto' found, ignoring 'lr0=0.01' and 'momentum=0.937' and determining best 'optimizer', 'lr0' and 'momentum' automatically... \n",
            "\u001b[34m\u001b[1moptimizer:\u001b[0m AdamW(lr=0.002, momentum=0.9) with parameter groups 57 weight(decay=0.0), 64 weight(decay=0.0005), 63 bias(decay=0.0)\n",
            "\u001b[34m\u001b[1mTensorBoard: \u001b[0mmodel graph visualization added ✅\n",
            "Image sizes 640 train, 640 val\n",
            "Using 2 dataloader workers\n",
            "Logging results to \u001b[1mruns/detect/train4\u001b[0m\n",
            "Starting training for 200 epochs...\n",
            "\n",
            "      Epoch    GPU_mem   box_loss   cls_loss   dfl_loss  Instances       Size\n"
          ]
        },
        {
          "name": "stderr",
          "output_type": "stream",
          "text": [
            "      1/200      4.74G      1.481      3.442      1.347         56        640: 100%|██████████| 20/20 [00:16<00:00,  1.18it/s]\n",
            "                 Class     Images  Instances      Box(P          R      mAP50  mAP50-95): 100%|██████████| 3/3 [00:03<00:00,  1.32s/it]"
          ]
        },
        {
          "name": "stdout",
          "output_type": "stream",
          "text": [
            "                   all        182        185    0.00332      0.978      0.834      0.485\n"
          ]
        },
        {
          "name": "stderr",
          "output_type": "stream",
          "text": [
            "\n"
          ]
        },
        {
          "name": "stdout",
          "output_type": "stream",
          "text": [
            "\n",
            "      Epoch    GPU_mem   box_loss   cls_loss   dfl_loss  Instances       Size\n"
          ]
        },
        {
          "name": "stderr",
          "output_type": "stream",
          "text": [
            "      2/200      4.32G      1.162      1.697      1.052         36        640: 100%|██████████| 20/20 [00:13<00:00,  1.45it/s]\n",
            "                 Class     Images  Instances      Box(P          R      mAP50  mAP50-95): 100%|██████████| 3/3 [00:02<00:00,  1.12it/s]"
          ]
        },
        {
          "name": "stdout",
          "output_type": "stream",
          "text": [
            "                   all        182        185    0.00333      0.984      0.425      0.162\n"
          ]
        },
        {
          "name": "stderr",
          "output_type": "stream",
          "text": [
            "\n"
          ]
        },
        {
          "name": "stdout",
          "output_type": "stream",
          "text": [
            "\n",
            "      Epoch    GPU_mem   box_loss   cls_loss   dfl_loss  Instances       Size\n"
          ]
        },
        {
          "name": "stderr",
          "output_type": "stream",
          "text": [
            "      3/200      4.32G      1.187       1.39      1.072         60        640: 100%|██████████| 20/20 [00:14<00:00,  1.43it/s]\n",
            "                 Class     Images  Instances      Box(P          R      mAP50  mAP50-95): 100%|██████████| 3/3 [00:02<00:00,  1.01it/s]"
          ]
        },
        {
          "name": "stdout",
          "output_type": "stream",
          "text": [
            "                   all        182        185          1      0.485      0.913      0.585\n"
          ]
        },
        {
          "name": "stderr",
          "output_type": "stream",
          "text": [
            "\n"
          ]
        },
        {
          "name": "stdout",
          "output_type": "stream",
          "text": [
            "\n",
            "      Epoch    GPU_mem   box_loss   cls_loss   dfl_loss  Instances       Size\n"
          ]
        },
        {
          "name": "stderr",
          "output_type": "stream",
          "text": [
            "      4/200      4.32G      1.126      1.212      1.046         39        640: 100%|██████████| 20/20 [00:13<00:00,  1.45it/s]\n",
            "                 Class     Images  Instances      Box(P          R      mAP50  mAP50-95): 100%|██████████| 3/3 [00:03<00:00,  1.08s/it]"
          ]
        },
        {
          "name": "stdout",
          "output_type": "stream",
          "text": [
            "                   all        182        185      0.982      0.871      0.944      0.643\n"
          ]
        },
        {
          "name": "stderr",
          "output_type": "stream",
          "text": [
            "\n"
          ]
        },
        {
          "name": "stdout",
          "output_type": "stream",
          "text": [
            "\n",
            "      Epoch    GPU_mem   box_loss   cls_loss   dfl_loss  Instances       Size\n"
          ]
        },
        {
          "name": "stderr",
          "output_type": "stream",
          "text": [
            "      5/200      4.32G      1.148      1.109      1.048         56        640: 100%|██████████| 20/20 [00:13<00:00,  1.51it/s]\n",
            "                 Class     Images  Instances      Box(P          R      mAP50  mAP50-95): 100%|██████████| 3/3 [00:02<00:00,  1.04it/s]"
          ]
        },
        {
          "name": "stdout",
          "output_type": "stream",
          "text": [
            "                   all        182        185      0.919      0.957      0.952      0.663\n"
          ]
        },
        {
          "name": "stderr",
          "output_type": "stream",
          "text": [
            "\n"
          ]
        },
        {
          "name": "stdout",
          "output_type": "stream",
          "text": [
            "\n",
            "      Epoch    GPU_mem   box_loss   cls_loss   dfl_loss  Instances       Size\n"
          ]
        },
        {
          "name": "stderr",
          "output_type": "stream",
          "text": [
            "      6/200      4.32G      1.138      1.037      1.047         62        640: 100%|██████████| 20/20 [00:13<00:00,  1.45it/s]\n",
            "                 Class     Images  Instances      Box(P          R      mAP50  mAP50-95): 100%|██████████| 3/3 [00:02<00:00,  1.25it/s]"
          ]
        },
        {
          "name": "stdout",
          "output_type": "stream",
          "text": [
            "                   all        182        185      0.944      0.897      0.951       0.59\n"
          ]
        },
        {
          "name": "stderr",
          "output_type": "stream",
          "text": [
            "\n"
          ]
        },
        {
          "name": "stdout",
          "output_type": "stream",
          "text": [
            "\n",
            "      Epoch    GPU_mem   box_loss   cls_loss   dfl_loss  Instances       Size\n"
          ]
        },
        {
          "name": "stderr",
          "output_type": "stream",
          "text": [
            "      7/200      4.32G      1.151     0.9589      1.088         46        640: 100%|██████████| 20/20 [00:13<00:00,  1.48it/s]\n",
            "                 Class     Images  Instances      Box(P          R      mAP50  mAP50-95): 100%|██████████| 3/3 [00:02<00:00,  1.15it/s]"
          ]
        },
        {
          "name": "stdout",
          "output_type": "stream",
          "text": [
            "                   all        182        185      0.961      0.924      0.966      0.637\n"
          ]
        },
        {
          "name": "stderr",
          "output_type": "stream",
          "text": [
            "\n"
          ]
        },
        {
          "name": "stdout",
          "output_type": "stream",
          "text": [
            "\n",
            "      Epoch    GPU_mem   box_loss   cls_loss   dfl_loss  Instances       Size\n"
          ]
        },
        {
          "name": "stderr",
          "output_type": "stream",
          "text": [
            "      8/200      4.32G      1.132     0.8696      1.062         53        640: 100%|██████████| 20/20 [00:13<00:00,  1.47it/s]\n",
            "                 Class     Images  Instances      Box(P          R      mAP50  mAP50-95): 100%|██████████| 3/3 [00:02<00:00,  1.09it/s]"
          ]
        },
        {
          "name": "stdout",
          "output_type": "stream",
          "text": [
            "                   all        182        185      0.948      0.854      0.925      0.594\n"
          ]
        },
        {
          "name": "stderr",
          "output_type": "stream",
          "text": [
            "\n"
          ]
        },
        {
          "name": "stdout",
          "output_type": "stream",
          "text": [
            "\n",
            "      Epoch    GPU_mem   box_loss   cls_loss   dfl_loss  Instances       Size\n"
          ]
        },
        {
          "name": "stderr",
          "output_type": "stream",
          "text": [
            "      9/200      4.32G        1.1     0.8212      1.055         53        640: 100%|██████████| 20/20 [00:13<00:00,  1.47it/s]\n",
            "                 Class     Images  Instances      Box(P          R      mAP50  mAP50-95): 100%|██████████| 3/3 [00:02<00:00,  1.21it/s]"
          ]
        },
        {
          "name": "stdout",
          "output_type": "stream",
          "text": [
            "                   all        182        185       0.95      0.931      0.968      0.678\n"
          ]
        },
        {
          "name": "stderr",
          "output_type": "stream",
          "text": [
            "\n"
          ]
        },
        {
          "name": "stdout",
          "output_type": "stream",
          "text": [
            "\n",
            "      Epoch    GPU_mem   box_loss   cls_loss   dfl_loss  Instances       Size\n"
          ]
        },
        {
          "name": "stderr",
          "output_type": "stream",
          "text": [
            "     10/200      4.32G      1.092     0.7728      1.055         42        640: 100%|██████████| 20/20 [00:13<00:00,  1.49it/s]\n",
            "                 Class     Images  Instances      Box(P          R      mAP50  mAP50-95): 100%|██████████| 3/3 [00:02<00:00,  1.14it/s]"
          ]
        },
        {
          "name": "stdout",
          "output_type": "stream",
          "text": [
            "                   all        182        185       0.95      0.941      0.955      0.673\n"
          ]
        },
        {
          "name": "stderr",
          "output_type": "stream",
          "text": [
            "\n"
          ]
        },
        {
          "name": "stdout",
          "output_type": "stream",
          "text": [
            "\n",
            "      Epoch    GPU_mem   box_loss   cls_loss   dfl_loss  Instances       Size\n"
          ]
        },
        {
          "name": "stderr",
          "output_type": "stream",
          "text": [
            "     11/200      4.32G      1.084     0.7654      1.053         43        640: 100%|██████████| 20/20 [00:12<00:00,  1.56it/s]\n",
            "                 Class     Images  Instances      Box(P          R      mAP50  mAP50-95): 100%|██████████| 3/3 [00:03<00:00,  1.09s/it]"
          ]
        },
        {
          "name": "stdout",
          "output_type": "stream",
          "text": [
            "                   all        182        185      0.974      0.941      0.967      0.649\n"
          ]
        },
        {
          "name": "stderr",
          "output_type": "stream",
          "text": [
            "\n"
          ]
        },
        {
          "name": "stdout",
          "output_type": "stream",
          "text": [
            "\n",
            "      Epoch    GPU_mem   box_loss   cls_loss   dfl_loss  Instances       Size\n"
          ]
        },
        {
          "name": "stderr",
          "output_type": "stream",
          "text": [
            "     12/200      4.32G      1.091     0.7563      1.062         45        640: 100%|██████████| 20/20 [00:12<00:00,  1.62it/s]\n",
            "                 Class     Images  Instances      Box(P          R      mAP50  mAP50-95): 100%|██████████| 3/3 [00:03<00:00,  1.20s/it]"
          ]
        },
        {
          "name": "stdout",
          "output_type": "stream",
          "text": [
            "                   all        182        185       0.99      0.962      0.978      0.674\n"
          ]
        },
        {
          "name": "stderr",
          "output_type": "stream",
          "text": [
            "\n"
          ]
        },
        {
          "name": "stdout",
          "output_type": "stream",
          "text": [
            "\n",
            "      Epoch    GPU_mem   box_loss   cls_loss   dfl_loss  Instances       Size\n"
          ]
        },
        {
          "name": "stderr",
          "output_type": "stream",
          "text": [
            "     13/200      4.32G      1.058     0.7147      1.042         58        640: 100%|██████████| 20/20 [00:11<00:00,  1.69it/s]\n",
            "                 Class     Images  Instances      Box(P          R      mAP50  mAP50-95): 100%|██████████| 3/3 [00:04<00:00,  1.60s/it]"
          ]
        },
        {
          "name": "stdout",
          "output_type": "stream",
          "text": [
            "                   all        182        185      0.945      0.921      0.962      0.665\n"
          ]
        },
        {
          "name": "stderr",
          "output_type": "stream",
          "text": [
            "\n"
          ]
        },
        {
          "name": "stdout",
          "output_type": "stream",
          "text": [
            "\n",
            "      Epoch    GPU_mem   box_loss   cls_loss   dfl_loss  Instances       Size\n"
          ]
        },
        {
          "name": "stderr",
          "output_type": "stream",
          "text": [
            "     14/200      4.32G      1.045     0.6845      1.026         53        640: 100%|██████████| 20/20 [00:11<00:00,  1.74it/s]\n",
            "                 Class     Images  Instances      Box(P          R      mAP50  mAP50-95): 100%|██████████| 3/3 [00:04<00:00,  1.55s/it]"
          ]
        },
        {
          "name": "stdout",
          "output_type": "stream",
          "text": [
            "                   all        182        185      0.961      0.938      0.958      0.682\n"
          ]
        },
        {
          "name": "stderr",
          "output_type": "stream",
          "text": [
            "\n"
          ]
        },
        {
          "name": "stdout",
          "output_type": "stream",
          "text": [
            "\n",
            "      Epoch    GPU_mem   box_loss   cls_loss   dfl_loss  Instances       Size\n"
          ]
        },
        {
          "name": "stderr",
          "output_type": "stream",
          "text": [
            "     15/200      4.32G      1.042     0.6577      1.024         53        640: 100%|██████████| 20/20 [00:11<00:00,  1.80it/s]\n",
            "                 Class     Images  Instances      Box(P          R      mAP50  mAP50-95): 100%|██████████| 3/3 [00:03<00:00,  1.14s/it]"
          ]
        },
        {
          "name": "stdout",
          "output_type": "stream",
          "text": [
            "                   all        182        185      0.991      0.951       0.96      0.687\n"
          ]
        },
        {
          "name": "stderr",
          "output_type": "stream",
          "text": [
            "\n"
          ]
        },
        {
          "name": "stdout",
          "output_type": "stream",
          "text": [
            "\n",
            "      Epoch    GPU_mem   box_loss   cls_loss   dfl_loss  Instances       Size\n"
          ]
        },
        {
          "name": "stderr",
          "output_type": "stream",
          "text": [
            "     16/200      4.32G      1.033     0.6562      1.025         50        640: 100%|██████████| 20/20 [00:10<00:00,  1.91it/s]\n",
            "                 Class     Images  Instances      Box(P          R      mAP50  mAP50-95): 100%|██████████| 3/3 [00:04<00:00,  1.34s/it]"
          ]
        },
        {
          "name": "stdout",
          "output_type": "stream",
          "text": [
            "                   all        182        185      0.978       0.93      0.973      0.664\n"
          ]
        },
        {
          "name": "stderr",
          "output_type": "stream",
          "text": [
            "\n"
          ]
        },
        {
          "name": "stdout",
          "output_type": "stream",
          "text": [
            "\n",
            "      Epoch    GPU_mem   box_loss   cls_loss   dfl_loss  Instances       Size\n"
          ]
        },
        {
          "name": "stderr",
          "output_type": "stream",
          "text": [
            "     17/200      4.32G     0.9985     0.6354      1.017         48        640: 100%|██████████| 20/20 [00:10<00:00,  1.92it/s]\n",
            "                 Class     Images  Instances      Box(P          R      mAP50  mAP50-95): 100%|██████████| 3/3 [00:03<00:00,  1.08s/it]"
          ]
        },
        {
          "name": "stdout",
          "output_type": "stream",
          "text": [
            "                   all        182        185      0.999      0.946      0.955      0.653\n"
          ]
        },
        {
          "name": "stderr",
          "output_type": "stream",
          "text": [
            "\n"
          ]
        },
        {
          "name": "stdout",
          "output_type": "stream",
          "text": [
            "\n",
            "      Epoch    GPU_mem   box_loss   cls_loss   dfl_loss  Instances       Size\n"
          ]
        },
        {
          "name": "stderr",
          "output_type": "stream",
          "text": [
            "     18/200      4.32G      1.007     0.6296      1.016         53        640: 100%|██████████| 20/20 [00:10<00:00,  1.89it/s]\n",
            "                 Class     Images  Instances      Box(P          R      mAP50  mAP50-95): 100%|██████████| 3/3 [00:02<00:00,  1.01it/s]"
          ]
        },
        {
          "name": "stdout",
          "output_type": "stream",
          "text": [
            "                   all        182        185      0.989      0.935      0.963      0.683\n"
          ]
        },
        {
          "name": "stderr",
          "output_type": "stream",
          "text": [
            "\n"
          ]
        },
        {
          "name": "stdout",
          "output_type": "stream",
          "text": [
            "\n",
            "      Epoch    GPU_mem   box_loss   cls_loss   dfl_loss  Instances       Size\n"
          ]
        },
        {
          "name": "stderr",
          "output_type": "stream",
          "text": [
            "     19/200      4.32G      1.023     0.6424       1.03         54        640: 100%|██████████| 20/20 [00:11<00:00,  1.70it/s]\n",
            "                 Class     Images  Instances      Box(P          R      mAP50  mAP50-95): 100%|██████████| 3/3 [00:03<00:00,  1.05s/it]"
          ]
        },
        {
          "name": "stdout",
          "output_type": "stream",
          "text": [
            "                   all        182        185      0.989      0.953       0.98      0.704\n"
          ]
        },
        {
          "name": "stderr",
          "output_type": "stream",
          "text": [
            "\n"
          ]
        },
        {
          "name": "stdout",
          "output_type": "stream",
          "text": [
            "\n",
            "      Epoch    GPU_mem   box_loss   cls_loss   dfl_loss  Instances       Size\n"
          ]
        },
        {
          "name": "stderr",
          "output_type": "stream",
          "text": [
            "     20/200      4.32G      1.044     0.6261       1.03         48        640: 100%|██████████| 20/20 [00:12<00:00,  1.65it/s]\n",
            "                 Class     Images  Instances      Box(P          R      mAP50  mAP50-95): 100%|██████████| 3/3 [00:02<00:00,  1.05it/s]"
          ]
        },
        {
          "name": "stdout",
          "output_type": "stream",
          "text": [
            "                   all        182        185      0.977      0.919      0.969      0.668\n"
          ]
        },
        {
          "name": "stderr",
          "output_type": "stream",
          "text": [
            "\n"
          ]
        },
        {
          "name": "stdout",
          "output_type": "stream",
          "text": [
            "\n",
            "      Epoch    GPU_mem   box_loss   cls_loss   dfl_loss  Instances       Size\n"
          ]
        },
        {
          "name": "stderr",
          "output_type": "stream",
          "text": [
            "     21/200      4.32G      1.061     0.6675      1.047         53        640: 100%|██████████| 20/20 [00:12<00:00,  1.58it/s]\n",
            "                 Class     Images  Instances      Box(P          R      mAP50  mAP50-95): 100%|██████████| 3/3 [00:02<00:00,  1.24it/s]"
          ]
        },
        {
          "name": "stdout",
          "output_type": "stream",
          "text": [
            "                   all        182        185      0.984      0.957       0.98      0.706\n"
          ]
        },
        {
          "name": "stderr",
          "output_type": "stream",
          "text": [
            "\n"
          ]
        },
        {
          "name": "stdout",
          "output_type": "stream",
          "text": [
            "\n",
            "      Epoch    GPU_mem   box_loss   cls_loss   dfl_loss  Instances       Size\n"
          ]
        },
        {
          "name": "stderr",
          "output_type": "stream",
          "text": [
            "     22/200      4.32G      1.011     0.6066      1.015         44        640: 100%|██████████| 20/20 [00:12<00:00,  1.56it/s]\n",
            "                 Class     Images  Instances      Box(P          R      mAP50  mAP50-95): 100%|██████████| 3/3 [00:02<00:00,  1.30it/s]"
          ]
        },
        {
          "name": "stdout",
          "output_type": "stream",
          "text": [
            "                   all        182        185      0.978      0.962      0.975      0.681\n"
          ]
        },
        {
          "name": "stderr",
          "output_type": "stream",
          "text": [
            "\n"
          ]
        },
        {
          "name": "stdout",
          "output_type": "stream",
          "text": [
            "\n",
            "      Epoch    GPU_mem   box_loss   cls_loss   dfl_loss  Instances       Size\n"
          ]
        },
        {
          "name": "stderr",
          "output_type": "stream",
          "text": [
            "     23/200      4.32G     0.9699     0.5777      1.009         52        640: 100%|██████████| 20/20 [00:13<00:00,  1.49it/s]\n",
            "                 Class     Images  Instances      Box(P          R      mAP50  mAP50-95): 100%|██████████| 3/3 [00:02<00:00,  1.14it/s]"
          ]
        },
        {
          "name": "stdout",
          "output_type": "stream",
          "text": [
            "                   all        182        185       0.96      0.957      0.974      0.702\n"
          ]
        },
        {
          "name": "stderr",
          "output_type": "stream",
          "text": [
            "\n"
          ]
        },
        {
          "name": "stdout",
          "output_type": "stream",
          "text": [
            "\n",
            "      Epoch    GPU_mem   box_loss   cls_loss   dfl_loss  Instances       Size\n"
          ]
        },
        {
          "name": "stderr",
          "output_type": "stream",
          "text": [
            "     24/200      4.32G     0.9687     0.5753      1.002         40        640: 100%|██████████| 20/20 [00:13<00:00,  1.49it/s]\n",
            "                 Class     Images  Instances      Box(P          R      mAP50  mAP50-95): 100%|██████████| 3/3 [00:02<00:00,  1.27it/s]"
          ]
        },
        {
          "name": "stdout",
          "output_type": "stream",
          "text": [
            "                   all        182        185      0.964      0.973       0.98      0.705\n"
          ]
        },
        {
          "name": "stderr",
          "output_type": "stream",
          "text": [
            "\n"
          ]
        },
        {
          "name": "stdout",
          "output_type": "stream",
          "text": [
            "\n",
            "      Epoch    GPU_mem   box_loss   cls_loss   dfl_loss  Instances       Size\n"
          ]
        },
        {
          "name": "stderr",
          "output_type": "stream",
          "text": [
            "     25/200      4.32G      1.025     0.6259      1.042         57        640: 100%|██████████| 20/20 [00:13<00:00,  1.49it/s]\n",
            "                 Class     Images  Instances      Box(P          R      mAP50  mAP50-95): 100%|██████████| 3/3 [00:02<00:00,  1.25it/s]"
          ]
        },
        {
          "name": "stdout",
          "output_type": "stream",
          "text": [
            "                   all        182        185      0.911      0.945      0.965      0.648\n"
          ]
        },
        {
          "name": "stderr",
          "output_type": "stream",
          "text": [
            "\n"
          ]
        },
        {
          "name": "stdout",
          "output_type": "stream",
          "text": [
            "\n",
            "      Epoch    GPU_mem   box_loss   cls_loss   dfl_loss  Instances       Size\n"
          ]
        },
        {
          "name": "stderr",
          "output_type": "stream",
          "text": [
            "     26/200      4.32G       0.99     0.5969      1.021         56        640: 100%|██████████| 20/20 [00:13<00:00,  1.53it/s]\n",
            "                 Class     Images  Instances      Box(P          R      mAP50  mAP50-95): 100%|██████████| 3/3 [00:02<00:00,  1.05it/s]"
          ]
        },
        {
          "name": "stdout",
          "output_type": "stream",
          "text": [
            "                   all        182        185      0.963      0.951      0.957      0.638\n"
          ]
        },
        {
          "name": "stderr",
          "output_type": "stream",
          "text": [
            "\n"
          ]
        },
        {
          "name": "stdout",
          "output_type": "stream",
          "text": [
            "\n",
            "      Epoch    GPU_mem   box_loss   cls_loss   dfl_loss  Instances       Size\n"
          ]
        },
        {
          "name": "stderr",
          "output_type": "stream",
          "text": [
            "     27/200      4.32G     0.9954     0.6113      1.029         61        640: 100%|██████████| 20/20 [00:13<00:00,  1.48it/s]\n",
            "                 Class     Images  Instances      Box(P          R      mAP50  mAP50-95): 100%|██████████| 3/3 [00:02<00:00,  1.23it/s]"
          ]
        },
        {
          "name": "stdout",
          "output_type": "stream",
          "text": [
            "                   all        182        185      0.988      0.941      0.976      0.683\n"
          ]
        },
        {
          "name": "stderr",
          "output_type": "stream",
          "text": [
            "\n"
          ]
        },
        {
          "name": "stdout",
          "output_type": "stream",
          "text": [
            "\n",
            "      Epoch    GPU_mem   box_loss   cls_loss   dfl_loss  Instances       Size\n"
          ]
        },
        {
          "name": "stderr",
          "output_type": "stream",
          "text": [
            "     28/200      4.32G     0.9551     0.5894      1.001         49        640: 100%|██████████| 20/20 [00:13<00:00,  1.44it/s]\n",
            "                 Class     Images  Instances      Box(P          R      mAP50  mAP50-95): 100%|██████████| 3/3 [00:02<00:00,  1.18it/s]"
          ]
        },
        {
          "name": "stdout",
          "output_type": "stream",
          "text": [
            "                   all        182        185      0.995      0.946      0.977      0.704\n"
          ]
        },
        {
          "name": "stderr",
          "output_type": "stream",
          "text": [
            "\n"
          ]
        },
        {
          "name": "stdout",
          "output_type": "stream",
          "text": [
            "\n",
            "      Epoch    GPU_mem   box_loss   cls_loss   dfl_loss  Instances       Size\n"
          ]
        },
        {
          "name": "stderr",
          "output_type": "stream",
          "text": [
            "     29/200      4.32G     0.9861     0.5796      1.014         57        640: 100%|██████████| 20/20 [00:13<00:00,  1.51it/s]\n",
            "                 Class     Images  Instances      Box(P          R      mAP50  mAP50-95): 100%|██████████| 3/3 [00:02<00:00,  1.28it/s]"
          ]
        },
        {
          "name": "stdout",
          "output_type": "stream",
          "text": [
            "                   all        182        185      0.957      0.956       0.97      0.706\n"
          ]
        },
        {
          "name": "stderr",
          "output_type": "stream",
          "text": [
            "\n"
          ]
        },
        {
          "name": "stdout",
          "output_type": "stream",
          "text": [
            "\n",
            "      Epoch    GPU_mem   box_loss   cls_loss   dfl_loss  Instances       Size\n"
          ]
        },
        {
          "name": "stderr",
          "output_type": "stream",
          "text": [
            "     30/200      4.32G     0.9551     0.5828      1.007         51        640: 100%|██████████| 20/20 [00:13<00:00,  1.50it/s]\n",
            "                 Class     Images  Instances      Box(P          R      mAP50  mAP50-95): 100%|██████████| 3/3 [00:02<00:00,  1.24it/s]"
          ]
        },
        {
          "name": "stdout",
          "output_type": "stream",
          "text": [
            "                   all        182        185       0.96      0.951      0.967      0.698\n"
          ]
        },
        {
          "name": "stderr",
          "output_type": "stream",
          "text": [
            "\n"
          ]
        },
        {
          "name": "stdout",
          "output_type": "stream",
          "text": [
            "\n",
            "      Epoch    GPU_mem   box_loss   cls_loss   dfl_loss  Instances       Size\n"
          ]
        },
        {
          "name": "stderr",
          "output_type": "stream",
          "text": [
            "     31/200      4.32G     0.9981     0.5939      1.014         59        640: 100%|██████████| 20/20 [00:13<00:00,  1.46it/s]\n",
            "                 Class     Images  Instances      Box(P          R      mAP50  mAP50-95): 100%|██████████| 3/3 [00:02<00:00,  1.21it/s]"
          ]
        },
        {
          "name": "stdout",
          "output_type": "stream",
          "text": [
            "                   all        182        185      0.968      0.972      0.978      0.695\n"
          ]
        },
        {
          "name": "stderr",
          "output_type": "stream",
          "text": [
            "\n"
          ]
        },
        {
          "name": "stdout",
          "output_type": "stream",
          "text": [
            "\n",
            "      Epoch    GPU_mem   box_loss   cls_loss   dfl_loss  Instances       Size\n"
          ]
        },
        {
          "name": "stderr",
          "output_type": "stream",
          "text": [
            "     32/200      4.32G     0.9425     0.5514     0.9927         53        640: 100%|██████████| 20/20 [00:13<00:00,  1.50it/s]\n",
            "                 Class     Images  Instances      Box(P          R      mAP50  mAP50-95): 100%|██████████| 3/3 [00:02<00:00,  1.28it/s]"
          ]
        },
        {
          "name": "stdout",
          "output_type": "stream",
          "text": [
            "                   all        182        185      0.965      0.946      0.966      0.678\n"
          ]
        },
        {
          "name": "stderr",
          "output_type": "stream",
          "text": [
            "\n"
          ]
        },
        {
          "name": "stdout",
          "output_type": "stream",
          "text": [
            "\n",
            "      Epoch    GPU_mem   box_loss   cls_loss   dfl_loss  Instances       Size\n"
          ]
        },
        {
          "name": "stderr",
          "output_type": "stream",
          "text": [
            "     33/200      4.32G     0.9555     0.5665      1.001         52        640: 100%|██████████| 20/20 [00:13<00:00,  1.46it/s]\n",
            "                 Class     Images  Instances      Box(P          R      mAP50  mAP50-95): 100%|██████████| 3/3 [00:02<00:00,  1.13it/s]"
          ]
        },
        {
          "name": "stdout",
          "output_type": "stream",
          "text": [
            "                   all        182        185      0.971      0.951      0.977      0.722\n"
          ]
        },
        {
          "name": "stderr",
          "output_type": "stream",
          "text": [
            "\n"
          ]
        },
        {
          "name": "stdout",
          "output_type": "stream",
          "text": [
            "\n",
            "      Epoch    GPU_mem   box_loss   cls_loss   dfl_loss  Instances       Size\n"
          ]
        },
        {
          "name": "stderr",
          "output_type": "stream",
          "text": [
            "     34/200      4.32G     0.9294     0.5601     0.9969         49        640: 100%|██████████| 20/20 [00:13<00:00,  1.53it/s]\n",
            "                 Class     Images  Instances      Box(P          R      mAP50  mAP50-95): 100%|██████████| 3/3 [00:02<00:00,  1.04it/s]"
          ]
        },
        {
          "name": "stdout",
          "output_type": "stream",
          "text": [
            "                   all        182        185       0.97      0.957       0.97      0.721\n"
          ]
        },
        {
          "name": "stderr",
          "output_type": "stream",
          "text": [
            "\n"
          ]
        },
        {
          "name": "stdout",
          "output_type": "stream",
          "text": [
            "\n",
            "      Epoch    GPU_mem   box_loss   cls_loss   dfl_loss  Instances       Size\n"
          ]
        },
        {
          "name": "stderr",
          "output_type": "stream",
          "text": [
            "     35/200      4.32G     0.9575     0.5659      1.007         53        640: 100%|██████████| 20/20 [00:11<00:00,  1.67it/s]\n",
            "                 Class     Images  Instances      Box(P          R      mAP50  mAP50-95): 100%|██████████| 3/3 [00:02<00:00,  1.34it/s]"
          ]
        },
        {
          "name": "stdout",
          "output_type": "stream",
          "text": [
            "                   all        182        185      0.989      0.957       0.97      0.686\n"
          ]
        },
        {
          "name": "stderr",
          "output_type": "stream",
          "text": [
            "\n"
          ]
        },
        {
          "name": "stdout",
          "output_type": "stream",
          "text": [
            "\n",
            "      Epoch    GPU_mem   box_loss   cls_loss   dfl_loss  Instances       Size\n"
          ]
        },
        {
          "name": "stderr",
          "output_type": "stream",
          "text": [
            "     36/200      4.32G     0.9627     0.5597      1.002         54        640: 100%|██████████| 20/20 [00:12<00:00,  1.59it/s]\n",
            "                 Class     Images  Instances      Box(P          R      mAP50  mAP50-95): 100%|██████████| 3/3 [00:02<00:00,  1.26it/s]"
          ]
        },
        {
          "name": "stdout",
          "output_type": "stream",
          "text": [
            "                   all        182        185      0.993      0.941       0.96      0.687\n"
          ]
        },
        {
          "name": "stderr",
          "output_type": "stream",
          "text": [
            "\n"
          ]
        },
        {
          "name": "stdout",
          "output_type": "stream",
          "text": [
            "\n",
            "      Epoch    GPU_mem   box_loss   cls_loss   dfl_loss  Instances       Size\n"
          ]
        },
        {
          "name": "stderr",
          "output_type": "stream",
          "text": [
            "     37/200      4.32G     0.9301     0.5517     0.9906         45        640: 100%|██████████| 20/20 [00:12<00:00,  1.58it/s]\n",
            "                 Class     Images  Instances      Box(P          R      mAP50  mAP50-95): 100%|██████████| 3/3 [00:03<00:00,  1.15s/it]"
          ]
        },
        {
          "name": "stdout",
          "output_type": "stream",
          "text": [
            "                   all        182        185      0.983      0.956       0.98      0.688\n"
          ]
        },
        {
          "name": "stderr",
          "output_type": "stream",
          "text": [
            "\n"
          ]
        },
        {
          "name": "stdout",
          "output_type": "stream",
          "text": [
            "\n",
            "      Epoch    GPU_mem   box_loss   cls_loss   dfl_loss  Instances       Size\n"
          ]
        },
        {
          "name": "stderr",
          "output_type": "stream",
          "text": [
            "     38/200      4.32G     0.9319     0.5634      1.014         56        640: 100%|██████████| 20/20 [00:11<00:00,  1.75it/s]\n",
            "                 Class     Images  Instances      Box(P          R      mAP50  mAP50-95): 100%|██████████| 3/3 [00:04<00:00,  1.58s/it]"
          ]
        },
        {
          "name": "stdout",
          "output_type": "stream",
          "text": [
            "                   all        182        185      0.983      0.955       0.98      0.741\n"
          ]
        },
        {
          "name": "stderr",
          "output_type": "stream",
          "text": [
            "\n"
          ]
        },
        {
          "name": "stdout",
          "output_type": "stream",
          "text": [
            "\n",
            "      Epoch    GPU_mem   box_loss   cls_loss   dfl_loss  Instances       Size\n"
          ]
        },
        {
          "name": "stderr",
          "output_type": "stream",
          "text": [
            "     39/200      4.32G     0.9243     0.5412          1         52        640: 100%|██████████| 20/20 [00:11<00:00,  1.78it/s]\n",
            "                 Class     Images  Instances      Box(P          R      mAP50  mAP50-95): 100%|██████████| 3/3 [00:04<00:00,  1.43s/it]"
          ]
        },
        {
          "name": "stdout",
          "output_type": "stream",
          "text": [
            "                   all        182        185      0.977      0.946      0.971      0.728\n"
          ]
        },
        {
          "name": "stderr",
          "output_type": "stream",
          "text": [
            "\n"
          ]
        },
        {
          "name": "stdout",
          "output_type": "stream",
          "text": [
            "\n",
            "      Epoch    GPU_mem   box_loss   cls_loss   dfl_loss  Instances       Size\n"
          ]
        },
        {
          "name": "stderr",
          "output_type": "stream",
          "text": [
            "     40/200      4.32G      0.923     0.5402      1.001         47        640: 100%|██████████| 20/20 [00:10<00:00,  1.95it/s]\n",
            "                 Class     Images  Instances      Box(P          R      mAP50  mAP50-95): 100%|██████████| 3/3 [00:04<00:00,  1.38s/it]"
          ]
        },
        {
          "name": "stdout",
          "output_type": "stream",
          "text": [
            "                   all        182        185      0.978      0.946      0.973      0.684\n"
          ]
        },
        {
          "name": "stderr",
          "output_type": "stream",
          "text": [
            "\n"
          ]
        },
        {
          "name": "stdout",
          "output_type": "stream",
          "text": [
            "\n",
            "      Epoch    GPU_mem   box_loss   cls_loss   dfl_loss  Instances       Size\n"
          ]
        },
        {
          "name": "stderr",
          "output_type": "stream",
          "text": [
            "     41/200      4.32G     0.9387     0.5644      1.002         53        640: 100%|██████████| 20/20 [00:10<00:00,  1.94it/s]\n",
            "                 Class     Images  Instances      Box(P          R      mAP50  mAP50-95): 100%|██████████| 3/3 [00:04<00:00,  1.39s/it]"
          ]
        },
        {
          "name": "stdout",
          "output_type": "stream",
          "text": [
            "                   all        182        185      0.987      0.941      0.975      0.707\n"
          ]
        },
        {
          "name": "stderr",
          "output_type": "stream",
          "text": [
            "\n"
          ]
        },
        {
          "name": "stdout",
          "output_type": "stream",
          "text": [
            "\n",
            "      Epoch    GPU_mem   box_loss   cls_loss   dfl_loss  Instances       Size\n"
          ]
        },
        {
          "name": "stderr",
          "output_type": "stream",
          "text": [
            "     42/200      4.32G     0.9194     0.5353     0.9835         55        640: 100%|██████████| 20/20 [00:10<00:00,  1.90it/s]\n",
            "                 Class     Images  Instances      Box(P          R      mAP50  mAP50-95): 100%|██████████| 3/3 [00:03<00:00,  1.15s/it]"
          ]
        },
        {
          "name": "stdout",
          "output_type": "stream",
          "text": [
            "                   all        182        185      0.995      0.935      0.977      0.698\n"
          ]
        },
        {
          "name": "stderr",
          "output_type": "stream",
          "text": [
            "\n"
          ]
        },
        {
          "name": "stdout",
          "output_type": "stream",
          "text": [
            "\n",
            "      Epoch    GPU_mem   box_loss   cls_loss   dfl_loss  Instances       Size\n"
          ]
        },
        {
          "name": "stderr",
          "output_type": "stream",
          "text": [
            "     43/200      4.32G     0.9499     0.5464     0.9957         60        640: 100%|██████████| 20/20 [00:11<00:00,  1.71it/s]\n",
            "                 Class     Images  Instances      Box(P          R      mAP50  mAP50-95): 100%|██████████| 3/3 [00:03<00:00,  1.14s/it]"
          ]
        },
        {
          "name": "stdout",
          "output_type": "stream",
          "text": [
            "                   all        182        185      0.963      0.971      0.983      0.747\n"
          ]
        },
        {
          "name": "stderr",
          "output_type": "stream",
          "text": [
            "\n"
          ]
        },
        {
          "name": "stdout",
          "output_type": "stream",
          "text": [
            "\n",
            "      Epoch    GPU_mem   box_loss   cls_loss   dfl_loss  Instances       Size\n"
          ]
        },
        {
          "name": "stderr",
          "output_type": "stream",
          "text": [
            "     44/200      4.32G     0.9286     0.5376     0.9926         44        640: 100%|██████████| 20/20 [00:11<00:00,  1.69it/s]\n",
            "                 Class     Images  Instances      Box(P          R      mAP50  mAP50-95): 100%|██████████| 3/3 [00:02<00:00,  1.04it/s]"
          ]
        },
        {
          "name": "stdout",
          "output_type": "stream",
          "text": [
            "                   all        182        185      0.983      0.953      0.974      0.725\n"
          ]
        },
        {
          "name": "stderr",
          "output_type": "stream",
          "text": [
            "\n"
          ]
        },
        {
          "name": "stdout",
          "output_type": "stream",
          "text": [
            "\n",
            "      Epoch    GPU_mem   box_loss   cls_loss   dfl_loss  Instances       Size\n"
          ]
        },
        {
          "name": "stderr",
          "output_type": "stream",
          "text": [
            "     45/200      4.32G     0.9157     0.5346     0.9967         55        640: 100%|██████████| 20/20 [00:12<00:00,  1.60it/s]\n",
            "                 Class     Images  Instances      Box(P          R      mAP50  mAP50-95): 100%|██████████| 3/3 [00:02<00:00,  1.29it/s]"
          ]
        },
        {
          "name": "stdout",
          "output_type": "stream",
          "text": [
            "                   all        182        185      0.983      0.937      0.963      0.688\n"
          ]
        },
        {
          "name": "stderr",
          "output_type": "stream",
          "text": [
            "\n"
          ]
        },
        {
          "name": "stdout",
          "output_type": "stream",
          "text": [
            "\n",
            "      Epoch    GPU_mem   box_loss   cls_loss   dfl_loss  Instances       Size\n"
          ]
        },
        {
          "name": "stderr",
          "output_type": "stream",
          "text": [
            "     46/200      4.32G     0.9234     0.5338      1.004         51        640: 100%|██████████| 20/20 [00:12<00:00,  1.58it/s]\n",
            "                 Class     Images  Instances      Box(P          R      mAP50  mAP50-95): 100%|██████████| 3/3 [00:02<00:00,  1.21it/s]"
          ]
        },
        {
          "name": "stdout",
          "output_type": "stream",
          "text": [
            "                   all        182        185      0.976      0.962      0.971      0.727\n"
          ]
        },
        {
          "name": "stderr",
          "output_type": "stream",
          "text": [
            "\n"
          ]
        },
        {
          "name": "stdout",
          "output_type": "stream",
          "text": [
            "\n",
            "      Epoch    GPU_mem   box_loss   cls_loss   dfl_loss  Instances       Size\n"
          ]
        },
        {
          "name": "stderr",
          "output_type": "stream",
          "text": [
            "     47/200      4.32G      0.899     0.5262     0.9918         57        640: 100%|██████████| 20/20 [00:13<00:00,  1.51it/s]\n",
            "                 Class     Images  Instances      Box(P          R      mAP50  mAP50-95): 100%|██████████| 3/3 [00:02<00:00,  1.23it/s]"
          ]
        },
        {
          "name": "stdout",
          "output_type": "stream",
          "text": [
            "                   all        182        185      0.982      0.957      0.982      0.717\n"
          ]
        },
        {
          "name": "stderr",
          "output_type": "stream",
          "text": [
            "\n"
          ]
        },
        {
          "name": "stdout",
          "output_type": "stream",
          "text": [
            "\n",
            "      Epoch    GPU_mem   box_loss   cls_loss   dfl_loss  Instances       Size\n"
          ]
        },
        {
          "name": "stderr",
          "output_type": "stream",
          "text": [
            "     48/200      4.32G     0.9063     0.4995     0.9888         47        640: 100%|██████████| 20/20 [00:13<00:00,  1.48it/s]\n",
            "                 Class     Images  Instances      Box(P          R      mAP50  mAP50-95): 100%|██████████| 3/3 [00:02<00:00,  1.25it/s]"
          ]
        },
        {
          "name": "stdout",
          "output_type": "stream",
          "text": [
            "                   all        182        185      0.982      0.962      0.981      0.731\n"
          ]
        },
        {
          "name": "stderr",
          "output_type": "stream",
          "text": [
            "\n"
          ]
        },
        {
          "name": "stdout",
          "output_type": "stream",
          "text": [
            "\n",
            "      Epoch    GPU_mem   box_loss   cls_loss   dfl_loss  Instances       Size\n"
          ]
        },
        {
          "name": "stderr",
          "output_type": "stream",
          "text": [
            "     49/200      4.32G     0.9056     0.5194     0.9881         51        640: 100%|██████████| 20/20 [00:13<00:00,  1.52it/s]\n",
            "                 Class     Images  Instances      Box(P          R      mAP50  mAP50-95): 100%|██████████| 3/3 [00:02<00:00,  1.19it/s]"
          ]
        },
        {
          "name": "stdout",
          "output_type": "stream",
          "text": [
            "                   all        182        185      0.972      0.962      0.982      0.728\n"
          ]
        },
        {
          "name": "stderr",
          "output_type": "stream",
          "text": [
            "\n"
          ]
        },
        {
          "name": "stdout",
          "output_type": "stream",
          "text": [
            "\n",
            "      Epoch    GPU_mem   box_loss   cls_loss   dfl_loss  Instances       Size\n"
          ]
        },
        {
          "name": "stderr",
          "output_type": "stream",
          "text": [
            "     50/200      4.32G     0.9128     0.5178     0.9914         62        640: 100%|██████████| 20/20 [00:13<00:00,  1.47it/s]\n",
            "                 Class     Images  Instances      Box(P          R      mAP50  mAP50-95): 100%|██████████| 3/3 [00:02<00:00,  1.22it/s]"
          ]
        },
        {
          "name": "stdout",
          "output_type": "stream",
          "text": [
            "                   all        182        185      0.982      0.968      0.975      0.731\n"
          ]
        },
        {
          "name": "stderr",
          "output_type": "stream",
          "text": [
            "\n"
          ]
        },
        {
          "name": "stdout",
          "output_type": "stream",
          "text": [
            "\n",
            "      Epoch    GPU_mem   box_loss   cls_loss   dfl_loss  Instances       Size\n"
          ]
        },
        {
          "name": "stderr",
          "output_type": "stream",
          "text": [
            "     51/200      4.32G     0.9073     0.4997      0.985         47        640: 100%|██████████| 20/20 [00:13<00:00,  1.49it/s]\n",
            "                 Class     Images  Instances      Box(P          R      mAP50  mAP50-95): 100%|██████████| 3/3 [00:02<00:00,  1.25it/s]"
          ]
        },
        {
          "name": "stdout",
          "output_type": "stream",
          "text": [
            "                   all        182        185      0.967      0.952      0.979      0.724\n"
          ]
        },
        {
          "name": "stderr",
          "output_type": "stream",
          "text": [
            "\n"
          ]
        },
        {
          "name": "stdout",
          "output_type": "stream",
          "text": [
            "\n",
            "      Epoch    GPU_mem   box_loss   cls_loss   dfl_loss  Instances       Size\n"
          ]
        },
        {
          "name": "stderr",
          "output_type": "stream",
          "text": [
            "     52/200      4.32G     0.8802     0.5047     0.9805         40        640: 100%|██████████| 20/20 [00:13<00:00,  1.46it/s]\n",
            "                 Class     Images  Instances      Box(P          R      mAP50  mAP50-95): 100%|██████████| 3/3 [00:02<00:00,  1.36it/s]"
          ]
        },
        {
          "name": "stdout",
          "output_type": "stream",
          "text": [
            "                   all        182        185       0.98      0.951      0.975      0.735\n"
          ]
        },
        {
          "name": "stderr",
          "output_type": "stream",
          "text": [
            "\n"
          ]
        },
        {
          "name": "stdout",
          "output_type": "stream",
          "text": [
            "\n",
            "      Epoch    GPU_mem   box_loss   cls_loss   dfl_loss  Instances       Size\n"
          ]
        },
        {
          "name": "stderr",
          "output_type": "stream",
          "text": [
            "     53/200      4.32G     0.8856     0.4893     0.9792         60        640: 100%|██████████| 20/20 [00:13<00:00,  1.54it/s]\n",
            "                 Class     Images  Instances      Box(P          R      mAP50  mAP50-95): 100%|██████████| 3/3 [00:02<00:00,  1.29it/s]"
          ]
        },
        {
          "name": "stdout",
          "output_type": "stream",
          "text": [
            "                   all        182        185      0.989      0.956      0.975      0.723\n"
          ]
        },
        {
          "name": "stderr",
          "output_type": "stream",
          "text": [
            "\n"
          ]
        },
        {
          "name": "stdout",
          "output_type": "stream",
          "text": [
            "\n",
            "      Epoch    GPU_mem   box_loss   cls_loss   dfl_loss  Instances       Size\n"
          ]
        },
        {
          "name": "stderr",
          "output_type": "stream",
          "text": [
            "     54/200      4.32G     0.8871     0.4901     0.9917         51        640: 100%|██████████| 20/20 [00:13<00:00,  1.47it/s]\n",
            "                 Class     Images  Instances      Box(P          R      mAP50  mAP50-95): 100%|██████████| 3/3 [00:02<00:00,  1.23it/s]"
          ]
        },
        {
          "name": "stdout",
          "output_type": "stream",
          "text": [
            "                   all        182        185      0.956      0.957       0.98      0.669\n"
          ]
        },
        {
          "name": "stderr",
          "output_type": "stream",
          "text": [
            "\n"
          ]
        },
        {
          "name": "stdout",
          "output_type": "stream",
          "text": [
            "\n",
            "      Epoch    GPU_mem   box_loss   cls_loss   dfl_loss  Instances       Size\n"
          ]
        },
        {
          "name": "stderr",
          "output_type": "stream",
          "text": [
            "     55/200      4.32G     0.9187     0.5122     0.9978         38        640: 100%|██████████| 20/20 [00:13<00:00,  1.49it/s]\n",
            "                 Class     Images  Instances      Box(P          R      mAP50  mAP50-95): 100%|██████████| 3/3 [00:02<00:00,  1.27it/s]"
          ]
        },
        {
          "name": "stdout",
          "output_type": "stream",
          "text": [
            "                   all        182        185      0.974      0.968      0.976      0.723\n"
          ]
        },
        {
          "name": "stderr",
          "output_type": "stream",
          "text": [
            "\n"
          ]
        },
        {
          "name": "stdout",
          "output_type": "stream",
          "text": [
            "\n",
            "      Epoch    GPU_mem   box_loss   cls_loss   dfl_loss  Instances       Size\n"
          ]
        },
        {
          "name": "stderr",
          "output_type": "stream",
          "text": [
            "     56/200      4.32G     0.8844     0.5157     0.9793         46        640: 100%|██████████| 20/20 [00:13<00:00,  1.51it/s]\n",
            "                 Class     Images  Instances      Box(P          R      mAP50  mAP50-95): 100%|██████████| 3/3 [00:02<00:00,  1.39it/s]"
          ]
        },
        {
          "name": "stdout",
          "output_type": "stream",
          "text": [
            "                   all        182        185      0.988      0.968      0.984      0.743\n"
          ]
        },
        {
          "name": "stderr",
          "output_type": "stream",
          "text": [
            "\n"
          ]
        },
        {
          "name": "stdout",
          "output_type": "stream",
          "text": [
            "\n",
            "      Epoch    GPU_mem   box_loss   cls_loss   dfl_loss  Instances       Size\n"
          ]
        },
        {
          "name": "stderr",
          "output_type": "stream",
          "text": [
            "     57/200      4.32G      0.857     0.4798     0.9667         52        640: 100%|██████████| 20/20 [00:13<00:00,  1.53it/s]\n",
            "                 Class     Images  Instances      Box(P          R      mAP50  mAP50-95): 100%|██████████| 3/3 [00:03<00:00,  1.01s/it]"
          ]
        },
        {
          "name": "stdout",
          "output_type": "stream",
          "text": [
            "                   all        182        185          1      0.962      0.986      0.726\n"
          ]
        },
        {
          "name": "stderr",
          "output_type": "stream",
          "text": [
            "\n"
          ]
        },
        {
          "name": "stdout",
          "output_type": "stream",
          "text": [
            "\n",
            "      Epoch    GPU_mem   box_loss   cls_loss   dfl_loss  Instances       Size\n"
          ]
        },
        {
          "name": "stderr",
          "output_type": "stream",
          "text": [
            "     58/200      4.32G     0.8552     0.4837     0.9795         51        640: 100%|██████████| 20/20 [00:12<00:00,  1.63it/s]\n",
            "                 Class     Images  Instances      Box(P          R      mAP50  mAP50-95): 100%|██████████| 3/3 [00:03<00:00,  1.07s/it]"
          ]
        },
        {
          "name": "stdout",
          "output_type": "stream",
          "text": [
            "                   all        182        185      0.992      0.957      0.986      0.738\n"
          ]
        },
        {
          "name": "stderr",
          "output_type": "stream",
          "text": [
            "\n"
          ]
        },
        {
          "name": "stdout",
          "output_type": "stream",
          "text": [
            "\n",
            "      Epoch    GPU_mem   box_loss   cls_loss   dfl_loss  Instances       Size\n"
          ]
        },
        {
          "name": "stderr",
          "output_type": "stream",
          "text": [
            "     59/200      4.32G     0.8309     0.4863     0.9688         53        640: 100%|██████████| 20/20 [00:12<00:00,  1.66it/s]\n",
            "                 Class     Images  Instances      Box(P          R      mAP50  mAP50-95): 100%|██████████| 3/3 [00:03<00:00,  1.12s/it]"
          ]
        },
        {
          "name": "stdout",
          "output_type": "stream",
          "text": [
            "                   all        182        185      0.994      0.951      0.984      0.741\n"
          ]
        },
        {
          "name": "stderr",
          "output_type": "stream",
          "text": [
            "\n"
          ]
        },
        {
          "name": "stdout",
          "output_type": "stream",
          "text": [
            "\n",
            "      Epoch    GPU_mem   box_loss   cls_loss   dfl_loss  Instances       Size\n"
          ]
        },
        {
          "name": "stderr",
          "output_type": "stream",
          "text": [
            "     60/200      4.32G     0.8804     0.5093     0.9728         62        640: 100%|██████████| 20/20 [00:11<00:00,  1.71it/s]\n",
            "                 Class     Images  Instances      Box(P          R      mAP50  mAP50-95): 100%|██████████| 3/3 [00:04<00:00,  1.56s/it]"
          ]
        },
        {
          "name": "stdout",
          "output_type": "stream",
          "text": [
            "                   all        182        185       0.97      0.962      0.983      0.719\n"
          ]
        },
        {
          "name": "stderr",
          "output_type": "stream",
          "text": [
            "\n"
          ]
        },
        {
          "name": "stdout",
          "output_type": "stream",
          "text": [
            "\n",
            "      Epoch    GPU_mem   box_loss   cls_loss   dfl_loss  Instances       Size\n"
          ]
        },
        {
          "name": "stderr",
          "output_type": "stream",
          "text": [
            "     61/200      4.32G     0.8618     0.4933      0.979         57        640: 100%|██████████| 20/20 [00:11<00:00,  1.80it/s]\n",
            "                 Class     Images  Instances      Box(P          R      mAP50  mAP50-95): 100%|██████████| 3/3 [00:04<00:00,  1.44s/it]"
          ]
        },
        {
          "name": "stdout",
          "output_type": "stream",
          "text": [
            "                   all        182        185      0.994      0.968      0.976      0.717\n"
          ]
        },
        {
          "name": "stderr",
          "output_type": "stream",
          "text": [
            "\n"
          ]
        },
        {
          "name": "stdout",
          "output_type": "stream",
          "text": [
            "\n",
            "      Epoch    GPU_mem   box_loss   cls_loss   dfl_loss  Instances       Size\n"
          ]
        },
        {
          "name": "stderr",
          "output_type": "stream",
          "text": [
            "     62/200      4.32G     0.9199     0.5104          1         52        640: 100%|██████████| 20/20 [00:10<00:00,  1.83it/s]\n",
            "                 Class     Images  Instances      Box(P          R      mAP50  mAP50-95): 100%|██████████| 3/3 [00:03<00:00,  1.29s/it]"
          ]
        },
        {
          "name": "stdout",
          "output_type": "stream",
          "text": [
            "                   all        182        185      0.988      0.968      0.977      0.677\n"
          ]
        },
        {
          "name": "stderr",
          "output_type": "stream",
          "text": [
            "\n"
          ]
        },
        {
          "name": "stdout",
          "output_type": "stream",
          "text": [
            "\n",
            "      Epoch    GPU_mem   box_loss   cls_loss   dfl_loss  Instances       Size\n"
          ]
        },
        {
          "name": "stderr",
          "output_type": "stream",
          "text": [
            "     63/200      4.32G     0.8791     0.4973     0.9805         46        640: 100%|██████████| 20/20 [00:10<00:00,  1.86it/s]\n",
            "                 Class     Images  Instances      Box(P          R      mAP50  mAP50-95): 100%|██████████| 3/3 [00:03<00:00,  1.10s/it]"
          ]
        },
        {
          "name": "stdout",
          "output_type": "stream",
          "text": [
            "                   all        182        185      0.983      0.957      0.981       0.75\n"
          ]
        },
        {
          "name": "stderr",
          "output_type": "stream",
          "text": [
            "\n"
          ]
        },
        {
          "name": "stdout",
          "output_type": "stream",
          "text": [
            "\n",
            "      Epoch    GPU_mem   box_loss   cls_loss   dfl_loss  Instances       Size\n"
          ]
        },
        {
          "name": "stderr",
          "output_type": "stream",
          "text": [
            "     64/200      4.32G     0.8381     0.4886     0.9646         58        640: 100%|██████████| 20/20 [00:11<00:00,  1.75it/s]\n",
            "                 Class     Images  Instances      Box(P          R      mAP50  mAP50-95): 100%|██████████| 3/3 [00:03<00:00,  1.02s/it]"
          ]
        },
        {
          "name": "stdout",
          "output_type": "stream",
          "text": [
            "                   all        182        185      0.989      0.951      0.979       0.75\n"
          ]
        },
        {
          "name": "stderr",
          "output_type": "stream",
          "text": [
            "\n"
          ]
        },
        {
          "name": "stdout",
          "output_type": "stream",
          "text": [
            "\n",
            "      Epoch    GPU_mem   box_loss   cls_loss   dfl_loss  Instances       Size\n"
          ]
        },
        {
          "name": "stderr",
          "output_type": "stream",
          "text": [
            "     65/200      4.32G     0.8479     0.4769     0.9632         50        640: 100%|██████████| 20/20 [00:11<00:00,  1.68it/s]\n",
            "                 Class     Images  Instances      Box(P          R      mAP50  mAP50-95): 100%|██████████| 3/3 [00:02<00:00,  1.04it/s]"
          ]
        },
        {
          "name": "stdout",
          "output_type": "stream",
          "text": [
            "                   all        182        185      0.972      0.947      0.966      0.704\n"
          ]
        },
        {
          "name": "stderr",
          "output_type": "stream",
          "text": [
            "\n"
          ]
        },
        {
          "name": "stdout",
          "output_type": "stream",
          "text": [
            "\n",
            "      Epoch    GPU_mem   box_loss   cls_loss   dfl_loss  Instances       Size\n"
          ]
        },
        {
          "name": "stderr",
          "output_type": "stream",
          "text": [
            "     66/200      4.32G     0.8288     0.4733     0.9615         50        640: 100%|██████████| 20/20 [00:12<00:00,  1.61it/s]\n",
            "                 Class     Images  Instances      Box(P          R      mAP50  mAP50-95): 100%|██████████| 3/3 [00:02<00:00,  1.17it/s]"
          ]
        },
        {
          "name": "stdout",
          "output_type": "stream",
          "text": [
            "                   all        182        185      0.973      0.965      0.977      0.684\n"
          ]
        },
        {
          "name": "stderr",
          "output_type": "stream",
          "text": [
            "\n"
          ]
        },
        {
          "name": "stdout",
          "output_type": "stream",
          "text": [
            "\n",
            "      Epoch    GPU_mem   box_loss   cls_loss   dfl_loss  Instances       Size\n"
          ]
        },
        {
          "name": "stderr",
          "output_type": "stream",
          "text": [
            "     67/200      4.32G     0.8555     0.4856     0.9684         47        640: 100%|██████████| 20/20 [00:12<00:00,  1.56it/s]\n",
            "                 Class     Images  Instances      Box(P          R      mAP50  mAP50-95): 100%|██████████| 3/3 [00:02<00:00,  1.19it/s]"
          ]
        },
        {
          "name": "stdout",
          "output_type": "stream",
          "text": [
            "                   all        182        185      0.999      0.957      0.979      0.747\n"
          ]
        },
        {
          "name": "stderr",
          "output_type": "stream",
          "text": [
            "\n"
          ]
        },
        {
          "name": "stdout",
          "output_type": "stream",
          "text": [
            "\n",
            "      Epoch    GPU_mem   box_loss   cls_loss   dfl_loss  Instances       Size\n"
          ]
        },
        {
          "name": "stderr",
          "output_type": "stream",
          "text": [
            "     68/200      4.32G     0.8276     0.4795     0.9671         59        640: 100%|██████████| 20/20 [00:13<00:00,  1.52it/s]\n",
            "                 Class     Images  Instances      Box(P          R      mAP50  mAP50-95): 100%|██████████| 3/3 [00:02<00:00,  1.29it/s]"
          ]
        },
        {
          "name": "stdout",
          "output_type": "stream",
          "text": [
            "                   all        182        185      0.983      0.957      0.984      0.732\n"
          ]
        },
        {
          "name": "stderr",
          "output_type": "stream",
          "text": [
            "\n"
          ]
        },
        {
          "name": "stdout",
          "output_type": "stream",
          "text": [
            "\n",
            "      Epoch    GPU_mem   box_loss   cls_loss   dfl_loss  Instances       Size\n"
          ]
        },
        {
          "name": "stderr",
          "output_type": "stream",
          "text": [
            "     69/200      4.32G     0.8497     0.4784     0.9641         55        640: 100%|██████████| 20/20 [00:13<00:00,  1.49it/s]\n",
            "                 Class     Images  Instances      Box(P          R      mAP50  mAP50-95): 100%|██████████| 3/3 [00:02<00:00,  1.25it/s]"
          ]
        },
        {
          "name": "stdout",
          "output_type": "stream",
          "text": [
            "                   all        182        185      0.989      0.964      0.984      0.755\n"
          ]
        },
        {
          "name": "stderr",
          "output_type": "stream",
          "text": [
            "\n"
          ]
        },
        {
          "name": "stdout",
          "output_type": "stream",
          "text": [
            "\n",
            "      Epoch    GPU_mem   box_loss   cls_loss   dfl_loss  Instances       Size\n"
          ]
        },
        {
          "name": "stderr",
          "output_type": "stream",
          "text": [
            "     70/200      4.32G     0.8439     0.4925     0.9764         50        640: 100%|██████████| 20/20 [00:13<00:00,  1.46it/s]\n",
            "                 Class     Images  Instances      Box(P          R      mAP50  mAP50-95): 100%|██████████| 3/3 [00:02<00:00,  1.30it/s]"
          ]
        },
        {
          "name": "stdout",
          "output_type": "stream",
          "text": [
            "                   all        182        185      0.999      0.957      0.976       0.73\n"
          ]
        },
        {
          "name": "stderr",
          "output_type": "stream",
          "text": [
            "\n"
          ]
        },
        {
          "name": "stdout",
          "output_type": "stream",
          "text": [
            "\n",
            "      Epoch    GPU_mem   box_loss   cls_loss   dfl_loss  Instances       Size\n"
          ]
        },
        {
          "name": "stderr",
          "output_type": "stream",
          "text": [
            "     71/200      4.35G     0.9018     0.5055      0.981         46        640: 100%|██████████| 20/20 [00:13<00:00,  1.49it/s]\n",
            "                 Class     Images  Instances      Box(P          R      mAP50  mAP50-95): 100%|██████████| 3/3 [00:02<00:00,  1.31it/s]"
          ]
        },
        {
          "name": "stdout",
          "output_type": "stream",
          "text": [
            "                   all        182        185          1      0.966      0.978      0.735\n"
          ]
        },
        {
          "name": "stderr",
          "output_type": "stream",
          "text": [
            "\n"
          ]
        },
        {
          "name": "stdout",
          "output_type": "stream",
          "text": [
            "\n",
            "      Epoch    GPU_mem   box_loss   cls_loss   dfl_loss  Instances       Size\n"
          ]
        },
        {
          "name": "stderr",
          "output_type": "stream",
          "text": [
            "     72/200      4.32G     0.8869     0.4867     0.9745         50        640: 100%|██████████| 20/20 [00:13<00:00,  1.50it/s]\n",
            "                 Class     Images  Instances      Box(P          R      mAP50  mAP50-95): 100%|██████████| 3/3 [00:02<00:00,  1.16it/s]"
          ]
        },
        {
          "name": "stdout",
          "output_type": "stream",
          "text": [
            "                   all        182        185      0.978       0.97      0.985      0.755\n"
          ]
        },
        {
          "name": "stderr",
          "output_type": "stream",
          "text": [
            "\n"
          ]
        },
        {
          "name": "stdout",
          "output_type": "stream",
          "text": [
            "\n",
            "      Epoch    GPU_mem   box_loss   cls_loss   dfl_loss  Instances       Size\n"
          ]
        },
        {
          "name": "stderr",
          "output_type": "stream",
          "text": [
            "     73/200      4.32G     0.8135     0.4543     0.9617         45        640: 100%|██████████| 20/20 [00:13<00:00,  1.45it/s]\n",
            "                 Class     Images  Instances      Box(P          R      mAP50  mAP50-95): 100%|██████████| 3/3 [00:02<00:00,  1.19it/s]"
          ]
        },
        {
          "name": "stdout",
          "output_type": "stream",
          "text": [
            "                   all        182        185      0.998      0.968       0.98      0.734\n"
          ]
        },
        {
          "name": "stderr",
          "output_type": "stream",
          "text": [
            "\n"
          ]
        },
        {
          "name": "stdout",
          "output_type": "stream",
          "text": [
            "\n",
            "      Epoch    GPU_mem   box_loss   cls_loss   dfl_loss  Instances       Size\n"
          ]
        },
        {
          "name": "stderr",
          "output_type": "stream",
          "text": [
            "     74/200      4.35G     0.8121      0.467     0.9681         53        640: 100%|██████████| 20/20 [00:13<00:00,  1.46it/s]\n",
            "                 Class     Images  Instances      Box(P          R      mAP50  mAP50-95): 100%|██████████| 3/3 [00:02<00:00,  1.37it/s]"
          ]
        },
        {
          "name": "stdout",
          "output_type": "stream",
          "text": [
            "                   all        182        185      0.993      0.957      0.981      0.733\n"
          ]
        },
        {
          "name": "stderr",
          "output_type": "stream",
          "text": [
            "\n"
          ]
        },
        {
          "name": "stdout",
          "output_type": "stream",
          "text": [
            "\n",
            "      Epoch    GPU_mem   box_loss   cls_loss   dfl_loss  Instances       Size\n"
          ]
        },
        {
          "name": "stderr",
          "output_type": "stream",
          "text": [
            "     75/200      4.32G     0.8071     0.4529     0.9665         43        640: 100%|██████████| 20/20 [00:13<00:00,  1.45it/s]\n",
            "                 Class     Images  Instances      Box(P          R      mAP50  mAP50-95): 100%|██████████| 3/3 [00:02<00:00,  1.20it/s]"
          ]
        },
        {
          "name": "stdout",
          "output_type": "stream",
          "text": [
            "                   all        182        185      0.989      0.972      0.985      0.756\n"
          ]
        },
        {
          "name": "stderr",
          "output_type": "stream",
          "text": [
            "\n"
          ]
        },
        {
          "name": "stdout",
          "output_type": "stream",
          "text": [
            "\n",
            "      Epoch    GPU_mem   box_loss   cls_loss   dfl_loss  Instances       Size\n"
          ]
        },
        {
          "name": "stderr",
          "output_type": "stream",
          "text": [
            "     76/200      4.32G     0.8237     0.4666     0.9683         45        640: 100%|██████████| 20/20 [00:13<00:00,  1.48it/s]\n",
            "                 Class     Images  Instances      Box(P          R      mAP50  mAP50-95): 100%|██████████| 3/3 [00:02<00:00,  1.29it/s]"
          ]
        },
        {
          "name": "stdout",
          "output_type": "stream",
          "text": [
            "                   all        182        185      0.995      0.962       0.98      0.717\n"
          ]
        },
        {
          "name": "stderr",
          "output_type": "stream",
          "text": [
            "\n"
          ]
        },
        {
          "name": "stdout",
          "output_type": "stream",
          "text": [
            "\n",
            "      Epoch    GPU_mem   box_loss   cls_loss   dfl_loss  Instances       Size\n"
          ]
        },
        {
          "name": "stderr",
          "output_type": "stream",
          "text": [
            "     77/200      4.32G     0.8206      0.474     0.9605         46        640: 100%|██████████| 20/20 [00:13<00:00,  1.52it/s]\n",
            "                 Class     Images  Instances      Box(P          R      mAP50  mAP50-95): 100%|██████████| 3/3 [00:03<00:00,  1.02s/it]"
          ]
        },
        {
          "name": "stdout",
          "output_type": "stream",
          "text": [
            "                   all        182        185      0.992      0.973      0.987      0.715\n"
          ]
        },
        {
          "name": "stderr",
          "output_type": "stream",
          "text": [
            "\n"
          ]
        },
        {
          "name": "stdout",
          "output_type": "stream",
          "text": [
            "\n",
            "      Epoch    GPU_mem   box_loss   cls_loss   dfl_loss  Instances       Size\n"
          ]
        },
        {
          "name": "stderr",
          "output_type": "stream",
          "text": [
            "     78/200      4.35G     0.8119     0.4641     0.9643         48        640: 100%|██████████| 20/20 [00:12<00:00,  1.64it/s]\n",
            "                 Class     Images  Instances      Box(P          R      mAP50  mAP50-95): 100%|██████████| 3/3 [00:03<00:00,  1.29s/it]"
          ]
        },
        {
          "name": "stdout",
          "output_type": "stream",
          "text": [
            "                   all        182        185      0.975      0.968      0.977      0.737\n"
          ]
        },
        {
          "name": "stderr",
          "output_type": "stream",
          "text": [
            "\n"
          ]
        },
        {
          "name": "stdout",
          "output_type": "stream",
          "text": [
            "\n",
            "      Epoch    GPU_mem   box_loss   cls_loss   dfl_loss  Instances       Size\n"
          ]
        },
        {
          "name": "stderr",
          "output_type": "stream",
          "text": [
            "     79/200      4.32G     0.7944     0.4457     0.9465         47        640: 100%|██████████| 20/20 [00:12<00:00,  1.65it/s]\n",
            "                 Class     Images  Instances      Box(P          R      mAP50  mAP50-95): 100%|██████████| 3/3 [00:03<00:00,  1.25s/it]"
          ]
        },
        {
          "name": "stdout",
          "output_type": "stream",
          "text": [
            "                   all        182        185      0.994      0.962       0.98      0.743\n"
          ]
        },
        {
          "name": "stderr",
          "output_type": "stream",
          "text": [
            "\n"
          ]
        },
        {
          "name": "stdout",
          "output_type": "stream",
          "text": [
            "\n",
            "      Epoch    GPU_mem   box_loss   cls_loss   dfl_loss  Instances       Size\n"
          ]
        },
        {
          "name": "stderr",
          "output_type": "stream",
          "text": [
            "     80/200      4.32G     0.8166     0.4537      0.965         52        640: 100%|██████████| 20/20 [00:11<00:00,  1.68it/s]\n",
            "                 Class     Images  Instances      Box(P          R      mAP50  mAP50-95): 100%|██████████| 3/3 [00:04<00:00,  1.52s/it]"
          ]
        },
        {
          "name": "stdout",
          "output_type": "stream",
          "text": [
            "                   all        182        185          1      0.962      0.978      0.736\n"
          ]
        },
        {
          "name": "stderr",
          "output_type": "stream",
          "text": [
            "\n"
          ]
        },
        {
          "name": "stdout",
          "output_type": "stream",
          "text": [
            "\n",
            "      Epoch    GPU_mem   box_loss   cls_loss   dfl_loss  Instances       Size\n"
          ]
        },
        {
          "name": "stderr",
          "output_type": "stream",
          "text": [
            "     81/200      4.32G     0.8293     0.4568     0.9591         65        640: 100%|██████████| 20/20 [00:10<00:00,  1.85it/s]\n",
            "                 Class     Images  Instances      Box(P          R      mAP50  mAP50-95): 100%|██████████| 3/3 [00:04<00:00,  1.43s/it]"
          ]
        },
        {
          "name": "stdout",
          "output_type": "stream",
          "text": [
            "                   all        182        185      0.996      0.962      0.985      0.753\n"
          ]
        },
        {
          "name": "stderr",
          "output_type": "stream",
          "text": [
            "\n"
          ]
        },
        {
          "name": "stdout",
          "output_type": "stream",
          "text": [
            "\n",
            "      Epoch    GPU_mem   box_loss   cls_loss   dfl_loss  Instances       Size\n"
          ]
        },
        {
          "name": "stderr",
          "output_type": "stream",
          "text": [
            "     82/200      4.35G     0.8033     0.4481     0.9595         56        640: 100%|██████████| 20/20 [00:10<00:00,  1.91it/s]\n",
            "                 Class     Images  Instances      Box(P          R      mAP50  mAP50-95): 100%|██████████| 3/3 [00:03<00:00,  1.11s/it]"
          ]
        },
        {
          "name": "stdout",
          "output_type": "stream",
          "text": [
            "                   all        182        185      0.989       0.95      0.969      0.735\n"
          ]
        },
        {
          "name": "stderr",
          "output_type": "stream",
          "text": [
            "\n"
          ]
        },
        {
          "name": "stdout",
          "output_type": "stream",
          "text": [
            "\n",
            "      Epoch    GPU_mem   box_loss   cls_loss   dfl_loss  Instances       Size\n"
          ]
        },
        {
          "name": "stderr",
          "output_type": "stream",
          "text": [
            "     83/200      4.32G     0.7793     0.4387     0.9412         56        640: 100%|██████████| 20/20 [00:11<00:00,  1.75it/s]\n",
            "                 Class     Images  Instances      Box(P          R      mAP50  mAP50-95): 100%|██████████| 3/3 [00:03<00:00,  1.11s/it]"
          ]
        },
        {
          "name": "stdout",
          "output_type": "stream",
          "text": [
            "                   all        182        185      0.982      0.941      0.969      0.706\n"
          ]
        },
        {
          "name": "stderr",
          "output_type": "stream",
          "text": [
            "\n"
          ]
        },
        {
          "name": "stdout",
          "output_type": "stream",
          "text": [
            "\n",
            "      Epoch    GPU_mem   box_loss   cls_loss   dfl_loss  Instances       Size\n"
          ]
        },
        {
          "name": "stderr",
          "output_type": "stream",
          "text": [
            "     84/200      4.32G     0.8225     0.4611     0.9481         45        640: 100%|██████████| 20/20 [00:11<00:00,  1.70it/s]\n",
            "                 Class     Images  Instances      Box(P          R      mAP50  mAP50-95): 100%|██████████| 3/3 [00:02<00:00,  1.07it/s]"
          ]
        },
        {
          "name": "stdout",
          "output_type": "stream",
          "text": [
            "                   all        182        185      0.994       0.95      0.974      0.737\n"
          ]
        },
        {
          "name": "stderr",
          "output_type": "stream",
          "text": [
            "\n"
          ]
        },
        {
          "name": "stdout",
          "output_type": "stream",
          "text": [
            "\n",
            "      Epoch    GPU_mem   box_loss   cls_loss   dfl_loss  Instances       Size\n"
          ]
        },
        {
          "name": "stderr",
          "output_type": "stream",
          "text": [
            "     85/200      4.32G     0.8063     0.4479     0.9581         49        640: 100%|██████████| 20/20 [00:12<00:00,  1.58it/s]\n",
            "                 Class     Images  Instances      Box(P          R      mAP50  mAP50-95): 100%|██████████| 3/3 [00:02<00:00,  1.07it/s]"
          ]
        },
        {
          "name": "stdout",
          "output_type": "stream",
          "text": [
            "                   all        182        185      0.999      0.946      0.971      0.736\n"
          ]
        },
        {
          "name": "stderr",
          "output_type": "stream",
          "text": [
            "\n"
          ]
        },
        {
          "name": "stdout",
          "output_type": "stream",
          "text": [
            "\n",
            "      Epoch    GPU_mem   box_loss   cls_loss   dfl_loss  Instances       Size\n"
          ]
        },
        {
          "name": "stderr",
          "output_type": "stream",
          "text": [
            "     86/200      4.32G     0.7705      0.436     0.9543         59        640: 100%|██████████| 20/20 [00:12<00:00,  1.58it/s]\n",
            "                 Class     Images  Instances      Box(P          R      mAP50  mAP50-95): 100%|██████████| 3/3 [00:02<00:00,  1.38it/s]"
          ]
        },
        {
          "name": "stdout",
          "output_type": "stream",
          "text": [
            "                   all        182        185      0.999      0.957      0.977      0.735\n"
          ]
        },
        {
          "name": "stderr",
          "output_type": "stream",
          "text": [
            "\n"
          ]
        },
        {
          "name": "stdout",
          "output_type": "stream",
          "text": [
            "\n",
            "      Epoch    GPU_mem   box_loss   cls_loss   dfl_loss  Instances       Size\n"
          ]
        },
        {
          "name": "stderr",
          "output_type": "stream",
          "text": [
            "     87/200      4.32G     0.8083     0.4514       0.96         55        640: 100%|██████████| 20/20 [00:13<00:00,  1.51it/s]\n",
            "                 Class     Images  Instances      Box(P          R      mAP50  mAP50-95): 100%|██████████| 3/3 [00:02<00:00,  1.19it/s]"
          ]
        },
        {
          "name": "stdout",
          "output_type": "stream",
          "text": [
            "                   all        182        185          1      0.967      0.979      0.732\n"
          ]
        },
        {
          "name": "stderr",
          "output_type": "stream",
          "text": [
            "\n"
          ]
        },
        {
          "name": "stdout",
          "output_type": "stream",
          "text": [
            "\n",
            "      Epoch    GPU_mem   box_loss   cls_loss   dfl_loss  Instances       Size\n"
          ]
        },
        {
          "name": "stderr",
          "output_type": "stream",
          "text": [
            "     88/200      4.32G     0.8055     0.4579     0.9514         52        640: 100%|██████████| 20/20 [00:13<00:00,  1.48it/s]\n",
            "                 Class     Images  Instances      Box(P          R      mAP50  mAP50-95): 100%|██████████| 3/3 [00:02<00:00,  1.23it/s]"
          ]
        },
        {
          "name": "stdout",
          "output_type": "stream",
          "text": [
            "                   all        182        185      0.999      0.962       0.98      0.725\n"
          ]
        },
        {
          "name": "stderr",
          "output_type": "stream",
          "text": [
            "\n"
          ]
        },
        {
          "name": "stdout",
          "output_type": "stream",
          "text": [
            "\n",
            "      Epoch    GPU_mem   box_loss   cls_loss   dfl_loss  Instances       Size\n"
          ]
        },
        {
          "name": "stderr",
          "output_type": "stream",
          "text": [
            "     89/200      4.32G     0.7751     0.4379     0.9436         58        640: 100%|██████████| 20/20 [00:14<00:00,  1.40it/s]\n",
            "                 Class     Images  Instances      Box(P          R      mAP50  mAP50-95): 100%|██████████| 3/3 [00:02<00:00,  1.25it/s]"
          ]
        },
        {
          "name": "stdout",
          "output_type": "stream",
          "text": [
            "                   all        182        185      0.993      0.946      0.975      0.716\n"
          ]
        },
        {
          "name": "stderr",
          "output_type": "stream",
          "text": [
            "\n"
          ]
        },
        {
          "name": "stdout",
          "output_type": "stream",
          "text": [
            "\n",
            "      Epoch    GPU_mem   box_loss   cls_loss   dfl_loss  Instances       Size\n"
          ]
        },
        {
          "name": "stderr",
          "output_type": "stream",
          "text": [
            "     90/200      4.32G     0.7812     0.4349     0.9453         65        640: 100%|██████████| 20/20 [00:13<00:00,  1.46it/s]\n",
            "                 Class     Images  Instances      Box(P          R      mAP50  mAP50-95): 100%|██████████| 3/3 [00:02<00:00,  1.30it/s]"
          ]
        },
        {
          "name": "stdout",
          "output_type": "stream",
          "text": [
            "                   all        182        185      0.997      0.962      0.979      0.732\n"
          ]
        },
        {
          "name": "stderr",
          "output_type": "stream",
          "text": [
            "\n"
          ]
        },
        {
          "name": "stdout",
          "output_type": "stream",
          "text": [
            "\n",
            "      Epoch    GPU_mem   box_loss   cls_loss   dfl_loss  Instances       Size\n"
          ]
        },
        {
          "name": "stderr",
          "output_type": "stream",
          "text": [
            "     91/200      4.32G     0.7604     0.4295     0.9483         56        640: 100%|██████████| 20/20 [00:13<00:00,  1.49it/s]\n",
            "                 Class     Images  Instances      Box(P          R      mAP50  mAP50-95): 100%|██████████| 3/3 [00:02<00:00,  1.15it/s]"
          ]
        },
        {
          "name": "stdout",
          "output_type": "stream",
          "text": [
            "                   all        182        185      0.999      0.968      0.977      0.733\n"
          ]
        },
        {
          "name": "stderr",
          "output_type": "stream",
          "text": [
            "\n"
          ]
        },
        {
          "name": "stdout",
          "output_type": "stream",
          "text": [
            "\n",
            "      Epoch    GPU_mem   box_loss   cls_loss   dfl_loss  Instances       Size\n"
          ]
        },
        {
          "name": "stderr",
          "output_type": "stream",
          "text": [
            "     92/200      4.35G      0.765     0.4467     0.9539         52        640: 100%|██████████| 20/20 [00:13<00:00,  1.47it/s]\n",
            "                 Class     Images  Instances      Box(P          R      mAP50  mAP50-95): 100%|██████████| 3/3 [00:02<00:00,  1.31it/s]"
          ]
        },
        {
          "name": "stdout",
          "output_type": "stream",
          "text": [
            "                   all        182        185      0.993      0.957      0.977      0.742\n"
          ]
        },
        {
          "name": "stderr",
          "output_type": "stream",
          "text": [
            "\n"
          ]
        },
        {
          "name": "stdout",
          "output_type": "stream",
          "text": [
            "\n",
            "      Epoch    GPU_mem   box_loss   cls_loss   dfl_loss  Instances       Size\n"
          ]
        },
        {
          "name": "stderr",
          "output_type": "stream",
          "text": [
            "     93/200      4.32G     0.7722     0.4404     0.9379         47        640: 100%|██████████| 20/20 [00:13<00:00,  1.44it/s]\n",
            "                 Class     Images  Instances      Box(P          R      mAP50  mAP50-95): 100%|██████████| 3/3 [00:02<00:00,  1.21it/s]"
          ]
        },
        {
          "name": "stdout",
          "output_type": "stream",
          "text": [
            "                   all        182        185      0.989      0.955      0.976      0.743\n"
          ]
        },
        {
          "name": "stderr",
          "output_type": "stream",
          "text": [
            "\n"
          ]
        },
        {
          "name": "stdout",
          "output_type": "stream",
          "text": [
            "\n",
            "      Epoch    GPU_mem   box_loss   cls_loss   dfl_loss  Instances       Size\n"
          ]
        },
        {
          "name": "stderr",
          "output_type": "stream",
          "text": [
            "     94/200      4.32G      0.764     0.4273     0.9297         47        640: 100%|██████████| 20/20 [00:13<00:00,  1.47it/s]\n",
            "                 Class     Images  Instances      Box(P          R      mAP50  mAP50-95): 100%|██████████| 3/3 [00:02<00:00,  1.32it/s]"
          ]
        },
        {
          "name": "stdout",
          "output_type": "stream",
          "text": [
            "                   all        182        185      0.989      0.966      0.983      0.756\n"
          ]
        },
        {
          "name": "stderr",
          "output_type": "stream",
          "text": [
            "\n"
          ]
        },
        {
          "name": "stdout",
          "output_type": "stream",
          "text": [
            "\n",
            "      Epoch    GPU_mem   box_loss   cls_loss   dfl_loss  Instances       Size\n"
          ]
        },
        {
          "name": "stderr",
          "output_type": "stream",
          "text": [
            "     95/200      4.32G     0.7432     0.4169     0.9301         49        640: 100%|██████████| 20/20 [00:13<00:00,  1.48it/s]\n",
            "                 Class     Images  Instances      Box(P          R      mAP50  mAP50-95): 100%|██████████| 3/3 [00:02<00:00,  1.18it/s]"
          ]
        },
        {
          "name": "stdout",
          "output_type": "stream",
          "text": [
            "                   all        182        185      0.989      0.968      0.987      0.729\n"
          ]
        },
        {
          "name": "stderr",
          "output_type": "stream",
          "text": [
            "\n"
          ]
        },
        {
          "name": "stdout",
          "output_type": "stream",
          "text": [
            "\n",
            "      Epoch    GPU_mem   box_loss   cls_loss   dfl_loss  Instances       Size\n"
          ]
        },
        {
          "name": "stderr",
          "output_type": "stream",
          "text": [
            "     96/200      4.32G     0.7738      0.435      0.944         39        640: 100%|██████████| 20/20 [00:13<00:00,  1.46it/s]\n",
            "                 Class     Images  Instances      Box(P          R      mAP50  mAP50-95): 100%|██████████| 3/3 [00:02<00:00,  1.41it/s]"
          ]
        },
        {
          "name": "stdout",
          "output_type": "stream",
          "text": [
            "                   all        182        185      0.994      0.958       0.98      0.744\n"
          ]
        },
        {
          "name": "stderr",
          "output_type": "stream",
          "text": [
            "\n"
          ]
        },
        {
          "name": "stdout",
          "output_type": "stream",
          "text": [
            "\n",
            "      Epoch    GPU_mem   box_loss   cls_loss   dfl_loss  Instances       Size\n"
          ]
        },
        {
          "name": "stderr",
          "output_type": "stream",
          "text": [
            "     97/200      4.32G     0.7552     0.4235     0.9264         47        640: 100%|██████████| 20/20 [00:13<00:00,  1.48it/s]\n",
            "                 Class     Images  Instances      Box(P          R      mAP50  mAP50-95): 100%|██████████| 3/3 [00:02<00:00,  1.36it/s]"
          ]
        },
        {
          "name": "stdout",
          "output_type": "stream",
          "text": [
            "                   all        182        185      0.983      0.962       0.98      0.725\n"
          ]
        },
        {
          "name": "stderr",
          "output_type": "stream",
          "text": [
            "\n"
          ]
        },
        {
          "name": "stdout",
          "output_type": "stream",
          "text": [
            "\n",
            "      Epoch    GPU_mem   box_loss   cls_loss   dfl_loss  Instances       Size\n"
          ]
        },
        {
          "name": "stderr",
          "output_type": "stream",
          "text": [
            "     98/200      4.32G      0.776     0.4359     0.9409         46        640: 100%|██████████| 20/20 [00:13<00:00,  1.46it/s]\n",
            "                 Class     Images  Instances      Box(P          R      mAP50  mAP50-95): 100%|██████████| 3/3 [00:02<00:00,  1.12it/s]"
          ]
        },
        {
          "name": "stdout",
          "output_type": "stream",
          "text": [
            "                   all        182        185      0.992      0.957      0.986      0.756\n"
          ]
        },
        {
          "name": "stderr",
          "output_type": "stream",
          "text": [
            "\n"
          ]
        },
        {
          "name": "stdout",
          "output_type": "stream",
          "text": [
            "\n",
            "      Epoch    GPU_mem   box_loss   cls_loss   dfl_loss  Instances       Size\n"
          ]
        },
        {
          "name": "stderr",
          "output_type": "stream",
          "text": [
            "     99/200      4.32G     0.7813     0.4298     0.9496         45        640: 100%|██████████| 20/20 [00:13<00:00,  1.48it/s]\n",
            "                 Class     Images  Instances      Box(P          R      mAP50  mAP50-95): 100%|██████████| 3/3 [00:02<00:00,  1.06it/s]"
          ]
        },
        {
          "name": "stdout",
          "output_type": "stream",
          "text": [
            "                   all        182        185      0.998      0.962       0.98      0.749\n"
          ]
        },
        {
          "name": "stderr",
          "output_type": "stream",
          "text": [
            "\n"
          ]
        },
        {
          "name": "stdout",
          "output_type": "stream",
          "text": [
            "\n",
            "      Epoch    GPU_mem   box_loss   cls_loss   dfl_loss  Instances       Size\n"
          ]
        },
        {
          "name": "stderr",
          "output_type": "stream",
          "text": [
            "    100/200      4.32G     0.7626     0.4225     0.9475         58        640: 100%|██████████| 20/20 [00:13<00:00,  1.54it/s]\n",
            "                 Class     Images  Instances      Box(P          R      mAP50  mAP50-95): 100%|██████████| 3/3 [00:03<00:00,  1.06s/it]"
          ]
        },
        {
          "name": "stdout",
          "output_type": "stream",
          "text": [
            "                   all        182        185      0.983      0.957      0.975      0.738\n"
          ]
        },
        {
          "name": "stderr",
          "output_type": "stream",
          "text": [
            "\n"
          ]
        },
        {
          "name": "stdout",
          "output_type": "stream",
          "text": [
            "\n",
            "      Epoch    GPU_mem   box_loss   cls_loss   dfl_loss  Instances       Size\n"
          ]
        },
        {
          "name": "stderr",
          "output_type": "stream",
          "text": [
            "    101/200      4.32G      0.753       0.43     0.9482         52        640: 100%|██████████| 20/20 [00:12<00:00,  1.60it/s]\n",
            "                 Class     Images  Instances      Box(P          R      mAP50  mAP50-95): 100%|██████████| 3/3 [00:03<00:00,  1.13s/it]"
          ]
        },
        {
          "name": "stdout",
          "output_type": "stream",
          "text": [
            "                   all        182        185      0.993      0.968       0.98      0.757\n"
          ]
        },
        {
          "name": "stderr",
          "output_type": "stream",
          "text": [
            "\n"
          ]
        },
        {
          "name": "stdout",
          "output_type": "stream",
          "text": [
            "\n",
            "      Epoch    GPU_mem   box_loss   cls_loss   dfl_loss  Instances       Size\n"
          ]
        },
        {
          "name": "stderr",
          "output_type": "stream",
          "text": [
            "    102/200      4.32G     0.7713     0.4398     0.9557         51        640: 100%|██████████| 20/20 [00:12<00:00,  1.61it/s]\n",
            "                 Class     Images  Instances      Box(P          R      mAP50  mAP50-95): 100%|██████████| 3/3 [00:03<00:00,  1.19s/it]"
          ]
        },
        {
          "name": "stdout",
          "output_type": "stream",
          "text": [
            "                   all        182        185      0.993      0.973       0.98      0.751\n"
          ]
        },
        {
          "name": "stderr",
          "output_type": "stream",
          "text": [
            "\n"
          ]
        },
        {
          "name": "stdout",
          "output_type": "stream",
          "text": [
            "\n",
            "      Epoch    GPU_mem   box_loss   cls_loss   dfl_loss  Instances       Size\n"
          ]
        },
        {
          "name": "stderr",
          "output_type": "stream",
          "text": [
            "    103/200      4.32G     0.7856     0.4416     0.9613         60        640: 100%|██████████| 20/20 [00:12<00:00,  1.62it/s]\n",
            "                 Class     Images  Instances      Box(P          R      mAP50  mAP50-95): 100%|██████████| 3/3 [00:03<00:00,  1.27s/it]"
          ]
        },
        {
          "name": "stdout",
          "output_type": "stream",
          "text": [
            "                   all        182        185      0.988      0.962      0.973      0.728\n"
          ]
        },
        {
          "name": "stderr",
          "output_type": "stream",
          "text": [
            "\n"
          ]
        },
        {
          "name": "stdout",
          "output_type": "stream",
          "text": [
            "\n",
            "      Epoch    GPU_mem   box_loss   cls_loss   dfl_loss  Instances       Size\n"
          ]
        },
        {
          "name": "stderr",
          "output_type": "stream",
          "text": [
            "    104/200      4.32G     0.7901     0.4242     0.9465         53        640: 100%|██████████| 20/20 [00:11<00:00,  1.72it/s]\n",
            "                 Class     Images  Instances      Box(P          R      mAP50  mAP50-95): 100%|██████████| 3/3 [00:04<00:00,  1.51s/it]"
          ]
        },
        {
          "name": "stdout",
          "output_type": "stream",
          "text": [
            "                   all        182        185      0.994      0.968       0.98      0.715\n"
          ]
        },
        {
          "name": "stderr",
          "output_type": "stream",
          "text": [
            "\n"
          ]
        },
        {
          "name": "stdout",
          "output_type": "stream",
          "text": [
            "\n",
            "      Epoch    GPU_mem   box_loss   cls_loss   dfl_loss  Instances       Size\n"
          ]
        },
        {
          "name": "stderr",
          "output_type": "stream",
          "text": [
            "    105/200      4.32G     0.7527     0.4409     0.9529         63        640: 100%|██████████| 20/20 [00:10<00:00,  1.91it/s]\n",
            "                 Class     Images  Instances      Box(P          R      mAP50  mAP50-95): 100%|██████████| 3/3 [00:03<00:00,  1.03s/it]"
          ]
        },
        {
          "name": "stdout",
          "output_type": "stream",
          "text": [
            "                   all        182        185      0.994      0.962      0.977       0.74\n"
          ]
        },
        {
          "name": "stderr",
          "output_type": "stream",
          "text": [
            "\n"
          ]
        },
        {
          "name": "stdout",
          "output_type": "stream",
          "text": [
            "\n",
            "      Epoch    GPU_mem   box_loss   cls_loss   dfl_loss  Instances       Size\n"
          ]
        },
        {
          "name": "stderr",
          "output_type": "stream",
          "text": [
            "    106/200      4.32G      0.745     0.4144     0.9324         53        640: 100%|██████████| 20/20 [00:10<00:00,  1.84it/s]\n",
            "                 Class     Images  Instances      Box(P          R      mAP50  mAP50-95): 100%|██████████| 3/3 [00:02<00:00,  1.03it/s]"
          ]
        },
        {
          "name": "stdout",
          "output_type": "stream",
          "text": [
            "                   all        182        185      0.971      0.968      0.981      0.751\n"
          ]
        },
        {
          "name": "stderr",
          "output_type": "stream",
          "text": [
            "\n"
          ]
        },
        {
          "name": "stdout",
          "output_type": "stream",
          "text": [
            "\n",
            "      Epoch    GPU_mem   box_loss   cls_loss   dfl_loss  Instances       Size\n"
          ]
        },
        {
          "name": "stderr",
          "output_type": "stream",
          "text": [
            "    107/200      4.32G     0.7422     0.4072     0.9262         55        640: 100%|██████████| 20/20 [00:11<00:00,  1.79it/s]\n",
            "                 Class     Images  Instances      Box(P          R      mAP50  mAP50-95): 100%|██████████| 3/3 [00:03<00:00,  1.09s/it]"
          ]
        },
        {
          "name": "stdout",
          "output_type": "stream",
          "text": [
            "                   all        182        185      0.994      0.967       0.98      0.752\n"
          ]
        },
        {
          "name": "stderr",
          "output_type": "stream",
          "text": [
            "\n"
          ]
        },
        {
          "name": "stdout",
          "output_type": "stream",
          "text": [
            "\n",
            "      Epoch    GPU_mem   box_loss   cls_loss   dfl_loss  Instances       Size\n"
          ]
        },
        {
          "name": "stderr",
          "output_type": "stream",
          "text": [
            "    108/200      4.32G     0.7228     0.4106      0.933         48        640: 100%|██████████| 20/20 [00:12<00:00,  1.67it/s]\n",
            "                 Class     Images  Instances      Box(P          R      mAP50  mAP50-95): 100%|██████████| 3/3 [00:02<00:00,  1.09it/s]"
          ]
        },
        {
          "name": "stdout",
          "output_type": "stream",
          "text": [
            "                   all        182        185      0.993      0.968      0.981      0.755\n"
          ]
        },
        {
          "name": "stderr",
          "output_type": "stream",
          "text": [
            "\n"
          ]
        },
        {
          "name": "stdout",
          "output_type": "stream",
          "text": [
            "\n",
            "      Epoch    GPU_mem   box_loss   cls_loss   dfl_loss  Instances       Size\n"
          ]
        },
        {
          "name": "stderr",
          "output_type": "stream",
          "text": [
            "    109/200      4.32G     0.7222     0.4069     0.9275         57        640: 100%|██████████| 20/20 [00:12<00:00,  1.65it/s]\n",
            "                 Class     Images  Instances      Box(P          R      mAP50  mAP50-95): 100%|██████████| 3/3 [00:02<00:00,  1.04it/s]"
          ]
        },
        {
          "name": "stdout",
          "output_type": "stream",
          "text": [
            "                   all        182        185      0.993      0.968      0.986      0.746\n"
          ]
        },
        {
          "name": "stderr",
          "output_type": "stream",
          "text": [
            "\n"
          ]
        },
        {
          "name": "stdout",
          "output_type": "stream",
          "text": [
            "\n",
            "      Epoch    GPU_mem   box_loss   cls_loss   dfl_loss  Instances       Size\n"
          ]
        },
        {
          "name": "stderr",
          "output_type": "stream",
          "text": [
            "    110/200      4.32G     0.7552     0.4044     0.9366         66        640: 100%|██████████| 20/20 [00:12<00:00,  1.59it/s]\n",
            "                 Class     Images  Instances      Box(P          R      mAP50  mAP50-95): 100%|██████████| 3/3 [00:02<00:00,  1.26it/s]"
          ]
        },
        {
          "name": "stdout",
          "output_type": "stream",
          "text": [
            "                   all        182        185          1      0.971      0.987      0.743\n"
          ]
        },
        {
          "name": "stderr",
          "output_type": "stream",
          "text": [
            "\n"
          ]
        },
        {
          "name": "stdout",
          "output_type": "stream",
          "text": [
            "\n",
            "      Epoch    GPU_mem   box_loss   cls_loss   dfl_loss  Instances       Size\n"
          ]
        },
        {
          "name": "stderr",
          "output_type": "stream",
          "text": [
            "    111/200      4.32G        0.7     0.4124     0.9215         47        640: 100%|██████████| 20/20 [00:13<00:00,  1.51it/s]\n",
            "                 Class     Images  Instances      Box(P          R      mAP50  mAP50-95): 100%|██████████| 3/3 [00:02<00:00,  1.22it/s]"
          ]
        },
        {
          "name": "stdout",
          "output_type": "stream",
          "text": [
            "                   all        182        185          1      0.969       0.98      0.756\n"
          ]
        },
        {
          "name": "stderr",
          "output_type": "stream",
          "text": [
            "\n"
          ]
        },
        {
          "name": "stdout",
          "output_type": "stream",
          "text": [
            "\n",
            "      Epoch    GPU_mem   box_loss   cls_loss   dfl_loss  Instances       Size\n"
          ]
        },
        {
          "name": "stderr",
          "output_type": "stream",
          "text": [
            "    112/200      4.32G     0.7372     0.4248      0.932         55        640: 100%|██████████| 20/20 [00:13<00:00,  1.52it/s]\n",
            "                 Class     Images  Instances      Box(P          R      mAP50  mAP50-95): 100%|██████████| 3/3 [00:02<00:00,  1.14it/s]"
          ]
        },
        {
          "name": "stdout",
          "output_type": "stream",
          "text": [
            "                   all        182        185      0.999      0.951      0.975      0.748\n"
          ]
        },
        {
          "name": "stderr",
          "output_type": "stream",
          "text": [
            "\n"
          ]
        },
        {
          "name": "stdout",
          "output_type": "stream",
          "text": [
            "\n",
            "      Epoch    GPU_mem   box_loss   cls_loss   dfl_loss  Instances       Size\n"
          ]
        },
        {
          "name": "stderr",
          "output_type": "stream",
          "text": [
            "    113/200      4.32G     0.7359     0.3982      0.916         48        640: 100%|██████████| 20/20 [00:13<00:00,  1.46it/s]\n",
            "                 Class     Images  Instances      Box(P          R      mAP50  mAP50-95): 100%|██████████| 3/3 [00:02<00:00,  1.22it/s]"
          ]
        },
        {
          "name": "stdout",
          "output_type": "stream",
          "text": [
            "                   all        182        185      0.999      0.951      0.978      0.746\n"
          ]
        },
        {
          "name": "stderr",
          "output_type": "stream",
          "text": [
            "\n"
          ]
        },
        {
          "name": "stdout",
          "output_type": "stream",
          "text": [
            "\n",
            "      Epoch    GPU_mem   box_loss   cls_loss   dfl_loss  Instances       Size\n"
          ]
        },
        {
          "name": "stderr",
          "output_type": "stream",
          "text": [
            "    114/200      4.35G     0.7162     0.4005     0.9286         47        640: 100%|██████████| 20/20 [00:13<00:00,  1.44it/s]\n",
            "                 Class     Images  Instances      Box(P          R      mAP50  mAP50-95): 100%|██████████| 3/3 [00:02<00:00,  1.39it/s]"
          ]
        },
        {
          "name": "stdout",
          "output_type": "stream",
          "text": [
            "                   all        182        185      0.995      0.951       0.98      0.741\n"
          ]
        },
        {
          "name": "stderr",
          "output_type": "stream",
          "text": [
            "\n"
          ]
        },
        {
          "name": "stdout",
          "output_type": "stream",
          "text": [
            "\n",
            "      Epoch    GPU_mem   box_loss   cls_loss   dfl_loss  Instances       Size\n"
          ]
        },
        {
          "name": "stderr",
          "output_type": "stream",
          "text": [
            "    115/200      4.32G     0.7107      0.402     0.9251         56        640: 100%|██████████| 20/20 [00:13<00:00,  1.51it/s]\n",
            "                 Class     Images  Instances      Box(P          R      mAP50  mAP50-95): 100%|██████████| 3/3 [00:02<00:00,  1.20it/s]"
          ]
        },
        {
          "name": "stdout",
          "output_type": "stream",
          "text": [
            "                   all        182        185      0.994      0.946      0.973      0.704\n"
          ]
        },
        {
          "name": "stderr",
          "output_type": "stream",
          "text": [
            "\n"
          ]
        },
        {
          "name": "stdout",
          "output_type": "stream",
          "text": [
            "\n",
            "      Epoch    GPU_mem   box_loss   cls_loss   dfl_loss  Instances       Size\n"
          ]
        },
        {
          "name": "stderr",
          "output_type": "stream",
          "text": [
            "    116/200      4.32G     0.7179     0.4035     0.9316         50        640: 100%|██████████| 20/20 [00:13<00:00,  1.44it/s]\n",
            "                 Class     Images  Instances      Box(P          R      mAP50  mAP50-95): 100%|██████████| 3/3 [00:02<00:00,  1.15it/s]"
          ]
        },
        {
          "name": "stdout",
          "output_type": "stream",
          "text": [
            "                   all        182        185      0.991      0.951      0.978      0.753\n"
          ]
        },
        {
          "name": "stderr",
          "output_type": "stream",
          "text": [
            "\n"
          ]
        },
        {
          "name": "stdout",
          "output_type": "stream",
          "text": [
            "\n",
            "      Epoch    GPU_mem   box_loss   cls_loss   dfl_loss  Instances       Size\n"
          ]
        },
        {
          "name": "stderr",
          "output_type": "stream",
          "text": [
            "    117/200      4.32G     0.7319      0.399     0.9247         49        640: 100%|██████████| 20/20 [00:13<00:00,  1.46it/s]\n",
            "                 Class     Images  Instances      Box(P          R      mAP50  mAP50-95): 100%|██████████| 3/3 [00:02<00:00,  1.07it/s]"
          ]
        },
        {
          "name": "stdout",
          "output_type": "stream",
          "text": [
            "                   all        182        185      0.993      0.973       0.98      0.742\n"
          ]
        },
        {
          "name": "stderr",
          "output_type": "stream",
          "text": [
            "\n"
          ]
        },
        {
          "name": "stdout",
          "output_type": "stream",
          "text": [
            "\n",
            "      Epoch    GPU_mem   box_loss   cls_loss   dfl_loss  Instances       Size\n"
          ]
        },
        {
          "name": "stderr",
          "output_type": "stream",
          "text": [
            "    118/200      4.32G     0.7133     0.4001     0.9243         53        640: 100%|██████████| 20/20 [00:13<00:00,  1.44it/s]\n",
            "                 Class     Images  Instances      Box(P          R      mAP50  mAP50-95): 100%|██████████| 3/3 [00:02<00:00,  1.25it/s]"
          ]
        },
        {
          "name": "stdout",
          "output_type": "stream",
          "text": [
            "                   all        182        185      0.984      0.972      0.983       0.75\n"
          ]
        },
        {
          "name": "stderr",
          "output_type": "stream",
          "text": [
            "\n"
          ]
        },
        {
          "name": "stdout",
          "output_type": "stream",
          "text": [
            "\n",
            "      Epoch    GPU_mem   box_loss   cls_loss   dfl_loss  Instances       Size\n"
          ]
        },
        {
          "name": "stderr",
          "output_type": "stream",
          "text": [
            "    119/200      4.32G     0.7013     0.3935     0.9235         48        640: 100%|██████████| 20/20 [00:13<00:00,  1.50it/s]\n",
            "                 Class     Images  Instances      Box(P          R      mAP50  mAP50-95): 100%|██████████| 3/3 [00:02<00:00,  1.19it/s]"
          ]
        },
        {
          "name": "stdout",
          "output_type": "stream",
          "text": [
            "                   all        182        185      0.988      0.968      0.983      0.755\n"
          ]
        },
        {
          "name": "stderr",
          "output_type": "stream",
          "text": [
            "\n"
          ]
        },
        {
          "name": "stdout",
          "output_type": "stream",
          "text": [
            "\n",
            "      Epoch    GPU_mem   box_loss   cls_loss   dfl_loss  Instances       Size\n"
          ]
        },
        {
          "name": "stderr",
          "output_type": "stream",
          "text": [
            "    120/200      4.32G     0.7186     0.4013     0.9242         61        640: 100%|██████████| 20/20 [00:13<00:00,  1.48it/s]\n",
            "                 Class     Images  Instances      Box(P          R      mAP50  mAP50-95): 100%|██████████| 3/3 [00:02<00:00,  1.25it/s]"
          ]
        },
        {
          "name": "stdout",
          "output_type": "stream",
          "text": [
            "                   all        182        185      0.989      0.956      0.985      0.755\n"
          ]
        },
        {
          "name": "stderr",
          "output_type": "stream",
          "text": [
            "\n"
          ]
        },
        {
          "name": "stdout",
          "output_type": "stream",
          "text": [
            "\n",
            "      Epoch    GPU_mem   box_loss   cls_loss   dfl_loss  Instances       Size\n"
          ]
        },
        {
          "name": "stderr",
          "output_type": "stream",
          "text": [
            "    121/200      4.32G     0.7132     0.3933     0.9276         61        640: 100%|██████████| 20/20 [00:13<00:00,  1.51it/s]\n",
            "                 Class     Images  Instances      Box(P          R      mAP50  mAP50-95): 100%|██████████| 3/3 [00:02<00:00,  1.44it/s]"
          ]
        },
        {
          "name": "stdout",
          "output_type": "stream",
          "text": [
            "                   all        182        185      0.994      0.951      0.983      0.742\n"
          ]
        },
        {
          "name": "stderr",
          "output_type": "stream",
          "text": [
            "\n"
          ]
        },
        {
          "name": "stdout",
          "output_type": "stream",
          "text": [
            "\n",
            "      Epoch    GPU_mem   box_loss   cls_loss   dfl_loss  Instances       Size\n"
          ]
        },
        {
          "name": "stderr",
          "output_type": "stream",
          "text": [
            "    122/200      4.32G     0.7277     0.4003     0.9337         45        640: 100%|██████████| 20/20 [00:13<00:00,  1.46it/s]\n",
            "                 Class     Images  Instances      Box(P          R      mAP50  mAP50-95): 100%|██████████| 3/3 [00:02<00:00,  1.33it/s]"
          ]
        },
        {
          "name": "stdout",
          "output_type": "stream",
          "text": [
            "                   all        182        185      0.993      0.962       0.98      0.757\n"
          ]
        },
        {
          "name": "stderr",
          "output_type": "stream",
          "text": [
            "\n"
          ]
        },
        {
          "name": "stdout",
          "output_type": "stream",
          "text": [
            "\n",
            "      Epoch    GPU_mem   box_loss   cls_loss   dfl_loss  Instances       Size\n"
          ]
        },
        {
          "name": "stderr",
          "output_type": "stream",
          "text": [
            "    123/200      4.32G     0.6947     0.3891     0.9156         46        640: 100%|██████████| 20/20 [00:13<00:00,  1.46it/s]\n",
            "                 Class     Images  Instances      Box(P          R      mAP50  mAP50-95): 100%|██████████| 3/3 [00:02<00:00,  1.24it/s]"
          ]
        },
        {
          "name": "stdout",
          "output_type": "stream",
          "text": [
            "                   all        182        185      0.984      0.968       0.98      0.755\n"
          ]
        },
        {
          "name": "stderr",
          "output_type": "stream",
          "text": [
            "\n"
          ]
        },
        {
          "name": "stdout",
          "output_type": "stream",
          "text": [
            "\n",
            "      Epoch    GPU_mem   box_loss   cls_loss   dfl_loss  Instances       Size\n"
          ]
        },
        {
          "name": "stderr",
          "output_type": "stream",
          "text": [
            "    124/200      4.32G     0.7088     0.4103     0.9253         48        640: 100%|██████████| 20/20 [00:13<00:00,  1.49it/s]\n",
            "                 Class     Images  Instances      Box(P          R      mAP50  mAP50-95): 100%|██████████| 3/3 [00:02<00:00,  1.22it/s]"
          ]
        },
        {
          "name": "stdout",
          "output_type": "stream",
          "text": [
            "                   all        182        185      0.984      0.967      0.974      0.735\n"
          ]
        },
        {
          "name": "stderr",
          "output_type": "stream",
          "text": [
            "\n"
          ]
        },
        {
          "name": "stdout",
          "output_type": "stream",
          "text": [
            "\n",
            "      Epoch    GPU_mem   box_loss   cls_loss   dfl_loss  Instances       Size\n"
          ]
        },
        {
          "name": "stderr",
          "output_type": "stream",
          "text": [
            "    125/200      4.32G     0.7006     0.4012     0.9327         55        640: 100%|██████████| 20/20 [00:13<00:00,  1.49it/s]\n",
            "                 Class     Images  Instances      Box(P          R      mAP50  mAP50-95): 100%|██████████| 3/3 [00:02<00:00,  1.29it/s]"
          ]
        },
        {
          "name": "stdout",
          "output_type": "stream",
          "text": [
            "                   all        182        185      0.978      0.971      0.979      0.757\n"
          ]
        },
        {
          "name": "stderr",
          "output_type": "stream",
          "text": [
            "\n"
          ]
        },
        {
          "name": "stdout",
          "output_type": "stream",
          "text": [
            "\n",
            "      Epoch    GPU_mem   box_loss   cls_loss   dfl_loss  Instances       Size\n"
          ]
        },
        {
          "name": "stderr",
          "output_type": "stream",
          "text": [
            "    126/200      4.32G     0.6886     0.3811      0.921         40        640: 100%|██████████| 20/20 [00:13<00:00,  1.49it/s]\n",
            "                 Class     Images  Instances      Box(P          R      mAP50  mAP50-95): 100%|██████████| 3/3 [00:02<00:00,  1.21it/s]"
          ]
        },
        {
          "name": "stdout",
          "output_type": "stream",
          "text": [
            "                   all        182        185      0.987      0.962      0.971      0.745\n"
          ]
        },
        {
          "name": "stderr",
          "output_type": "stream",
          "text": [
            "\n"
          ]
        },
        {
          "name": "stdout",
          "output_type": "stream",
          "text": [
            "\n",
            "      Epoch    GPU_mem   box_loss   cls_loss   dfl_loss  Instances       Size\n"
          ]
        },
        {
          "name": "stderr",
          "output_type": "stream",
          "text": [
            "    127/200      4.32G     0.6765     0.3919     0.9145         50        640: 100%|██████████| 20/20 [00:13<00:00,  1.51it/s]\n",
            "                 Class     Images  Instances      Box(P          R      mAP50  mAP50-95): 100%|██████████| 3/3 [00:02<00:00,  1.13it/s]"
          ]
        },
        {
          "name": "stdout",
          "output_type": "stream",
          "text": [
            "                   all        182        185      0.998      0.946      0.977      0.752\n"
          ]
        },
        {
          "name": "stderr",
          "output_type": "stream",
          "text": [
            "\n"
          ]
        },
        {
          "name": "stdout",
          "output_type": "stream",
          "text": [
            "\n",
            "      Epoch    GPU_mem   box_loss   cls_loss   dfl_loss  Instances       Size\n"
          ]
        },
        {
          "name": "stderr",
          "output_type": "stream",
          "text": [
            "    128/200      4.32G     0.7062     0.3922     0.9227         57        640: 100%|██████████| 20/20 [00:12<00:00,  1.61it/s]\n",
            "                 Class     Images  Instances      Box(P          R      mAP50  mAP50-95): 100%|██████████| 3/3 [00:03<00:00,  1.26s/it]"
          ]
        },
        {
          "name": "stdout",
          "output_type": "stream",
          "text": [
            "                   all        182        185      0.989      0.946      0.978      0.738\n"
          ]
        },
        {
          "name": "stderr",
          "output_type": "stream",
          "text": [
            "\n"
          ]
        },
        {
          "name": "stdout",
          "output_type": "stream",
          "text": [
            "\n",
            "      Epoch    GPU_mem   box_loss   cls_loss   dfl_loss  Instances       Size\n"
          ]
        },
        {
          "name": "stderr",
          "output_type": "stream",
          "text": [
            "    129/200      4.32G     0.6954     0.3871     0.9238         56        640: 100%|██████████| 20/20 [00:12<00:00,  1.57it/s]\n",
            "                 Class     Images  Instances      Box(P          R      mAP50  mAP50-95): 100%|██████████| 3/3 [00:03<00:00,  1.21s/it]"
          ]
        },
        {
          "name": "stdout",
          "output_type": "stream",
          "text": [
            "                   all        182        185      0.994       0.96       0.98      0.753\n"
          ]
        },
        {
          "name": "stderr",
          "output_type": "stream",
          "text": [
            "\n"
          ]
        },
        {
          "name": "stdout",
          "output_type": "stream",
          "text": [
            "\n",
            "      Epoch    GPU_mem   box_loss   cls_loss   dfl_loss  Instances       Size\n"
          ]
        },
        {
          "name": "stderr",
          "output_type": "stream",
          "text": [
            "    130/200      4.32G     0.6682      0.381     0.9205         50        640: 100%|██████████| 20/20 [00:11<00:00,  1.77it/s]\n",
            "                 Class     Images  Instances      Box(P          R      mAP50  mAP50-95): 100%|██████████| 3/3 [00:04<00:00,  1.42s/it]"
          ]
        },
        {
          "name": "stdout",
          "output_type": "stream",
          "text": [
            "                   all        182        185      0.978      0.968      0.978      0.748\n"
          ]
        },
        {
          "name": "stderr",
          "output_type": "stream",
          "text": [
            "\n"
          ]
        },
        {
          "name": "stdout",
          "output_type": "stream",
          "text": [
            "\n",
            "      Epoch    GPU_mem   box_loss   cls_loss   dfl_loss  Instances       Size\n"
          ]
        },
        {
          "name": "stderr",
          "output_type": "stream",
          "text": [
            "    131/200      4.32G     0.7047     0.3926     0.9259         55        640: 100%|██████████| 20/20 [00:11<00:00,  1.79it/s]\n",
            "                 Class     Images  Instances      Box(P          R      mAP50  mAP50-95): 100%|██████████| 3/3 [00:04<00:00,  1.39s/it]"
          ]
        },
        {
          "name": "stdout",
          "output_type": "stream",
          "text": [
            "                   all        182        185          1      0.951      0.981      0.735\n"
          ]
        },
        {
          "name": "stderr",
          "output_type": "stream",
          "text": [
            "\n"
          ]
        },
        {
          "name": "stdout",
          "output_type": "stream",
          "text": [
            "\n",
            "      Epoch    GPU_mem   box_loss   cls_loss   dfl_loss  Instances       Size\n"
          ]
        },
        {
          "name": "stderr",
          "output_type": "stream",
          "text": [
            "    132/200      4.32G     0.7035     0.4091     0.9338         60        640: 100%|██████████| 20/20 [00:10<00:00,  1.92it/s]\n",
            "                 Class     Images  Instances      Box(P          R      mAP50  mAP50-95): 100%|██████████| 3/3 [00:03<00:00,  1.12s/it]"
          ]
        },
        {
          "name": "stdout",
          "output_type": "stream",
          "text": [
            "                   all        182        185      0.973      0.978      0.983      0.736\n"
          ]
        },
        {
          "name": "stderr",
          "output_type": "stream",
          "text": [
            "\n"
          ]
        },
        {
          "name": "stdout",
          "output_type": "stream",
          "text": [
            "\n",
            "      Epoch    GPU_mem   box_loss   cls_loss   dfl_loss  Instances       Size\n"
          ]
        },
        {
          "name": "stderr",
          "output_type": "stream",
          "text": [
            "    133/200      4.32G     0.6708      0.381     0.9203         44        640: 100%|██████████| 20/20 [00:10<00:00,  1.88it/s]\n",
            "                 Class     Images  Instances      Box(P          R      mAP50  mAP50-95): 100%|██████████| 3/3 [00:03<00:00,  1.32s/it]"
          ]
        },
        {
          "name": "stdout",
          "output_type": "stream",
          "text": [
            "                   all        182        185      0.978      0.975      0.985      0.747\n"
          ]
        },
        {
          "name": "stderr",
          "output_type": "stream",
          "text": [
            "\n"
          ]
        },
        {
          "name": "stdout",
          "output_type": "stream",
          "text": [
            "\n",
            "      Epoch    GPU_mem   box_loss   cls_loss   dfl_loss  Instances       Size\n"
          ]
        },
        {
          "name": "stderr",
          "output_type": "stream",
          "text": [
            "    134/200      4.32G     0.6909     0.3939     0.9211         39        640: 100%|██████████| 20/20 [00:10<00:00,  1.82it/s]\n",
            "                 Class     Images  Instances      Box(P          R      mAP50  mAP50-95): 100%|██████████| 3/3 [00:03<00:00,  1.09s/it]"
          ]
        },
        {
          "name": "stdout",
          "output_type": "stream",
          "text": [
            "                   all        182        185      0.993      0.946      0.982       0.76\n"
          ]
        },
        {
          "name": "stderr",
          "output_type": "stream",
          "text": [
            "\n"
          ]
        },
        {
          "name": "stdout",
          "output_type": "stream",
          "text": [
            "\n",
            "      Epoch    GPU_mem   box_loss   cls_loss   dfl_loss  Instances       Size\n"
          ]
        },
        {
          "name": "stderr",
          "output_type": "stream",
          "text": [
            "    135/200      4.32G     0.6794     0.3806     0.9077         47        640: 100%|██████████| 20/20 [00:11<00:00,  1.75it/s]\n",
            "                 Class     Images  Instances      Box(P          R      mAP50  mAP50-95): 100%|██████████| 3/3 [00:02<00:00,  1.16it/s]"
          ]
        },
        {
          "name": "stdout",
          "output_type": "stream",
          "text": [
            "                   all        182        185      0.977      0.962      0.978      0.753\n"
          ]
        },
        {
          "name": "stderr",
          "output_type": "stream",
          "text": [
            "\n"
          ]
        },
        {
          "name": "stdout",
          "output_type": "stream",
          "text": [
            "\n",
            "      Epoch    GPU_mem   box_loss   cls_loss   dfl_loss  Instances       Size\n"
          ]
        },
        {
          "name": "stderr",
          "output_type": "stream",
          "text": [
            "    136/200      4.32G     0.6812     0.3774     0.9197         57        640: 100%|██████████| 20/20 [00:12<00:00,  1.60it/s]\n",
            "                 Class     Images  Instances      Box(P          R      mAP50  mAP50-95): 100%|██████████| 3/3 [00:02<00:00,  1.22it/s]"
          ]
        },
        {
          "name": "stdout",
          "output_type": "stream",
          "text": [
            "                   all        182        185      0.999      0.946       0.98      0.754\n"
          ]
        },
        {
          "name": "stderr",
          "output_type": "stream",
          "text": [
            "\n"
          ]
        },
        {
          "name": "stdout",
          "output_type": "stream",
          "text": [
            "\n",
            "      Epoch    GPU_mem   box_loss   cls_loss   dfl_loss  Instances       Size\n"
          ]
        },
        {
          "name": "stderr",
          "output_type": "stream",
          "text": [
            "    137/200      4.32G     0.6708     0.3673     0.9183         55        640: 100%|██████████| 20/20 [00:13<00:00,  1.47it/s]\n",
            "                 Class     Images  Instances      Box(P          R      mAP50  mAP50-95): 100%|██████████| 3/3 [00:02<00:00,  1.28it/s]"
          ]
        },
        {
          "name": "stdout",
          "output_type": "stream",
          "text": [
            "                   all        182        185      0.979      0.968      0.981       0.76\n"
          ]
        },
        {
          "name": "stderr",
          "output_type": "stream",
          "text": [
            "\n"
          ]
        },
        {
          "name": "stdout",
          "output_type": "stream",
          "text": [
            "\n",
            "      Epoch    GPU_mem   box_loss   cls_loss   dfl_loss  Instances       Size\n"
          ]
        },
        {
          "name": "stderr",
          "output_type": "stream",
          "text": [
            "    138/200      4.32G     0.6718     0.3659     0.9132         49        640: 100%|██████████| 20/20 [00:13<00:00,  1.49it/s]\n",
            "                 Class     Images  Instances      Box(P          R      mAP50  mAP50-95): 100%|██████████| 3/3 [00:02<00:00,  1.22it/s]"
          ]
        },
        {
          "name": "stdout",
          "output_type": "stream",
          "text": [
            "                   all        182        185      0.994      0.945       0.98      0.764\n"
          ]
        },
        {
          "name": "stderr",
          "output_type": "stream",
          "text": [
            "\n"
          ]
        },
        {
          "name": "stdout",
          "output_type": "stream",
          "text": [
            "\n",
            "      Epoch    GPU_mem   box_loss   cls_loss   dfl_loss  Instances       Size\n"
          ]
        },
        {
          "name": "stderr",
          "output_type": "stream",
          "text": [
            "    139/200      4.32G     0.6811     0.3825     0.9137         38        640: 100%|██████████| 20/20 [00:13<00:00,  1.51it/s]\n",
            "                 Class     Images  Instances      Box(P          R      mAP50  mAP50-95): 100%|██████████| 3/3 [00:02<00:00,  1.49it/s]"
          ]
        },
        {
          "name": "stdout",
          "output_type": "stream",
          "text": [
            "                   all        182        185      0.983      0.968      0.974      0.748\n"
          ]
        },
        {
          "name": "stderr",
          "output_type": "stream",
          "text": [
            "\n"
          ]
        },
        {
          "name": "stdout",
          "output_type": "stream",
          "text": [
            "\n",
            "      Epoch    GPU_mem   box_loss   cls_loss   dfl_loss  Instances       Size\n"
          ]
        },
        {
          "name": "stderr",
          "output_type": "stream",
          "text": [
            "    140/200      4.32G     0.6675     0.3709     0.9184         57        640: 100%|██████████| 20/20 [00:13<00:00,  1.47it/s]\n",
            "                 Class     Images  Instances      Box(P          R      mAP50  mAP50-95): 100%|██████████| 3/3 [00:02<00:00,  1.19it/s]"
          ]
        },
        {
          "name": "stdout",
          "output_type": "stream",
          "text": [
            "                   all        182        185      0.978      0.967      0.981      0.765\n"
          ]
        },
        {
          "name": "stderr",
          "output_type": "stream",
          "text": [
            "\n"
          ]
        },
        {
          "name": "stdout",
          "output_type": "stream",
          "text": [
            "\n",
            "      Epoch    GPU_mem   box_loss   cls_loss   dfl_loss  Instances       Size\n"
          ]
        },
        {
          "name": "stderr",
          "output_type": "stream",
          "text": [
            "    141/200      4.32G     0.6631     0.3622     0.9084         39        640: 100%|██████████| 20/20 [00:12<00:00,  1.54it/s]\n",
            "                 Class     Images  Instances      Box(P          R      mAP50  mAP50-95): 100%|██████████| 3/3 [00:02<00:00,  1.29it/s]"
          ]
        },
        {
          "name": "stdout",
          "output_type": "stream",
          "text": [
            "                   all        182        185      0.993      0.951      0.985      0.763\n"
          ]
        },
        {
          "name": "stderr",
          "output_type": "stream",
          "text": [
            "\n"
          ]
        },
        {
          "name": "stdout",
          "output_type": "stream",
          "text": [
            "\n",
            "      Epoch    GPU_mem   box_loss   cls_loss   dfl_loss  Instances       Size\n"
          ]
        },
        {
          "name": "stderr",
          "output_type": "stream",
          "text": [
            "    142/200      4.32G     0.6516     0.3703     0.9108         52        640: 100%|██████████| 20/20 [00:13<00:00,  1.47it/s]\n",
            "                 Class     Images  Instances      Box(P          R      mAP50  mAP50-95): 100%|██████████| 3/3 [00:02<00:00,  1.23it/s]"
          ]
        },
        {
          "name": "stdout",
          "output_type": "stream",
          "text": [
            "                   all        182        185          1       0.95      0.984      0.767\n"
          ]
        },
        {
          "name": "stderr",
          "output_type": "stream",
          "text": [
            "\n"
          ]
        },
        {
          "name": "stdout",
          "output_type": "stream",
          "text": [
            "\n",
            "      Epoch    GPU_mem   box_loss   cls_loss   dfl_loss  Instances       Size\n"
          ]
        },
        {
          "name": "stderr",
          "output_type": "stream",
          "text": [
            "    143/200      4.32G     0.6403     0.3662     0.9141         49        640: 100%|██████████| 20/20 [00:13<00:00,  1.50it/s]\n",
            "                 Class     Images  Instances      Box(P          R      mAP50  mAP50-95): 100%|██████████| 3/3 [00:02<00:00,  1.19it/s]"
          ]
        },
        {
          "name": "stdout",
          "output_type": "stream",
          "text": [
            "                   all        182        185      0.994      0.956      0.974      0.761\n"
          ]
        },
        {
          "name": "stderr",
          "output_type": "stream",
          "text": [
            "\n"
          ]
        },
        {
          "name": "stdout",
          "output_type": "stream",
          "text": [
            "\n",
            "      Epoch    GPU_mem   box_loss   cls_loss   dfl_loss  Instances       Size\n"
          ]
        },
        {
          "name": "stderr",
          "output_type": "stream",
          "text": [
            "    144/200      4.32G       0.67     0.3735     0.9166         55        640: 100%|██████████| 20/20 [00:13<00:00,  1.53it/s]\n",
            "                 Class     Images  Instances      Box(P          R      mAP50  mAP50-95): 100%|██████████| 3/3 [00:02<00:00,  1.14it/s]"
          ]
        },
        {
          "name": "stdout",
          "output_type": "stream",
          "text": [
            "                   all        182        185      0.992      0.962      0.972      0.754\n"
          ]
        },
        {
          "name": "stderr",
          "output_type": "stream",
          "text": [
            "\n"
          ]
        },
        {
          "name": "stdout",
          "output_type": "stream",
          "text": [
            "\n",
            "      Epoch    GPU_mem   box_loss   cls_loss   dfl_loss  Instances       Size\n"
          ]
        },
        {
          "name": "stderr",
          "output_type": "stream",
          "text": [
            "    145/200      4.32G     0.6682     0.3698     0.9094         49        640: 100%|██████████| 20/20 [00:13<00:00,  1.46it/s]\n",
            "                 Class     Images  Instances      Box(P          R      mAP50  mAP50-95): 100%|██████████| 3/3 [00:02<00:00,  1.10it/s]"
          ]
        },
        {
          "name": "stdout",
          "output_type": "stream",
          "text": [
            "                   all        182        185      0.998      0.957      0.982      0.768\n"
          ]
        },
        {
          "name": "stderr",
          "output_type": "stream",
          "text": [
            "\n"
          ]
        },
        {
          "name": "stdout",
          "output_type": "stream",
          "text": [
            "\n",
            "      Epoch    GPU_mem   box_loss   cls_loss   dfl_loss  Instances       Size\n"
          ]
        },
        {
          "name": "stderr",
          "output_type": "stream",
          "text": [
            "    146/200      4.32G     0.6396     0.3741     0.9199         49        640: 100%|██████████| 20/20 [00:13<00:00,  1.48it/s]\n",
            "                 Class     Images  Instances      Box(P          R      mAP50  mAP50-95): 100%|██████████| 3/3 [00:02<00:00,  1.33it/s]"
          ]
        },
        {
          "name": "stdout",
          "output_type": "stream",
          "text": [
            "                   all        182        185      0.997      0.962       0.98      0.766\n"
          ]
        },
        {
          "name": "stderr",
          "output_type": "stream",
          "text": [
            "\n"
          ]
        },
        {
          "name": "stdout",
          "output_type": "stream",
          "text": [
            "\n",
            "      Epoch    GPU_mem   box_loss   cls_loss   dfl_loss  Instances       Size\n"
          ]
        },
        {
          "name": "stderr",
          "output_type": "stream",
          "text": [
            "    147/200      4.32G     0.6547     0.3748     0.9116         56        640: 100%|██████████| 20/20 [00:13<00:00,  1.50it/s]\n",
            "                 Class     Images  Instances      Box(P          R      mAP50  mAP50-95): 100%|██████████| 3/3 [00:02<00:00,  1.09it/s]"
          ]
        },
        {
          "name": "stdout",
          "output_type": "stream",
          "text": [
            "                   all        182        185      0.989      0.958      0.978       0.77\n"
          ]
        },
        {
          "name": "stderr",
          "output_type": "stream",
          "text": [
            "\n"
          ]
        },
        {
          "name": "stdout",
          "output_type": "stream",
          "text": [
            "\n",
            "      Epoch    GPU_mem   box_loss   cls_loss   dfl_loss  Instances       Size\n"
          ]
        },
        {
          "name": "stderr",
          "output_type": "stream",
          "text": [
            "    148/200      4.32G     0.6507     0.3603     0.9097         51        640: 100%|██████████| 20/20 [00:12<00:00,  1.57it/s]\n",
            "                 Class     Images  Instances      Box(P          R      mAP50  mAP50-95): 100%|██████████| 3/3 [00:02<00:00,  1.01it/s]"
          ]
        },
        {
          "name": "stdout",
          "output_type": "stream",
          "text": [
            "                   all        182        185      0.983      0.963      0.981      0.764\n"
          ]
        },
        {
          "name": "stderr",
          "output_type": "stream",
          "text": [
            "\n"
          ]
        },
        {
          "name": "stdout",
          "output_type": "stream",
          "text": [
            "\n",
            "      Epoch    GPU_mem   box_loss   cls_loss   dfl_loss  Instances       Size\n"
          ]
        },
        {
          "name": "stderr",
          "output_type": "stream",
          "text": [
            "    149/200      4.35G     0.6507     0.3693     0.9105         44        640: 100%|██████████| 20/20 [00:11<00:00,  1.69it/s]\n",
            "                 Class     Images  Instances      Box(P          R      mAP50  mAP50-95): 100%|██████████| 3/3 [00:04<00:00,  1.35s/it]"
          ]
        },
        {
          "name": "stdout",
          "output_type": "stream",
          "text": [
            "                   all        182        185          1      0.957       0.98      0.751\n"
          ]
        },
        {
          "name": "stderr",
          "output_type": "stream",
          "text": [
            "\n"
          ]
        },
        {
          "name": "stdout",
          "output_type": "stream",
          "text": [
            "\n",
            "      Epoch    GPU_mem   box_loss   cls_loss   dfl_loss  Instances       Size\n"
          ]
        },
        {
          "name": "stderr",
          "output_type": "stream",
          "text": [
            "    150/200      4.32G     0.6321     0.3526     0.9032         56        640: 100%|██████████| 20/20 [00:11<00:00,  1.78it/s]\n",
            "                 Class     Images  Instances      Box(P          R      mAP50  mAP50-95): 100%|██████████| 3/3 [00:04<00:00,  1.39s/it]"
          ]
        },
        {
          "name": "stdout",
          "output_type": "stream",
          "text": [
            "                   all        182        185      0.983      0.962      0.979      0.756\n"
          ]
        },
        {
          "name": "stderr",
          "output_type": "stream",
          "text": [
            "\n"
          ]
        },
        {
          "name": "stdout",
          "output_type": "stream",
          "text": [
            "\n",
            "      Epoch    GPU_mem   box_loss   cls_loss   dfl_loss  Instances       Size\n"
          ]
        },
        {
          "name": "stderr",
          "output_type": "stream",
          "text": [
            "    151/200      4.32G     0.6491     0.3593     0.9081         52        640: 100%|██████████| 20/20 [00:10<00:00,  1.91it/s]\n",
            "                 Class     Images  Instances      Box(P          R      mAP50  mAP50-95): 100%|██████████| 3/3 [00:03<00:00,  1.06s/it]"
          ]
        },
        {
          "name": "stdout",
          "output_type": "stream",
          "text": [
            "                   all        182        185      0.988      0.968      0.977       0.75\n"
          ]
        },
        {
          "name": "stderr",
          "output_type": "stream",
          "text": [
            "\n"
          ]
        },
        {
          "name": "stdout",
          "output_type": "stream",
          "text": [
            "\n",
            "      Epoch    GPU_mem   box_loss   cls_loss   dfl_loss  Instances       Size\n"
          ]
        },
        {
          "name": "stderr",
          "output_type": "stream",
          "text": [
            "    152/200      4.32G     0.6264     0.3642     0.9066         37        640: 100%|██████████| 20/20 [00:10<00:00,  1.97it/s]\n",
            "                 Class     Images  Instances      Box(P          R      mAP50  mAP50-95): 100%|██████████| 3/3 [00:03<00:00,  1.06s/it]"
          ]
        },
        {
          "name": "stdout",
          "output_type": "stream",
          "text": [
            "                   all        182        185      0.994      0.965      0.978      0.754\n"
          ]
        },
        {
          "name": "stderr",
          "output_type": "stream",
          "text": [
            "\n"
          ]
        },
        {
          "name": "stdout",
          "output_type": "stream",
          "text": [
            "\n",
            "      Epoch    GPU_mem   box_loss   cls_loss   dfl_loss  Instances       Size\n"
          ]
        },
        {
          "name": "stderr",
          "output_type": "stream",
          "text": [
            "    153/200      4.32G     0.6192     0.3612     0.8951         60        640: 100%|██████████| 20/20 [00:10<00:00,  1.85it/s]\n",
            "                 Class     Images  Instances      Box(P          R      mAP50  mAP50-95): 100%|██████████| 3/3 [00:03<00:00,  1.00s/it]"
          ]
        },
        {
          "name": "stdout",
          "output_type": "stream",
          "text": [
            "                   all        182        185      0.984      0.972      0.983      0.759\n"
          ]
        },
        {
          "name": "stderr",
          "output_type": "stream",
          "text": [
            "\n"
          ]
        },
        {
          "name": "stdout",
          "output_type": "stream",
          "text": [
            "\n",
            "      Epoch    GPU_mem   box_loss   cls_loss   dfl_loss  Instances       Size\n"
          ]
        },
        {
          "name": "stderr",
          "output_type": "stream",
          "text": [
            "    154/200      4.32G     0.6281     0.3504     0.8949         46        640: 100%|██████████| 20/20 [00:12<00:00,  1.67it/s]\n",
            "                 Class     Images  Instances      Box(P          R      mAP50  mAP50-95): 100%|██████████| 3/3 [00:02<00:00,  1.09it/s]"
          ]
        },
        {
          "name": "stdout",
          "output_type": "stream",
          "text": [
            "                   all        182        185      0.983      0.966      0.985       0.76\n"
          ]
        },
        {
          "name": "stderr",
          "output_type": "stream",
          "text": [
            "\n"
          ]
        },
        {
          "name": "stdout",
          "output_type": "stream",
          "text": [
            "\n",
            "      Epoch    GPU_mem   box_loss   cls_loss   dfl_loss  Instances       Size\n"
          ]
        },
        {
          "name": "stderr",
          "output_type": "stream",
          "text": [
            "    155/200      4.32G     0.6341     0.3548     0.8959         48        640: 100%|██████████| 20/20 [00:12<00:00,  1.63it/s]\n",
            "                 Class     Images  Instances      Box(P          R      mAP50  mAP50-95): 100%|██████████| 3/3 [00:02<00:00,  1.27it/s]"
          ]
        },
        {
          "name": "stdout",
          "output_type": "stream",
          "text": [
            "                   all        182        185      0.989       0.96      0.985      0.757\n"
          ]
        },
        {
          "name": "stderr",
          "output_type": "stream",
          "text": [
            "\n"
          ]
        },
        {
          "name": "stdout",
          "output_type": "stream",
          "text": [
            "\n",
            "      Epoch    GPU_mem   box_loss   cls_loss   dfl_loss  Instances       Size\n"
          ]
        },
        {
          "name": "stderr",
          "output_type": "stream",
          "text": [
            "    156/200      4.32G      0.635     0.3522     0.8944         46        640: 100%|██████████| 20/20 [00:12<00:00,  1.54it/s]\n",
            "                 Class     Images  Instances      Box(P          R      mAP50  mAP50-95): 100%|██████████| 3/3 [00:02<00:00,  1.24it/s]"
          ]
        },
        {
          "name": "stdout",
          "output_type": "stream",
          "text": [
            "                   all        182        185          1       0.95      0.974      0.748\n"
          ]
        },
        {
          "name": "stderr",
          "output_type": "stream",
          "text": [
            "\n"
          ]
        },
        {
          "name": "stdout",
          "output_type": "stream",
          "text": [
            "\n",
            "      Epoch    GPU_mem   box_loss   cls_loss   dfl_loss  Instances       Size\n"
          ]
        },
        {
          "name": "stderr",
          "output_type": "stream",
          "text": [
            "    157/200      4.32G     0.6101     0.3462     0.9013         51        640: 100%|██████████| 20/20 [00:13<00:00,  1.53it/s]\n",
            "                 Class     Images  Instances      Box(P          R      mAP50  mAP50-95): 100%|██████████| 3/3 [00:02<00:00,  1.39it/s]"
          ]
        },
        {
          "name": "stdout",
          "output_type": "stream",
          "text": [
            "                   all        182        185      0.983      0.968      0.977      0.757\n"
          ]
        },
        {
          "name": "stderr",
          "output_type": "stream",
          "text": [
            "\n"
          ]
        },
        {
          "name": "stdout",
          "output_type": "stream",
          "text": [
            "\n",
            "      Epoch    GPU_mem   box_loss   cls_loss   dfl_loss  Instances       Size\n"
          ]
        },
        {
          "name": "stderr",
          "output_type": "stream",
          "text": [
            "    158/200      4.32G     0.6241     0.3433     0.8958         43        640: 100%|██████████| 20/20 [00:13<00:00,  1.53it/s]\n",
            "                 Class     Images  Instances      Box(P          R      mAP50  mAP50-95): 100%|██████████| 3/3 [00:02<00:00,  1.18it/s]"
          ]
        },
        {
          "name": "stdout",
          "output_type": "stream",
          "text": [
            "                   all        182        185      0.993      0.957      0.979      0.757\n"
          ]
        },
        {
          "name": "stderr",
          "output_type": "stream",
          "text": [
            "\n"
          ]
        },
        {
          "name": "stdout",
          "output_type": "stream",
          "text": [
            "\n",
            "      Epoch    GPU_mem   box_loss   cls_loss   dfl_loss  Instances       Size\n"
          ]
        },
        {
          "name": "stderr",
          "output_type": "stream",
          "text": [
            "    159/200      4.32G     0.6067     0.3464     0.9019         53        640: 100%|██████████| 20/20 [00:13<00:00,  1.51it/s]\n",
            "                 Class     Images  Instances      Box(P          R      mAP50  mAP50-95): 100%|██████████| 3/3 [00:02<00:00,  1.13it/s]"
          ]
        },
        {
          "name": "stdout",
          "output_type": "stream",
          "text": [
            "                   all        182        185      0.996      0.957      0.978       0.75\n"
          ]
        },
        {
          "name": "stderr",
          "output_type": "stream",
          "text": [
            "\n"
          ]
        },
        {
          "name": "stdout",
          "output_type": "stream",
          "text": [
            "\n",
            "      Epoch    GPU_mem   box_loss   cls_loss   dfl_loss  Instances       Size\n"
          ]
        },
        {
          "name": "stderr",
          "output_type": "stream",
          "text": [
            "    160/200      4.32G        0.6     0.3375     0.8898         61        640: 100%|██████████| 20/20 [00:13<00:00,  1.53it/s]\n",
            "                 Class     Images  Instances      Box(P          R      mAP50  mAP50-95): 100%|██████████| 3/3 [00:02<00:00,  1.41it/s]"
          ]
        },
        {
          "name": "stdout",
          "output_type": "stream",
          "text": [
            "                   all        182        185      0.998      0.957      0.982      0.766\n"
          ]
        },
        {
          "name": "stderr",
          "output_type": "stream",
          "text": [
            "\n"
          ]
        },
        {
          "name": "stdout",
          "output_type": "stream",
          "text": [
            "\n",
            "      Epoch    GPU_mem   box_loss   cls_loss   dfl_loss  Instances       Size\n"
          ]
        },
        {
          "name": "stderr",
          "output_type": "stream",
          "text": [
            "    161/200      4.32G     0.5904     0.3387     0.8891         47        640: 100%|██████████| 20/20 [00:13<00:00,  1.47it/s]\n",
            "                 Class     Images  Instances      Box(P          R      mAP50  mAP50-95): 100%|██████████| 3/3 [00:02<00:00,  1.24it/s]"
          ]
        },
        {
          "name": "stdout",
          "output_type": "stream",
          "text": [
            "                   all        182        185      0.989      0.966      0.982      0.758\n"
          ]
        },
        {
          "name": "stderr",
          "output_type": "stream",
          "text": [
            "\n"
          ]
        },
        {
          "name": "stdout",
          "output_type": "stream",
          "text": [
            "\n",
            "      Epoch    GPU_mem   box_loss   cls_loss   dfl_loss  Instances       Size\n"
          ]
        },
        {
          "name": "stderr",
          "output_type": "stream",
          "text": [
            "    162/200      4.32G     0.6139     0.3554     0.9023         51        640: 100%|██████████| 20/20 [00:13<00:00,  1.46it/s]\n",
            "                 Class     Images  Instances      Box(P          R      mAP50  mAP50-95): 100%|██████████| 3/3 [00:02<00:00,  1.36it/s]"
          ]
        },
        {
          "name": "stdout",
          "output_type": "stream",
          "text": [
            "                   all        182        185      0.989       0.96       0.98      0.758\n"
          ]
        },
        {
          "name": "stderr",
          "output_type": "stream",
          "text": [
            "\n"
          ]
        },
        {
          "name": "stdout",
          "output_type": "stream",
          "text": [
            "\n",
            "      Epoch    GPU_mem   box_loss   cls_loss   dfl_loss  Instances       Size\n"
          ]
        },
        {
          "name": "stderr",
          "output_type": "stream",
          "text": [
            "    163/200      4.32G     0.6048     0.3366      0.905         51        640: 100%|██████████| 20/20 [00:13<00:00,  1.48it/s]\n",
            "                 Class     Images  Instances      Box(P          R      mAP50  mAP50-95): 100%|██████████| 3/3 [00:02<00:00,  1.12it/s]"
          ]
        },
        {
          "name": "stdout",
          "output_type": "stream",
          "text": [
            "                   all        182        185      0.988      0.962      0.974      0.761\n"
          ]
        },
        {
          "name": "stderr",
          "output_type": "stream",
          "text": [
            "\n"
          ]
        },
        {
          "name": "stdout",
          "output_type": "stream",
          "text": [
            "\n",
            "      Epoch    GPU_mem   box_loss   cls_loss   dfl_loss  Instances       Size\n"
          ]
        },
        {
          "name": "stderr",
          "output_type": "stream",
          "text": [
            "    164/200      4.32G     0.6075     0.3527     0.8986         41        640: 100%|██████████| 20/20 [00:13<00:00,  1.48it/s]\n",
            "                 Class     Images  Instances      Box(P          R      mAP50  mAP50-95): 100%|██████████| 3/3 [00:02<00:00,  1.45it/s]"
          ]
        },
        {
          "name": "stdout",
          "output_type": "stream",
          "text": [
            "                   all        182        185      0.988      0.968      0.981      0.772\n"
          ]
        },
        {
          "name": "stderr",
          "output_type": "stream",
          "text": [
            "\n"
          ]
        },
        {
          "name": "stdout",
          "output_type": "stream",
          "text": [
            "\n",
            "      Epoch    GPU_mem   box_loss   cls_loss   dfl_loss  Instances       Size\n"
          ]
        },
        {
          "name": "stderr",
          "output_type": "stream",
          "text": [
            "    165/200      4.32G     0.6275     0.3465     0.9024         46        640: 100%|██████████| 20/20 [00:13<00:00,  1.48it/s]\n",
            "                 Class     Images  Instances      Box(P          R      mAP50  mAP50-95): 100%|██████████| 3/3 [00:02<00:00,  1.13it/s]"
          ]
        },
        {
          "name": "stdout",
          "output_type": "stream",
          "text": [
            "                   all        182        185      0.994      0.961      0.983      0.767\n"
          ]
        },
        {
          "name": "stderr",
          "output_type": "stream",
          "text": [
            "\n"
          ]
        },
        {
          "name": "stdout",
          "output_type": "stream",
          "text": [
            "\n",
            "      Epoch    GPU_mem   box_loss   cls_loss   dfl_loss  Instances       Size\n"
          ]
        },
        {
          "name": "stderr",
          "output_type": "stream",
          "text": [
            "    166/200      4.32G     0.5972     0.3365     0.8928         55        640: 100%|██████████| 20/20 [00:13<00:00,  1.47it/s]\n",
            "                 Class     Images  Instances      Box(P          R      mAP50  mAP50-95): 100%|██████████| 3/3 [00:02<00:00,  1.32it/s]"
          ]
        },
        {
          "name": "stdout",
          "output_type": "stream",
          "text": [
            "                   all        182        185      0.994       0.96      0.981       0.77\n"
          ]
        },
        {
          "name": "stderr",
          "output_type": "stream",
          "text": [
            "\n"
          ]
        },
        {
          "name": "stdout",
          "output_type": "stream",
          "text": [
            "\n",
            "      Epoch    GPU_mem   box_loss   cls_loss   dfl_loss  Instances       Size\n"
          ]
        },
        {
          "name": "stderr",
          "output_type": "stream",
          "text": [
            "    167/200      4.32G     0.5812     0.3319     0.8894         62        640: 100%|██████████| 20/20 [00:13<00:00,  1.46it/s]\n",
            "                 Class     Images  Instances      Box(P          R      mAP50  mAP50-95): 100%|██████████| 3/3 [00:02<00:00,  1.43it/s]"
          ]
        },
        {
          "name": "stdout",
          "output_type": "stream",
          "text": [
            "                   all        182        185      0.994      0.957      0.981       0.77\n"
          ]
        },
        {
          "name": "stderr",
          "output_type": "stream",
          "text": [
            "\n"
          ]
        },
        {
          "name": "stdout",
          "output_type": "stream",
          "text": [
            "\n",
            "      Epoch    GPU_mem   box_loss   cls_loss   dfl_loss  Instances       Size\n"
          ]
        },
        {
          "name": "stderr",
          "output_type": "stream",
          "text": [
            "    168/200      4.32G     0.5807      0.333     0.8812         40        640: 100%|██████████| 20/20 [00:13<00:00,  1.51it/s]\n",
            "                 Class     Images  Instances      Box(P          R      mAP50  mAP50-95): 100%|██████████| 3/3 [00:02<00:00,  1.28it/s]"
          ]
        },
        {
          "name": "stdout",
          "output_type": "stream",
          "text": [
            "                   all        182        185          1      0.962      0.981      0.769\n"
          ]
        },
        {
          "name": "stderr",
          "output_type": "stream",
          "text": [
            "\n"
          ]
        },
        {
          "name": "stdout",
          "output_type": "stream",
          "text": [
            "\n",
            "      Epoch    GPU_mem   box_loss   cls_loss   dfl_loss  Instances       Size\n"
          ]
        },
        {
          "name": "stderr",
          "output_type": "stream",
          "text": [
            "    169/200      4.32G      0.595     0.3317     0.8942         50        640: 100%|██████████| 20/20 [00:13<00:00,  1.52it/s]\n",
            "                 Class     Images  Instances      Box(P          R      mAP50  mAP50-95): 100%|██████████| 3/3 [00:02<00:00,  1.16it/s]"
          ]
        },
        {
          "name": "stdout",
          "output_type": "stream",
          "text": [
            "                   all        182        185      0.994      0.962       0.98       0.77\n"
          ]
        },
        {
          "name": "stderr",
          "output_type": "stream",
          "text": [
            "\n"
          ]
        },
        {
          "name": "stdout",
          "output_type": "stream",
          "text": [
            "\n",
            "      Epoch    GPU_mem   box_loss   cls_loss   dfl_loss  Instances       Size\n"
          ]
        },
        {
          "name": "stderr",
          "output_type": "stream",
          "text": [
            "    170/200      4.32G     0.6026     0.3437      0.903         52        640: 100%|██████████| 20/20 [00:13<00:00,  1.49it/s]\n",
            "                 Class     Images  Instances      Box(P          R      mAP50  mAP50-95): 100%|██████████| 3/3 [00:02<00:00,  1.19it/s]"
          ]
        },
        {
          "name": "stdout",
          "output_type": "stream",
          "text": [
            "                   all        182        185      0.997      0.957      0.981      0.769\n"
          ]
        },
        {
          "name": "stderr",
          "output_type": "stream",
          "text": [
            "\n"
          ]
        },
        {
          "name": "stdout",
          "output_type": "stream",
          "text": [
            "\n",
            "      Epoch    GPU_mem   box_loss   cls_loss   dfl_loss  Instances       Size\n"
          ]
        },
        {
          "name": "stderr",
          "output_type": "stream",
          "text": [
            "    171/200      4.32G     0.5771     0.3259     0.8788         47        640: 100%|██████████| 20/20 [00:13<00:00,  1.50it/s]\n",
            "                 Class     Images  Instances      Box(P          R      mAP50  mAP50-95): 100%|██████████| 3/3 [00:02<00:00,  1.25it/s]"
          ]
        },
        {
          "name": "stdout",
          "output_type": "stream",
          "text": [
            "                   all        182        185      0.989      0.967      0.981      0.753\n"
          ]
        },
        {
          "name": "stderr",
          "output_type": "stream",
          "text": [
            "\n"
          ]
        },
        {
          "name": "stdout",
          "output_type": "stream",
          "text": [
            "\n",
            "      Epoch    GPU_mem   box_loss   cls_loss   dfl_loss  Instances       Size\n"
          ]
        },
        {
          "name": "stderr",
          "output_type": "stream",
          "text": [
            "    172/200      4.32G     0.5854     0.3391     0.8993         54        640: 100%|██████████| 20/20 [00:13<00:00,  1.50it/s]\n",
            "                 Class     Images  Instances      Box(P          R      mAP50  mAP50-95): 100%|██████████| 3/3 [00:02<00:00,  1.36it/s]"
          ]
        },
        {
          "name": "stdout",
          "output_type": "stream",
          "text": [
            "                   all        182        185      0.997      0.962      0.974      0.764\n"
          ]
        },
        {
          "name": "stderr",
          "output_type": "stream",
          "text": [
            "\n"
          ]
        },
        {
          "name": "stdout",
          "output_type": "stream",
          "text": [
            "\n",
            "      Epoch    GPU_mem   box_loss   cls_loss   dfl_loss  Instances       Size\n"
          ]
        },
        {
          "name": "stderr",
          "output_type": "stream",
          "text": [
            "    173/200      4.32G     0.5869     0.3338     0.8961         44        640: 100%|██████████| 20/20 [00:13<00:00,  1.50it/s]\n",
            "                 Class     Images  Instances      Box(P          R      mAP50  mAP50-95): 100%|██████████| 3/3 [00:02<00:00,  1.43it/s]"
          ]
        },
        {
          "name": "stdout",
          "output_type": "stream",
          "text": [
            "                   all        182        185      0.996      0.968      0.974      0.765\n"
          ]
        },
        {
          "name": "stderr",
          "output_type": "stream",
          "text": [
            "\n"
          ]
        },
        {
          "name": "stdout",
          "output_type": "stream",
          "text": [
            "\n",
            "      Epoch    GPU_mem   box_loss   cls_loss   dfl_loss  Instances       Size\n"
          ]
        },
        {
          "name": "stderr",
          "output_type": "stream",
          "text": [
            "    174/200      4.32G     0.5783     0.3232      0.887         51        640: 100%|██████████| 20/20 [00:12<00:00,  1.55it/s]\n",
            "                 Class     Images  Instances      Box(P          R      mAP50  mAP50-95): 100%|██████████| 3/3 [00:02<00:00,  1.15it/s]"
          ]
        },
        {
          "name": "stdout",
          "output_type": "stream",
          "text": [
            "                   all        182        185      0.994      0.962      0.979      0.767\n"
          ]
        },
        {
          "name": "stderr",
          "output_type": "stream",
          "text": [
            "\n"
          ]
        },
        {
          "name": "stdout",
          "output_type": "stream",
          "text": [
            "\n",
            "      Epoch    GPU_mem   box_loss   cls_loss   dfl_loss  Instances       Size\n"
          ]
        },
        {
          "name": "stderr",
          "output_type": "stream",
          "text": [
            "    175/200      4.32G      0.578     0.3263     0.8861         55        640: 100%|██████████| 20/20 [00:12<00:00,  1.58it/s]\n",
            "                 Class     Images  Instances      Box(P          R      mAP50  mAP50-95): 100%|██████████| 3/3 [00:03<00:00,  1.02s/it]"
          ]
        },
        {
          "name": "stdout",
          "output_type": "stream",
          "text": [
            "                   all        182        185      0.997      0.957      0.982      0.768\n"
          ]
        },
        {
          "name": "stderr",
          "output_type": "stream",
          "text": [
            "\n"
          ]
        },
        {
          "name": "stdout",
          "output_type": "stream",
          "text": [
            "\n",
            "      Epoch    GPU_mem   box_loss   cls_loss   dfl_loss  Instances       Size\n"
          ]
        },
        {
          "name": "stderr",
          "output_type": "stream",
          "text": [
            "    176/200      4.32G     0.5754      0.325     0.8879         46        640: 100%|██████████| 20/20 [00:12<00:00,  1.56it/s]\n",
            "                 Class     Images  Instances      Box(P          R      mAP50  mAP50-95): 100%|██████████| 3/3 [00:02<00:00,  1.03it/s]"
          ]
        },
        {
          "name": "stdout",
          "output_type": "stream",
          "text": [
            "                   all        182        185      0.984      0.972      0.983      0.775\n"
          ]
        },
        {
          "name": "stderr",
          "output_type": "stream",
          "text": [
            "\n"
          ]
        },
        {
          "name": "stdout",
          "output_type": "stream",
          "text": [
            "\n",
            "      Epoch    GPU_mem   box_loss   cls_loss   dfl_loss  Instances       Size\n"
          ]
        },
        {
          "name": "stderr",
          "output_type": "stream",
          "text": [
            "    177/200      4.32G     0.5639     0.3175     0.8772         52        640: 100%|██████████| 20/20 [00:12<00:00,  1.60it/s]\n",
            "                 Class     Images  Instances      Box(P          R      mAP50  mAP50-95): 100%|██████████| 3/3 [00:03<00:00,  1.13s/it]"
          ]
        },
        {
          "name": "stdout",
          "output_type": "stream",
          "text": [
            "                   all        182        185      0.984      0.972      0.981      0.761\n"
          ]
        },
        {
          "name": "stderr",
          "output_type": "stream",
          "text": [
            "\n"
          ]
        },
        {
          "name": "stdout",
          "output_type": "stream",
          "text": [
            "\n",
            "      Epoch    GPU_mem   box_loss   cls_loss   dfl_loss  Instances       Size\n"
          ]
        },
        {
          "name": "stderr",
          "output_type": "stream",
          "text": [
            "    178/200      4.32G      0.583     0.3346     0.8997         47        640: 100%|██████████| 20/20 [00:11<00:00,  1.73it/s]\n",
            "                 Class     Images  Instances      Box(P          R      mAP50  mAP50-95): 100%|██████████| 3/3 [00:04<00:00,  1.39s/it]"
          ]
        },
        {
          "name": "stdout",
          "output_type": "stream",
          "text": [
            "                   all        182        185      0.989      0.967       0.98      0.758\n"
          ]
        },
        {
          "name": "stderr",
          "output_type": "stream",
          "text": [
            "\n"
          ]
        },
        {
          "name": "stdout",
          "output_type": "stream",
          "text": [
            "\n",
            "      Epoch    GPU_mem   box_loss   cls_loss   dfl_loss  Instances       Size\n"
          ]
        },
        {
          "name": "stderr",
          "output_type": "stream",
          "text": [
            "    179/200      4.32G     0.5738     0.3216     0.8944         58        640: 100%|██████████| 20/20 [00:11<00:00,  1.73it/s]\n",
            "                 Class     Images  Instances      Box(P          R      mAP50  mAP50-95): 100%|██████████| 3/3 [00:04<00:00,  1.54s/it]"
          ]
        },
        {
          "name": "stdout",
          "output_type": "stream",
          "text": [
            "                   all        182        185          1      0.956      0.979      0.753\n"
          ]
        },
        {
          "name": "stderr",
          "output_type": "stream",
          "text": [
            "\n"
          ]
        },
        {
          "name": "stdout",
          "output_type": "stream",
          "text": [
            "\n",
            "      Epoch    GPU_mem   box_loss   cls_loss   dfl_loss  Instances       Size\n"
          ]
        },
        {
          "name": "stderr",
          "output_type": "stream",
          "text": [
            "    180/200      4.32G     0.5465     0.3101     0.8769         50        640: 100%|██████████| 20/20 [00:11<00:00,  1.75it/s]\n",
            "                 Class     Images  Instances      Box(P          R      mAP50  mAP50-95): 100%|██████████| 3/3 [00:04<00:00,  1.44s/it]"
          ]
        },
        {
          "name": "stdout",
          "output_type": "stream",
          "text": [
            "                   all        182        185      0.999      0.957      0.982      0.763\n"
          ]
        },
        {
          "name": "stderr",
          "output_type": "stream",
          "text": [
            "\n"
          ]
        },
        {
          "name": "stdout",
          "output_type": "stream",
          "text": [
            "\n",
            "      Epoch    GPU_mem   box_loss   cls_loss   dfl_loss  Instances       Size\n"
          ]
        },
        {
          "name": "stderr",
          "output_type": "stream",
          "text": [
            "    181/200      4.32G     0.5604     0.3214      0.879         53        640: 100%|██████████| 20/20 [00:10<00:00,  1.83it/s]\n",
            "                 Class     Images  Instances      Box(P          R      mAP50  mAP50-95): 100%|██████████| 3/3 [00:03<00:00,  1.32s/it]"
          ]
        },
        {
          "name": "stdout",
          "output_type": "stream",
          "text": [
            "                   all        182        185      0.978      0.972      0.984      0.773\n"
          ]
        },
        {
          "name": "stderr",
          "output_type": "stream",
          "text": [
            "\n"
          ]
        },
        {
          "name": "stdout",
          "output_type": "stream",
          "text": [
            "\n",
            "      Epoch    GPU_mem   box_loss   cls_loss   dfl_loss  Instances       Size\n"
          ]
        },
        {
          "name": "stderr",
          "output_type": "stream",
          "text": [
            "    182/200      4.32G     0.5607     0.3191      0.889         58        640: 100%|██████████| 20/20 [00:10<00:00,  1.92it/s]\n",
            "                 Class     Images  Instances      Box(P          R      mAP50  mAP50-95): 100%|██████████| 3/3 [00:03<00:00,  1.04s/it]"
          ]
        },
        {
          "name": "stdout",
          "output_type": "stream",
          "text": [
            "                   all        182        185      0.989      0.962      0.983      0.764\n"
          ]
        },
        {
          "name": "stderr",
          "output_type": "stream",
          "text": [
            "\n"
          ]
        },
        {
          "name": "stdout",
          "output_type": "stream",
          "text": [
            "\n",
            "      Epoch    GPU_mem   box_loss   cls_loss   dfl_loss  Instances       Size\n"
          ]
        },
        {
          "name": "stderr",
          "output_type": "stream",
          "text": [
            "    183/200      4.32G     0.5632     0.3252     0.8898         50        640: 100%|██████████| 20/20 [00:10<00:00,  1.82it/s]\n",
            "                 Class     Images  Instances      Box(P          R      mAP50  mAP50-95): 100%|██████████| 3/3 [00:02<00:00,  1.10it/s]"
          ]
        },
        {
          "name": "stdout",
          "output_type": "stream",
          "text": [
            "                   all        182        185      0.983      0.968      0.983       0.76\n"
          ]
        },
        {
          "name": "stderr",
          "output_type": "stream",
          "text": [
            "\n"
          ]
        },
        {
          "name": "stdout",
          "output_type": "stream",
          "text": [
            "\n",
            "      Epoch    GPU_mem   box_loss   cls_loss   dfl_loss  Instances       Size\n"
          ]
        },
        {
          "name": "stderr",
          "output_type": "stream",
          "text": [
            "    184/200      4.32G     0.5535     0.3121     0.8841         45        640: 100%|██████████| 20/20 [00:11<00:00,  1.75it/s]\n",
            "                 Class     Images  Instances      Box(P          R      mAP50  mAP50-95): 100%|██████████| 3/3 [00:02<00:00,  1.26it/s]"
          ]
        },
        {
          "name": "stdout",
          "output_type": "stream",
          "text": [
            "                   all        182        185      0.995      0.957      0.983      0.754\n"
          ]
        },
        {
          "name": "stderr",
          "output_type": "stream",
          "text": [
            "\n"
          ]
        },
        {
          "name": "stdout",
          "output_type": "stream",
          "text": [
            "\n",
            "      Epoch    GPU_mem   box_loss   cls_loss   dfl_loss  Instances       Size\n"
          ]
        },
        {
          "name": "stderr",
          "output_type": "stream",
          "text": [
            "    185/200      4.32G      0.539     0.3049     0.8769         53        640: 100%|██████████| 20/20 [00:12<00:00,  1.61it/s]\n",
            "                 Class     Images  Instances      Box(P          R      mAP50  mAP50-95): 100%|██████████| 3/3 [00:02<00:00,  1.19it/s]"
          ]
        },
        {
          "name": "stdout",
          "output_type": "stream",
          "text": [
            "                   all        182        185      0.994      0.961      0.987       0.76\n"
          ]
        },
        {
          "name": "stderr",
          "output_type": "stream",
          "text": [
            "\n"
          ]
        },
        {
          "name": "stdout",
          "output_type": "stream",
          "text": [
            "\n",
            "      Epoch    GPU_mem   box_loss   cls_loss   dfl_loss  Instances       Size\n"
          ]
        },
        {
          "name": "stderr",
          "output_type": "stream",
          "text": [
            "    186/200      4.32G     0.5495     0.3129     0.8878         47        640: 100%|██████████| 20/20 [00:12<00:00,  1.64it/s]\n",
            "                 Class     Images  Instances      Box(P          R      mAP50  mAP50-95): 100%|██████████| 3/3 [00:02<00:00,  1.13it/s]"
          ]
        },
        {
          "name": "stdout",
          "output_type": "stream",
          "text": [
            "                   all        182        185      0.998      0.957      0.987      0.757\n"
          ]
        },
        {
          "name": "stderr",
          "output_type": "stream",
          "text": [
            "\n"
          ]
        },
        {
          "name": "stdout",
          "output_type": "stream",
          "text": [
            "\n",
            "      Epoch    GPU_mem   box_loss   cls_loss   dfl_loss  Instances       Size\n"
          ]
        },
        {
          "name": "stderr",
          "output_type": "stream",
          "text": [
            "    187/200      4.32G     0.5577      0.315     0.8898         50        640: 100%|██████████| 20/20 [00:13<00:00,  1.53it/s]\n",
            "                 Class     Images  Instances      Box(P          R      mAP50  mAP50-95): 100%|██████████| 3/3 [00:02<00:00,  1.22it/s]"
          ]
        },
        {
          "name": "stdout",
          "output_type": "stream",
          "text": [
            "                   all        182        185      0.998      0.957      0.985       0.76\n"
          ]
        },
        {
          "name": "stderr",
          "output_type": "stream",
          "text": [
            "\n"
          ]
        },
        {
          "name": "stdout",
          "output_type": "stream",
          "text": [
            "\n",
            "      Epoch    GPU_mem   box_loss   cls_loss   dfl_loss  Instances       Size\n"
          ]
        },
        {
          "name": "stderr",
          "output_type": "stream",
          "text": [
            "    188/200      4.32G     0.5397     0.3068     0.8774         62        640: 100%|██████████| 20/20 [00:12<00:00,  1.54it/s]\n",
            "                 Class     Images  Instances      Box(P          R      mAP50  mAP50-95): 100%|██████████| 3/3 [00:02<00:00,  1.26it/s]"
          ]
        },
        {
          "name": "stdout",
          "output_type": "stream",
          "text": [
            "                   all        182        185          1      0.953      0.984      0.761\n"
          ]
        },
        {
          "name": "stderr",
          "output_type": "stream",
          "text": [
            "\n"
          ]
        },
        {
          "name": "stdout",
          "output_type": "stream",
          "text": [
            "\n",
            "      Epoch    GPU_mem   box_loss   cls_loss   dfl_loss  Instances       Size\n"
          ]
        },
        {
          "name": "stderr",
          "output_type": "stream",
          "text": [
            "    189/200      4.32G     0.5305     0.3026     0.8747         57        640: 100%|██████████| 20/20 [00:13<00:00,  1.49it/s]\n",
            "                 Class     Images  Instances      Box(P          R      mAP50  mAP50-95): 100%|██████████| 3/3 [00:02<00:00,  1.16it/s]"
          ]
        },
        {
          "name": "stdout",
          "output_type": "stream",
          "text": [
            "                   all        182        185      0.987      0.962      0.983      0.769\n"
          ]
        },
        {
          "name": "stderr",
          "output_type": "stream",
          "text": [
            "\n"
          ]
        },
        {
          "name": "stdout",
          "output_type": "stream",
          "text": [
            "\n",
            "      Epoch    GPU_mem   box_loss   cls_loss   dfl_loss  Instances       Size\n"
          ]
        },
        {
          "name": "stderr",
          "output_type": "stream",
          "text": [
            "    190/200      4.32G     0.5455     0.3121     0.8774         56        640: 100%|██████████| 20/20 [00:13<00:00,  1.52it/s]\n",
            "                 Class     Images  Instances      Box(P          R      mAP50  mAP50-95): 100%|██████████| 3/3 [00:02<00:00,  1.16it/s]"
          ]
        },
        {
          "name": "stdout",
          "output_type": "stream",
          "text": [
            "                   all        182        185      0.982      0.962      0.983      0.767\n"
          ]
        },
        {
          "name": "stderr",
          "output_type": "stream",
          "text": [
            "\n"
          ]
        },
        {
          "name": "stdout",
          "output_type": "stream",
          "text": [
            "Closing dataloader mosaic\n",
            "\u001b[34m\u001b[1malbumentations: \u001b[0mBlur(p=0.01, blur_limit=(3, 7)), MedianBlur(p=0.01, blur_limit=(3, 7)), ToGray(p=0.01), CLAHE(p=0.01, clip_limit=(1, 4.0), tile_grid_size=(8, 8))\n"
          ]
        },
        {
          "name": "stderr",
          "output_type": "stream",
          "text": [
            "/usr/lib/python3.10/multiprocessing/popen_fork.py:66: RuntimeWarning: os.fork() was called. os.fork() is incompatible with multithreaded code, and JAX is multithreaded, so this will likely lead to a deadlock.\n",
            "  self.pid = os.fork()\n"
          ]
        },
        {
          "name": "stdout",
          "output_type": "stream",
          "text": [
            "\n",
            "      Epoch    GPU_mem   box_loss   cls_loss   dfl_loss  Instances       Size\n"
          ]
        },
        {
          "name": "stderr",
          "output_type": "stream",
          "text": [
            "    191/200      4.32G     0.5069     0.2838     0.8601         32        640: 100%|██████████| 20/20 [00:17<00:00,  1.18it/s]\n",
            "                 Class     Images  Instances      Box(P          R      mAP50  mAP50-95): 100%|██████████| 3/3 [00:02<00:00,  1.33it/s]"
          ]
        },
        {
          "name": "stdout",
          "output_type": "stream",
          "text": [
            "                   all        182        185      0.983      0.962      0.982      0.769\n"
          ]
        },
        {
          "name": "stderr",
          "output_type": "stream",
          "text": [
            "\n"
          ]
        },
        {
          "name": "stdout",
          "output_type": "stream",
          "text": [
            "\n",
            "      Epoch    GPU_mem   box_loss   cls_loss   dfl_loss  Instances       Size\n"
          ]
        },
        {
          "name": "stderr",
          "output_type": "stream",
          "text": [
            "    192/200      4.32G     0.4801     0.2675     0.8542         32        640: 100%|██████████| 20/20 [00:12<00:00,  1.65it/s]\n",
            "                 Class     Images  Instances      Box(P          R      mAP50  mAP50-95): 100%|██████████| 3/3 [00:02<00:00,  1.14it/s]"
          ]
        },
        {
          "name": "stdout",
          "output_type": "stream",
          "text": [
            "                   all        182        185      0.994      0.951      0.982      0.758\n"
          ]
        },
        {
          "name": "stderr",
          "output_type": "stream",
          "text": [
            "\n"
          ]
        },
        {
          "name": "stdout",
          "output_type": "stream",
          "text": [
            "\n",
            "      Epoch    GPU_mem   box_loss   cls_loss   dfl_loss  Instances       Size\n"
          ]
        },
        {
          "name": "stderr",
          "output_type": "stream",
          "text": [
            "    193/200      4.32G     0.4786     0.2622     0.8552         34        640: 100%|██████████| 20/20 [00:12<00:00,  1.54it/s]\n",
            "                 Class     Images  Instances      Box(P          R      mAP50  mAP50-95): 100%|██████████| 3/3 [00:02<00:00,  1.31it/s]"
          ]
        },
        {
          "name": "stdout",
          "output_type": "stream",
          "text": [
            "                   all        182        185      0.997      0.957      0.983      0.761\n"
          ]
        },
        {
          "name": "stderr",
          "output_type": "stream",
          "text": [
            "\n"
          ]
        },
        {
          "name": "stdout",
          "output_type": "stream",
          "text": [
            "\n",
            "      Epoch    GPU_mem   box_loss   cls_loss   dfl_loss  Instances       Size\n"
          ]
        },
        {
          "name": "stderr",
          "output_type": "stream",
          "text": [
            "    194/200      4.32G     0.4695     0.2583     0.8491         35        640: 100%|██████████| 20/20 [00:13<00:00,  1.48it/s]\n",
            "                 Class     Images  Instances      Box(P          R      mAP50  mAP50-95): 100%|██████████| 3/3 [00:02<00:00,  1.32it/s]"
          ]
        },
        {
          "name": "stdout",
          "output_type": "stream",
          "text": [
            "                   all        182        185      0.998      0.957      0.983      0.768\n"
          ]
        },
        {
          "name": "stderr",
          "output_type": "stream",
          "text": [
            "\n"
          ]
        },
        {
          "name": "stdout",
          "output_type": "stream",
          "text": [
            "\n",
            "      Epoch    GPU_mem   box_loss   cls_loss   dfl_loss  Instances       Size\n"
          ]
        },
        {
          "name": "stderr",
          "output_type": "stream",
          "text": [
            "    195/200      4.32G     0.4702     0.2618     0.8499         32        640: 100%|██████████| 20/20 [00:12<00:00,  1.55it/s]\n",
            "                 Class     Images  Instances      Box(P          R      mAP50  mAP50-95): 100%|██████████| 3/3 [00:02<00:00,  1.50it/s]"
          ]
        },
        {
          "name": "stdout",
          "output_type": "stream",
          "text": [
            "                   all        182        185          1       0.95      0.982       0.76\n"
          ]
        },
        {
          "name": "stderr",
          "output_type": "stream",
          "text": [
            "\n"
          ]
        },
        {
          "name": "stdout",
          "output_type": "stream",
          "text": [
            "\n",
            "      Epoch    GPU_mem   box_loss   cls_loss   dfl_loss  Instances       Size\n"
          ]
        },
        {
          "name": "stderr",
          "output_type": "stream",
          "text": [
            "    196/200      4.32G      0.465     0.2631     0.8514         32        640: 100%|██████████| 20/20 [00:12<00:00,  1.54it/s]\n",
            "                 Class     Images  Instances      Box(P          R      mAP50  mAP50-95): 100%|██████████| 3/3 [00:02<00:00,  1.40it/s]"
          ]
        },
        {
          "name": "stdout",
          "output_type": "stream",
          "text": [
            "                   all        182        185          1       0.95      0.982      0.761\n"
          ]
        },
        {
          "name": "stderr",
          "output_type": "stream",
          "text": [
            "\n"
          ]
        },
        {
          "name": "stdout",
          "output_type": "stream",
          "text": [
            "\n",
            "      Epoch    GPU_mem   box_loss   cls_loss   dfl_loss  Instances       Size\n"
          ]
        },
        {
          "name": "stderr",
          "output_type": "stream",
          "text": [
            "    197/200      4.32G     0.4721     0.2626      0.848         33        640: 100%|██████████| 20/20 [00:13<00:00,  1.53it/s]\n",
            "                 Class     Images  Instances      Box(P          R      mAP50  mAP50-95): 100%|██████████| 3/3 [00:02<00:00,  1.31it/s]"
          ]
        },
        {
          "name": "stdout",
          "output_type": "stream",
          "text": [
            "                   all        182        185          1      0.951      0.984      0.764\n"
          ]
        },
        {
          "name": "stderr",
          "output_type": "stream",
          "text": [
            "\n"
          ]
        },
        {
          "name": "stdout",
          "output_type": "stream",
          "text": [
            "\n",
            "      Epoch    GPU_mem   box_loss   cls_loss   dfl_loss  Instances       Size\n"
          ]
        },
        {
          "name": "stderr",
          "output_type": "stream",
          "text": [
            "    198/200      4.32G     0.4628     0.2567     0.8431         32        640: 100%|██████████| 20/20 [00:13<00:00,  1.53it/s]\n",
            "                 Class     Images  Instances      Box(P          R      mAP50  mAP50-95): 100%|██████████| 3/3 [00:02<00:00,  1.23it/s]"
          ]
        },
        {
          "name": "stdout",
          "output_type": "stream",
          "text": [
            "                   all        182        185      0.994      0.947      0.982      0.768\n"
          ]
        },
        {
          "name": "stderr",
          "output_type": "stream",
          "text": [
            "\n"
          ]
        },
        {
          "name": "stdout",
          "output_type": "stream",
          "text": [
            "\n",
            "      Epoch    GPU_mem   box_loss   cls_loss   dfl_loss  Instances       Size\n"
          ]
        },
        {
          "name": "stderr",
          "output_type": "stream",
          "text": [
            "    199/200      4.32G     0.4578     0.2555     0.8505         31        640: 100%|██████████| 20/20 [00:11<00:00,  1.70it/s]\n",
            "                 Class     Images  Instances      Box(P          R      mAP50  mAP50-95): 100%|██████████| 3/3 [00:03<00:00,  1.11s/it]"
          ]
        },
        {
          "name": "stdout",
          "output_type": "stream",
          "text": [
            "                   all        182        185          1      0.951      0.983      0.761\n"
          ]
        },
        {
          "name": "stderr",
          "output_type": "stream",
          "text": [
            "\n"
          ]
        },
        {
          "name": "stdout",
          "output_type": "stream",
          "text": [
            "\n",
            "      Epoch    GPU_mem   box_loss   cls_loss   dfl_loss  Instances       Size\n"
          ]
        },
        {
          "name": "stderr",
          "output_type": "stream",
          "text": [
            "    200/200      4.32G     0.4607     0.2583     0.8486         32        640: 100%|██████████| 20/20 [00:10<00:00,  1.88it/s]\n",
            "                 Class     Images  Instances      Box(P          R      mAP50  mAP50-95): 100%|██████████| 3/3 [00:04<00:00,  1.38s/it]"
          ]
        },
        {
          "name": "stdout",
          "output_type": "stream",
          "text": [
            "                   all        182        185      0.998      0.951      0.982      0.765\n"
          ]
        },
        {
          "name": "stderr",
          "output_type": "stream",
          "text": [
            "\n"
          ]
        },
        {
          "name": "stdout",
          "output_type": "stream",
          "text": [
            "\n",
            "200 epochs completed in 0.960 hours.\n",
            "Optimizer stripped from runs/detect/train4/weights/last.pt, 6.3MB\n",
            "Optimizer stripped from runs/detect/train4/weights/best.pt, 6.3MB\n",
            "\n",
            "Validating runs/detect/train4/weights/best.pt...\n",
            "Ultralytics YOLOv8.2.70 🚀 Python-3.10.12 torch-2.3.1+cu121 CUDA:0 (Tesla T4, 15102MiB)\n",
            "Model summary (fused): 168 layers, 3,005,843 parameters, 0 gradients, 8.1 GFLOPs\n"
          ]
        },
        {
          "name": "stderr",
          "output_type": "stream",
          "text": [
            "                 Class     Images  Instances      Box(P          R      mAP50  mAP50-95): 100%|██████████| 3/3 [00:03<00:00,  1.14s/it]\n"
          ]
        },
        {
          "name": "stdout",
          "output_type": "stream",
          "text": [
            "                   all        182        185      0.984      0.972      0.983      0.775\n",
            "Speed: 0.2ms preprocess, 2.2ms inference, 0.0ms loss, 2.7ms postprocess per image\n",
            "Results saved to \u001b[1mruns/detect/train4\u001b[0m\n"
          ]
        },
        {
          "data": {
            "text/plain": [
              "ultralytics.utils.metrics.DetMetrics object with attributes:\n",
              "\n",
              "ap_class_index: array([0])\n",
              "box: ultralytics.utils.metrics.Metric object\n",
              "confusion_matrix: <ultralytics.utils.metrics.ConfusionMatrix object at 0x7ef5afaec1f0>\n",
              "curves: ['Precision-Recall(B)', 'F1-Confidence(B)', 'Precision-Confidence(B)', 'Recall-Confidence(B)']\n",
              "curves_results: [[array([          0,    0.001001,    0.002002,    0.003003,    0.004004,    0.005005,    0.006006,    0.007007,    0.008008,    0.009009,     0.01001,    0.011011,    0.012012,    0.013013,    0.014014,    0.015015,    0.016016,    0.017017,    0.018018,    0.019019,     0.02002,    0.021021,    0.022022,    0.023023,\n",
              "          0.024024,    0.025025,    0.026026,    0.027027,    0.028028,    0.029029,     0.03003,    0.031031,    0.032032,    0.033033,    0.034034,    0.035035,    0.036036,    0.037037,    0.038038,    0.039039,     0.04004,    0.041041,    0.042042,    0.043043,    0.044044,    0.045045,    0.046046,    0.047047,\n",
              "          0.048048,    0.049049,     0.05005,    0.051051,    0.052052,    0.053053,    0.054054,    0.055055,    0.056056,    0.057057,    0.058058,    0.059059,     0.06006,    0.061061,    0.062062,    0.063063,    0.064064,    0.065065,    0.066066,    0.067067,    0.068068,    0.069069,     0.07007,    0.071071,\n",
              "          0.072072,    0.073073,    0.074074,    0.075075,    0.076076,    0.077077,    0.078078,    0.079079,     0.08008,    0.081081,    0.082082,    0.083083,    0.084084,    0.085085,    0.086086,    0.087087,    0.088088,    0.089089,     0.09009,    0.091091,    0.092092,    0.093093,    0.094094,    0.095095,\n",
              "          0.096096,    0.097097,    0.098098,    0.099099,      0.1001,      0.1011,      0.1021,      0.1031,      0.1041,     0.10511,     0.10611,     0.10711,     0.10811,     0.10911,     0.11011,     0.11111,     0.11211,     0.11311,     0.11411,     0.11512,     0.11612,     0.11712,     0.11812,     0.11912,\n",
              "           0.12012,     0.12112,     0.12212,     0.12312,     0.12412,     0.12513,     0.12613,     0.12713,     0.12813,     0.12913,     0.13013,     0.13113,     0.13213,     0.13313,     0.13413,     0.13514,     0.13614,     0.13714,     0.13814,     0.13914,     0.14014,     0.14114,     0.14214,     0.14314,\n",
              "           0.14414,     0.14515,     0.14615,     0.14715,     0.14815,     0.14915,     0.15015,     0.15115,     0.15215,     0.15315,     0.15415,     0.15516,     0.15616,     0.15716,     0.15816,     0.15916,     0.16016,     0.16116,     0.16216,     0.16316,     0.16416,     0.16517,     0.16617,     0.16717,\n",
              "           0.16817,     0.16917,     0.17017,     0.17117,     0.17217,     0.17317,     0.17417,     0.17518,     0.17618,     0.17718,     0.17818,     0.17918,     0.18018,     0.18118,     0.18218,     0.18318,     0.18418,     0.18519,     0.18619,     0.18719,     0.18819,     0.18919,     0.19019,     0.19119,\n",
              "           0.19219,     0.19319,     0.19419,      0.1952,      0.1962,      0.1972,      0.1982,      0.1992,      0.2002,      0.2012,      0.2022,      0.2032,      0.2042,     0.20521,     0.20621,     0.20721,     0.20821,     0.20921,     0.21021,     0.21121,     0.21221,     0.21321,     0.21421,     0.21522,\n",
              "           0.21622,     0.21722,     0.21822,     0.21922,     0.22022,     0.22122,     0.22222,     0.22322,     0.22422,     0.22523,     0.22623,     0.22723,     0.22823,     0.22923,     0.23023,     0.23123,     0.23223,     0.23323,     0.23423,     0.23524,     0.23624,     0.23724,     0.23824,     0.23924,\n",
              "           0.24024,     0.24124,     0.24224,     0.24324,     0.24424,     0.24525,     0.24625,     0.24725,     0.24825,     0.24925,     0.25025,     0.25125,     0.25225,     0.25325,     0.25425,     0.25526,     0.25626,     0.25726,     0.25826,     0.25926,     0.26026,     0.26126,     0.26226,     0.26326,\n",
              "           0.26426,     0.26527,     0.26627,     0.26727,     0.26827,     0.26927,     0.27027,     0.27127,     0.27227,     0.27327,     0.27427,     0.27528,     0.27628,     0.27728,     0.27828,     0.27928,     0.28028,     0.28128,     0.28228,     0.28328,     0.28428,     0.28529,     0.28629,     0.28729,\n",
              "           0.28829,     0.28929,     0.29029,     0.29129,     0.29229,     0.29329,     0.29429,      0.2953,      0.2963,      0.2973,      0.2983,      0.2993,      0.3003,      0.3013,      0.3023,      0.3033,      0.3043,     0.30531,     0.30631,     0.30731,     0.30831,     0.30931,     0.31031,     0.31131,\n",
              "           0.31231,     0.31331,     0.31431,     0.31532,     0.31632,     0.31732,     0.31832,     0.31932,     0.32032,     0.32132,     0.32232,     0.32332,     0.32432,     0.32533,     0.32633,     0.32733,     0.32833,     0.32933,     0.33033,     0.33133,     0.33233,     0.33333,     0.33433,     0.33534,\n",
              "           0.33634,     0.33734,     0.33834,     0.33934,     0.34034,     0.34134,     0.34234,     0.34334,     0.34434,     0.34535,     0.34635,     0.34735,     0.34835,     0.34935,     0.35035,     0.35135,     0.35235,     0.35335,     0.35435,     0.35536,     0.35636,     0.35736,     0.35836,     0.35936,\n",
              "           0.36036,     0.36136,     0.36236,     0.36336,     0.36436,     0.36537,     0.36637,     0.36737,     0.36837,     0.36937,     0.37037,     0.37137,     0.37237,     0.37337,     0.37437,     0.37538,     0.37638,     0.37738,     0.37838,     0.37938,     0.38038,     0.38138,     0.38238,     0.38338,\n",
              "           0.38438,     0.38539,     0.38639,     0.38739,     0.38839,     0.38939,     0.39039,     0.39139,     0.39239,     0.39339,     0.39439,      0.3954,      0.3964,      0.3974,      0.3984,      0.3994,      0.4004,      0.4014,      0.4024,      0.4034,      0.4044,     0.40541,     0.40641,     0.40741,\n",
              "           0.40841,     0.40941,     0.41041,     0.41141,     0.41241,     0.41341,     0.41441,     0.41542,     0.41642,     0.41742,     0.41842,     0.41942,     0.42042,     0.42142,     0.42242,     0.42342,     0.42442,     0.42543,     0.42643,     0.42743,     0.42843,     0.42943,     0.43043,     0.43143,\n",
              "           0.43243,     0.43343,     0.43443,     0.43544,     0.43644,     0.43744,     0.43844,     0.43944,     0.44044,     0.44144,     0.44244,     0.44344,     0.44444,     0.44545,     0.44645,     0.44745,     0.44845,     0.44945,     0.45045,     0.45145,     0.45245,     0.45345,     0.45445,     0.45546,\n",
              "           0.45646,     0.45746,     0.45846,     0.45946,     0.46046,     0.46146,     0.46246,     0.46346,     0.46446,     0.46547,     0.46647,     0.46747,     0.46847,     0.46947,     0.47047,     0.47147,     0.47247,     0.47347,     0.47447,     0.47548,     0.47648,     0.47748,     0.47848,     0.47948,\n",
              "           0.48048,     0.48148,     0.48248,     0.48348,     0.48448,     0.48549,     0.48649,     0.48749,     0.48849,     0.48949,     0.49049,     0.49149,     0.49249,     0.49349,     0.49449,      0.4955,      0.4965,      0.4975,      0.4985,      0.4995,      0.5005,      0.5015,      0.5025,      0.5035,\n",
              "            0.5045,     0.50551,     0.50651,     0.50751,     0.50851,     0.50951,     0.51051,     0.51151,     0.51251,     0.51351,     0.51451,     0.51552,     0.51652,     0.51752,     0.51852,     0.51952,     0.52052,     0.52152,     0.52252,     0.52352,     0.52452,     0.52553,     0.52653,     0.52753,\n",
              "           0.52853,     0.52953,     0.53053,     0.53153,     0.53253,     0.53353,     0.53453,     0.53554,     0.53654,     0.53754,     0.53854,     0.53954,     0.54054,     0.54154,     0.54254,     0.54354,     0.54454,     0.54555,     0.54655,     0.54755,     0.54855,     0.54955,     0.55055,     0.55155,\n",
              "           0.55255,     0.55355,     0.55455,     0.55556,     0.55656,     0.55756,     0.55856,     0.55956,     0.56056,     0.56156,     0.56256,     0.56356,     0.56456,     0.56557,     0.56657,     0.56757,     0.56857,     0.56957,     0.57057,     0.57157,     0.57257,     0.57357,     0.57457,     0.57558,\n",
              "           0.57658,     0.57758,     0.57858,     0.57958,     0.58058,     0.58158,     0.58258,     0.58358,     0.58458,     0.58559,     0.58659,     0.58759,     0.58859,     0.58959,     0.59059,     0.59159,     0.59259,     0.59359,     0.59459,      0.5956,      0.5966,      0.5976,      0.5986,      0.5996,\n",
              "            0.6006,      0.6016,      0.6026,      0.6036,      0.6046,     0.60561,     0.60661,     0.60761,     0.60861,     0.60961,     0.61061,     0.61161,     0.61261,     0.61361,     0.61461,     0.61562,     0.61662,     0.61762,     0.61862,     0.61962,     0.62062,     0.62162,     0.62262,     0.62362,\n",
              "           0.62462,     0.62563,     0.62663,     0.62763,     0.62863,     0.62963,     0.63063,     0.63163,     0.63263,     0.63363,     0.63463,     0.63564,     0.63664,     0.63764,     0.63864,     0.63964,     0.64064,     0.64164,     0.64264,     0.64364,     0.64464,     0.64565,     0.64665,     0.64765,\n",
              "           0.64865,     0.64965,     0.65065,     0.65165,     0.65265,     0.65365,     0.65465,     0.65566,     0.65666,     0.65766,     0.65866,     0.65966,     0.66066,     0.66166,     0.66266,     0.66366,     0.66466,     0.66567,     0.66667,     0.66767,     0.66867,     0.66967,     0.67067,     0.67167,\n",
              "           0.67267,     0.67367,     0.67467,     0.67568,     0.67668,     0.67768,     0.67868,     0.67968,     0.68068,     0.68168,     0.68268,     0.68368,     0.68468,     0.68569,     0.68669,     0.68769,     0.68869,     0.68969,     0.69069,     0.69169,     0.69269,     0.69369,     0.69469,      0.6957,\n",
              "            0.6967,      0.6977,      0.6987,      0.6997,      0.7007,      0.7017,      0.7027,      0.7037,      0.7047,     0.70571,     0.70671,     0.70771,     0.70871,     0.70971,     0.71071,     0.71171,     0.71271,     0.71371,     0.71471,     0.71572,     0.71672,     0.71772,     0.71872,     0.71972,\n",
              "           0.72072,     0.72172,     0.72272,     0.72372,     0.72472,     0.72573,     0.72673,     0.72773,     0.72873,     0.72973,     0.73073,     0.73173,     0.73273,     0.73373,     0.73473,     0.73574,     0.73674,     0.73774,     0.73874,     0.73974,     0.74074,     0.74174,     0.74274,     0.74374,\n",
              "           0.74474,     0.74575,     0.74675,     0.74775,     0.74875,     0.74975,     0.75075,     0.75175,     0.75275,     0.75375,     0.75475,     0.75576,     0.75676,     0.75776,     0.75876,     0.75976,     0.76076,     0.76176,     0.76276,     0.76376,     0.76476,     0.76577,     0.76677,     0.76777,\n",
              "           0.76877,     0.76977,     0.77077,     0.77177,     0.77277,     0.77377,     0.77477,     0.77578,     0.77678,     0.77778,     0.77878,     0.77978,     0.78078,     0.78178,     0.78278,     0.78378,     0.78478,     0.78579,     0.78679,     0.78779,     0.78879,     0.78979,     0.79079,     0.79179,\n",
              "           0.79279,     0.79379,     0.79479,      0.7958,      0.7968,      0.7978,      0.7988,      0.7998,      0.8008,      0.8018,      0.8028,      0.8038,      0.8048,     0.80581,     0.80681,     0.80781,     0.80881,     0.80981,     0.81081,     0.81181,     0.81281,     0.81381,     0.81481,     0.81582,\n",
              "           0.81682,     0.81782,     0.81882,     0.81982,     0.82082,     0.82182,     0.82282,     0.82382,     0.82482,     0.82583,     0.82683,     0.82783,     0.82883,     0.82983,     0.83083,     0.83183,     0.83283,     0.83383,     0.83483,     0.83584,     0.83684,     0.83784,     0.83884,     0.83984,\n",
              "           0.84084,     0.84184,     0.84284,     0.84384,     0.84484,     0.84585,     0.84685,     0.84785,     0.84885,     0.84985,     0.85085,     0.85185,     0.85285,     0.85385,     0.85485,     0.85586,     0.85686,     0.85786,     0.85886,     0.85986,     0.86086,     0.86186,     0.86286,     0.86386,\n",
              "           0.86486,     0.86587,     0.86687,     0.86787,     0.86887,     0.86987,     0.87087,     0.87187,     0.87287,     0.87387,     0.87487,     0.87588,     0.87688,     0.87788,     0.87888,     0.87988,     0.88088,     0.88188,     0.88288,     0.88388,     0.88488,     0.88589,     0.88689,     0.88789,\n",
              "           0.88889,     0.88989,     0.89089,     0.89189,     0.89289,     0.89389,     0.89489,      0.8959,      0.8969,      0.8979,      0.8989,      0.8999,      0.9009,      0.9019,      0.9029,      0.9039,      0.9049,     0.90591,     0.90691,     0.90791,     0.90891,     0.90991,     0.91091,     0.91191,\n",
              "           0.91291,     0.91391,     0.91491,     0.91592,     0.91692,     0.91792,     0.91892,     0.91992,     0.92092,     0.92192,     0.92292,     0.92392,     0.92492,     0.92593,     0.92693,     0.92793,     0.92893,     0.92993,     0.93093,     0.93193,     0.93293,     0.93393,     0.93493,     0.93594,\n",
              "           0.93694,     0.93794,     0.93894,     0.93994,     0.94094,     0.94194,     0.94294,     0.94394,     0.94494,     0.94595,     0.94695,     0.94795,     0.94895,     0.94995,     0.95095,     0.95195,     0.95295,     0.95395,     0.95495,     0.95596,     0.95696,     0.95796,     0.95896,     0.95996,\n",
              "           0.96096,     0.96196,     0.96296,     0.96396,     0.96496,     0.96597,     0.96697,     0.96797,     0.96897,     0.96997,     0.97097,     0.97197,     0.97297,     0.97397,     0.97497,     0.97598,     0.97698,     0.97798,     0.97898,     0.97998,     0.98098,     0.98198,     0.98298,     0.98398,\n",
              "           0.98498,     0.98599,     0.98699,     0.98799,     0.98899,     0.98999,     0.99099,     0.99199,     0.99299,     0.99399,     0.99499,       0.996,       0.997,       0.998,       0.999,           1]), array([[          1,           1,           1,           1,           1,           1,           1,           1,           1,           1,           1,           1,           1,           1,           1,           1,           1,           1,           1,           1,           1,           1,           1,\n",
              "                  1,           1,           1,           1,           1,           1,           1,           1,           1,           1,           1,           1,           1,           1,           1,           1,           1,           1,           1,           1,           1,           1,           1,\n",
              "                  1,           1,           1,           1,           1,           1,           1,           1,           1,           1,           1,           1,           1,           1,           1,           1,           1,           1,           1,           1,           1,           1,           1,\n",
              "                  1,           1,           1,           1,           1,           1,           1,           1,           1,           1,           1,           1,           1,           1,           1,           1,           1,           1,           1,           1,           1,           1,           1,\n",
              "                  1,           1,           1,           1,           1,           1,           1,           1,           1,           1,           1,           1,           1,           1,           1,           1,           1,           1,           1,           1,           1,           1,           1,\n",
              "                  1,           1,           1,           1,           1,           1,           1,           1,           1,           1,           1,           1,           1,           1,           1,           1,           1,           1,           1,           1,           1,           1,           1,\n",
              "                  1,           1,           1,           1,           1,           1,           1,           1,           1,           1,           1,           1,           1,           1,           1,           1,           1,           1,           1,           1,           1,           1,           1,\n",
              "                  1,           1,           1,           1,           1,           1,           1,           1,           1,           1,           1,           1,           1,           1,           1,           1,           1,           1,           1,           1,           1,           1,           1,\n",
              "                  1,           1,           1,           1,           1,           1,           1,           1,           1,           1,           1,           1,           1,           1,           1,           1,           1,           1,           1,           1,           1,           1,           1,\n",
              "                  1,           1,           1,           1,           1,           1,           1,           1,           1,           1,           1,           1,           1,           1,           1,           1,           1,           1,           1,           1,           1,           1,           1,\n",
              "                  1,           1,           1,           1,           1,           1,           1,           1,           1,           1,           1,           1,           1,           1,           1,           1,           1,           1,           1,           1,           1,           1,           1,\n",
              "                  1,           1,           1,           1,           1,           1,           1,           1,           1,           1,           1,           1,           1,           1,           1,           1,           1,           1,           1,           1,           1,           1,           1,\n",
              "                  1,           1,           1,           1,           1,           1,           1,           1,           1,           1,           1,           1,           1,           1,           1,           1,           1,           1,           1,           1,           1,           1,           1,\n",
              "                  1,           1,           1,           1,           1,           1,           1,           1,           1,           1,           1,           1,           1,           1,           1,           1,           1,           1,           1,           1,           1,           1,           1,\n",
              "                  1,           1,           1,           1,           1,           1,           1,           1,           1,           1,           1,           1,           1,           1,           1,           1,           1,           1,           1,           1,           1,           1,           1,\n",
              "                  1,           1,           1,           1,           1,           1,           1,           1,           1,           1,           1,           1,           1,           1,           1,           1,           1,           1,           1,           1,           1,           1,           1,\n",
              "                  1,           1,           1,           1,           1,           1,           1,           1,           1,           1,           1,           1,           1,           1,           1,           1,           1,           1,           1,           1,           1,           1,           1,\n",
              "                  1,           1,           1,           1,           1,           1,           1,           1,           1,           1,           1,           1,           1,           1,           1,           1,           1,           1,           1,           1,           1,           1,           1,\n",
              "                  1,           1,           1,           1,           1,           1,           1,           1,           1,           1,           1,           1,           1,           1,           1,           1,           1,           1,           1,           1,           1,           1,           1,\n",
              "                  1,           1,           1,           1,           1,           1,           1,           1,           1,           1,           1,           1,           1,           1,           1,           1,           1,           1,           1,           1,           1,           1,           1,\n",
              "                  1,           1,           1,           1,           1,           1,           1,           1,           1,           1,           1,           1,           1,           1,           1,           1,           1,           1,           1,           1,           1,           1,           1,\n",
              "                  1,           1,           1,           1,           1,           1,           1,           1,           1,           1,           1,           1,           1,           1,           1,           1,           1,           1,           1,           1,           1,           1,           1,\n",
              "                  1,           1,           1,           1,           1,           1,           1,           1,           1,           1,           1,           1,           1,           1,           1,           1,           1,           1,           1,           1,           1,           1,           1,\n",
              "                  1,           1,           1,           1,           1,           1,           1,           1,           1,           1,           1,           1,           1,           1,           1,           1,           1,           1,           1,           1,           1,           1,           1,\n",
              "                  1,           1,           1,           1,           1,           1,           1,           1,           1,           1,           1,           1,           1,           1,           1,           1,           1,           1,           1,           1,           1,           1,           1,\n",
              "                  1,           1,           1,           1,           1,           1,           1,           1,           1,           1,           1,           1,           1,           1,           1,           1,           1,           1,           1,           1,           1,           1,           1,\n",
              "                  1,           1,           1,           1,           1,           1,           1,           1,           1,           1,           1,           1,           1,           1,           1,           1,           1,           1,           1,           1,           1,           1,           1,\n",
              "                  1,           1,           1,           1,           1,           1,           1,           1,           1,           1,           1,           1,           1,           1,           1,           1,           1,           1,           1,           1,           1,           1,           1,\n",
              "                  1,           1,           1,           1,           1,           1,           1,           1,           1,           1,           1,           1,           1,           1,           1,           1,           1,           1,           1,           1,           1,           1,           1,\n",
              "                  1,           1,           1,           1,           1,           1,           1,           1,           1,           1,           1,           1,           1,           1,           1,           1,           1,           1,           1,           1,           1,           1,           1,\n",
              "                  1,           1,           1,           1,           1,           1,           1,           1,           1,           1,           1,           1,           1,           1,           1,           1,           1,           1,           1,           1,           1,           1,           1,\n",
              "                  1,           1,           1,           1,           1,           1,           1,           1,           1,           1,           1,           1,           1,           1,           1,           1,           1,           1,           1,           1,           1,           1,           1,\n",
              "                  1,           1,           1,           1,           1,           1,           1,           1,           1,           1,           1,           1,           1,           1,           1,           1,           1,           1,           1,           1,           1,           1,           1,\n",
              "                  1,           1,           1,           1,           1,           1,           1,           1,           1,           1,           1,           1,           1,           1,           1,           1,           1,           1,           1,           1,           1,           1,           1,\n",
              "                  1,           1,           1,           1,           1,           1,           1,           1,           1,           1,           1,           1,           1,           1,           1,           1,           1,           1,           1,           1,           1,           1,           1,\n",
              "                  1,           1,           1,           1,           1,           1,           1,           1,           1,           1,           1,           1,           1,           1,           1,           1,           1,           1,           1,           1,           1,           1,           1,\n",
              "                  1,           1,           1,           1,           1,           1,           1,           1,           1,           1,           1,           1,           1,           1,           1,           1,           1,           1,           1,           1,           1,           1,           1,\n",
              "                  1,           1,           1,           1,           1,           1,           1,           1,           1,           1,           1,           1,           1,           1,           1,           1,           1,           1,           1,           1,           1,           1,           1,\n",
              "                  1,           1,           1,           1,           1,           1,           1,           1,           1,           1,           1,           1,           1,           1,           1,           1,           1,           1,           1,           1,           1,           1,           1,\n",
              "                  1,           1,           1,           1,           1,           1,           1,           1,           1,           1,           1,           1,           1,           1,           1,           1,           1,           1,           1,           1,           1,           1,           1,\n",
              "                  1,           1,           1,           1,           1,           1,           1,           1,           1,           1,           1,           1,           1,           1,           1,           1,           1,           1,           1,           1,           1,           1,           1,\n",
              "                  1,           1,           1,           1,           1,           1,           1,           1,     0.98361,     0.98361,     0.98361,     0.98361,     0.98361,     0.98361,     0.98361,     0.98361,     0.98361,     0.98361,     0.98361,     0.98361,     0.98361,     0.98361,     0.98361,\n",
              "            0.98361,     0.98361,     0.98361,     0.98361,     0.98361,     0.98361,     0.98361,     0.97312,     0.97312,     0.97312,     0.97312,     0.97312,     0.58269,     0.55494,      0.5272,     0.49945,      0.4717,     0.44395,     0.41621,     0.38846,     0.36071,     0.33297,     0.30522,\n",
              "            0.27747,     0.24972,     0.22198,     0.19423,     0.16648,     0.13874,     0.11099,    0.083241,    0.055494,    0.027747,           0]]), 'Recall', 'Precision'], [array([          0,    0.001001,    0.002002,    0.003003,    0.004004,    0.005005,    0.006006,    0.007007,    0.008008,    0.009009,     0.01001,    0.011011,    0.012012,    0.013013,    0.014014,    0.015015,    0.016016,    0.017017,    0.018018,    0.019019,     0.02002,    0.021021,    0.022022,    0.023023,\n",
              "          0.024024,    0.025025,    0.026026,    0.027027,    0.028028,    0.029029,     0.03003,    0.031031,    0.032032,    0.033033,    0.034034,    0.035035,    0.036036,    0.037037,    0.038038,    0.039039,     0.04004,    0.041041,    0.042042,    0.043043,    0.044044,    0.045045,    0.046046,    0.047047,\n",
              "          0.048048,    0.049049,     0.05005,    0.051051,    0.052052,    0.053053,    0.054054,    0.055055,    0.056056,    0.057057,    0.058058,    0.059059,     0.06006,    0.061061,    0.062062,    0.063063,    0.064064,    0.065065,    0.066066,    0.067067,    0.068068,    0.069069,     0.07007,    0.071071,\n",
              "          0.072072,    0.073073,    0.074074,    0.075075,    0.076076,    0.077077,    0.078078,    0.079079,     0.08008,    0.081081,    0.082082,    0.083083,    0.084084,    0.085085,    0.086086,    0.087087,    0.088088,    0.089089,     0.09009,    0.091091,    0.092092,    0.093093,    0.094094,    0.095095,\n",
              "          0.096096,    0.097097,    0.098098,    0.099099,      0.1001,      0.1011,      0.1021,      0.1031,      0.1041,     0.10511,     0.10611,     0.10711,     0.10811,     0.10911,     0.11011,     0.11111,     0.11211,     0.11311,     0.11411,     0.11512,     0.11612,     0.11712,     0.11812,     0.11912,\n",
              "           0.12012,     0.12112,     0.12212,     0.12312,     0.12412,     0.12513,     0.12613,     0.12713,     0.12813,     0.12913,     0.13013,     0.13113,     0.13213,     0.13313,     0.13413,     0.13514,     0.13614,     0.13714,     0.13814,     0.13914,     0.14014,     0.14114,     0.14214,     0.14314,\n",
              "           0.14414,     0.14515,     0.14615,     0.14715,     0.14815,     0.14915,     0.15015,     0.15115,     0.15215,     0.15315,     0.15415,     0.15516,     0.15616,     0.15716,     0.15816,     0.15916,     0.16016,     0.16116,     0.16216,     0.16316,     0.16416,     0.16517,     0.16617,     0.16717,\n",
              "           0.16817,     0.16917,     0.17017,     0.17117,     0.17217,     0.17317,     0.17417,     0.17518,     0.17618,     0.17718,     0.17818,     0.17918,     0.18018,     0.18118,     0.18218,     0.18318,     0.18418,     0.18519,     0.18619,     0.18719,     0.18819,     0.18919,     0.19019,     0.19119,\n",
              "           0.19219,     0.19319,     0.19419,      0.1952,      0.1962,      0.1972,      0.1982,      0.1992,      0.2002,      0.2012,      0.2022,      0.2032,      0.2042,     0.20521,     0.20621,     0.20721,     0.20821,     0.20921,     0.21021,     0.21121,     0.21221,     0.21321,     0.21421,     0.21522,\n",
              "           0.21622,     0.21722,     0.21822,     0.21922,     0.22022,     0.22122,     0.22222,     0.22322,     0.22422,     0.22523,     0.22623,     0.22723,     0.22823,     0.22923,     0.23023,     0.23123,     0.23223,     0.23323,     0.23423,     0.23524,     0.23624,     0.23724,     0.23824,     0.23924,\n",
              "           0.24024,     0.24124,     0.24224,     0.24324,     0.24424,     0.24525,     0.24625,     0.24725,     0.24825,     0.24925,     0.25025,     0.25125,     0.25225,     0.25325,     0.25425,     0.25526,     0.25626,     0.25726,     0.25826,     0.25926,     0.26026,     0.26126,     0.26226,     0.26326,\n",
              "           0.26426,     0.26527,     0.26627,     0.26727,     0.26827,     0.26927,     0.27027,     0.27127,     0.27227,     0.27327,     0.27427,     0.27528,     0.27628,     0.27728,     0.27828,     0.27928,     0.28028,     0.28128,     0.28228,     0.28328,     0.28428,     0.28529,     0.28629,     0.28729,\n",
              "           0.28829,     0.28929,     0.29029,     0.29129,     0.29229,     0.29329,     0.29429,      0.2953,      0.2963,      0.2973,      0.2983,      0.2993,      0.3003,      0.3013,      0.3023,      0.3033,      0.3043,     0.30531,     0.30631,     0.30731,     0.30831,     0.30931,     0.31031,     0.31131,\n",
              "           0.31231,     0.31331,     0.31431,     0.31532,     0.31632,     0.31732,     0.31832,     0.31932,     0.32032,     0.32132,     0.32232,     0.32332,     0.32432,     0.32533,     0.32633,     0.32733,     0.32833,     0.32933,     0.33033,     0.33133,     0.33233,     0.33333,     0.33433,     0.33534,\n",
              "           0.33634,     0.33734,     0.33834,     0.33934,     0.34034,     0.34134,     0.34234,     0.34334,     0.34434,     0.34535,     0.34635,     0.34735,     0.34835,     0.34935,     0.35035,     0.35135,     0.35235,     0.35335,     0.35435,     0.35536,     0.35636,     0.35736,     0.35836,     0.35936,\n",
              "           0.36036,     0.36136,     0.36236,     0.36336,     0.36436,     0.36537,     0.36637,     0.36737,     0.36837,     0.36937,     0.37037,     0.37137,     0.37237,     0.37337,     0.37437,     0.37538,     0.37638,     0.37738,     0.37838,     0.37938,     0.38038,     0.38138,     0.38238,     0.38338,\n",
              "           0.38438,     0.38539,     0.38639,     0.38739,     0.38839,     0.38939,     0.39039,     0.39139,     0.39239,     0.39339,     0.39439,      0.3954,      0.3964,      0.3974,      0.3984,      0.3994,      0.4004,      0.4014,      0.4024,      0.4034,      0.4044,     0.40541,     0.40641,     0.40741,\n",
              "           0.40841,     0.40941,     0.41041,     0.41141,     0.41241,     0.41341,     0.41441,     0.41542,     0.41642,     0.41742,     0.41842,     0.41942,     0.42042,     0.42142,     0.42242,     0.42342,     0.42442,     0.42543,     0.42643,     0.42743,     0.42843,     0.42943,     0.43043,     0.43143,\n",
              "           0.43243,     0.43343,     0.43443,     0.43544,     0.43644,     0.43744,     0.43844,     0.43944,     0.44044,     0.44144,     0.44244,     0.44344,     0.44444,     0.44545,     0.44645,     0.44745,     0.44845,     0.44945,     0.45045,     0.45145,     0.45245,     0.45345,     0.45445,     0.45546,\n",
              "           0.45646,     0.45746,     0.45846,     0.45946,     0.46046,     0.46146,     0.46246,     0.46346,     0.46446,     0.46547,     0.46647,     0.46747,     0.46847,     0.46947,     0.47047,     0.47147,     0.47247,     0.47347,     0.47447,     0.47548,     0.47648,     0.47748,     0.47848,     0.47948,\n",
              "           0.48048,     0.48148,     0.48248,     0.48348,     0.48448,     0.48549,     0.48649,     0.48749,     0.48849,     0.48949,     0.49049,     0.49149,     0.49249,     0.49349,     0.49449,      0.4955,      0.4965,      0.4975,      0.4985,      0.4995,      0.5005,      0.5015,      0.5025,      0.5035,\n",
              "            0.5045,     0.50551,     0.50651,     0.50751,     0.50851,     0.50951,     0.51051,     0.51151,     0.51251,     0.51351,     0.51451,     0.51552,     0.51652,     0.51752,     0.51852,     0.51952,     0.52052,     0.52152,     0.52252,     0.52352,     0.52452,     0.52553,     0.52653,     0.52753,\n",
              "           0.52853,     0.52953,     0.53053,     0.53153,     0.53253,     0.53353,     0.53453,     0.53554,     0.53654,     0.53754,     0.53854,     0.53954,     0.54054,     0.54154,     0.54254,     0.54354,     0.54454,     0.54555,     0.54655,     0.54755,     0.54855,     0.54955,     0.55055,     0.55155,\n",
              "           0.55255,     0.55355,     0.55455,     0.55556,     0.55656,     0.55756,     0.55856,     0.55956,     0.56056,     0.56156,     0.56256,     0.56356,     0.56456,     0.56557,     0.56657,     0.56757,     0.56857,     0.56957,     0.57057,     0.57157,     0.57257,     0.57357,     0.57457,     0.57558,\n",
              "           0.57658,     0.57758,     0.57858,     0.57958,     0.58058,     0.58158,     0.58258,     0.58358,     0.58458,     0.58559,     0.58659,     0.58759,     0.58859,     0.58959,     0.59059,     0.59159,     0.59259,     0.59359,     0.59459,      0.5956,      0.5966,      0.5976,      0.5986,      0.5996,\n",
              "            0.6006,      0.6016,      0.6026,      0.6036,      0.6046,     0.60561,     0.60661,     0.60761,     0.60861,     0.60961,     0.61061,     0.61161,     0.61261,     0.61361,     0.61461,     0.61562,     0.61662,     0.61762,     0.61862,     0.61962,     0.62062,     0.62162,     0.62262,     0.62362,\n",
              "           0.62462,     0.62563,     0.62663,     0.62763,     0.62863,     0.62963,     0.63063,     0.63163,     0.63263,     0.63363,     0.63463,     0.63564,     0.63664,     0.63764,     0.63864,     0.63964,     0.64064,     0.64164,     0.64264,     0.64364,     0.64464,     0.64565,     0.64665,     0.64765,\n",
              "           0.64865,     0.64965,     0.65065,     0.65165,     0.65265,     0.65365,     0.65465,     0.65566,     0.65666,     0.65766,     0.65866,     0.65966,     0.66066,     0.66166,     0.66266,     0.66366,     0.66466,     0.66567,     0.66667,     0.66767,     0.66867,     0.66967,     0.67067,     0.67167,\n",
              "           0.67267,     0.67367,     0.67467,     0.67568,     0.67668,     0.67768,     0.67868,     0.67968,     0.68068,     0.68168,     0.68268,     0.68368,     0.68468,     0.68569,     0.68669,     0.68769,     0.68869,     0.68969,     0.69069,     0.69169,     0.69269,     0.69369,     0.69469,      0.6957,\n",
              "            0.6967,      0.6977,      0.6987,      0.6997,      0.7007,      0.7017,      0.7027,      0.7037,      0.7047,     0.70571,     0.70671,     0.70771,     0.70871,     0.70971,     0.71071,     0.71171,     0.71271,     0.71371,     0.71471,     0.71572,     0.71672,     0.71772,     0.71872,     0.71972,\n",
              "           0.72072,     0.72172,     0.72272,     0.72372,     0.72472,     0.72573,     0.72673,     0.72773,     0.72873,     0.72973,     0.73073,     0.73173,     0.73273,     0.73373,     0.73473,     0.73574,     0.73674,     0.73774,     0.73874,     0.73974,     0.74074,     0.74174,     0.74274,     0.74374,\n",
              "           0.74474,     0.74575,     0.74675,     0.74775,     0.74875,     0.74975,     0.75075,     0.75175,     0.75275,     0.75375,     0.75475,     0.75576,     0.75676,     0.75776,     0.75876,     0.75976,     0.76076,     0.76176,     0.76276,     0.76376,     0.76476,     0.76577,     0.76677,     0.76777,\n",
              "           0.76877,     0.76977,     0.77077,     0.77177,     0.77277,     0.77377,     0.77477,     0.77578,     0.77678,     0.77778,     0.77878,     0.77978,     0.78078,     0.78178,     0.78278,     0.78378,     0.78478,     0.78579,     0.78679,     0.78779,     0.78879,     0.78979,     0.79079,     0.79179,\n",
              "           0.79279,     0.79379,     0.79479,      0.7958,      0.7968,      0.7978,      0.7988,      0.7998,      0.8008,      0.8018,      0.8028,      0.8038,      0.8048,     0.80581,     0.80681,     0.80781,     0.80881,     0.80981,     0.81081,     0.81181,     0.81281,     0.81381,     0.81481,     0.81582,\n",
              "           0.81682,     0.81782,     0.81882,     0.81982,     0.82082,     0.82182,     0.82282,     0.82382,     0.82482,     0.82583,     0.82683,     0.82783,     0.82883,     0.82983,     0.83083,     0.83183,     0.83283,     0.83383,     0.83483,     0.83584,     0.83684,     0.83784,     0.83884,     0.83984,\n",
              "           0.84084,     0.84184,     0.84284,     0.84384,     0.84484,     0.84585,     0.84685,     0.84785,     0.84885,     0.84985,     0.85085,     0.85185,     0.85285,     0.85385,     0.85485,     0.85586,     0.85686,     0.85786,     0.85886,     0.85986,     0.86086,     0.86186,     0.86286,     0.86386,\n",
              "           0.86486,     0.86587,     0.86687,     0.86787,     0.86887,     0.86987,     0.87087,     0.87187,     0.87287,     0.87387,     0.87487,     0.87588,     0.87688,     0.87788,     0.87888,     0.87988,     0.88088,     0.88188,     0.88288,     0.88388,     0.88488,     0.88589,     0.88689,     0.88789,\n",
              "           0.88889,     0.88989,     0.89089,     0.89189,     0.89289,     0.89389,     0.89489,      0.8959,      0.8969,      0.8979,      0.8989,      0.8999,      0.9009,      0.9019,      0.9029,      0.9039,      0.9049,     0.90591,     0.90691,     0.90791,     0.90891,     0.90991,     0.91091,     0.91191,\n",
              "           0.91291,     0.91391,     0.91491,     0.91592,     0.91692,     0.91792,     0.91892,     0.91992,     0.92092,     0.92192,     0.92292,     0.92392,     0.92492,     0.92593,     0.92693,     0.92793,     0.92893,     0.92993,     0.93093,     0.93193,     0.93293,     0.93393,     0.93493,     0.93594,\n",
              "           0.93694,     0.93794,     0.93894,     0.93994,     0.94094,     0.94194,     0.94294,     0.94394,     0.94494,     0.94595,     0.94695,     0.94795,     0.94895,     0.94995,     0.95095,     0.95195,     0.95295,     0.95395,     0.95495,     0.95596,     0.95696,     0.95796,     0.95896,     0.95996,\n",
              "           0.96096,     0.96196,     0.96296,     0.96396,     0.96496,     0.96597,     0.96697,     0.96797,     0.96897,     0.96997,     0.97097,     0.97197,     0.97297,     0.97397,     0.97497,     0.97598,     0.97698,     0.97798,     0.97898,     0.97998,     0.98098,     0.98198,     0.98298,     0.98398,\n",
              "           0.98498,     0.98599,     0.98699,     0.98799,     0.98899,     0.98999,     0.99099,     0.99199,     0.99299,     0.99399,     0.99499,       0.996,       0.997,       0.998,       0.999,           1]), array([[    0.74333,     0.74333,      0.8222,     0.84348,        0.87,     0.88619,     0.89952,     0.90693,     0.90831,     0.90946,     0.91256,      0.9186,     0.92323,     0.92804,     0.92969,     0.93572,     0.94024,     0.94069,     0.94112,     0.94155,     0.94199,     0.94242,     0.94293,\n",
              "             0.9436,     0.94427,     0.94494,     0.94607,     0.94744,     0.94848,     0.94946,     0.95057,     0.95192,     0.95303,     0.95385,     0.95467,     0.95524,     0.95547,      0.9557,     0.95593,     0.95616,     0.95639,     0.95661,     0.95684,     0.95707,      0.9573,     0.95753,\n",
              "            0.95789,      0.9585,     0.95911,     0.95972,     0.96067,     0.96291,     0.96387,     0.96482,     0.96565,     0.96633,     0.96702,      0.9677,      0.9685,     0.96935,      0.9702,      0.9706,     0.97073,     0.97087,       0.971,     0.97114,     0.97127,     0.97141,     0.97154,\n",
              "            0.97168,     0.97181,     0.97195,     0.97208,     0.97222,     0.97235,     0.97249,     0.97262,     0.97276,     0.97289,     0.97302,     0.97313,     0.97315,     0.97318,     0.97321,     0.97324,     0.97326,     0.97329,     0.97332,     0.97335,     0.97337,      0.9734,     0.97343,\n",
              "            0.97345,     0.97348,     0.97351,     0.97354,     0.97356,     0.97359,     0.97362,     0.97365,     0.97367,      0.9737,     0.97373,     0.97375,     0.97378,     0.97381,     0.97384,     0.97386,     0.97389,     0.97392,     0.97395,     0.97397,       0.974,     0.97403,     0.97405,\n",
              "            0.97408,     0.97411,     0.97414,     0.97416,     0.97419,     0.97422,     0.97425,     0.97427,      0.9743,     0.97433,     0.97435,     0.97438,     0.97441,     0.97444,     0.97446,     0.97449,     0.97452,     0.97455,     0.97457,      0.9746,     0.97463,     0.97465,     0.97468,\n",
              "            0.97471,     0.97474,     0.97476,     0.97479,     0.97482,     0.97484,     0.97487,      0.9749,     0.97493,     0.97495,     0.97498,     0.97501,     0.97504,     0.97506,     0.97509,     0.97512,     0.97514,     0.97517,      0.9752,     0.97523,     0.97525,     0.97528,     0.97531,\n",
              "            0.97533,     0.97536,     0.97539,     0.97542,     0.97544,     0.97547,      0.9755,     0.97552,     0.97555,     0.97558,     0.97561,     0.97563,     0.97566,     0.97569,     0.97571,     0.97574,     0.97562,     0.97551,     0.97539,     0.97527,     0.97516,     0.97504,     0.97492,\n",
              "            0.97481,     0.97469,     0.97458,     0.97446,     0.97434,     0.97423,     0.97411,     0.97399,     0.97388,     0.97376,     0.97364,     0.97353,     0.97341,     0.97329,     0.97318,     0.97306,     0.97299,     0.97306,     0.97313,      0.9732,     0.97327,     0.97334,     0.97341,\n",
              "            0.97348,     0.97355,     0.97362,     0.97369,     0.97376,     0.97383,      0.9739,     0.97397,     0.97403,      0.9741,     0.97417,     0.97424,     0.97431,     0.97438,     0.97445,     0.97452,     0.97459,     0.97466,     0.97473,      0.9748,     0.97487,     0.97494,     0.97501,\n",
              "            0.97508,     0.97515,     0.97522,     0.97529,     0.97535,     0.97542,     0.97549,     0.97556,     0.97564,     0.97572,      0.9758,     0.97588,     0.97595,     0.97603,     0.97611,     0.97619,     0.97627,     0.97635,     0.97643,     0.97651,     0.97659,     0.97667,     0.97675,\n",
              "            0.97683,     0.97691,     0.97699,     0.97707,     0.97715,     0.97723,     0.97731,     0.97739,     0.97747,     0.97755,     0.97763,     0.97771,     0.97779,     0.97787,     0.97795,     0.97803,      0.9781,     0.97818,     0.97826,     0.97824,     0.97823,     0.97821,      0.9782,\n",
              "            0.97818,     0.97816,     0.97815,     0.97813,     0.97812,      0.9781,     0.97808,     0.97807,     0.97805,     0.97803,     0.97802,       0.978,     0.97799,     0.97797,     0.97795,     0.97794,     0.97792,     0.97791,     0.97789,     0.97787,     0.97786,     0.97784,     0.97782,\n",
              "            0.97781,     0.97779,     0.97778,     0.97776,     0.97774,     0.97773,     0.97771,      0.9777,     0.97768,     0.97766,     0.97765,     0.97763,     0.97761,      0.9776,     0.97758,     0.97757,     0.97755,     0.97753,     0.97752,      0.9775,     0.97749,     0.97747,     0.97745,\n",
              "            0.97744,     0.97742,     0.97741,     0.97739,     0.97737,     0.97736,     0.97734,     0.97732,     0.97731,     0.97729,     0.97728,     0.97726,     0.97724,     0.97723,     0.97721,     0.97719,     0.97718,     0.97716,     0.97715,     0.97713,     0.97711,      0.9771,     0.97708,\n",
              "            0.97707,     0.97705,     0.97703,     0.97702,       0.977,     0.97698,     0.97697,     0.97695,     0.97694,     0.97692,      0.9769,     0.97689,     0.97687,     0.97686,     0.97684,     0.97682,     0.97681,     0.97679,     0.97677,     0.97676,     0.97674,     0.97673,     0.97671,\n",
              "            0.97669,     0.97668,     0.97666,     0.97665,     0.97663,     0.97661,      0.9766,     0.97658,     0.97656,     0.97655,     0.97653,     0.97652,      0.9765,     0.97648,     0.97647,     0.97645,     0.97644,     0.97642,      0.9764,     0.97639,     0.97637,     0.97635,     0.97634,\n",
              "            0.97632,     0.97631,     0.97629,     0.97627,     0.97626,     0.97624,     0.97622,     0.97621,     0.97619,     0.97618,     0.97616,     0.97614,     0.97613,     0.97611,      0.9761,     0.97608,     0.97606,     0.97605,     0.97603,     0.97601,       0.976,     0.97598,     0.97597,\n",
              "            0.97595,     0.97593,     0.97592,      0.9759,     0.97588,     0.97587,     0.97585,     0.97584,     0.97582,      0.9758,     0.97579,     0.97577,     0.97575,     0.97574,     0.97572,     0.97571,     0.97569,     0.97567,     0.97566,     0.97564,     0.97563,     0.97561,     0.97559,\n",
              "            0.97558,     0.97556,     0.97554,     0.97553,     0.97551,      0.9755,     0.97548,     0.97546,     0.97545,     0.97544,     0.97542,     0.97541,     0.97539,     0.97538,     0.97537,     0.97535,     0.97534,     0.97532,     0.97531,     0.97529,     0.97528,     0.97527,     0.97525,\n",
              "            0.97524,     0.97522,     0.97521,     0.97519,     0.97518,     0.97517,     0.97515,     0.97514,     0.97512,     0.97511,     0.97509,     0.97508,     0.97507,     0.97505,     0.97504,     0.97502,     0.97501,     0.97499,     0.97498,     0.97497,     0.97495,     0.97494,     0.97492,\n",
              "            0.97491,     0.97489,     0.97488,     0.97487,     0.97485,     0.97484,     0.97482,     0.97481,     0.97479,     0.97478,     0.97477,     0.97475,     0.97474,     0.97472,     0.97471,     0.97469,     0.97468,     0.97467,     0.97465,     0.97464,     0.97462,     0.97461,     0.97459,\n",
              "            0.97458,     0.97457,     0.97455,     0.97454,     0.97452,     0.97451,     0.97449,     0.97448,     0.97447,     0.97445,     0.97444,     0.97442,     0.97441,     0.97439,     0.97438,     0.97437,     0.97435,     0.97434,     0.97432,     0.97431,     0.97429,     0.97428,     0.97427,\n",
              "            0.97425,     0.97424,     0.97422,     0.97421,     0.97419,     0.97418,     0.97417,     0.97415,     0.97414,     0.97412,     0.97411,     0.97409,     0.97408,     0.97407,     0.97405,     0.97404,     0.97402,     0.97401,     0.97399,     0.97398,     0.97397,     0.97395,     0.97394,\n",
              "            0.97392,     0.97391,     0.97389,     0.97388,     0.97387,     0.97385,     0.97384,     0.97382,     0.97381,     0.97379,     0.97378,     0.97377,     0.97375,     0.97374,     0.97372,     0.97371,     0.97369,     0.97368,     0.97367,     0.97365,     0.97364,     0.97362,     0.97361,\n",
              "            0.97359,     0.97358,     0.97357,     0.97355,     0.97354,     0.97352,     0.97351,     0.97349,     0.97348,     0.97347,     0.97345,     0.97344,     0.97342,     0.97341,     0.97339,     0.97338,     0.97337,     0.97335,     0.97334,     0.97332,     0.97331,     0.97329,     0.97328,\n",
              "            0.97326,     0.97325,     0.97324,     0.97322,     0.97321,     0.97319,     0.97318,     0.97316,     0.97315,     0.97314,     0.97312,     0.97311,     0.97309,     0.97308,     0.97306,     0.97305,     0.97304,     0.97302,     0.97301,     0.97299,     0.97298,     0.97296,     0.97295,\n",
              "            0.97294,     0.97292,     0.97291,     0.97289,     0.97288,     0.97286,     0.97285,     0.97284,     0.97282,     0.97281,     0.97279,     0.97278,     0.97276,     0.97275,     0.97274,     0.97272,     0.97271,     0.97269,     0.97268,      0.9723,     0.97191,     0.97153,     0.97114,\n",
              "            0.97076,     0.97037,     0.96999,     0.96889,     0.96744,     0.96712,     0.96723,     0.96734,     0.96746,     0.96757,     0.96769,      0.9678,     0.96791,     0.96803,     0.96814,     0.96825,     0.96837,     0.96848,      0.9686,     0.96871,     0.96882,     0.96894,     0.96905,\n",
              "            0.96916,     0.96928,     0.96939,     0.96951,     0.96962,     0.96971,     0.96974,     0.96978,     0.96981,     0.96985,     0.96988,     0.96991,     0.96995,     0.96998,     0.97002,     0.97005,     0.97009,     0.97012,     0.97015,     0.97019,     0.97022,     0.97026,     0.97029,\n",
              "            0.97033,     0.97036,      0.9704,     0.97043,     0.97046,      0.9705,     0.97053,     0.97057,      0.9706,     0.97064,     0.97067,      0.9707,     0.97074,     0.97077,     0.97081,     0.97084,     0.97088,     0.97091,     0.97095,     0.97098,     0.97101,     0.97105,     0.97108,\n",
              "            0.97112,     0.97115,     0.97119,     0.97122,     0.97125,     0.97129,     0.97132,     0.97136,     0.97139,     0.97143,     0.97146,     0.97149,     0.97153,     0.97156,      0.9716,     0.97163,     0.97167,      0.9717,     0.97173,     0.97177,      0.9718,     0.97184,     0.97187,\n",
              "            0.97191,     0.97194,     0.97197,     0.97201,     0.97204,     0.97208,     0.97211,     0.97215,     0.97218,     0.97221,     0.97225,     0.97228,     0.97232,     0.97235,     0.97239,     0.97243,     0.97247,     0.97251,     0.97255,     0.97259,     0.97263,     0.97268,     0.97272,\n",
              "            0.97276,      0.9728,     0.97284,     0.97288,     0.97292,     0.97296,     0.97301,     0.97305,     0.97309,     0.97313,     0.97317,     0.97321,     0.97325,     0.97329,     0.97334,     0.97338,     0.97342,     0.97346,      0.9735,     0.97354,     0.97358,     0.97362,     0.97367,\n",
              "            0.97371,     0.97375,     0.97379,     0.97383,     0.97387,     0.97391,     0.97395,       0.974,     0.97404,     0.97408,     0.97412,     0.97416,      0.9742,     0.97424,     0.97428,     0.97432,     0.97437,     0.97441,     0.97445,     0.97449,     0.97453,     0.97457,     0.97461,\n",
              "            0.97465,      0.9747,     0.97474,     0.97478,     0.97482,     0.97486,      0.9749,     0.97494,     0.97498,     0.97502,     0.97507,     0.97494,      0.9748,     0.97466,     0.97452,     0.97437,     0.97423,     0.97409,     0.97395,      0.9738,     0.97366,     0.97352,     0.97338,\n",
              "            0.97323,     0.97309,     0.97295,     0.97281,     0.97266,     0.97252,     0.97238,     0.97224,     0.97199,     0.97174,     0.97148,     0.97123,     0.97097,     0.97072,     0.97046,     0.97021,     0.96995,      0.9697,     0.96944,     0.96836,     0.96688,     0.96594,      0.9652,\n",
              "            0.96446,     0.96372,     0.95526,     0.95351,       0.952,      0.9461,     0.94302,     0.93865,      0.9374,     0.93265,     0.92739,     0.92397,     0.92075,     0.91982,      0.9189,     0.91799,     0.91718,     0.91637,     0.91555,     0.91438,      0.9122,     0.90648,     0.89788,\n",
              "            0.89676,     0.89564,     0.88915,     0.88004,     0.87214,     0.85272,     0.84719,     0.83613,     0.82486,     0.81941,      0.8079,     0.80145,     0.79214,     0.78411,     0.76484,     0.75527,     0.73603,     0.70812,       0.698,     0.68001,     0.65089,      0.6452,     0.61204,\n",
              "            0.59372,     0.57158,     0.54618,     0.49566,      0.4802,     0.45787,     0.43753,     0.40433,     0.36792,     0.35794,     0.32279,     0.28923,     0.25886,     0.24215,     0.23559,     0.22693,     0.20085,     0.17962,     0.16014,     0.13807,     0.13164,     0.12209,     0.11226,\n",
              "             0.1083,     0.10432,     0.08274,    0.080475,    0.078204,    0.075927,    0.073645,    0.065883,    0.055464,    0.037172,    0.029889,    0.027197,    0.024498,    0.021791,    0.020157,    0.018709,    0.017257,    0.015804,    0.014349,    0.012892,    0.011432,           0,           0,\n",
              "                  0,           0,           0,           0,           0,           0,           0,           0,           0,           0,           0,           0,           0,           0,           0,           0,           0,           0,           0,           0,           0,           0,           0,\n",
              "                  0,           0,           0,           0,           0,           0,           0,           0,           0,           0,           0,           0,           0,           0,           0,           0,           0,           0,           0,           0,           0,           0,           0,\n",
              "                  0,           0,           0,           0,           0,           0,           0,           0,           0,           0,           0]]), 'Confidence', 'F1'], [array([          0,    0.001001,    0.002002,    0.003003,    0.004004,    0.005005,    0.006006,    0.007007,    0.008008,    0.009009,     0.01001,    0.011011,    0.012012,    0.013013,    0.014014,    0.015015,    0.016016,    0.017017,    0.018018,    0.019019,     0.02002,    0.021021,    0.022022,    0.023023,\n",
              "          0.024024,    0.025025,    0.026026,    0.027027,    0.028028,    0.029029,     0.03003,    0.031031,    0.032032,    0.033033,    0.034034,    0.035035,    0.036036,    0.037037,    0.038038,    0.039039,     0.04004,    0.041041,    0.042042,    0.043043,    0.044044,    0.045045,    0.046046,    0.047047,\n",
              "          0.048048,    0.049049,     0.05005,    0.051051,    0.052052,    0.053053,    0.054054,    0.055055,    0.056056,    0.057057,    0.058058,    0.059059,     0.06006,    0.061061,    0.062062,    0.063063,    0.064064,    0.065065,    0.066066,    0.067067,    0.068068,    0.069069,     0.07007,    0.071071,\n",
              "          0.072072,    0.073073,    0.074074,    0.075075,    0.076076,    0.077077,    0.078078,    0.079079,     0.08008,    0.081081,    0.082082,    0.083083,    0.084084,    0.085085,    0.086086,    0.087087,    0.088088,    0.089089,     0.09009,    0.091091,    0.092092,    0.093093,    0.094094,    0.095095,\n",
              "          0.096096,    0.097097,    0.098098,    0.099099,      0.1001,      0.1011,      0.1021,      0.1031,      0.1041,     0.10511,     0.10611,     0.10711,     0.10811,     0.10911,     0.11011,     0.11111,     0.11211,     0.11311,     0.11411,     0.11512,     0.11612,     0.11712,     0.11812,     0.11912,\n",
              "           0.12012,     0.12112,     0.12212,     0.12312,     0.12412,     0.12513,     0.12613,     0.12713,     0.12813,     0.12913,     0.13013,     0.13113,     0.13213,     0.13313,     0.13413,     0.13514,     0.13614,     0.13714,     0.13814,     0.13914,     0.14014,     0.14114,     0.14214,     0.14314,\n",
              "           0.14414,     0.14515,     0.14615,     0.14715,     0.14815,     0.14915,     0.15015,     0.15115,     0.15215,     0.15315,     0.15415,     0.15516,     0.15616,     0.15716,     0.15816,     0.15916,     0.16016,     0.16116,     0.16216,     0.16316,     0.16416,     0.16517,     0.16617,     0.16717,\n",
              "           0.16817,     0.16917,     0.17017,     0.17117,     0.17217,     0.17317,     0.17417,     0.17518,     0.17618,     0.17718,     0.17818,     0.17918,     0.18018,     0.18118,     0.18218,     0.18318,     0.18418,     0.18519,     0.18619,     0.18719,     0.18819,     0.18919,     0.19019,     0.19119,\n",
              "           0.19219,     0.19319,     0.19419,      0.1952,      0.1962,      0.1972,      0.1982,      0.1992,      0.2002,      0.2012,      0.2022,      0.2032,      0.2042,     0.20521,     0.20621,     0.20721,     0.20821,     0.20921,     0.21021,     0.21121,     0.21221,     0.21321,     0.21421,     0.21522,\n",
              "           0.21622,     0.21722,     0.21822,     0.21922,     0.22022,     0.22122,     0.22222,     0.22322,     0.22422,     0.22523,     0.22623,     0.22723,     0.22823,     0.22923,     0.23023,     0.23123,     0.23223,     0.23323,     0.23423,     0.23524,     0.23624,     0.23724,     0.23824,     0.23924,\n",
              "           0.24024,     0.24124,     0.24224,     0.24324,     0.24424,     0.24525,     0.24625,     0.24725,     0.24825,     0.24925,     0.25025,     0.25125,     0.25225,     0.25325,     0.25425,     0.25526,     0.25626,     0.25726,     0.25826,     0.25926,     0.26026,     0.26126,     0.26226,     0.26326,\n",
              "           0.26426,     0.26527,     0.26627,     0.26727,     0.26827,     0.26927,     0.27027,     0.27127,     0.27227,     0.27327,     0.27427,     0.27528,     0.27628,     0.27728,     0.27828,     0.27928,     0.28028,     0.28128,     0.28228,     0.28328,     0.28428,     0.28529,     0.28629,     0.28729,\n",
              "           0.28829,     0.28929,     0.29029,     0.29129,     0.29229,     0.29329,     0.29429,      0.2953,      0.2963,      0.2973,      0.2983,      0.2993,      0.3003,      0.3013,      0.3023,      0.3033,      0.3043,     0.30531,     0.30631,     0.30731,     0.30831,     0.30931,     0.31031,     0.31131,\n",
              "           0.31231,     0.31331,     0.31431,     0.31532,     0.31632,     0.31732,     0.31832,     0.31932,     0.32032,     0.32132,     0.32232,     0.32332,     0.32432,     0.32533,     0.32633,     0.32733,     0.32833,     0.32933,     0.33033,     0.33133,     0.33233,     0.33333,     0.33433,     0.33534,\n",
              "           0.33634,     0.33734,     0.33834,     0.33934,     0.34034,     0.34134,     0.34234,     0.34334,     0.34434,     0.34535,     0.34635,     0.34735,     0.34835,     0.34935,     0.35035,     0.35135,     0.35235,     0.35335,     0.35435,     0.35536,     0.35636,     0.35736,     0.35836,     0.35936,\n",
              "           0.36036,     0.36136,     0.36236,     0.36336,     0.36436,     0.36537,     0.36637,     0.36737,     0.36837,     0.36937,     0.37037,     0.37137,     0.37237,     0.37337,     0.37437,     0.37538,     0.37638,     0.37738,     0.37838,     0.37938,     0.38038,     0.38138,     0.38238,     0.38338,\n",
              "           0.38438,     0.38539,     0.38639,     0.38739,     0.38839,     0.38939,     0.39039,     0.39139,     0.39239,     0.39339,     0.39439,      0.3954,      0.3964,      0.3974,      0.3984,      0.3994,      0.4004,      0.4014,      0.4024,      0.4034,      0.4044,     0.40541,     0.40641,     0.40741,\n",
              "           0.40841,     0.40941,     0.41041,     0.41141,     0.41241,     0.41341,     0.41441,     0.41542,     0.41642,     0.41742,     0.41842,     0.41942,     0.42042,     0.42142,     0.42242,     0.42342,     0.42442,     0.42543,     0.42643,     0.42743,     0.42843,     0.42943,     0.43043,     0.43143,\n",
              "           0.43243,     0.43343,     0.43443,     0.43544,     0.43644,     0.43744,     0.43844,     0.43944,     0.44044,     0.44144,     0.44244,     0.44344,     0.44444,     0.44545,     0.44645,     0.44745,     0.44845,     0.44945,     0.45045,     0.45145,     0.45245,     0.45345,     0.45445,     0.45546,\n",
              "           0.45646,     0.45746,     0.45846,     0.45946,     0.46046,     0.46146,     0.46246,     0.46346,     0.46446,     0.46547,     0.46647,     0.46747,     0.46847,     0.46947,     0.47047,     0.47147,     0.47247,     0.47347,     0.47447,     0.47548,     0.47648,     0.47748,     0.47848,     0.47948,\n",
              "           0.48048,     0.48148,     0.48248,     0.48348,     0.48448,     0.48549,     0.48649,     0.48749,     0.48849,     0.48949,     0.49049,     0.49149,     0.49249,     0.49349,     0.49449,      0.4955,      0.4965,      0.4975,      0.4985,      0.4995,      0.5005,      0.5015,      0.5025,      0.5035,\n",
              "            0.5045,     0.50551,     0.50651,     0.50751,     0.50851,     0.50951,     0.51051,     0.51151,     0.51251,     0.51351,     0.51451,     0.51552,     0.51652,     0.51752,     0.51852,     0.51952,     0.52052,     0.52152,     0.52252,     0.52352,     0.52452,     0.52553,     0.52653,     0.52753,\n",
              "           0.52853,     0.52953,     0.53053,     0.53153,     0.53253,     0.53353,     0.53453,     0.53554,     0.53654,     0.53754,     0.53854,     0.53954,     0.54054,     0.54154,     0.54254,     0.54354,     0.54454,     0.54555,     0.54655,     0.54755,     0.54855,     0.54955,     0.55055,     0.55155,\n",
              "           0.55255,     0.55355,     0.55455,     0.55556,     0.55656,     0.55756,     0.55856,     0.55956,     0.56056,     0.56156,     0.56256,     0.56356,     0.56456,     0.56557,     0.56657,     0.56757,     0.56857,     0.56957,     0.57057,     0.57157,     0.57257,     0.57357,     0.57457,     0.57558,\n",
              "           0.57658,     0.57758,     0.57858,     0.57958,     0.58058,     0.58158,     0.58258,     0.58358,     0.58458,     0.58559,     0.58659,     0.58759,     0.58859,     0.58959,     0.59059,     0.59159,     0.59259,     0.59359,     0.59459,      0.5956,      0.5966,      0.5976,      0.5986,      0.5996,\n",
              "            0.6006,      0.6016,      0.6026,      0.6036,      0.6046,     0.60561,     0.60661,     0.60761,     0.60861,     0.60961,     0.61061,     0.61161,     0.61261,     0.61361,     0.61461,     0.61562,     0.61662,     0.61762,     0.61862,     0.61962,     0.62062,     0.62162,     0.62262,     0.62362,\n",
              "           0.62462,     0.62563,     0.62663,     0.62763,     0.62863,     0.62963,     0.63063,     0.63163,     0.63263,     0.63363,     0.63463,     0.63564,     0.63664,     0.63764,     0.63864,     0.63964,     0.64064,     0.64164,     0.64264,     0.64364,     0.64464,     0.64565,     0.64665,     0.64765,\n",
              "           0.64865,     0.64965,     0.65065,     0.65165,     0.65265,     0.65365,     0.65465,     0.65566,     0.65666,     0.65766,     0.65866,     0.65966,     0.66066,     0.66166,     0.66266,     0.66366,     0.66466,     0.66567,     0.66667,     0.66767,     0.66867,     0.66967,     0.67067,     0.67167,\n",
              "           0.67267,     0.67367,     0.67467,     0.67568,     0.67668,     0.67768,     0.67868,     0.67968,     0.68068,     0.68168,     0.68268,     0.68368,     0.68468,     0.68569,     0.68669,     0.68769,     0.68869,     0.68969,     0.69069,     0.69169,     0.69269,     0.69369,     0.69469,      0.6957,\n",
              "            0.6967,      0.6977,      0.6987,      0.6997,      0.7007,      0.7017,      0.7027,      0.7037,      0.7047,     0.70571,     0.70671,     0.70771,     0.70871,     0.70971,     0.71071,     0.71171,     0.71271,     0.71371,     0.71471,     0.71572,     0.71672,     0.71772,     0.71872,     0.71972,\n",
              "           0.72072,     0.72172,     0.72272,     0.72372,     0.72472,     0.72573,     0.72673,     0.72773,     0.72873,     0.72973,     0.73073,     0.73173,     0.73273,     0.73373,     0.73473,     0.73574,     0.73674,     0.73774,     0.73874,     0.73974,     0.74074,     0.74174,     0.74274,     0.74374,\n",
              "           0.74474,     0.74575,     0.74675,     0.74775,     0.74875,     0.74975,     0.75075,     0.75175,     0.75275,     0.75375,     0.75475,     0.75576,     0.75676,     0.75776,     0.75876,     0.75976,     0.76076,     0.76176,     0.76276,     0.76376,     0.76476,     0.76577,     0.76677,     0.76777,\n",
              "           0.76877,     0.76977,     0.77077,     0.77177,     0.77277,     0.77377,     0.77477,     0.77578,     0.77678,     0.77778,     0.77878,     0.77978,     0.78078,     0.78178,     0.78278,     0.78378,     0.78478,     0.78579,     0.78679,     0.78779,     0.78879,     0.78979,     0.79079,     0.79179,\n",
              "           0.79279,     0.79379,     0.79479,      0.7958,      0.7968,      0.7978,      0.7988,      0.7998,      0.8008,      0.8018,      0.8028,      0.8038,      0.8048,     0.80581,     0.80681,     0.80781,     0.80881,     0.80981,     0.81081,     0.81181,     0.81281,     0.81381,     0.81481,     0.81582,\n",
              "           0.81682,     0.81782,     0.81882,     0.81982,     0.82082,     0.82182,     0.82282,     0.82382,     0.82482,     0.82583,     0.82683,     0.82783,     0.82883,     0.82983,     0.83083,     0.83183,     0.83283,     0.83383,     0.83483,     0.83584,     0.83684,     0.83784,     0.83884,     0.83984,\n",
              "           0.84084,     0.84184,     0.84284,     0.84384,     0.84484,     0.84585,     0.84685,     0.84785,     0.84885,     0.84985,     0.85085,     0.85185,     0.85285,     0.85385,     0.85485,     0.85586,     0.85686,     0.85786,     0.85886,     0.85986,     0.86086,     0.86186,     0.86286,     0.86386,\n",
              "           0.86486,     0.86587,     0.86687,     0.86787,     0.86887,     0.86987,     0.87087,     0.87187,     0.87287,     0.87387,     0.87487,     0.87588,     0.87688,     0.87788,     0.87888,     0.87988,     0.88088,     0.88188,     0.88288,     0.88388,     0.88488,     0.88589,     0.88689,     0.88789,\n",
              "           0.88889,     0.88989,     0.89089,     0.89189,     0.89289,     0.89389,     0.89489,      0.8959,      0.8969,      0.8979,      0.8989,      0.8999,      0.9009,      0.9019,      0.9029,      0.9039,      0.9049,     0.90591,     0.90691,     0.90791,     0.90891,     0.90991,     0.91091,     0.91191,\n",
              "           0.91291,     0.91391,     0.91491,     0.91592,     0.91692,     0.91792,     0.91892,     0.91992,     0.92092,     0.92192,     0.92292,     0.92392,     0.92492,     0.92593,     0.92693,     0.92793,     0.92893,     0.92993,     0.93093,     0.93193,     0.93293,     0.93393,     0.93493,     0.93594,\n",
              "           0.93694,     0.93794,     0.93894,     0.93994,     0.94094,     0.94194,     0.94294,     0.94394,     0.94494,     0.94595,     0.94695,     0.94795,     0.94895,     0.94995,     0.95095,     0.95195,     0.95295,     0.95395,     0.95495,     0.95596,     0.95696,     0.95796,     0.95896,     0.95996,\n",
              "           0.96096,     0.96196,     0.96296,     0.96396,     0.96496,     0.96597,     0.96697,     0.96797,     0.96897,     0.96997,     0.97097,     0.97197,     0.97297,     0.97397,     0.97497,     0.97598,     0.97698,     0.97798,     0.97898,     0.97998,     0.98098,     0.98198,     0.98298,     0.98398,\n",
              "           0.98498,     0.98599,     0.98699,     0.98799,     0.98899,     0.98999,     0.99099,     0.99199,     0.99299,     0.99399,     0.99499,       0.996,       0.997,       0.998,       0.999,           1]), array([[    0.59934,     0.59934,     0.70902,     0.74128,     0.78323,     0.80989,     0.83243,      0.8452,     0.84761,     0.84961,     0.85505,      0.8657,     0.87396,     0.88264,     0.88562,     0.89662,     0.90496,      0.9058,      0.9066,      0.9074,      0.9082,     0.90901,     0.90995,\n",
              "             0.9112,     0.91245,      0.9137,     0.91582,      0.9184,     0.92036,     0.92221,     0.92429,     0.92686,     0.92895,     0.93052,     0.93209,     0.93318,     0.93361,     0.93405,     0.93449,     0.93492,     0.93536,      0.9358,     0.93623,     0.93667,     0.93711,     0.93754,\n",
              "            0.93825,     0.93942,     0.94058,     0.94175,     0.94359,     0.94792,     0.94978,     0.95164,     0.95325,     0.95458,     0.95592,     0.95725,     0.95882,     0.96049,     0.96216,     0.96294,      0.9632,     0.96347,     0.96373,       0.964,     0.96427,     0.96453,      0.9648,\n",
              "            0.96507,     0.96533,      0.9656,     0.96587,     0.96613,      0.9664,     0.96666,     0.96693,      0.9672,     0.96746,     0.96773,     0.96793,     0.96799,     0.96804,     0.96809,     0.96815,      0.9682,     0.96826,     0.96831,     0.96836,     0.96842,     0.96847,     0.96853,\n",
              "            0.96858,     0.96863,     0.96869,     0.96874,      0.9688,     0.96885,      0.9689,     0.96896,     0.96901,     0.96907,     0.96912,     0.96917,     0.96923,     0.96928,     0.96934,     0.96939,     0.96944,      0.9695,     0.96955,     0.96961,     0.96966,     0.96971,     0.96977,\n",
              "            0.96982,     0.96988,     0.96993,     0.96998,     0.97004,     0.97009,     0.97015,      0.9702,     0.97026,     0.97031,     0.97036,     0.97042,     0.97047,     0.97053,     0.97058,     0.97063,     0.97069,     0.97074,      0.9708,     0.97085,      0.9709,     0.97096,     0.97101,\n",
              "            0.97107,     0.97112,     0.97117,     0.97123,     0.97128,     0.97134,     0.97139,     0.97144,      0.9715,     0.97155,     0.97161,     0.97166,     0.97171,     0.97177,     0.97182,     0.97188,     0.97193,     0.97198,     0.97204,     0.97209,     0.97215,      0.9722,     0.97226,\n",
              "            0.97231,     0.97236,     0.97242,     0.97247,     0.97253,     0.97258,     0.97263,     0.97269,     0.97274,      0.9728,     0.97285,      0.9729,     0.97296,     0.97301,     0.97307,     0.97312,     0.97311,     0.97311,      0.9731,     0.97309,     0.97309,     0.97308,     0.97308,\n",
              "            0.97307,     0.97306,     0.97306,     0.97305,     0.97304,     0.97304,     0.97303,     0.97303,     0.97302,     0.97301,     0.97301,       0.973,       0.973,     0.97299,     0.97298,     0.97298,     0.97301,     0.97315,     0.97329,     0.97343,     0.97357,      0.9737,     0.97384,\n",
              "            0.97398,     0.97412,     0.97426,      0.9744,     0.97454,     0.97468,     0.97482,     0.97496,      0.9751,     0.97524,     0.97538,     0.97552,     0.97566,      0.9758,     0.97594,     0.97608,     0.97621,     0.97635,     0.97649,     0.97663,     0.97677,     0.97691,     0.97705,\n",
              "            0.97719,     0.97733,     0.97747,     0.97761,     0.97775,     0.97789,     0.97803,     0.97817,     0.97831,     0.97847,     0.97863,     0.97879,     0.97895,     0.97912,     0.97928,     0.97944,      0.9796,     0.97976,     0.97992,     0.98008,     0.98024,      0.9804,     0.98056,\n",
              "            0.98072,     0.98088,     0.98104,      0.9812,     0.98136,     0.98152,     0.98168,     0.98185,     0.98201,     0.98217,     0.98233,     0.98249,     0.98265,     0.98281,     0.98297,     0.98313,     0.98329,     0.98345,     0.98361,     0.98361,     0.98361,      0.9836,      0.9836,\n",
              "             0.9836,      0.9836,      0.9836,      0.9836,      0.9836,      0.9836,      0.9836,      0.9836,      0.9836,      0.9836,      0.9836,      0.9836,      0.9836,      0.9836,      0.9836,      0.9836,      0.9836,      0.9836,     0.98359,     0.98359,     0.98359,     0.98359,     0.98359,\n",
              "            0.98359,     0.98359,     0.98359,     0.98359,     0.98359,     0.98359,     0.98359,     0.98359,     0.98359,     0.98359,     0.98359,     0.98359,     0.98359,     0.98359,     0.98358,     0.98358,     0.98358,     0.98358,     0.98358,     0.98358,     0.98358,     0.98358,     0.98358,\n",
              "            0.98358,     0.98358,     0.98358,     0.98358,     0.98358,     0.98358,     0.98358,     0.98358,     0.98358,     0.98358,     0.98357,     0.98357,     0.98357,     0.98357,     0.98357,     0.98357,     0.98357,     0.98357,     0.98357,     0.98357,     0.98357,     0.98357,     0.98357,\n",
              "            0.98357,     0.98357,     0.98357,     0.98357,     0.98357,     0.98357,     0.98356,     0.98356,     0.98356,     0.98356,     0.98356,     0.98356,     0.98356,     0.98356,     0.98356,     0.98356,     0.98356,     0.98356,     0.98356,     0.98356,     0.98356,     0.98356,     0.98356,\n",
              "            0.98356,     0.98356,     0.98355,     0.98355,     0.98355,     0.98355,     0.98355,     0.98355,     0.98355,     0.98355,     0.98355,     0.98355,     0.98355,     0.98355,     0.98355,     0.98355,     0.98355,     0.98355,     0.98355,     0.98355,     0.98355,     0.98354,     0.98354,\n",
              "            0.98354,     0.98354,     0.98354,     0.98354,     0.98354,     0.98354,     0.98354,     0.98354,     0.98354,     0.98354,     0.98354,     0.98354,     0.98354,     0.98354,     0.98354,     0.98354,     0.98354,     0.98353,     0.98353,     0.98353,     0.98353,     0.98353,     0.98353,\n",
              "            0.98353,     0.98353,     0.98353,     0.98353,     0.98353,     0.98353,     0.98353,     0.98353,     0.98353,     0.98353,     0.98353,     0.98353,     0.98353,     0.98352,     0.98352,     0.98352,     0.98352,     0.98352,     0.98352,     0.98352,     0.98352,     0.98352,     0.98352,\n",
              "            0.98352,     0.98352,     0.98352,     0.98352,     0.98352,     0.98352,     0.98352,     0.98352,     0.98352,     0.98352,     0.98351,     0.98351,     0.98351,     0.98351,     0.98351,     0.98351,     0.98351,     0.98351,     0.98351,     0.98351,     0.98351,     0.98351,     0.98351,\n",
              "            0.98351,     0.98351,     0.98351,     0.98351,     0.98351,     0.98351,     0.98351,     0.98351,      0.9835,      0.9835,      0.9835,      0.9835,      0.9835,      0.9835,      0.9835,      0.9835,      0.9835,      0.9835,      0.9835,      0.9835,      0.9835,      0.9835,      0.9835,\n",
              "             0.9835,      0.9835,      0.9835,      0.9835,      0.9835,      0.9835,      0.9835,     0.98349,     0.98349,     0.98349,     0.98349,     0.98349,     0.98349,     0.98349,     0.98349,     0.98349,     0.98349,     0.98349,     0.98349,     0.98349,     0.98349,     0.98349,     0.98349,\n",
              "            0.98349,     0.98349,     0.98349,     0.98349,     0.98349,     0.98348,     0.98348,     0.98348,     0.98348,     0.98348,     0.98348,     0.98348,     0.98348,     0.98348,     0.98348,     0.98348,     0.98348,     0.98348,     0.98348,     0.98348,     0.98348,     0.98348,     0.98348,\n",
              "            0.98348,     0.98348,     0.98348,     0.98348,     0.98347,     0.98347,     0.98347,     0.98347,     0.98347,     0.98347,     0.98347,     0.98347,     0.98347,     0.98347,     0.98347,     0.98347,     0.98347,     0.98347,     0.98347,     0.98347,     0.98347,     0.98347,     0.98347,\n",
              "            0.98347,     0.98347,     0.98346,     0.98346,     0.98346,     0.98346,     0.98346,     0.98346,     0.98346,     0.98346,     0.98346,     0.98346,     0.98346,     0.98346,     0.98346,     0.98346,     0.98346,     0.98346,     0.98346,     0.98346,     0.98346,     0.98346,     0.98346,\n",
              "            0.98346,     0.98345,     0.98345,     0.98345,     0.98345,     0.98345,     0.98345,     0.98345,     0.98345,     0.98345,     0.98345,     0.98345,     0.98345,     0.98345,     0.98345,     0.98345,     0.98345,     0.98345,     0.98345,     0.98345,     0.98345,     0.98345,     0.98344,\n",
              "            0.98344,     0.98344,     0.98344,     0.98344,     0.98344,     0.98344,     0.98344,     0.98344,     0.98344,     0.98344,     0.98344,     0.98344,     0.98344,     0.98344,     0.98344,     0.98344,     0.98344,     0.98344,     0.98344,     0.98344,     0.98344,     0.98343,     0.98343,\n",
              "            0.98343,     0.98343,     0.98343,     0.98343,     0.98343,     0.98343,     0.98343,     0.98343,     0.98343,     0.98343,     0.98343,     0.98343,     0.98343,     0.98343,     0.98343,     0.98343,     0.98343,     0.98343,     0.98343,     0.98341,      0.9834,     0.98339,     0.98338,\n",
              "            0.98336,     0.98335,     0.98334,      0.9833,     0.98325,     0.98341,     0.98365,     0.98388,     0.98412,     0.98435,     0.98459,     0.98483,     0.98506,      0.9853,     0.98553,     0.98577,     0.98601,     0.98624,     0.98648,     0.98671,     0.98695,     0.98719,     0.98742,\n",
              "            0.98766,     0.98789,     0.98813,     0.98837,      0.9886,     0.98879,     0.98886,     0.98893,       0.989,     0.98907,     0.98914,     0.98922,     0.98929,     0.98936,     0.98943,      0.9895,     0.98957,     0.98965,     0.98972,     0.98979,     0.98986,     0.98993,        0.99,\n",
              "            0.99007,     0.99015,     0.99022,     0.99029,     0.99036,     0.99043,      0.9905,     0.99058,     0.99065,     0.99072,     0.99079,     0.99086,     0.99093,     0.99101,     0.99108,     0.99115,     0.99122,     0.99129,     0.99136,     0.99143,     0.99151,     0.99158,     0.99165,\n",
              "            0.99172,     0.99179,     0.99186,     0.99194,     0.99201,     0.99208,     0.99215,     0.99222,     0.99229,     0.99236,     0.99244,     0.99251,     0.99258,     0.99265,     0.99272,     0.99279,     0.99287,     0.99294,     0.99301,     0.99308,     0.99315,     0.99322,      0.9933,\n",
              "            0.99337,     0.99344,     0.99351,     0.99358,     0.99365,     0.99372,      0.9938,     0.99387,     0.99394,     0.99401,     0.99408,     0.99415,     0.99423,      0.9943,     0.99437,     0.99446,     0.99455,     0.99463,     0.99472,     0.99481,     0.99489,     0.99498,     0.99506,\n",
              "            0.99515,     0.99524,     0.99532,     0.99541,      0.9955,     0.99558,     0.99567,     0.99576,     0.99584,     0.99593,     0.99602,      0.9961,     0.99619,     0.99627,     0.99636,     0.99645,     0.99653,     0.99662,     0.99671,     0.99679,     0.99688,     0.99697,     0.99705,\n",
              "            0.99714,     0.99723,     0.99731,      0.9974,     0.99748,     0.99757,     0.99766,     0.99774,     0.99783,     0.99792,       0.998,     0.99809,     0.99818,     0.99826,     0.99835,     0.99844,     0.99852,     0.99861,     0.99869,     0.99878,     0.99887,     0.99895,     0.99904,\n",
              "            0.99913,     0.99921,      0.9993,     0.99939,     0.99947,     0.99956,     0.99965,     0.99973,     0.99982,      0.9999,     0.99999,           1,           1,           1,           1,           1,           1,           1,           1,           1,           1,           1,           1,\n",
              "                  1,           1,           1,           1,           1,           1,           1,           1,           1,           1,           1,           1,           1,           1,           1,           1,           1,           1,           1,           1,           1,           1,           1,\n",
              "                  1,           1,           1,           1,           1,           1,           1,           1,           1,           1,           1,           1,           1,           1,           1,           1,           1,           1,           1,           1,           1,           1,           1,\n",
              "                  1,           1,           1,           1,           1,           1,           1,           1,           1,           1,           1,           1,           1,           1,           1,           1,           1,           1,           1,           1,           1,           1,           1,\n",
              "                  1,           1,           1,           1,           1,           1,           1,           1,           1,           1,           1,           1,           1,           1,           1,           1,           1,           1,           1,           1,           1,           1,           1,\n",
              "                  1,           1,           1,           1,           1,           1,           1,           1,           1,           1,           1,           1,           1,           1,           1,           1,           1,           1,           1,           1,           1,           1,           1,\n",
              "                  1,           1,           1,           1,           1,           1,           1,           1,           1,           1,           1,           1,           1,           1,           1,           1,           1,           1,           1,           1,           1,           1,           1,\n",
              "                  1,           1,           1,           1,           1,           1,           1,           1,           1,           1,           1,           1,           1,           1,           1,           1,           1,           1,           1,           1,           1,           1,           1,\n",
              "                  1,           1,           1,           1,           1,           1,           1,           1,           1,           1,           1]]), 'Confidence', 'Precision'], [array([          0,    0.001001,    0.002002,    0.003003,    0.004004,    0.005005,    0.006006,    0.007007,    0.008008,    0.009009,     0.01001,    0.011011,    0.012012,    0.013013,    0.014014,    0.015015,    0.016016,    0.017017,    0.018018,    0.019019,     0.02002,    0.021021,    0.022022,    0.023023,\n",
              "          0.024024,    0.025025,    0.026026,    0.027027,    0.028028,    0.029029,     0.03003,    0.031031,    0.032032,    0.033033,    0.034034,    0.035035,    0.036036,    0.037037,    0.038038,    0.039039,     0.04004,    0.041041,    0.042042,    0.043043,    0.044044,    0.045045,    0.046046,    0.047047,\n",
              "          0.048048,    0.049049,     0.05005,    0.051051,    0.052052,    0.053053,    0.054054,    0.055055,    0.056056,    0.057057,    0.058058,    0.059059,     0.06006,    0.061061,    0.062062,    0.063063,    0.064064,    0.065065,    0.066066,    0.067067,    0.068068,    0.069069,     0.07007,    0.071071,\n",
              "          0.072072,    0.073073,    0.074074,    0.075075,    0.076076,    0.077077,    0.078078,    0.079079,     0.08008,    0.081081,    0.082082,    0.083083,    0.084084,    0.085085,    0.086086,    0.087087,    0.088088,    0.089089,     0.09009,    0.091091,    0.092092,    0.093093,    0.094094,    0.095095,\n",
              "          0.096096,    0.097097,    0.098098,    0.099099,      0.1001,      0.1011,      0.1021,      0.1031,      0.1041,     0.10511,     0.10611,     0.10711,     0.10811,     0.10911,     0.11011,     0.11111,     0.11211,     0.11311,     0.11411,     0.11512,     0.11612,     0.11712,     0.11812,     0.11912,\n",
              "           0.12012,     0.12112,     0.12212,     0.12312,     0.12412,     0.12513,     0.12613,     0.12713,     0.12813,     0.12913,     0.13013,     0.13113,     0.13213,     0.13313,     0.13413,     0.13514,     0.13614,     0.13714,     0.13814,     0.13914,     0.14014,     0.14114,     0.14214,     0.14314,\n",
              "           0.14414,     0.14515,     0.14615,     0.14715,     0.14815,     0.14915,     0.15015,     0.15115,     0.15215,     0.15315,     0.15415,     0.15516,     0.15616,     0.15716,     0.15816,     0.15916,     0.16016,     0.16116,     0.16216,     0.16316,     0.16416,     0.16517,     0.16617,     0.16717,\n",
              "           0.16817,     0.16917,     0.17017,     0.17117,     0.17217,     0.17317,     0.17417,     0.17518,     0.17618,     0.17718,     0.17818,     0.17918,     0.18018,     0.18118,     0.18218,     0.18318,     0.18418,     0.18519,     0.18619,     0.18719,     0.18819,     0.18919,     0.19019,     0.19119,\n",
              "           0.19219,     0.19319,     0.19419,      0.1952,      0.1962,      0.1972,      0.1982,      0.1992,      0.2002,      0.2012,      0.2022,      0.2032,      0.2042,     0.20521,     0.20621,     0.20721,     0.20821,     0.20921,     0.21021,     0.21121,     0.21221,     0.21321,     0.21421,     0.21522,\n",
              "           0.21622,     0.21722,     0.21822,     0.21922,     0.22022,     0.22122,     0.22222,     0.22322,     0.22422,     0.22523,     0.22623,     0.22723,     0.22823,     0.22923,     0.23023,     0.23123,     0.23223,     0.23323,     0.23423,     0.23524,     0.23624,     0.23724,     0.23824,     0.23924,\n",
              "           0.24024,     0.24124,     0.24224,     0.24324,     0.24424,     0.24525,     0.24625,     0.24725,     0.24825,     0.24925,     0.25025,     0.25125,     0.25225,     0.25325,     0.25425,     0.25526,     0.25626,     0.25726,     0.25826,     0.25926,     0.26026,     0.26126,     0.26226,     0.26326,\n",
              "           0.26426,     0.26527,     0.26627,     0.26727,     0.26827,     0.26927,     0.27027,     0.27127,     0.27227,     0.27327,     0.27427,     0.27528,     0.27628,     0.27728,     0.27828,     0.27928,     0.28028,     0.28128,     0.28228,     0.28328,     0.28428,     0.28529,     0.28629,     0.28729,\n",
              "           0.28829,     0.28929,     0.29029,     0.29129,     0.29229,     0.29329,     0.29429,      0.2953,      0.2963,      0.2973,      0.2983,      0.2993,      0.3003,      0.3013,      0.3023,      0.3033,      0.3043,     0.30531,     0.30631,     0.30731,     0.30831,     0.30931,     0.31031,     0.31131,\n",
              "           0.31231,     0.31331,     0.31431,     0.31532,     0.31632,     0.31732,     0.31832,     0.31932,     0.32032,     0.32132,     0.32232,     0.32332,     0.32432,     0.32533,     0.32633,     0.32733,     0.32833,     0.32933,     0.33033,     0.33133,     0.33233,     0.33333,     0.33433,     0.33534,\n",
              "           0.33634,     0.33734,     0.33834,     0.33934,     0.34034,     0.34134,     0.34234,     0.34334,     0.34434,     0.34535,     0.34635,     0.34735,     0.34835,     0.34935,     0.35035,     0.35135,     0.35235,     0.35335,     0.35435,     0.35536,     0.35636,     0.35736,     0.35836,     0.35936,\n",
              "           0.36036,     0.36136,     0.36236,     0.36336,     0.36436,     0.36537,     0.36637,     0.36737,     0.36837,     0.36937,     0.37037,     0.37137,     0.37237,     0.37337,     0.37437,     0.37538,     0.37638,     0.37738,     0.37838,     0.37938,     0.38038,     0.38138,     0.38238,     0.38338,\n",
              "           0.38438,     0.38539,     0.38639,     0.38739,     0.38839,     0.38939,     0.39039,     0.39139,     0.39239,     0.39339,     0.39439,      0.3954,      0.3964,      0.3974,      0.3984,      0.3994,      0.4004,      0.4014,      0.4024,      0.4034,      0.4044,     0.40541,     0.40641,     0.40741,\n",
              "           0.40841,     0.40941,     0.41041,     0.41141,     0.41241,     0.41341,     0.41441,     0.41542,     0.41642,     0.41742,     0.41842,     0.41942,     0.42042,     0.42142,     0.42242,     0.42342,     0.42442,     0.42543,     0.42643,     0.42743,     0.42843,     0.42943,     0.43043,     0.43143,\n",
              "           0.43243,     0.43343,     0.43443,     0.43544,     0.43644,     0.43744,     0.43844,     0.43944,     0.44044,     0.44144,     0.44244,     0.44344,     0.44444,     0.44545,     0.44645,     0.44745,     0.44845,     0.44945,     0.45045,     0.45145,     0.45245,     0.45345,     0.45445,     0.45546,\n",
              "           0.45646,     0.45746,     0.45846,     0.45946,     0.46046,     0.46146,     0.46246,     0.46346,     0.46446,     0.46547,     0.46647,     0.46747,     0.46847,     0.46947,     0.47047,     0.47147,     0.47247,     0.47347,     0.47447,     0.47548,     0.47648,     0.47748,     0.47848,     0.47948,\n",
              "           0.48048,     0.48148,     0.48248,     0.48348,     0.48448,     0.48549,     0.48649,     0.48749,     0.48849,     0.48949,     0.49049,     0.49149,     0.49249,     0.49349,     0.49449,      0.4955,      0.4965,      0.4975,      0.4985,      0.4995,      0.5005,      0.5015,      0.5025,      0.5035,\n",
              "            0.5045,     0.50551,     0.50651,     0.50751,     0.50851,     0.50951,     0.51051,     0.51151,     0.51251,     0.51351,     0.51451,     0.51552,     0.51652,     0.51752,     0.51852,     0.51952,     0.52052,     0.52152,     0.52252,     0.52352,     0.52452,     0.52553,     0.52653,     0.52753,\n",
              "           0.52853,     0.52953,     0.53053,     0.53153,     0.53253,     0.53353,     0.53453,     0.53554,     0.53654,     0.53754,     0.53854,     0.53954,     0.54054,     0.54154,     0.54254,     0.54354,     0.54454,     0.54555,     0.54655,     0.54755,     0.54855,     0.54955,     0.55055,     0.55155,\n",
              "           0.55255,     0.55355,     0.55455,     0.55556,     0.55656,     0.55756,     0.55856,     0.55956,     0.56056,     0.56156,     0.56256,     0.56356,     0.56456,     0.56557,     0.56657,     0.56757,     0.56857,     0.56957,     0.57057,     0.57157,     0.57257,     0.57357,     0.57457,     0.57558,\n",
              "           0.57658,     0.57758,     0.57858,     0.57958,     0.58058,     0.58158,     0.58258,     0.58358,     0.58458,     0.58559,     0.58659,     0.58759,     0.58859,     0.58959,     0.59059,     0.59159,     0.59259,     0.59359,     0.59459,      0.5956,      0.5966,      0.5976,      0.5986,      0.5996,\n",
              "            0.6006,      0.6016,      0.6026,      0.6036,      0.6046,     0.60561,     0.60661,     0.60761,     0.60861,     0.60961,     0.61061,     0.61161,     0.61261,     0.61361,     0.61461,     0.61562,     0.61662,     0.61762,     0.61862,     0.61962,     0.62062,     0.62162,     0.62262,     0.62362,\n",
              "           0.62462,     0.62563,     0.62663,     0.62763,     0.62863,     0.62963,     0.63063,     0.63163,     0.63263,     0.63363,     0.63463,     0.63564,     0.63664,     0.63764,     0.63864,     0.63964,     0.64064,     0.64164,     0.64264,     0.64364,     0.64464,     0.64565,     0.64665,     0.64765,\n",
              "           0.64865,     0.64965,     0.65065,     0.65165,     0.65265,     0.65365,     0.65465,     0.65566,     0.65666,     0.65766,     0.65866,     0.65966,     0.66066,     0.66166,     0.66266,     0.66366,     0.66466,     0.66567,     0.66667,     0.66767,     0.66867,     0.66967,     0.67067,     0.67167,\n",
              "           0.67267,     0.67367,     0.67467,     0.67568,     0.67668,     0.67768,     0.67868,     0.67968,     0.68068,     0.68168,     0.68268,     0.68368,     0.68468,     0.68569,     0.68669,     0.68769,     0.68869,     0.68969,     0.69069,     0.69169,     0.69269,     0.69369,     0.69469,      0.6957,\n",
              "            0.6967,      0.6977,      0.6987,      0.6997,      0.7007,      0.7017,      0.7027,      0.7037,      0.7047,     0.70571,     0.70671,     0.70771,     0.70871,     0.70971,     0.71071,     0.71171,     0.71271,     0.71371,     0.71471,     0.71572,     0.71672,     0.71772,     0.71872,     0.71972,\n",
              "           0.72072,     0.72172,     0.72272,     0.72372,     0.72472,     0.72573,     0.72673,     0.72773,     0.72873,     0.72973,     0.73073,     0.73173,     0.73273,     0.73373,     0.73473,     0.73574,     0.73674,     0.73774,     0.73874,     0.73974,     0.74074,     0.74174,     0.74274,     0.74374,\n",
              "           0.74474,     0.74575,     0.74675,     0.74775,     0.74875,     0.74975,     0.75075,     0.75175,     0.75275,     0.75375,     0.75475,     0.75576,     0.75676,     0.75776,     0.75876,     0.75976,     0.76076,     0.76176,     0.76276,     0.76376,     0.76476,     0.76577,     0.76677,     0.76777,\n",
              "           0.76877,     0.76977,     0.77077,     0.77177,     0.77277,     0.77377,     0.77477,     0.77578,     0.77678,     0.77778,     0.77878,     0.77978,     0.78078,     0.78178,     0.78278,     0.78378,     0.78478,     0.78579,     0.78679,     0.78779,     0.78879,     0.78979,     0.79079,     0.79179,\n",
              "           0.79279,     0.79379,     0.79479,      0.7958,      0.7968,      0.7978,      0.7988,      0.7998,      0.8008,      0.8018,      0.8028,      0.8038,      0.8048,     0.80581,     0.80681,     0.80781,     0.80881,     0.80981,     0.81081,     0.81181,     0.81281,     0.81381,     0.81481,     0.81582,\n",
              "           0.81682,     0.81782,     0.81882,     0.81982,     0.82082,     0.82182,     0.82282,     0.82382,     0.82482,     0.82583,     0.82683,     0.82783,     0.82883,     0.82983,     0.83083,     0.83183,     0.83283,     0.83383,     0.83483,     0.83584,     0.83684,     0.83784,     0.83884,     0.83984,\n",
              "           0.84084,     0.84184,     0.84284,     0.84384,     0.84484,     0.84585,     0.84685,     0.84785,     0.84885,     0.84985,     0.85085,     0.85185,     0.85285,     0.85385,     0.85485,     0.85586,     0.85686,     0.85786,     0.85886,     0.85986,     0.86086,     0.86186,     0.86286,     0.86386,\n",
              "           0.86486,     0.86587,     0.86687,     0.86787,     0.86887,     0.86987,     0.87087,     0.87187,     0.87287,     0.87387,     0.87487,     0.87588,     0.87688,     0.87788,     0.87888,     0.87988,     0.88088,     0.88188,     0.88288,     0.88388,     0.88488,     0.88589,     0.88689,     0.88789,\n",
              "           0.88889,     0.88989,     0.89089,     0.89189,     0.89289,     0.89389,     0.89489,      0.8959,      0.8969,      0.8979,      0.8989,      0.8999,      0.9009,      0.9019,      0.9029,      0.9039,      0.9049,     0.90591,     0.90691,     0.90791,     0.90891,     0.90991,     0.91091,     0.91191,\n",
              "           0.91291,     0.91391,     0.91491,     0.91592,     0.91692,     0.91792,     0.91892,     0.91992,     0.92092,     0.92192,     0.92292,     0.92392,     0.92492,     0.92593,     0.92693,     0.92793,     0.92893,     0.92993,     0.93093,     0.93193,     0.93293,     0.93393,     0.93493,     0.93594,\n",
              "           0.93694,     0.93794,     0.93894,     0.93994,     0.94094,     0.94194,     0.94294,     0.94394,     0.94494,     0.94595,     0.94695,     0.94795,     0.94895,     0.94995,     0.95095,     0.95195,     0.95295,     0.95395,     0.95495,     0.95596,     0.95696,     0.95796,     0.95896,     0.95996,\n",
              "           0.96096,     0.96196,     0.96296,     0.96396,     0.96496,     0.96597,     0.96697,     0.96797,     0.96897,     0.96997,     0.97097,     0.97197,     0.97297,     0.97397,     0.97497,     0.97598,     0.97698,     0.97798,     0.97898,     0.97998,     0.98098,     0.98198,     0.98298,     0.98398,\n",
              "           0.98498,     0.98599,     0.98699,     0.98799,     0.98899,     0.98999,     0.99099,     0.99199,     0.99299,     0.99399,     0.99499,       0.996,       0.997,       0.998,       0.999,           1]), array([[    0.97838,     0.97838,     0.97838,     0.97838,     0.97838,     0.97838,     0.97838,     0.97838,     0.97838,     0.97838,     0.97838,     0.97838,     0.97838,     0.97838,     0.97838,     0.97838,     0.97838,     0.97838,     0.97838,     0.97838,     0.97838,     0.97838,     0.97838,\n",
              "            0.97838,     0.97838,     0.97838,     0.97838,     0.97838,     0.97838,     0.97838,     0.97838,     0.97838,     0.97838,     0.97838,     0.97838,     0.97838,     0.97838,     0.97838,     0.97838,     0.97838,     0.97838,     0.97838,     0.97838,     0.97838,     0.97838,     0.97838,\n",
              "            0.97838,     0.97838,     0.97838,     0.97838,     0.97838,     0.97838,     0.97838,     0.97838,     0.97838,     0.97838,     0.97838,     0.97838,     0.97838,     0.97838,     0.97838,     0.97838,     0.97838,     0.97838,     0.97838,     0.97838,     0.97838,     0.97838,     0.97838,\n",
              "            0.97838,     0.97838,     0.97838,     0.97838,     0.97838,     0.97838,     0.97838,     0.97838,     0.97838,     0.97838,     0.97838,     0.97838,     0.97838,     0.97838,     0.97838,     0.97838,     0.97838,     0.97838,     0.97838,     0.97838,     0.97838,     0.97838,     0.97838,\n",
              "            0.97838,     0.97838,     0.97838,     0.97838,     0.97838,     0.97838,     0.97838,     0.97838,     0.97838,     0.97838,     0.97838,     0.97838,     0.97838,     0.97838,     0.97838,     0.97838,     0.97838,     0.97838,     0.97838,     0.97838,     0.97838,     0.97838,     0.97838,\n",
              "            0.97838,     0.97838,     0.97838,     0.97838,     0.97838,     0.97838,     0.97838,     0.97838,     0.97838,     0.97838,     0.97838,     0.97838,     0.97838,     0.97838,     0.97838,     0.97838,     0.97838,     0.97838,     0.97838,     0.97838,     0.97838,     0.97838,     0.97838,\n",
              "            0.97838,     0.97838,     0.97838,     0.97838,     0.97838,     0.97838,     0.97838,     0.97838,     0.97838,     0.97838,     0.97838,     0.97838,     0.97838,     0.97838,     0.97838,     0.97838,     0.97838,     0.97838,     0.97838,     0.97838,     0.97838,     0.97838,     0.97838,\n",
              "            0.97838,     0.97838,     0.97838,     0.97838,     0.97838,     0.97838,     0.97838,     0.97838,     0.97838,     0.97838,     0.97838,     0.97838,     0.97838,     0.97838,     0.97838,     0.97837,     0.97814,     0.97792,     0.97769,     0.97746,     0.97724,     0.97701,     0.97678,\n",
              "            0.97655,     0.97633,      0.9761,     0.97587,     0.97564,     0.97542,     0.97519,     0.97496,     0.97473,     0.97451,     0.97428,     0.97405,     0.97383,      0.9736,     0.97337,     0.97314,     0.97297,     0.97297,     0.97297,     0.97297,     0.97297,     0.97297,     0.97297,\n",
              "            0.97297,     0.97297,     0.97297,     0.97297,     0.97297,     0.97297,     0.97297,     0.97297,     0.97297,     0.97297,     0.97297,     0.97297,     0.97297,     0.97297,     0.97297,     0.97297,     0.97297,     0.97297,     0.97297,     0.97297,     0.97297,     0.97297,     0.97297,\n",
              "            0.97297,     0.97297,     0.97297,     0.97297,     0.97297,     0.97297,     0.97297,     0.97297,     0.97297,     0.97297,     0.97297,     0.97297,     0.97297,     0.97297,     0.97297,     0.97297,     0.97297,     0.97297,     0.97297,     0.97297,     0.97297,     0.97297,     0.97297,\n",
              "            0.97297,     0.97297,     0.97297,     0.97297,     0.97297,     0.97297,     0.97297,     0.97297,     0.97297,     0.97297,     0.97297,     0.97297,     0.97297,     0.97297,     0.97297,     0.97297,     0.97297,     0.97297,     0.97297,     0.97294,     0.97291,     0.97288,     0.97285,\n",
              "            0.97282,     0.97278,     0.97275,     0.97272,     0.97269,     0.97266,     0.97263,      0.9726,     0.97256,     0.97253,      0.9725,     0.97247,     0.97244,     0.97241,     0.97238,     0.97234,     0.97231,     0.97228,     0.97225,     0.97222,     0.97219,     0.97216,     0.97212,\n",
              "            0.97209,     0.97206,     0.97203,       0.972,     0.97197,     0.97194,      0.9719,     0.97187,     0.97184,     0.97181,     0.97178,     0.97175,     0.97172,     0.97168,     0.97165,     0.97162,     0.97159,     0.97156,     0.97153,      0.9715,     0.97147,     0.97143,      0.9714,\n",
              "            0.97137,     0.97134,     0.97131,     0.97128,     0.97125,     0.97121,     0.97118,     0.97115,     0.97112,     0.97109,     0.97106,     0.97103,     0.97099,     0.97096,     0.97093,      0.9709,     0.97087,     0.97084,     0.97081,     0.97077,     0.97074,     0.97071,     0.97068,\n",
              "            0.97065,     0.97062,     0.97059,     0.97055,     0.97052,     0.97049,     0.97046,     0.97043,      0.9704,     0.97037,     0.97034,      0.9703,     0.97027,     0.97024,     0.97021,     0.97018,     0.97015,     0.97012,     0.97008,     0.97005,     0.97002,     0.96999,     0.96996,\n",
              "            0.96993,      0.9699,     0.96986,     0.96983,      0.9698,     0.96977,     0.96974,     0.96971,     0.96968,     0.96964,     0.96961,     0.96958,     0.96955,     0.96952,     0.96949,     0.96946,     0.96942,     0.96939,     0.96936,     0.96933,      0.9693,     0.96927,     0.96924,\n",
              "             0.9692,     0.96917,     0.96914,     0.96911,     0.96908,     0.96905,     0.96902,     0.96899,     0.96895,     0.96892,     0.96889,     0.96886,     0.96883,      0.9688,     0.96877,     0.96873,      0.9687,     0.96867,     0.96864,     0.96861,     0.96858,     0.96855,     0.96851,\n",
              "            0.96848,     0.96845,     0.96842,     0.96839,     0.96836,     0.96833,     0.96829,     0.96826,     0.96823,      0.9682,     0.96817,     0.96814,     0.96811,     0.96807,     0.96804,     0.96801,     0.96798,     0.96795,     0.96792,     0.96789,     0.96786,     0.96782,     0.96779,\n",
              "            0.96776,     0.96773,      0.9677,     0.96767,     0.96764,      0.9676,     0.96757,     0.96754,     0.96752,     0.96749,     0.96746,     0.96743,     0.96741,     0.96738,     0.96735,     0.96732,      0.9673,     0.96727,     0.96724,     0.96721,     0.96719,     0.96716,     0.96713,\n",
              "             0.9671,     0.96708,     0.96705,     0.96702,     0.96699,     0.96696,     0.96694,     0.96691,     0.96688,     0.96685,     0.96683,      0.9668,     0.96677,     0.96674,     0.96672,     0.96669,     0.96666,     0.96663,     0.96661,     0.96658,     0.96655,     0.96652,      0.9665,\n",
              "            0.96647,     0.96644,     0.96641,     0.96639,     0.96636,     0.96633,      0.9663,     0.96627,     0.96625,     0.96622,     0.96619,     0.96616,     0.96614,     0.96611,     0.96608,     0.96605,     0.96603,       0.966,     0.96597,     0.96594,     0.96592,     0.96589,     0.96586,\n",
              "            0.96583,     0.96581,     0.96578,     0.96575,     0.96572,      0.9657,     0.96567,     0.96564,     0.96561,     0.96558,     0.96556,     0.96553,      0.9655,     0.96547,     0.96545,     0.96542,     0.96539,     0.96536,     0.96534,     0.96531,     0.96528,     0.96525,     0.96523,\n",
              "             0.9652,     0.96517,     0.96514,     0.96512,     0.96509,     0.96506,     0.96503,     0.96501,     0.96498,     0.96495,     0.96492,     0.96489,     0.96487,     0.96484,     0.96481,     0.96478,     0.96476,     0.96473,      0.9647,     0.96467,     0.96465,     0.96462,     0.96459,\n",
              "            0.96456,     0.96454,     0.96451,     0.96448,     0.96445,     0.96443,      0.9644,     0.96437,     0.96434,     0.96432,     0.96429,     0.96426,     0.96423,      0.9642,     0.96418,     0.96415,     0.96412,     0.96409,     0.96407,     0.96404,     0.96401,     0.96398,     0.96396,\n",
              "            0.96393,      0.9639,     0.96387,     0.96385,     0.96382,     0.96379,     0.96376,     0.96374,     0.96371,     0.96368,     0.96365,     0.96363,      0.9636,     0.96357,     0.96354,     0.96351,     0.96349,     0.96346,     0.96343,      0.9634,     0.96338,     0.96335,     0.96332,\n",
              "            0.96329,     0.96327,     0.96324,     0.96321,     0.96318,     0.96316,     0.96313,      0.9631,     0.96307,     0.96305,     0.96302,     0.96299,     0.96296,     0.96294,     0.96291,     0.96288,     0.96285,     0.96282,      0.9628,     0.96277,     0.96274,     0.96271,     0.96269,\n",
              "            0.96266,     0.96263,      0.9626,     0.96258,     0.96255,     0.96252,     0.96249,     0.96247,     0.96244,     0.96241,     0.96238,     0.96236,     0.96233,      0.9623,     0.96227,     0.96225,     0.96222,     0.96219,     0.96216,     0.96143,     0.96069,     0.95995,     0.95921,\n",
              "            0.95847,     0.95774,       0.957,     0.95489,     0.95212,     0.95135,     0.95135,     0.95135,     0.95135,     0.95135,     0.95135,     0.95135,     0.95135,     0.95135,     0.95135,     0.95135,     0.95135,     0.95135,     0.95135,     0.95135,     0.95135,     0.95135,     0.95135,\n",
              "            0.95135,     0.95135,     0.95135,     0.95135,     0.95135,     0.95135,     0.95135,     0.95135,     0.95135,     0.95135,     0.95135,     0.95135,     0.95135,     0.95135,     0.95135,     0.95135,     0.95135,     0.95135,     0.95135,     0.95135,     0.95135,     0.95135,     0.95135,\n",
              "            0.95135,     0.95135,     0.95135,     0.95135,     0.95135,     0.95135,     0.95135,     0.95135,     0.95135,     0.95135,     0.95135,     0.95135,     0.95135,     0.95135,     0.95135,     0.95135,     0.95135,     0.95135,     0.95135,     0.95135,     0.95135,     0.95135,     0.95135,\n",
              "            0.95135,     0.95135,     0.95135,     0.95135,     0.95135,     0.95135,     0.95135,     0.95135,     0.95135,     0.95135,     0.95135,     0.95135,     0.95135,     0.95135,     0.95135,     0.95135,     0.95135,     0.95135,     0.95135,     0.95135,     0.95135,     0.95135,     0.95135,\n",
              "            0.95135,     0.95135,     0.95135,     0.95135,     0.95135,     0.95135,     0.95135,     0.95135,     0.95135,     0.95135,     0.95135,     0.95135,     0.95135,     0.95135,     0.95135,     0.95135,     0.95135,     0.95135,     0.95135,     0.95135,     0.95135,     0.95135,     0.95135,\n",
              "            0.95135,     0.95135,     0.95135,     0.95135,     0.95135,     0.95135,     0.95135,     0.95135,     0.95135,     0.95135,     0.95135,     0.95135,     0.95135,     0.95135,     0.95135,     0.95135,     0.95135,     0.95135,     0.95135,     0.95135,     0.95135,     0.95135,     0.95135,\n",
              "            0.95135,     0.95135,     0.95135,     0.95135,     0.95135,     0.95135,     0.95135,     0.95135,     0.95135,     0.95135,     0.95135,     0.95135,     0.95135,     0.95135,     0.95135,     0.95135,     0.95135,     0.95135,     0.95135,     0.95135,     0.95135,     0.95135,     0.95135,\n",
              "            0.95135,     0.95135,     0.95135,     0.95135,     0.95135,     0.95135,     0.95135,     0.95135,     0.95135,     0.95135,     0.95135,     0.95111,     0.95084,     0.95057,      0.9503,     0.95003,     0.94976,     0.94949,     0.94922,     0.94895,     0.94868,     0.94841,     0.94814,\n",
              "            0.94787,      0.9476,     0.94732,     0.94705,     0.94678,     0.94651,     0.94624,     0.94597,     0.94551,     0.94503,     0.94455,     0.94407,     0.94359,      0.9431,     0.94262,     0.94214,     0.94166,     0.94118,      0.9407,     0.93866,     0.93589,     0.93413,     0.93274,\n",
              "            0.93136,     0.92997,     0.91434,     0.91116,     0.90839,     0.89772,     0.89218,     0.88439,     0.88217,      0.8738,     0.86461,     0.85869,     0.85313,     0.85155,     0.84997,     0.84842,     0.84703,     0.84565,     0.84426,     0.84226,     0.83857,     0.82895,     0.81469,\n",
              "            0.81284,       0.811,     0.80042,     0.78578,     0.77328,     0.74326,      0.7349,     0.71841,     0.70192,     0.69407,     0.67772,     0.66868,     0.65583,     0.64488,     0.61922,     0.60677,     0.58231,     0.54814,      0.5361,     0.51516,     0.48246,     0.47623,     0.44096,\n",
              "            0.42219,     0.40015,     0.37569,     0.32949,     0.31596,     0.29691,     0.28003,     0.25339,     0.22543,     0.21799,     0.19246,     0.16907,     0.14867,     0.13776,     0.13353,     0.12798,     0.11163,    0.098672,    0.087038,    0.074152,    0.070458,    0.065011,     0.05947,\n",
              "           0.057248,    0.055031,    0.043155,    0.041924,    0.040693,    0.039462,     0.03823,    0.034064,    0.028523,    0.018938,    0.015171,    0.013786,    0.012401,    0.011016,    0.010181,   0.0094426,   0.0087038,   0.0079651,   0.0072263,   0.0064876,   0.0057488,           0,           0,\n",
              "                  0,           0,           0,           0,           0,           0,           0,           0,           0,           0,           0,           0,           0,           0,           0,           0,           0,           0,           0,           0,           0,           0,           0,\n",
              "                  0,           0,           0,           0,           0,           0,           0,           0,           0,           0,           0,           0,           0,           0,           0,           0,           0,           0,           0,           0,           0,           0,           0,\n",
              "                  0,           0,           0,           0,           0,           0,           0,           0,           0,           0,           0]]), 'Confidence', 'Recall']]\n",
              "fitness: 0.7957429305142221\n",
              "keys: ['metrics/precision(B)', 'metrics/recall(B)', 'metrics/mAP50(B)', 'metrics/mAP50-95(B)']\n",
              "maps: array([    0.77494])\n",
              "names: {0: 'Number-Plate'}\n",
              "plot: True\n",
              "results_dict: {'metrics/precision(B)': 0.9835892787060762, 'metrics/recall(B)': 0.9719360659181501, 'metrics/mAP50(B)': 0.9829879424058192, 'metrics/mAP50-95(B)': 0.7749379291929335, 'fitness': 0.7957429305142221}\n",
              "save_dir: PosixPath('runs/detect/train4')\n",
              "speed: {'preprocess': 0.19863411620423035, 'inference': 2.2108122542664246, 'loss': 0.0002855782980447287, 'postprocess': 2.7448620115007674}\n",
              "task: 'detect'"
            ]
          },
          "execution_count": 8,
          "metadata": {},
          "output_type": "execute_result"
        }
      ],
      "source": [
        "# Train Model \n",
        "from ultralytics import YOLO\n",
        "\n",
        "# Initialize the model (using a pre-trained YOLOv8n model)\n",
        "model = YOLO('yolov8n.pt')\n",
        "\n",
        "# Train the model\n",
        "model.train(\n",
        "    data='/content/drive/MyDrive/vehicle/data.yaml',  # Full path to the dataset configuration file\n",
        "    epochs=200,                                        # Number of training epochs\n",
        "    imgsz=640,                                         # Image size\n",
        "    batch=32                                           # Batch size\n",
        ")\n"
      ]
    },
    {
      "cell_type": "code",
      "execution_count": 9,
      "metadata": {
        "colab": {
          "base_uri": "https://localhost:8080/",
          "height": 36
        },
        "id": "g6s-UUcKTV_B",
        "outputId": "edc8eaac-3c44-422c-d9dc-0ca0ce8c00cf"
      },
      "outputs": [
        {
          "data": {
            "application/vnd.google.colaboratory.intrinsic+json": {
              "type": "string"
            },
            "text/plain": [
              "'/content/numberplate.zip'"
            ]
          },
          "execution_count": 9,
          "metadata": {},
          "output_type": "execute_result"
        }
      ],
      "source": [
        "#zip Result\n",
        "import shutil\n",
        "\n",
        "shutil.make_archive('numberplate', 'zip', '/content/runs/detect/train4')\n"
      ]
    },
    {
      "cell_type": "code",
      "execution_count": null,
      "metadata": {
        "id": "RRIoS2GAaPxh"
      },
      "outputs": [],
      "source": []
    }
  ],
  "metadata": {
    "accelerator": "GPU",
    "colab": {
      "gpuType": "T4",
      "provenance": []
    },
    "kernelspec": {
      "display_name": "Python 3",
      "name": "python3"
    },
    "language_info": {
      "name": "python"
    }
  },
  "nbformat": 4,
  "nbformat_minor": 0
}
